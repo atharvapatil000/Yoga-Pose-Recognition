{
  "cells": [
    {
      "cell_type": "code",
      "execution_count": 1,
      "metadata": {
        "colab": {
          "base_uri": "https://localhost:8080/"
        },
        "id": "p1UhiKN01wEL",
        "outputId": "fc0213d4-ec44-41ac-ed49-c961d4658b36"
      },
      "outputs": [
        {
          "name": "stdout",
          "output_type": "stream",
          "text": [
            "  Preparing metadata (setup.py) ... \u001b[?25l\u001b[?25hdone\n",
            "  Building wheel for tensorflow-docs (setup.py) ... \u001b[?25l\u001b[?25hdone\n",
            "\u001b[2K     \u001b[90m━━━━━━━━━━━━━━━━━━━━━━━━━━━━━━━━━━━━━━━━\u001b[0m \u001b[32m2.2/2.2 MB\u001b[0m \u001b[31m37.0 MB/s\u001b[0m eta \u001b[36m0:00:00\u001b[0m\n",
            "\u001b[2K     \u001b[90m━━━━━━━━━━━━━━━━━━━━━━━━━━━━━━━━━━━━━━━━\u001b[0m \u001b[32m207.3/207.3 kB\u001b[0m \u001b[31m27.4 MB/s\u001b[0m eta \u001b[36m0:00:00\u001b[0m\n",
            "\u001b[2K     \u001b[90m━━━━━━━━━━━━━━━━━━━━━━━━━━━━━━━━━━━━━━━━\u001b[0m \u001b[32m267.1/267.1 kB\u001b[0m \u001b[31m31.1 MB/s\u001b[0m eta \u001b[36m0:00:00\u001b[0m\n",
            "\u001b[2K     \u001b[90m━━━━━━━━━━━━━━━━━━━━━━━━━━━━━━━━━━━━━━━━\u001b[0m \u001b[32m62.7/62.7 kB\u001b[0m \u001b[31m8.2 MB/s\u001b[0m eta \u001b[36m0:00:00\u001b[0m\n",
            "\u001b[?25h"
          ]
        }
      ],
      "source": [
        "!pip install -q imageio\n",
        "!pip install -q opencv-python\n",
        "!pip install -q git+https://github.com/tensorflow/docs\n",
        "!pip install -q wandb"
      ]
    },
    {
      "cell_type": "code",
      "execution_count": 2,
      "metadata": {
        "id": "NoTRs68n1xFT"
      },
      "outputs": [],
      "source": [
        "import tensorflow as tf\n",
        "from tensorflow.keras.models import Sequential\n",
        "from tensorflow.keras.layers import Dense, Flatten, Dropout, BatchNormalization\n",
        "from tensorflow.keras.callbacks import ModelCheckpoint, EarlyStopping\n",
        "import tensorflow_hub as hub\n",
        "from tensorflow_docs.vis import embed\n",
        "import numpy as np\n",
        "import cv2\n",
        "from google.colab.patches import cv2_imshow\n",
        "\n",
        "# Import matplotlib libraries\n",
        "from matplotlib import pyplot as plt\n",
        "from matplotlib.collections import LineCollection\n",
        "import matplotlib.patches as patches\n",
        "import seaborn as sns\n",
        "\n",
        "# Some modules to display an animation using imageio.\n",
        "import imageio\n",
        "from IPython.display import HTML, display\n",
        "from google.colab import auth\n",
        "from google.cloud import storage\n",
        "import pandas as pd\n",
        "import cv2\n",
        "import numpy as np\n",
        "import urllib.request as urllib\n",
        "from tqdm import tqdm\n",
        "from io import BytesIO\n",
        "from sklearn.model_selection import train_test_split\n",
        "from sklearn.preprocessing import LabelBinarizer\n",
        "\n",
        "import torch.nn as nn\n",
        "import torch\n",
        "from time import perf_counter\n",
        "\n",
        "from sklearn.metrics import accuracy_score, balanced_accuracy_score, top_k_accuracy_score, f1_score, roc_auc_score, confusion_matrix, ConfusionMatrixDisplay\n",
        "\n",
        "import wandb\n",
        "import pickle"
      ]
    },
    {
      "cell_type": "code",
      "execution_count": null,
      "metadata": {
        "id": "-H8XlJk25Unw"
      },
      "outputs": [],
      "source": [
        "tf.config.run_functions_eagerly(True)"
      ]
    },
    {
      "cell_type": "markdown",
      "metadata": {
        "id": "lC5M-ljCBYWZ"
      },
      "source": [
        "# Generate Pose Embeddings with Movenet"
      ]
    },
    {
      "cell_type": "code",
      "execution_count": 3,
      "metadata": {
        "id": "UzaqIcJLBiyF"
      },
      "outputs": [],
      "source": [
        "\n",
        "# Dictionary that maps from joint names to keypoint indices.\n",
        "KEYPOINT_DICT = {\n",
        "    'nose': 0,\n",
        "    'left_eye': 1,\n",
        "    'right_eye': 2,\n",
        "    'left_ear': 3,\n",
        "    'right_ear': 4,\n",
        "    'left_shoulder': 5,\n",
        "    'right_shoulder': 6,\n",
        "    'left_elbow': 7,\n",
        "    'right_elbow': 8,\n",
        "    'left_wrist': 9,\n",
        "    'right_wrist': 10,\n",
        "    'left_hip': 11,\n",
        "    'right_hip': 12,\n",
        "    'left_knee': 13,\n",
        "    'right_knee': 14,\n",
        "    'left_ankle': 15,\n",
        "    'right_ankle': 16\n",
        "}\n",
        "\n",
        "# Maps bones to a matplotlib color name.\n",
        "KEYPOINT_EDGE_INDS_TO_COLOR = {\n",
        "    (0, 1): 'm',\n",
        "    (0, 2): 'c',\n",
        "    (1, 3): 'm',\n",
        "    (2, 4): 'c',\n",
        "    (0, 5): 'm',\n",
        "    (0, 6): 'c',\n",
        "    (5, 7): 'm',\n",
        "    (7, 9): 'm',\n",
        "    (6, 8): 'c',\n",
        "    (8, 10): 'c',\n",
        "    (5, 6): 'y',\n",
        "    (5, 11): 'm',\n",
        "    (6, 12): 'c',\n",
        "    (11, 12): 'y',\n",
        "    (11, 13): 'm',\n",
        "    (13, 15): 'm',\n",
        "    (12, 14): 'c',\n",
        "    (14, 16): 'c'\n",
        "}\n",
        "\n",
        "def _keypoints_and_edges_for_display(keypoints_with_scores,\n",
        "                                     height,\n",
        "                                     width,\n",
        "                                     keypoint_threshold=0.11):\n",
        "  \"\"\"Returns high confidence keypoints and edges for visualization.\n",
        "\n",
        "  Args:\n",
        "    keypoints_with_scores: A numpy array with shape [1, 1, 17, 3] representing\n",
        "      the keypoint coordinates and scores returned from the MoveNet model.\n",
        "    height: height of the image in pixels.\n",
        "    width: width of the image in pixels.\n",
        "    keypoint_threshold: minimum confidence score for a keypoint to be\n",
        "      visualized.\n",
        "\n",
        "  Returns:\n",
        "    A (keypoints_xy, edges_xy, edge_colors) containing:\n",
        "      * the coordinates of all keypoints of all detected entities;\n",
        "      * the coordinates of all skeleton edges of all detected entities;\n",
        "      * the colors in which the edges should be plotted.\n",
        "  \"\"\"\n",
        "  keypoints_all = []\n",
        "  keypoint_edges_all = []\n",
        "  edge_colors = []\n",
        "  num_instances, _, _, _ = keypoints_with_scores.shape\n",
        "  for idx in range(num_instances):\n",
        "    kpts_x = keypoints_with_scores[0, idx, :, 1]\n",
        "    kpts_y = keypoints_with_scores[0, idx, :, 0]\n",
        "    kpts_scores = keypoints_with_scores[0, idx, :, 2]\n",
        "    kpts_absolute_xy = np.stack(\n",
        "        [width * np.array(kpts_x), height * np.array(kpts_y)], axis=-1)\n",
        "    kpts_above_thresh_absolute = kpts_absolute_xy[\n",
        "        kpts_scores > keypoint_threshold, :]\n",
        "    keypoints_all.append(kpts_above_thresh_absolute)\n",
        "\n",
        "    for edge_pair, color in KEYPOINT_EDGE_INDS_TO_COLOR.items():\n",
        "      if (kpts_scores[edge_pair[0]] > keypoint_threshold and\n",
        "          kpts_scores[edge_pair[1]] > keypoint_threshold):\n",
        "        x_start = kpts_absolute_xy[edge_pair[0], 0]\n",
        "        y_start = kpts_absolute_xy[edge_pair[0], 1]\n",
        "        x_end = kpts_absolute_xy[edge_pair[1], 0]\n",
        "        y_end = kpts_absolute_xy[edge_pair[1], 1]\n",
        "        line_seg = np.array([[x_start, y_start], [x_end, y_end]])\n",
        "        keypoint_edges_all.append(line_seg)\n",
        "        edge_colors.append(color)\n",
        "  if keypoints_all:\n",
        "    keypoints_xy = np.concatenate(keypoints_all, axis=0)\n",
        "  else:\n",
        "    keypoints_xy = np.zeros((0, 17, 2))\n",
        "\n",
        "  if keypoint_edges_all:\n",
        "    edges_xy = np.stack(keypoint_edges_all, axis=0)\n",
        "  else:\n",
        "    edges_xy = np.zeros((0, 2, 2))\n",
        "  return keypoints_xy, edges_xy, edge_colors\n",
        "\n",
        "\n",
        "def draw_prediction_on_image(\n",
        "    image, keypoints_with_scores, crop_region=None, close_figure=False,\n",
        "    output_image_height=None):\n",
        "  \"\"\"Draws the keypoint predictions on image.\n",
        "\n",
        "  Args:\n",
        "    image: A numpy array with shape [height, width, channel] representing the\n",
        "      pixel values of the input image.\n",
        "    keypoints_with_scores: A numpy array with shape [1, 1, 17, 3] representing\n",
        "      the keypoint coordinates and scores returned from the MoveNet model.\n",
        "    crop_region: A dictionary that defines the coordinates of the bounding box\n",
        "      of the crop region in normalized coordinates (see the init_crop_region\n",
        "      function below for more detail). If provided, this function will also\n",
        "      draw the bounding box on the image.\n",
        "    output_image_height: An integer indicating the height of the output image.\n",
        "      Note that the image aspect ratio will be the same as the input image.\n",
        "\n",
        "  Returns:\n",
        "    A numpy array with shape [out_height, out_width, channel] representing the\n",
        "    image overlaid with keypoint predictions.\n",
        "  \"\"\"\n",
        "  height, width, channel = image.shape\n",
        "  aspect_ratio = float(width) / height\n",
        "  fig, ax = plt.subplots(figsize=(12 * aspect_ratio, 12))\n",
        "  # To remove the huge white borders\n",
        "  fig.tight_layout(pad=0)\n",
        "  ax.margins(0)\n",
        "  ax.set_yticklabels([])\n",
        "  ax.set_xticklabels([])\n",
        "  plt.axis('off')\n",
        "\n",
        "  im = ax.imshow(image)\n",
        "  line_segments = LineCollection([], linewidths=(4), linestyle='solid')\n",
        "  ax.add_collection(line_segments)\n",
        "  # Turn off tick labels\n",
        "  scat = ax.scatter([], [], s=60, color='#FF1493', zorder=3)\n",
        "\n",
        "  (keypoint_locs, keypoint_edges,\n",
        "   edge_colors) = _keypoints_and_edges_for_display(\n",
        "       keypoints_with_scores, height, width)\n",
        "\n",
        "  line_segments.set_segments(keypoint_edges)\n",
        "  line_segments.set_color(edge_colors)\n",
        "  if keypoint_edges.shape[0]:\n",
        "    line_segments.set_segments(keypoint_edges)\n",
        "    line_segments.set_color(edge_colors)\n",
        "  if keypoint_locs.shape[0]:\n",
        "    scat.set_offsets(keypoint_locs)\n",
        "\n",
        "  if crop_region is not None:\n",
        "    xmin = max(crop_region['x_min'] * width, 0.0)\n",
        "    ymin = max(crop_region['y_min'] * height, 0.0)\n",
        "    rec_width = min(crop_region['x_max'], 0.99) * width - xmin\n",
        "    rec_height = min(crop_region['y_max'], 0.99) * height - ymin\n",
        "    rect = patches.Rectangle(\n",
        "        (xmin,ymin),rec_width,rec_height,\n",
        "        linewidth=1,edgecolor='b',facecolor='none')\n",
        "    ax.add_patch(rect)\n",
        "\n",
        "  fig.canvas.draw()\n",
        "  image_from_plot = np.frombuffer(fig.canvas.tostring_rgb(), dtype=np.uint8)\n",
        "  image_from_plot = image_from_plot.reshape(\n",
        "      fig.canvas.get_width_height()[::-1] + (3,))\n",
        "  plt.close(fig)\n",
        "  if output_image_height is not None:\n",
        "    output_image_width = int(output_image_height / height * width)\n",
        "    image_from_plot = cv2.resize(\n",
        "        image_from_plot, dsize=(output_image_width, output_image_height),\n",
        "         interpolation=cv2.INTER_CUBIC)\n",
        "  return image_from_plot\n",
        "\n",
        "def to_gif(images, duration):\n",
        "  \"\"\"Converts image sequence (4D numpy array) to gif.\"\"\"\n",
        "  imageio.mimsave('./animation.gif', images, duration=duration)\n",
        "  return embed.embed_file('./animation.gif')\n",
        "\n",
        "def progress(value, max=100):\n",
        "  return HTML(\"\"\"\n",
        "      <progress\n",
        "          value='{value}'\n",
        "          max='{max}',\n",
        "          style='width: 100%'\n",
        "      >\n",
        "          {value}\n",
        "      </progress>\n",
        "  \"\"\".format(value=value, max=max))"
      ]
    },
    {
      "cell_type": "markdown",
      "metadata": {
        "id": "-YZTlQ-UFrMz"
      },
      "source": [
        "### Load Model from TF Hub"
      ]
    },
    {
      "cell_type": "code",
      "execution_count": 4,
      "metadata": {
        "id": "BmvXp-llBjFh"
      },
      "outputs": [],
      "source": [
        "# @title\n",
        "model_name = \"movenet_lightning\" #@param [\"movenet_lightning\", \"movenet_thunder\", \"movenet_lightning_f16.tflite\", \"movenet_thunder_f16.tflite\", \"movenet_lightning_int8.tflite\", \"movenet_thunder_int8.tflite\"]\n",
        "\n",
        "if \"tflite\" in model_name:\n",
        "  if \"movenet_lightning_f16\" in model_name:\n",
        "    !wget -q -O model.tflite https://tfhub.dev/google/lite-model/movenet/singlepose/lightning/tflite/float16/4?lite-format=tflite\n",
        "    input_size = 192\n",
        "  elif \"movenet_thunder_f16\" in model_name:\n",
        "    !wget -q -O model.tflite https://tfhub.dev/google/lite-model/movenet/singlepose/thunder/tflite/float16/4?lite-format=tflite\n",
        "    input_size = 256\n",
        "  elif \"movenet_lightning_int8\" in model_name:\n",
        "    !wget -q -O model.tflite https://tfhub.dev/google/lite-model/movenet/singlepose/lightning/tflite/int8/4?lite-format=tflite\n",
        "    input_size = 192\n",
        "  elif \"movenet_thunder_int8\" in model_name:\n",
        "    !wget -q -O model.tflite https://tfhub.dev/google/lite-model/movenet/singlepose/thunder/tflite/int8/4?lite-format=tflite\n",
        "    input_size = 256\n",
        "  else:\n",
        "    raise ValueError(\"Unsupported model name: %s\" % model_name)\n",
        "\n",
        "  # Initialize the TFLite interpreter\n",
        "  interpreter = tf.lite.Interpreter(model_path=\"model.tflite\")\n",
        "  interpreter.allocate_tensors()\n",
        "\n",
        "  def movenet(input_image):\n",
        "    \"\"\"Runs detection on an input image.\n",
        "\n",
        "    Args:\n",
        "      input_image: A [1, height, width, 3] tensor represents the input image\n",
        "        pixels. Note that the height/width should already be resized and match the\n",
        "        expected input resolution of the model before passing into this function.\n",
        "\n",
        "    Returns:\n",
        "      A [1, 1, 17, 3] float numpy array representing the predicted keypoint\n",
        "      coordinates and scores.\n",
        "    \"\"\"\n",
        "    # TF Lite format expects tensor type of uint8.\n",
        "    input_image = tf.cast(input_image, dtype=tf.uint8)\n",
        "    input_details = interpreter.get_input_details()\n",
        "    output_details = interpreter.get_output_details()\n",
        "    interpreter.set_tensor(input_details[0]['index'], input_image.numpy())\n",
        "    # Invoke inference.\n",
        "    interpreter.invoke()\n",
        "    # Get the model prediction.\n",
        "    keypoints_with_scores = interpreter.get_tensor(output_details[0]['index'])\n",
        "    return keypoints_with_scores\n",
        "\n",
        "else:\n",
        "  if \"movenet_lightning\" in model_name:\n",
        "    module = hub.load(\"https://tfhub.dev/google/movenet/singlepose/lightning/4\")\n",
        "    input_size = 192\n",
        "  elif \"movenet_thunder\" in model_name:\n",
        "    module = hub.load(\"https://tfhub.dev/google/movenet/singlepose/thunder/4\")\n",
        "    input_size = 256\n",
        "  else:\n",
        "    raise ValueError(\"Unsupported model name: %s\" % model_name)\n",
        "\n",
        "  def movenet(input_image):\n",
        "    \"\"\"Runs detection on an input image.\n",
        "\n",
        "    Args:\n",
        "      input_image: A [1, height, width, 3] tensor represents the input image\n",
        "        pixels. Note that the height/width should already be resized and match the\n",
        "        expected input resolution of the model before passing into this function.\n",
        "\n",
        "    Returns:\n",
        "      A [1, 1, 17, 3] float numpy array representing the predicted keypoint\n",
        "      coordinates and scores.\n",
        "    \"\"\"\n",
        "    model = module.signatures['serving_default']\n",
        "\n",
        "    # SavedModel format expects tensor type of int32.\n",
        "    input_image = tf.cast(input_image, dtype=tf.int32)\n",
        "    # Run model inference.\n",
        "    outputs = model(input_image)\n",
        "    # Output is a [1, 1, 17, 3] tensor.\n",
        "    keypoints_with_scores = outputs['output_0'].numpy()\n",
        "    return keypoints_with_scores"
      ]
    },
    {
      "cell_type": "markdown",
      "metadata": {
        "id": "eAyffNvo4YsD"
      },
      "source": [
        "### Fetch Yoga Images from GCS"
      ]
    },
    {
      "cell_type": "markdown",
      "metadata": {
        "id": "ZnOlQ-vcwW5i"
      },
      "source": [
        "Now, we will load all images from GCS and display the pose overlay detected by MoveNet on a sample image."
      ]
    },
    {
      "cell_type": "code",
      "execution_count": 53,
      "metadata": {
        "id": "mxoE_GsM3cX-"
      },
      "outputs": [],
      "source": [
        "auth.authenticate_user()"
      ]
    },
    {
      "cell_type": "code",
      "execution_count": 54,
      "metadata": {
        "id": "b8SDTV5LFC-j"
      },
      "outputs": [],
      "source": [
        "bucket_name = 'ai-yoga-trainer-data'\n",
        "storage_client = storage.Client(project='applied-ml-413816')\n",
        "bucket = storage_client.get_bucket(bucket_name)\n",
        "blob_names = [b.name for b in bucket.list_blobs(prefix='loaded/')]"
      ]
    },
    {
      "cell_type": "code",
      "execution_count": 55,
      "metadata": {
        "id": "NN-dksoD22YP"
      },
      "outputs": [],
      "source": [
        "metadata_blob_name = [b for b in blob_names if 'metadata.csv' in b][0]\n",
        "metadata_df = pd.read_csv(f'gs://{bucket_name}/{metadata_blob_name}', index_col=0)"
      ]
    },
    {
      "cell_type": "code",
      "execution_count": null,
      "metadata": {
        "id": "ima3qNaC5cea"
      },
      "outputs": [],
      "source": [
        "image_blob_names = [b for b in blob_names if '.jpeg' in b]"
      ]
    },
    {
      "cell_type": "code",
      "execution_count": null,
      "metadata": {
        "colab": {
          "base_uri": "https://localhost:8080/",
          "height": 517
        },
        "id": "bPMsRDhp7i74",
        "outputId": "989bb2a1-d6fd-47ac-e084-3def439fa2ec"
      },
      "outputs": [
        {
          "data": {
            "image/png": "[encoded data removed]",
            "text/plain": [
              "<PIL.Image.Image image mode=RGB size=500x500>"
            ]
          },
          "metadata": {},
          "output_type": "display_data"
        }
      ],
      "source": [
        "url = f'https://storage.googleapis.com/{bucket_name}/{image_blob_names[5]}';\n",
        "resp = urllib.urlopen(url)\n",
        "image = np.asarray(bytearray(resp.read()), dtype=\"uint8\")\n",
        "image = cv2.imdecode(image, cv2.IMREAD_COLOR)\n",
        "\n",
        "# Resize and pad the image to keep the aspect ratio and fit the expected size.\n",
        "input_image = tf.expand_dims(image, axis=0)\n",
        "input_image = tf.image.resize_with_pad(input_image, input_size, input_size)\n",
        "\n",
        "# Run model inference.\n",
        "keypoints_with_scores = movenet(input_image)\n",
        "\n",
        "# Visualize the predictions with image.\n",
        "display_image = tf.expand_dims(image, axis=0)\n",
        "display_image = tf.cast(tf.image.resize_with_pad(\n",
        "    display_image, 1280, 1280), dtype=tf.int32)\n",
        "output_overlay = draw_prediction_on_image(\n",
        "    np.squeeze(display_image.numpy(), axis=0), keypoints_with_scores)\n",
        "\n",
        "cv2_imshow(cv2.resize(output_overlay, (500, 500)))"
      ]
    },
    {
      "cell_type": "markdown",
      "metadata": {
        "id": "zc0E6siaAJaV"
      },
      "source": [
        "### Generate Pose Embeddings"
      ]
    },
    {
      "cell_type": "markdown",
      "metadata": {
        "id": "CYXVmDdfwiwo"
      },
      "source": [
        "Now, we will generated embeddings using the movenet classifier using the model initialized in [this](https://colab.research.google.com/drive/1uu5DWj7JJdK1ufLaYP1W9WF42iyrdWSM#scrollTo=BmvXp-llBjFh&line=1&uniqifier=1) cell."
      ]
    },
    {
      "cell_type": "code",
      "execution_count": 57,
      "metadata": {
        "id": "dWEK9xt5v6hX"
      },
      "outputs": [],
      "source": [
        "def get_embeddings(image_blob_names):\n",
        "  embeddings = []\n",
        "  for blob_name in tqdm(image_blob_names):\n",
        "    url = f'https://storage.googleapis.com/{bucket_name}/{blob_name}';\n",
        "    resp = urllib.urlopen(url)\n",
        "    image = np.asarray(bytearray(resp.read()), dtype=\"uint8\")\n",
        "    image = cv2.imdecode(image, cv2.IMREAD_COLOR)\n",
        "\n",
        "    # Resize and pad the image to keep the aspect ratio and fit the expected size.\n",
        "    input_image = tf.expand_dims(image, axis=0)\n",
        "    input_image = tf.image.resize_with_pad(input_image, input_size, input_size)\n",
        "\n",
        "    # Run model inference.\n",
        "    keypoints_with_scores = movenet(input_image)\n",
        "    embeddings.append(keypoints_with_scores)\n",
        "\n",
        "  embeddings_df = pd.DataFrame([e[0][0].flatten() for e in embeddings], columns=[f'{bp}_{feat}' for bp in KEYPOINT_DICT.keys() for feat in ['y', 'x', 'score']])\n",
        "  embeddings_df['blob_name'] = image_blob_names\n",
        "  return embeddings_df\n",
        "\n"
      ]
    },
    {
      "cell_type": "code",
      "execution_count": null,
      "metadata": {
        "colab": {
          "base_uri": "https://localhost:8080/"
        },
        "id": "ubuySUVVwv4T",
        "outputId": "3c805fa7-9f6c-4675-cea8-9cc1af446930"
      },
      "outputs": [
        {
          "name": "stderr",
          "output_type": "stream",
          "text": [
            "100%|██████████| 16767/16767 [37:46<00:00,  7.40it/s]\n"
          ]
        }
      ],
      "source": [
        "embeddings_df = get_embeddings(image_blob_names)"
      ]
    },
    {
      "cell_type": "code",
      "execution_count": null,
      "metadata": {
        "colab": {
          "base_uri": "https://localhost:8080/",
          "height": 236
        },
        "id": "BnJmoplC-wiY",
        "outputId": "49b97a34-ad71-4dc3-b7e6-f588c551881a"
      },
      "outputs": [
        {
          "data": {
            "application/vnd.google.colaboratory.intrinsic+json": {
              "type": "dataframe",
              "variable_name": "embeddings_df"
            },
            "text/html": [
              "\n",
              "  <div id=\"df-866880bf-2bb7-4054-afcb-be9bb149f505\" class=\"colab-df-container\">\n",
              "    <div>\n",
              "<style scoped>\n",
              "    .dataframe tbody tr th:only-of-type {\n",
              "        vertical-align: middle;\n",
              "    }\n",
              "\n",
              "    .dataframe tbody tr th {\n",
              "        vertical-align: top;\n",
              "    }\n",
              "\n",
              "    .dataframe thead th {\n",
              "        text-align: right;\n",
              "    }\n",
              "</style>\n",
              "<table border=\"1\" class=\"dataframe\">\n",
              "  <thead>\n",
              "    <tr style=\"text-align: right;\">\n",
              "      <th></th>\n",
              "      <th>nose_y</th>\n",
              "      <th>nose_x</th>\n",
              "      <th>nose_score</th>\n",
              "      <th>left_eye_y</th>\n",
              "      <th>left_eye_x</th>\n",
              "      <th>left_eye_score</th>\n",
              "      <th>right_eye_y</th>\n",
              "      <th>right_eye_x</th>\n",
              "      <th>right_eye_score</th>\n",
              "      <th>left_ear_y</th>\n",
              "      <th>...</th>\n",
              "      <th>right_knee_y</th>\n",
              "      <th>right_knee_x</th>\n",
              "      <th>right_knee_score</th>\n",
              "      <th>left_ankle_y</th>\n",
              "      <th>left_ankle_x</th>\n",
              "      <th>left_ankle_score</th>\n",
              "      <th>right_ankle_y</th>\n",
              "      <th>right_ankle_x</th>\n",
              "      <th>right_ankle_score</th>\n",
              "      <th>blob_name</th>\n",
              "    </tr>\n",
              "  </thead>\n",
              "  <tbody>\n",
              "    <tr>\n",
              "      <th>0</th>\n",
              "      <td>0.369896</td>\n",
              "      <td>0.301352</td>\n",
              "      <td>0.260206</td>\n",
              "      <td>0.350371</td>\n",
              "      <td>0.296303</td>\n",
              "      <td>0.320232</td>\n",
              "      <td>0.344436</td>\n",
              "      <td>0.291540</td>\n",
              "      <td>0.364636</td>\n",
              "      <td>0.366405</td>\n",
              "      <td>...</td>\n",
              "      <td>0.598117</td>\n",
              "      <td>0.396641</td>\n",
              "      <td>0.145493</td>\n",
              "      <td>0.636703</td>\n",
              "      <td>0.387519</td>\n",
              "      <td>0.215520</td>\n",
              "      <td>0.622042</td>\n",
              "      <td>0.401365</td>\n",
              "      <td>0.232737</td>\n",
              "      <td>loaded/0.jpeg</td>\n",
              "    </tr>\n",
              "    <tr>\n",
              "      <th>1</th>\n",
              "      <td>0.216861</td>\n",
              "      <td>0.409076</td>\n",
              "      <td>0.816147</td>\n",
              "      <td>0.187553</td>\n",
              "      <td>0.440200</td>\n",
              "      <td>0.617154</td>\n",
              "      <td>0.178483</td>\n",
              "      <td>0.385072</td>\n",
              "      <td>0.804289</td>\n",
              "      <td>0.200637</td>\n",
              "      <td>...</td>\n",
              "      <td>0.849157</td>\n",
              "      <td>0.220991</td>\n",
              "      <td>0.603120</td>\n",
              "      <td>0.737915</td>\n",
              "      <td>0.523411</td>\n",
              "      <td>0.345900</td>\n",
              "      <td>0.744636</td>\n",
              "      <td>0.481328</td>\n",
              "      <td>0.339098</td>\n",
              "      <td>loaded/1.jpeg</td>\n",
              "    </tr>\n",
              "    <tr>\n",
              "      <th>2</th>\n",
              "      <td>0.415345</td>\n",
              "      <td>0.799975</td>\n",
              "      <td>0.527386</td>\n",
              "      <td>0.394822</td>\n",
              "      <td>0.802332</td>\n",
              "      <td>0.385774</td>\n",
              "      <td>0.394220</td>\n",
              "      <td>0.790965</td>\n",
              "      <td>0.563723</td>\n",
              "      <td>0.400051</td>\n",
              "      <td>...</td>\n",
              "      <td>0.682818</td>\n",
              "      <td>0.883957</td>\n",
              "      <td>0.542786</td>\n",
              "      <td>0.732415</td>\n",
              "      <td>0.679969</td>\n",
              "      <td>0.291697</td>\n",
              "      <td>0.742536</td>\n",
              "      <td>0.702227</td>\n",
              "      <td>0.152706</td>\n",
              "      <td>loaded/10.jpeg</td>\n",
              "    </tr>\n",
              "    <tr>\n",
              "      <th>3</th>\n",
              "      <td>0.443831</td>\n",
              "      <td>0.628313</td>\n",
              "      <td>0.338997</td>\n",
              "      <td>0.437179</td>\n",
              "      <td>0.633262</td>\n",
              "      <td>0.381227</td>\n",
              "      <td>0.436785</td>\n",
              "      <td>0.638021</td>\n",
              "      <td>0.356547</td>\n",
              "      <td>0.454299</td>\n",
              "      <td>...</td>\n",
              "      <td>0.537059</td>\n",
              "      <td>0.474036</td>\n",
              "      <td>0.538618</td>\n",
              "      <td>0.419191</td>\n",
              "      <td>0.368362</td>\n",
              "      <td>0.464272</td>\n",
              "      <td>0.416025</td>\n",
              "      <td>0.371710</td>\n",
              "      <td>0.541014</td>\n",
              "      <td>loaded/100.jpeg</td>\n",
              "    </tr>\n",
              "    <tr>\n",
              "      <th>4</th>\n",
              "      <td>0.618385</td>\n",
              "      <td>0.251123</td>\n",
              "      <td>0.500477</td>\n",
              "      <td>0.627709</td>\n",
              "      <td>0.232040</td>\n",
              "      <td>0.351022</td>\n",
              "      <td>0.630743</td>\n",
              "      <td>0.236656</td>\n",
              "      <td>0.442467</td>\n",
              "      <td>0.660975</td>\n",
              "      <td>...</td>\n",
              "      <td>0.458721</td>\n",
              "      <td>0.702186</td>\n",
              "      <td>0.846795</td>\n",
              "      <td>0.657754</td>\n",
              "      <td>0.702909</td>\n",
              "      <td>0.717061</td>\n",
              "      <td>0.668186</td>\n",
              "      <td>0.706364</td>\n",
              "      <td>0.566248</td>\n",
              "      <td>loaded/1000.jpeg</td>\n",
              "    </tr>\n",
              "  </tbody>\n",
              "</table>\n",
              "<p>5 rows × 52 columns</p>\n",
              "</div>\n",
              "    <div class=\"colab-df-buttons\">\n",
              "\n",
              "  <div class=\"colab-df-container\">\n",
              "    <button class=\"colab-df-convert\" onclick=\"convertToInteractive('df-866880bf-2bb7-4054-afcb-be9bb149f505')\"\n",
              "            title=\"Convert this dataframe to an interactive table.\"\n",
              "            style=\"display:none;\">\n",
              "\n",
              "  <svg xmlns=\"http://www.w3.org/2000/svg\" height=\"24px\" viewBox=\"0 -960 960 960\">\n",
              "    <path d=\"M120-120v-720h720v720H120Zm60-500h600v-160H180v160Zm220 220h160v-160H400v160Zm0 220h160v-160H400v160ZM180-400h160v-160H180v160Zm440 0h160v-160H620v160ZM180-180h160v-160H180v160Zm440 0h160v-160H620v160Z\"/>\n",
              "  </svg>\n",
              "    </button>\n",
              "\n",
              "  <style>\n",
              "    .colab-df-container {\n",
              "      display:flex;\n",
              "      gap: 12px;\n",
              "    }\n",
              "\n",
              "    .colab-df-convert {\n",
              "      background-color: #E8F0FE;\n",
              "      border: none;\n",
              "      border-radius: 50%;\n",
              "      cursor: pointer;\n",
              "      display: none;\n",
              "      fill: #1967D2;\n",
              "      height: 32px;\n",
              "      padding: 0 0 0 0;\n",
              "      width: 32px;\n",
              "    }\n",
              "\n",
              "    .colab-df-convert:hover {\n",
              "      background-color: #E2EBFA;\n",
              "      box-shadow: 0px 1px 2px rgba(60, 64, 67, 0.3), 0px 1px 3px 1px rgba(60, 64, 67, 0.15);\n",
              "      fill: #174EA6;\n",
              "    }\n",
              "\n",
              "    .colab-df-buttons div {\n",
              "      margin-bottom: 4px;\n",
              "    }\n",
              "\n",
              "    [theme=dark] .colab-df-convert {\n",
              "      background-color: #3B4455;\n",
              "      fill: #D2E3FC;\n",
              "    }\n",
              "\n",
              "    [theme=dark] .colab-df-convert:hover {\n",
              "      background-color: #434B5C;\n",
              "      box-shadow: 0px 1px 3px 1px rgba(0, 0, 0, 0.15);\n",
              "      filter: drop-shadow(0px 1px 2px rgba(0, 0, 0, 0.3));\n",
              "      fill: #FFFFFF;\n",
              "    }\n",
              "  </style>\n",
              "\n",
              "    <script>\n",
              "      const buttonEl =\n",
              "        document.querySelector('#df-866880bf-2bb7-4054-afcb-be9bb149f505 button.colab-df-convert');\n",
              "      buttonEl.style.display =\n",
              "        google.colab.kernel.accessAllowed ? 'block' : 'none';\n",
              "\n",
              "      async function convertToInteractive(key) {\n",
              "        const element = document.querySelector('#df-866880bf-2bb7-4054-afcb-be9bb149f505');\n",
              "        const dataTable =\n",
              "          await google.colab.kernel.invokeFunction('convertToInteractive',\n",
              "                                                    [key], {});\n",
              "        if (!dataTable) return;\n",
              "\n",
              "        const docLinkHtml = 'Like what you see? Visit the ' +\n",
              "          '<a target=\"_blank\" href=https://colab.research.google.com/notebooks/data_table.ipynb>data table notebook</a>'\n",
              "          + ' to learn more about interactive tables.';\n",
              "        element.innerHTML = '';\n",
              "        dataTable['output_type'] = 'display_data';\n",
              "        await google.colab.output.renderOutput(dataTable, element);\n",
              "        const docLink = document.createElement('div');\n",
              "        docLink.innerHTML = docLinkHtml;\n",
              "        element.appendChild(docLink);\n",
              "      }\n",
              "    </script>\n",
              "  </div>\n",
              "\n",
              "\n",
              "<div id=\"df-0a5b91e9-57c7-4182-8a56-0f0a1595e307\">\n",
              "  <button class=\"colab-df-quickchart\" onclick=\"quickchart('df-0a5b91e9-57c7-4182-8a56-0f0a1595e307')\"\n",
              "            title=\"Suggest charts\"\n",
              "            style=\"display:none;\">\n",
              "\n",
              "<svg xmlns=\"http://www.w3.org/2000/svg\" height=\"24px\"viewBox=\"0 0 24 24\"\n",
              "     width=\"24px\">\n",
              "    <g>\n",
              "        <path d=\"M19 3H5c-1.1 0-2 .9-2 2v14c0 1.1.9 2 2 2h14c1.1 0 2-.9 2-2V5c0-1.1-.9-2-2-2zM9 17H7v-7h2v7zm4 0h-2V7h2v10zm4 0h-2v-4h2v4z\"/>\n",
              "    </g>\n",
              "</svg>\n",
              "  </button>\n",
              "\n",
              "<style>\n",
              "  .colab-df-quickchart {\n",
              "      --bg-color: #E8F0FE;\n",
              "      --fill-color: #1967D2;\n",
              "      --hover-bg-color: #E2EBFA;\n",
              "      --hover-fill-color: #174EA6;\n",
              "      --disabled-fill-color: #AAA;\n",
              "      --disabled-bg-color: #DDD;\n",
              "  }\n",
              "\n",
              "  [theme=dark] .colab-df-quickchart {\n",
              "      --bg-color: #3B4455;\n",
              "      --fill-color: #D2E3FC;\n",
              "      --hover-bg-color: #434B5C;\n",
              "      --hover-fill-color: #FFFFFF;\n",
              "      --disabled-bg-color: #3B4455;\n",
              "      --disabled-fill-color: #666;\n",
              "  }\n",
              "\n",
              "  .colab-df-quickchart {\n",
              "    background-color: var(--bg-color);\n",
              "    border: none;\n",
              "    border-radius: 50%;\n",
              "    cursor: pointer;\n",
              "    display: none;\n",
              "    fill: var(--fill-color);\n",
              "    height: 32px;\n",
              "    padding: 0;\n",
              "    width: 32px;\n",
              "  }\n",
              "\n",
              "  .colab-df-quickchart:hover {\n",
              "    background-color: var(--hover-bg-color);\n",
              "    box-shadow: 0 1px 2px rgba(60, 64, 67, 0.3), 0 1px 3px 1px rgba(60, 64, 67, 0.15);\n",
              "    fill: var(--button-hover-fill-color);\n",
              "  }\n",
              "\n",
              "  .colab-df-quickchart-complete:disabled,\n",
              "  .colab-df-quickchart-complete:disabled:hover {\n",
              "    background-color: var(--disabled-bg-color);\n",
              "    fill: var(--disabled-fill-color);\n",
              "    box-shadow: none;\n",
              "  }\n",
              "\n",
              "  .colab-df-spinner {\n",
              "    border: 2px solid var(--fill-color);\n",
              "    border-color: transparent;\n",
              "    border-bottom-color: var(--fill-color);\n",
              "    animation:\n",
              "      spin 1s steps(1) infinite;\n",
              "  }\n",
              "\n",
              "  @keyframes spin {\n",
              "    0% {\n",
              "      border-color: transparent;\n",
              "      border-bottom-color: var(--fill-color);\n",
              "      border-left-color: var(--fill-color);\n",
              "    }\n",
              "    20% {\n",
              "      border-color: transparent;\n",
              "      border-left-color: var(--fill-color);\n",
              "      border-top-color: var(--fill-color);\n",
              "    }\n",
              "    30% {\n",
              "      border-color: transparent;\n",
              "      border-left-color: var(--fill-color);\n",
              "      border-top-color: var(--fill-color);\n",
              "      border-right-color: var(--fill-color);\n",
              "    }\n",
              "    40% {\n",
              "      border-color: transparent;\n",
              "      border-right-color: var(--fill-color);\n",
              "      border-top-color: var(--fill-color);\n",
              "    }\n",
              "    60% {\n",
              "      border-color: transparent;\n",
              "      border-right-color: var(--fill-color);\n",
              "    }\n",
              "    80% {\n",
              "      border-color: transparent;\n",
              "      border-right-color: var(--fill-color);\n",
              "      border-bottom-color: var(--fill-color);\n",
              "    }\n",
              "    90% {\n",
              "      border-color: transparent;\n",
              "      border-bottom-color: var(--fill-color);\n",
              "    }\n",
              "  }\n",
              "</style>\n",
              "\n",
              "  <script>\n",
              "    async function quickchart(key) {\n",
              "      const quickchartButtonEl =\n",
              "        document.querySelector('#' + key + ' button');\n",
              "      quickchartButtonEl.disabled = true;  // To prevent multiple clicks.\n",
              "      quickchartButtonEl.classList.add('colab-df-spinner');\n",
              "      try {\n",
              "        const charts = await google.colab.kernel.invokeFunction(\n",
              "            'suggestCharts', [key], {});\n",
              "      } catch (error) {\n",
              "        console.error('Error during call to suggestCharts:', error);\n",
              "      }\n",
              "      quickchartButtonEl.classList.remove('colab-df-spinner');\n",
              "      quickchartButtonEl.classList.add('colab-df-quickchart-complete');\n",
              "    }\n",
              "    (() => {\n",
              "      let quickchartButtonEl =\n",
              "        document.querySelector('#df-0a5b91e9-57c7-4182-8a56-0f0a1595e307 button');\n",
              "      quickchartButtonEl.style.display =\n",
              "        google.colab.kernel.accessAllowed ? 'block' : 'none';\n",
              "    })();\n",
              "  </script>\n",
              "</div>\n",
              "\n",
              "    </div>\n",
              "  </div>\n"
            ],
            "text/plain": [
              "     nose_y    nose_x  nose_score  left_eye_y  left_eye_x  left_eye_score  \\\n",
              "0  0.369896  0.301352    0.260206    0.350371    0.296303        0.320232   \n",
              "1  0.216861  0.409076    0.816147    0.187553    0.440200        0.617154   \n",
              "2  0.415345  0.799975    0.527386    0.394822    0.802332        0.385774   \n",
              "3  0.443831  0.628313    0.338997    0.437179    0.633262        0.381227   \n",
              "4  0.618385  0.251123    0.500477    0.627709    0.232040        0.351022   \n",
              "\n",
              "   right_eye_y  right_eye_x  right_eye_score  left_ear_y  ...  right_knee_y  \\\n",
              "0     0.344436     0.291540         0.364636    0.366405  ...      0.598117   \n",
              "1     0.178483     0.385072         0.804289    0.200637  ...      0.849157   \n",
              "2     0.394220     0.790965         0.563723    0.400051  ...      0.682818   \n",
              "3     0.436785     0.638021         0.356547    0.454299  ...      0.537059   \n",
              "4     0.630743     0.236656         0.442467    0.660975  ...      0.458721   \n",
              "\n",
              "   right_knee_x  right_knee_score  left_ankle_y  left_ankle_x  \\\n",
              "0      0.396641          0.145493      0.636703      0.387519   \n",
              "1      0.220991          0.603120      0.737915      0.523411   \n",
              "2      0.883957          0.542786      0.732415      0.679969   \n",
              "3      0.474036          0.538618      0.419191      0.368362   \n",
              "4      0.702186          0.846795      0.657754      0.702909   \n",
              "\n",
              "   left_ankle_score  right_ankle_y  right_ankle_x  right_ankle_score  \\\n",
              "0          0.215520       0.622042       0.401365           0.232737   \n",
              "1          0.345900       0.744636       0.481328           0.339098   \n",
              "2          0.291697       0.742536       0.702227           0.152706   \n",
              "3          0.464272       0.416025       0.371710           0.541014   \n",
              "4          0.717061       0.668186       0.706364           0.566248   \n",
              "\n",
              "          blob_name  \n",
              "0     loaded/0.jpeg  \n",
              "1     loaded/1.jpeg  \n",
              "2    loaded/10.jpeg  \n",
              "3   loaded/100.jpeg  \n",
              "4  loaded/1000.jpeg  \n",
              "\n",
              "[5 rows x 52 columns]"
            ]
          },
          "execution_count": 13,
          "metadata": {},
          "output_type": "execute_result"
        }
      ],
      "source": [
        "embeddings_df.head()"
      ]
    },
    {
      "cell_type": "markdown",
      "metadata": {
        "id": "4OqPa2Xpw42d"
      },
      "source": [
        "Dump the embeddings to GCS."
      ]
    },
    {
      "cell_type": "code",
      "execution_count": null,
      "metadata": {
        "id": "IUVrdjmCDl2N"
      },
      "outputs": [],
      "source": [
        "bucket.blob('loaded/pose_embeddings.csv').upload_from_string(embeddings_df.to_csv(index=False), 'text/csv')\n"
      ]
    },
    {
      "cell_type": "markdown",
      "metadata": {
        "id": "4O1UdLO-bMHF"
      },
      "source": [
        "# Train Classifier Using Input MoveNet Embeddings"
      ]
    },
    {
      "cell_type": "markdown",
      "metadata": {
        "id": "X6rHcROfw7yg"
      },
      "source": [
        "Now, load the embeddings from GCS along with the metadata containing labels and source image paths."
      ]
    },
    {
      "cell_type": "code",
      "execution_count": null,
      "metadata": {
        "id": "yrtt3ykFbL5j"
      },
      "outputs": [],
      "source": [
        "auth.authenticate_user()"
      ]
    },
    {
      "cell_type": "code",
      "execution_count": 58,
      "metadata": {
        "id": "wbiEWjRVbUS6"
      },
      "outputs": [],
      "source": [
        "bucket_name = 'ai-yoga-trainer-data'\n",
        "storage_client = storage.Client(project='applied-ml-413816')\n",
        "bucket = storage_client.get_bucket(bucket_name)"
      ]
    },
    {
      "cell_type": "code",
      "execution_count": 59,
      "metadata": {
        "id": "iRhdS_zLbbs_"
      },
      "outputs": [],
      "source": [
        "binary_stream = bucket.get_blob('loaded/pose_embeddings.csv').download_as_string()\n",
        "embeddings_df = pd.read_csv(BytesIO(binary_stream))\n",
        "binary_stream = bucket.get_blob('loaded/metadata.csv').download_as_string()\n",
        "metadata_df = pd.read_csv(BytesIO(binary_stream), index_col=0)\n",
        "metadata_df['image_path'] = metadata_df['image_path'].map(lambda x: x.split('./data/')[1].strip() if type(x) == str else x)"
      ]
    },
    {
      "cell_type": "code",
      "execution_count": 60,
      "metadata": {
        "colab": {
          "base_uri": "https://localhost:8080/",
          "height": 308
        },
        "id": "mYwRSplQWUBG",
        "outputId": "ac4410b7-dfad-452f-eec5-30611f1610df"
      },
      "outputs": [
        {
          "data": {
            "application/vnd.google.colaboratory.intrinsic+json": {
              "type": "dataframe",
              "variable_name": "embeddings_df_w_labs"
            },
            "text/html": [
              "\n",
              "  <div id=\"df-7eba3f78-06f6-4cb6-a9a1-9d9182696ee5\" class=\"colab-df-container\">\n",
              "    <div>\n",
              "<style scoped>\n",
              "    .dataframe tbody tr th:only-of-type {\n",
              "        vertical-align: middle;\n",
              "    }\n",
              "\n",
              "    .dataframe tbody tr th {\n",
              "        vertical-align: top;\n",
              "    }\n",
              "\n",
              "    .dataframe thead th {\n",
              "        text-align: right;\n",
              "    }\n",
              "</style>\n",
              "<table border=\"1\" class=\"dataframe\">\n",
              "  <thead>\n",
              "    <tr style=\"text-align: right;\">\n",
              "      <th></th>\n",
              "      <th>nose_y</th>\n",
              "      <th>nose_x</th>\n",
              "      <th>nose_score</th>\n",
              "      <th>left_eye_y</th>\n",
              "      <th>left_eye_x</th>\n",
              "      <th>left_eye_score</th>\n",
              "      <th>right_eye_y</th>\n",
              "      <th>right_eye_x</th>\n",
              "      <th>right_eye_score</th>\n",
              "      <th>left_ear_y</th>\n",
              "      <th>...</th>\n",
              "      <th>left_ankle_y</th>\n",
              "      <th>left_ankle_x</th>\n",
              "      <th>left_ankle_score</th>\n",
              "      <th>right_ankle_y</th>\n",
              "      <th>right_ankle_x</th>\n",
              "      <th>right_ankle_score</th>\n",
              "      <th>pose_name_l3</th>\n",
              "      <th>pose_name_l2</th>\n",
              "      <th>pose_name_l1</th>\n",
              "      <th>image_path</th>\n",
              "    </tr>\n",
              "  </thead>\n",
              "  <tbody>\n",
              "    <tr>\n",
              "      <th>0</th>\n",
              "      <td>0.369896</td>\n",
              "      <td>0.301352</td>\n",
              "      <td>0.260206</td>\n",
              "      <td>0.350371</td>\n",
              "      <td>0.296303</td>\n",
              "      <td>0.320232</td>\n",
              "      <td>0.344436</td>\n",
              "      <td>0.291540</td>\n",
              "      <td>0.364636</td>\n",
              "      <td>0.366405</td>\n",
              "      <td>...</td>\n",
              "      <td>0.636703</td>\n",
              "      <td>0.387519</td>\n",
              "      <td>0.215520</td>\n",
              "      <td>0.622042</td>\n",
              "      <td>0.401365</td>\n",
              "      <td>0.232737</td>\n",
              "      <td>Bharadvaja's Twist Pose</td>\n",
              "      <td>Legs-Behind</td>\n",
              "      <td>Sitting</td>\n",
              "      <td>loaded/0.jpeg</td>\n",
              "    </tr>\n",
              "    <tr>\n",
              "      <th>1</th>\n",
              "      <td>0.216861</td>\n",
              "      <td>0.409076</td>\n",
              "      <td>0.816147</td>\n",
              "      <td>0.187553</td>\n",
              "      <td>0.440200</td>\n",
              "      <td>0.617154</td>\n",
              "      <td>0.178483</td>\n",
              "      <td>0.385072</td>\n",
              "      <td>0.804289</td>\n",
              "      <td>0.200637</td>\n",
              "      <td>...</td>\n",
              "      <td>0.737915</td>\n",
              "      <td>0.523411</td>\n",
              "      <td>0.345900</td>\n",
              "      <td>0.744636</td>\n",
              "      <td>0.481328</td>\n",
              "      <td>0.339098</td>\n",
              "      <td>Bharadvaja's Twist Pose</td>\n",
              "      <td>Legs-Behind</td>\n",
              "      <td>Sitting</td>\n",
              "      <td>loaded/1.jpeg</td>\n",
              "    </tr>\n",
              "    <tr>\n",
              "      <th>2</th>\n",
              "      <td>0.415345</td>\n",
              "      <td>0.799975</td>\n",
              "      <td>0.527386</td>\n",
              "      <td>0.394822</td>\n",
              "      <td>0.802332</td>\n",
              "      <td>0.385774</td>\n",
              "      <td>0.394220</td>\n",
              "      <td>0.790965</td>\n",
              "      <td>0.563723</td>\n",
              "      <td>0.400051</td>\n",
              "      <td>...</td>\n",
              "      <td>0.732415</td>\n",
              "      <td>0.679969</td>\n",
              "      <td>0.291697</td>\n",
              "      <td>0.742536</td>\n",
              "      <td>0.702227</td>\n",
              "      <td>0.152706</td>\n",
              "      <td>Bharadvaja's Twist Pose</td>\n",
              "      <td>Legs-Behind</td>\n",
              "      <td>Sitting</td>\n",
              "      <td>loaded/10.jpeg</td>\n",
              "    </tr>\n",
              "    <tr>\n",
              "      <th>3</th>\n",
              "      <td>0.443831</td>\n",
              "      <td>0.628313</td>\n",
              "      <td>0.338997</td>\n",
              "      <td>0.437179</td>\n",
              "      <td>0.633262</td>\n",
              "      <td>0.381227</td>\n",
              "      <td>0.436785</td>\n",
              "      <td>0.638021</td>\n",
              "      <td>0.356547</td>\n",
              "      <td>0.454299</td>\n",
              "      <td>...</td>\n",
              "      <td>0.419191</td>\n",
              "      <td>0.368362</td>\n",
              "      <td>0.464272</td>\n",
              "      <td>0.416025</td>\n",
              "      <td>0.371710</td>\n",
              "      <td>0.541014</td>\n",
              "      <td>Boat Pose</td>\n",
              "      <td>Others</td>\n",
              "      <td>Wheel</td>\n",
              "      <td>loaded/100.jpeg</td>\n",
              "    </tr>\n",
              "    <tr>\n",
              "      <th>4</th>\n",
              "      <td>0.618385</td>\n",
              "      <td>0.251123</td>\n",
              "      <td>0.500477</td>\n",
              "      <td>0.627709</td>\n",
              "      <td>0.232040</td>\n",
              "      <td>0.351022</td>\n",
              "      <td>0.630743</td>\n",
              "      <td>0.236656</td>\n",
              "      <td>0.442467</td>\n",
              "      <td>0.660975</td>\n",
              "      <td>...</td>\n",
              "      <td>0.657754</td>\n",
              "      <td>0.702909</td>\n",
              "      <td>0.717061</td>\n",
              "      <td>0.668186</td>\n",
              "      <td>0.706364</td>\n",
              "      <td>0.566248</td>\n",
              "      <td>Bridge Pose</td>\n",
              "      <td>Up-Facing</td>\n",
              "      <td>Wheel</td>\n",
              "      <td>loaded/1000.jpeg</td>\n",
              "    </tr>\n",
              "  </tbody>\n",
              "</table>\n",
              "<p>5 rows × 55 columns</p>\n",
              "</div>\n",
              "    <div class=\"colab-df-buttons\">\n",
              "\n",
              "  <div class=\"colab-df-container\">\n",
              "    <button class=\"colab-df-convert\" onclick=\"convertToInteractive('df-7eba3f78-06f6-4cb6-a9a1-9d9182696ee5')\"\n",
              "            title=\"Convert this dataframe to an interactive table.\"\n",
              "            style=\"display:none;\">\n",
              "\n",
              "  <svg xmlns=\"http://www.w3.org/2000/svg\" height=\"24px\" viewBox=\"0 -960 960 960\">\n",
              "    <path d=\"M120-120v-720h720v720H120Zm60-500h600v-160H180v160Zm220 220h160v-160H400v160Zm0 220h160v-160H400v160ZM180-400h160v-160H180v160Zm440 0h160v-160H620v160ZM180-180h160v-160H180v160Zm440 0h160v-160H620v160Z\"/>\n",
              "  </svg>\n",
              "    </button>\n",
              "\n",
              "  <style>\n",
              "    .colab-df-container {\n",
              "      display:flex;\n",
              "      gap: 12px;\n",
              "    }\n",
              "\n",
              "    .colab-df-convert {\n",
              "      background-color: #E8F0FE;\n",
              "      border: none;\n",
              "      border-radius: 50%;\n",
              "      cursor: pointer;\n",
              "      display: none;\n",
              "      fill: #1967D2;\n",
              "      height: 32px;\n",
              "      padding: 0 0 0 0;\n",
              "      width: 32px;\n",
              "    }\n",
              "\n",
              "    .colab-df-convert:hover {\n",
              "      background-color: #E2EBFA;\n",
              "      box-shadow: 0px 1px 2px rgba(60, 64, 67, 0.3), 0px 1px 3px 1px rgba(60, 64, 67, 0.15);\n",
              "      fill: #174EA6;\n",
              "    }\n",
              "\n",
              "    .colab-df-buttons div {\n",
              "      margin-bottom: 4px;\n",
              "    }\n",
              "\n",
              "    [theme=dark] .colab-df-convert {\n",
              "      background-color: #3B4455;\n",
              "      fill: #D2E3FC;\n",
              "    }\n",
              "\n",
              "    [theme=dark] .colab-df-convert:hover {\n",
              "      background-color: #434B5C;\n",
              "      box-shadow: 0px 1px 3px 1px rgba(0, 0, 0, 0.15);\n",
              "      filter: drop-shadow(0px 1px 2px rgba(0, 0, 0, 0.3));\n",
              "      fill: #FFFFFF;\n",
              "    }\n",
              "  </style>\n",
              "\n",
              "    <script>\n",
              "      const buttonEl =\n",
              "        document.querySelector('#df-7eba3f78-06f6-4cb6-a9a1-9d9182696ee5 button.colab-df-convert');\n",
              "      buttonEl.style.display =\n",
              "        google.colab.kernel.accessAllowed ? 'block' : 'none';\n",
              "\n",
              "      async function convertToInteractive(key) {\n",
              "        const element = document.querySelector('#df-7eba3f78-06f6-4cb6-a9a1-9d9182696ee5');\n",
              "        const dataTable =\n",
              "          await google.colab.kernel.invokeFunction('convertToInteractive',\n",
              "                                                    [key], {});\n",
              "        if (!dataTable) return;\n",
              "\n",
              "        const docLinkHtml = 'Like what you see? Visit the ' +\n",
              "          '<a target=\"_blank\" href=https://colab.research.google.com/notebooks/data_table.ipynb>data table notebook</a>'\n",
              "          + ' to learn more about interactive tables.';\n",
              "        element.innerHTML = '';\n",
              "        dataTable['output_type'] = 'display_data';\n",
              "        await google.colab.output.renderOutput(dataTable, element);\n",
              "        const docLink = document.createElement('div');\n",
              "        docLink.innerHTML = docLinkHtml;\n",
              "        element.appendChild(docLink);\n",
              "      }\n",
              "    </script>\n",
              "  </div>\n",
              "\n",
              "\n",
              "<div id=\"df-740fd439-fb86-44b7-8e4d-5b01a0b45b5a\">\n",
              "  <button class=\"colab-df-quickchart\" onclick=\"quickchart('df-740fd439-fb86-44b7-8e4d-5b01a0b45b5a')\"\n",
              "            title=\"Suggest charts\"\n",
              "            style=\"display:none;\">\n",
              "\n",
              "<svg xmlns=\"http://www.w3.org/2000/svg\" height=\"24px\"viewBox=\"0 0 24 24\"\n",
              "     width=\"24px\">\n",
              "    <g>\n",
              "        <path d=\"M19 3H5c-1.1 0-2 .9-2 2v14c0 1.1.9 2 2 2h14c1.1 0 2-.9 2-2V5c0-1.1-.9-2-2-2zM9 17H7v-7h2v7zm4 0h-2V7h2v10zm4 0h-2v-4h2v4z\"/>\n",
              "    </g>\n",
              "</svg>\n",
              "  </button>\n",
              "\n",
              "<style>\n",
              "  .colab-df-quickchart {\n",
              "      --bg-color: #E8F0FE;\n",
              "      --fill-color: #1967D2;\n",
              "      --hover-bg-color: #E2EBFA;\n",
              "      --hover-fill-color: #174EA6;\n",
              "      --disabled-fill-color: #AAA;\n",
              "      --disabled-bg-color: #DDD;\n",
              "  }\n",
              "\n",
              "  [theme=dark] .colab-df-quickchart {\n",
              "      --bg-color: #3B4455;\n",
              "      --fill-color: #D2E3FC;\n",
              "      --hover-bg-color: #434B5C;\n",
              "      --hover-fill-color: #FFFFFF;\n",
              "      --disabled-bg-color: #3B4455;\n",
              "      --disabled-fill-color: #666;\n",
              "  }\n",
              "\n",
              "  .colab-df-quickchart {\n",
              "    background-color: var(--bg-color);\n",
              "    border: none;\n",
              "    border-radius: 50%;\n",
              "    cursor: pointer;\n",
              "    display: none;\n",
              "    fill: var(--fill-color);\n",
              "    height: 32px;\n",
              "    padding: 0;\n",
              "    width: 32px;\n",
              "  }\n",
              "\n",
              "  .colab-df-quickchart:hover {\n",
              "    background-color: var(--hover-bg-color);\n",
              "    box-shadow: 0 1px 2px rgba(60, 64, 67, 0.3), 0 1px 3px 1px rgba(60, 64, 67, 0.15);\n",
              "    fill: var(--button-hover-fill-color);\n",
              "  }\n",
              "\n",
              "  .colab-df-quickchart-complete:disabled,\n",
              "  .colab-df-quickchart-complete:disabled:hover {\n",
              "    background-color: var(--disabled-bg-color);\n",
              "    fill: var(--disabled-fill-color);\n",
              "    box-shadow: none;\n",
              "  }\n",
              "\n",
              "  .colab-df-spinner {\n",
              "    border: 2px solid var(--fill-color);\n",
              "    border-color: transparent;\n",
              "    border-bottom-color: var(--fill-color);\n",
              "    animation:\n",
              "      spin 1s steps(1) infinite;\n",
              "  }\n",
              "\n",
              "  @keyframes spin {\n",
              "    0% {\n",
              "      border-color: transparent;\n",
              "      border-bottom-color: var(--fill-color);\n",
              "      border-left-color: var(--fill-color);\n",
              "    }\n",
              "    20% {\n",
              "      border-color: transparent;\n",
              "      border-left-color: var(--fill-color);\n",
              "      border-top-color: var(--fill-color);\n",
              "    }\n",
              "    30% {\n",
              "      border-color: transparent;\n",
              "      border-left-color: var(--fill-color);\n",
              "      border-top-color: var(--fill-color);\n",
              "      border-right-color: var(--fill-color);\n",
              "    }\n",
              "    40% {\n",
              "      border-color: transparent;\n",
              "      border-right-color: var(--fill-color);\n",
              "      border-top-color: var(--fill-color);\n",
              "    }\n",
              "    60% {\n",
              "      border-color: transparent;\n",
              "      border-right-color: var(--fill-color);\n",
              "    }\n",
              "    80% {\n",
              "      border-color: transparent;\n",
              "      border-right-color: var(--fill-color);\n",
              "      border-bottom-color: var(--fill-color);\n",
              "    }\n",
              "    90% {\n",
              "      border-color: transparent;\n",
              "      border-bottom-color: var(--fill-color);\n",
              "    }\n",
              "  }\n",
              "</style>\n",
              "\n",
              "  <script>\n",
              "    async function quickchart(key) {\n",
              "      const quickchartButtonEl =\n",
              "        document.querySelector('#' + key + ' button');\n",
              "      quickchartButtonEl.disabled = true;  // To prevent multiple clicks.\n",
              "      quickchartButtonEl.classList.add('colab-df-spinner');\n",
              "      try {\n",
              "        const charts = await google.colab.kernel.invokeFunction(\n",
              "            'suggestCharts', [key], {});\n",
              "      } catch (error) {\n",
              "        console.error('Error during call to suggestCharts:', error);\n",
              "      }\n",
              "      quickchartButtonEl.classList.remove('colab-df-spinner');\n",
              "      quickchartButtonEl.classList.add('colab-df-quickchart-complete');\n",
              "    }\n",
              "    (() => {\n",
              "      let quickchartButtonEl =\n",
              "        document.querySelector('#df-740fd439-fb86-44b7-8e4d-5b01a0b45b5a button');\n",
              "      quickchartButtonEl.style.display =\n",
              "        google.colab.kernel.accessAllowed ? 'block' : 'none';\n",
              "    })();\n",
              "  </script>\n",
              "</div>\n",
              "\n",
              "    </div>\n",
              "  </div>\n"
            ],
            "text/plain": [
              "     nose_y    nose_x  nose_score  left_eye_y  left_eye_x  left_eye_score  \\\n",
              "0  0.369896  0.301352    0.260206    0.350371    0.296303        0.320232   \n",
              "1  0.216861  0.409076    0.816147    0.187553    0.440200        0.617154   \n",
              "2  0.415345  0.799975    0.527386    0.394822    0.802332        0.385774   \n",
              "3  0.443831  0.628313    0.338997    0.437179    0.633262        0.381227   \n",
              "4  0.618385  0.251123    0.500477    0.627709    0.232040        0.351022   \n",
              "\n",
              "   right_eye_y  right_eye_x  right_eye_score  left_ear_y  ...  left_ankle_y  \\\n",
              "0     0.344436     0.291540         0.364636    0.366405  ...      0.636703   \n",
              "1     0.178483     0.385072         0.804289    0.200637  ...      0.737915   \n",
              "2     0.394220     0.790965         0.563723    0.400051  ...      0.732415   \n",
              "3     0.436785     0.638021         0.356547    0.454299  ...      0.419191   \n",
              "4     0.630743     0.236656         0.442467    0.660975  ...      0.657754   \n",
              "\n",
              "   left_ankle_x  left_ankle_score  right_ankle_y  right_ankle_x  \\\n",
              "0      0.387519          0.215520       0.622042       0.401365   \n",
              "1      0.523411          0.345900       0.744636       0.481328   \n",
              "2      0.679969          0.291697       0.742536       0.702227   \n",
              "3      0.368362          0.464272       0.416025       0.371710   \n",
              "4      0.702909          0.717061       0.668186       0.706364   \n",
              "\n",
              "   right_ankle_score             pose_name_l3  pose_name_l2  pose_name_l1  \\\n",
              "0           0.232737  Bharadvaja's Twist Pose   Legs-Behind       Sitting   \n",
              "1           0.339098  Bharadvaja's Twist Pose   Legs-Behind       Sitting   \n",
              "2           0.152706  Bharadvaja's Twist Pose   Legs-Behind       Sitting   \n",
              "3           0.541014                Boat Pose        Others         Wheel   \n",
              "4           0.566248              Bridge Pose     Up-Facing         Wheel   \n",
              "\n",
              "         image_path  \n",
              "0     loaded/0.jpeg  \n",
              "1     loaded/1.jpeg  \n",
              "2    loaded/10.jpeg  \n",
              "3   loaded/100.jpeg  \n",
              "4  loaded/1000.jpeg  \n",
              "\n",
              "[5 rows x 55 columns]"
            ]
          },
          "execution_count": 60,
          "metadata": {},
          "output_type": "execute_result"
        }
      ],
      "source": [
        "embeddings_df_w_labs = embeddings_df.merge(metadata_df[['pose_name_l3', 'pose_name_l2', 'pose_name_l1', 'image_path']], right_on='image_path', left_on='blob_name').drop(columns=['blob_name'])\n",
        "embeddings_df_w_labs.head()"
      ]
    },
    {
      "cell_type": "markdown",
      "metadata": {
        "id": "zNpTkx0qfG8Q"
      },
      "source": [
        "## Preprocess Embeddings"
      ]
    },
    {
      "cell_type": "markdown",
      "metadata": {
        "id": "DKj_FWt6xIvr"
      },
      "source": [
        "Before training, we need to preprocess the embeddings. Preprocessing involves the following steps:\n",
        "\n",
        "1. Drop the landmark detection confidence scores obtained from MoveNet.\n",
        "2. Normalize the landmark embeddings, which contain x and y coordinates for every detected landmark (17 total) for each image.\n",
        "  1. Compute center of the pose by determining the midpoint between the left and right hip.\n",
        "  2. Center the pose embedding by subtracting the pose center (computed above) from each landmark coordinate.\n",
        "  3. Compute the size of the pose.\n",
        "    1. Compute distances from each landmark coordinate to pose center and record the largest distance $d_max$.\n",
        "    2. Compute torso length $torso_length$ (distance from pose center to center point of the left and right shoulder).\n",
        "    3. Compute $max(torso_length*2.5, d_max)$.\n",
        "  4. Normalize by dividing the centered pose embedding by the pose size.\n",
        "3. Flatten the pose embedding into a vector."
      ]
    },
    {
      "cell_type": "code",
      "execution_count": 61,
      "metadata": {
        "id": "MyZ2bbUSHlLr"
      },
      "outputs": [],
      "source": [
        "KEYPOINT_DICT = {\n",
        "    'nose': 0,\n",
        "    'left_eye': 1,\n",
        "    'right_eye': 2,\n",
        "    'left_ear': 3,\n",
        "    'right_ear': 4,\n",
        "    'left_shoulder': 5,\n",
        "    'right_shoulder': 6,\n",
        "    'left_elbow': 7,\n",
        "    'right_elbow': 8,\n",
        "    'left_wrist': 9,\n",
        "    'right_wrist': 10,\n",
        "    'left_hip': 11,\n",
        "    'right_hip': 12,\n",
        "    'left_knee': 13,\n",
        "    'right_knee': 14,\n",
        "    'left_ankle': 15,\n",
        "    'right_ankle': 16\n",
        "}"
      ]
    },
    {
      "cell_type": "code",
      "execution_count": 62,
      "metadata": {
        "id": "IJ-XI6KEfEGy"
      },
      "outputs": [],
      "source": [
        "def get_center_point_of_landmark(landmark_embeddings, left_bodypart, right_bodypart):\n",
        "  left_x_y = landmark_embeddings[:, KEYPOINT_DICT[left_bodypart], :2]\n",
        "  right_x_y = landmark_embeddings[:, KEYPOINT_DICT[right_bodypart], :2]\n",
        "  center_x_y = (left_x_y + right_x_y) / 2\n",
        "  return center_x_y\n",
        "\n",
        "def get_pose_size(landmark_embeddings, torso_size_multiplier=2.5):\n",
        "  # hips center\n",
        "  hips_center_x_y = get_center_point_of_landmark(landmark_embeddings, 'left_hip', 'right_hip')\n",
        "\n",
        "  # shoulders center\n",
        "  shoulders_center_x_y = get_center_point_of_landmark(landmark_embeddings, 'left_shoulder', 'right_shoulder')\n",
        "\n",
        "  # torso length as the minimum body size\n",
        "  torso_size = np.linalg.norm(shoulders_center_x_y - hips_center_x_y, axis=1, keepdims=True)\n",
        "\n",
        "  # pose center\n",
        "  pose_center = hips_center_x_y\n",
        "  pose_center = np.repeat(pose_center, 17, axis=0).reshape(landmark_embeddings.shape[0], -1, 2)\n",
        "  distance_to_pose_center = np.linalg.norm(landmark_embeddings - pose_center, axis=2, keepdims=True)\n",
        "\n",
        "  # max dist to pose center\n",
        "  max_dist = np.amax(distance_to_pose_center, axis=1)\n",
        "\n",
        "  # normalize scale\n",
        "  pose_size = np.maximum(torso_size * torso_size_multiplier, max_dist)\n",
        "\n",
        "  return pose_size\n",
        "\n",
        "def normalize_landmark_embeddings(landmark_embeddings):\n",
        "  landmark_embeddings_centers = get_center_point_of_landmark(landmark_embeddings, 'left_hip', 'right_hip')\n",
        "  landmark_embeddings_centers = np.repeat(landmark_embeddings_centers, 17, axis=0).reshape(landmark_embeddings.shape[0], -1, 2) # reshape\n",
        "  landmark_embeddings_centered = landmark_embeddings - landmark_embeddings_centers\n",
        "  pose_size = get_pose_size(landmark_embeddings_centered)\n",
        "  return landmark_embeddings_centered / pose_size[:, None]\n",
        "\n",
        "def process_landmark_embeddings(landmark_embeddings):\n",
        "  landmark_embeddings = landmark_embeddings.reshape(-1, 17, 3) # reshape\n",
        "  landmark_embeddings = landmark_embeddings[:, :, :2] # drop score\n",
        "\n",
        "  # normalize landmarks\n",
        "  landmark_embeddings_normalized = normalize_landmark_embeddings(landmark_embeddings)\n",
        "\n",
        "  # flatten the normalized landmark coordinates into a vector\n",
        "  landmark_embeddings_normalized = landmark_embeddings_normalized.reshape(landmark_embeddings_normalized.shape[0], -1, 1)\n",
        "\n",
        "  return landmark_embeddings_normalized[:, :, 0]"
      ]
    },
    {
      "cell_type": "code",
      "execution_count": 63,
      "metadata": {
        "id": "rP07C9Ufz0cV"
      },
      "outputs": [],
      "source": [
        "X = embeddings_df_w_labs[embeddings_df.drop(columns=['blob_name']).columns].values\n",
        "X_scaled = process_landmark_embeddings(X)\n",
        "y_l3 = embeddings_df_w_labs['pose_name_l3'].values\n",
        "y_l2 = embeddings_df_w_labs['pose_name_l3'].values\n",
        "y_l1 = embeddings_df_w_labs['pose_name_l3'].values"
      ]
    },
    {
      "cell_type": "markdown",
      "metadata": {
        "id": "oiZFPs810SnE"
      },
      "source": [
        "## Train Classifier"
      ]
    },
    {
      "cell_type": "markdown",
      "metadata": {
        "id": "ml52GWc14lhj"
      },
      "source": [
        "Create train, test, and validation splits."
      ]
    },
    {
      "cell_type": "code",
      "execution_count": 64,
      "metadata": {
        "id": "SXg-T15f4iRB"
      },
      "outputs": [],
      "source": [
        "train_ratio = 0.75\n",
        "validation_ratio = 0.15\n",
        "test_ratio = 0.10\n",
        "\n",
        "X_train, X_test_no_val, y_train, y_test_no_val, ind_train, ind_test_no_val = train_test_split(X_scaled, y_l3, embeddings_df_w_labs.index, test_size=1-train_ratio)\n",
        "\n",
        "# test is now 10% of the initial data set\n",
        "# validation is now 15% of the initial data set\n",
        "X_val, X_test, y_val, y_test, ind_val, ind_test = train_test_split(X_test_no_val, y_test_no_val, ind_test_no_val, test_size=test_ratio/(test_ratio+validation_ratio))"
      ]
    },
    {
      "cell_type": "code",
      "execution_count": 89,
      "metadata": {
        "id": "GWv5okjY4jdz"
      },
      "outputs": [],
      "source": [
        "lb = LabelBinarizer()\n",
        "y_train_dummy = lb.fit_transform(y_train)\n",
        "y_val_dummy = lb.fit_transform(y_val)\n",
        "y_test_dummy = lb.transform(y_test)\n",
        "y_test_no_val_dummy = lb.transform(y_test_no_val)"
      ]
    },
    {
      "cell_type": "code",
      "execution_count": 90,
      "metadata": {
        "id": "Xu8CrdzSMQPR"
      },
      "outputs": [],
      "source": [
        "with open('./lb.pkl', 'wb') as f:\n",
        "  pickle.dump(lb, f)"
      ]
    },
    {
      "cell_type": "markdown",
      "metadata": {
        "id": "9Z9HyNLN4oIx"
      },
      "source": [
        "Below, we will train a classifier with the processed MoveNet embeddings as input and the class as an output. We will use TensorFlow to start."
      ]
    },
    {
      "cell_type": "markdown",
      "metadata": {
        "id": "pUZ4FQEN8RnB"
      },
      "source": [
        "### Keras"
      ]
    },
    {
      "cell_type": "code",
      "execution_count": null,
      "metadata": {
        "colab": {
          "base_uri": "https://localhost:8080/"
        },
        "id": "CN-gmuC10Tg7",
        "outputId": "9bff3233-29b2-443d-d032-a66281419c26"
      },
      "outputs": [
        {
          "name": "stdout",
          "output_type": "stream",
          "text": [
            "Model: \"sequential_1\"\n",
            "_________________________________________________________________\n",
            " Layer (type)                Output Shape              Param #   \n",
            "=================================================================\n",
            " dense_3 (Dense)             (13360, 128)              4480      \n",
            "                                                                 \n",
            " dropout_2 (Dropout)         (13360, 128)              0         \n",
            "                                                                 \n",
            " dense_4 (Dense)             (13360, 64)               8256      \n",
            "                                                                 \n",
            " dropout_3 (Dropout)         (13360, 64)               0         \n",
            "                                                                 \n",
            " dense_5 (Dense)             (13360, 82)               5330      \n",
            "                                                                 \n",
            "=================================================================\n",
            "Total params: 18066 (70.57 KB)\n",
            "Trainable params: 18066 (70.57 KB)\n",
            "Non-trainable params: 0 (0.00 Byte)\n",
            "_________________________________________________________________\n"
          ]
        }
      ],
      "source": [
        "model = Sequential([\n",
        "  Dense(128, activation='relu'),\n",
        "  Dropout(0.5),\n",
        "  Dense(64, activation='relu'),\n",
        "  Dropout(0.5),\n",
        "  Dense(lb.classes_.shape[0], activation='softmax')\n",
        "])\n",
        "\n",
        "model.build(X_train.shape)\n",
        "model.summary()"
      ]
    },
    {
      "cell_type": "code",
      "execution_count": null,
      "metadata": {
        "id": "RSVMRwEB1-JH"
      },
      "outputs": [],
      "source": [
        "model.compile(optimizer='adam', loss='categorical_crossentropy', metrics=['accuracy'])"
      ]
    },
    {
      "cell_type": "code",
      "execution_count": null,
      "metadata": {
        "colab": {
          "base_uri": "https://localhost:8080/"
        },
        "id": "TyfkB7F03c8x",
        "outputId": "f44d328e-52a2-415f-dee3-396f3194e5bf"
      },
      "outputs": [
        {
          "name": "stdout",
          "output_type": "stream",
          "text": [
            "Epoch 1/20\n"
          ]
        },
        {
          "name": "stderr",
          "output_type": "stream",
          "text": [
            "/usr/local/lib/python3.10/dist-packages/tensorflow/python/data/ops/structured_function.py:258: UserWarning: Even though the `tf.config.experimental_run_functions_eagerly` option is set, this option does not apply to tf.data functions. To force eager execution of tf.data functions, please use `tf.data.experimental.enable_debug_mode()`.\n",
            "  warnings.warn(\n"
          ]
        },
        {
          "name": "stdout",
          "output_type": "stream",
          "text": [
            "782/783 [============================>.] - ETA: 0s - loss: 3.9072 - accuracy: 0.0826\n",
            "Epoch 1: val_accuracy improved from -inf to 0.23553, saving model to weights.best.hdf5\n",
            "783/783 [==============================] - 39s 47ms/step - loss: 3.9062 - accuracy: 0.0830 - val_loss: 3.2592 - val_accuracy: 0.2355\n",
            "Epoch 2/20\n",
            "  3/783 [..............................] - ETA: 27s - loss: 3.7640 - accuracy: 0.2083"
          ]
        },
        {
          "name": "stderr",
          "output_type": "stream",
          "text": [
            "/usr/local/lib/python3.10/dist-packages/keras/src/engine/training.py:3103: UserWarning: You are saving your model as an HDF5 file via `model.save()`. This file format is considered legacy. We recommend using instead the native Keras format, e.g. `model.save('my_model.keras')`.\n",
            "  saving_api.save_model(\n"
          ]
        },
        {
          "name": "stdout",
          "output_type": "stream",
          "text": [
            "783/783 [==============================] - ETA: 0s - loss: 3.3587 - accuracy: 0.1662\n",
            "Epoch 2: val_accuracy improved from 0.23553 to 0.31257, saving model to weights.best.hdf5\n",
            "783/783 [==============================] - 34s 43ms/step - loss: 3.3587 - accuracy: 0.1662 - val_loss: 2.8906 - val_accuracy: 0.3126\n",
            "Epoch 3/20\n",
            "782/783 [============================>.] - ETA: 0s - loss: 3.1349 - accuracy: 0.2094\n",
            "Epoch 3: val_accuracy improved from 0.31257 to 0.35210, saving model to weights.best.hdf5\n",
            "783/783 [==============================] - 33s 43ms/step - loss: 3.1349 - accuracy: 0.2093 - val_loss: 2.6781 - val_accuracy: 0.3521\n",
            "Epoch 4/20\n",
            "782/783 [============================>.] - ETA: 0s - loss: 2.9876 - accuracy: 0.2498\n",
            "Epoch 4: val_accuracy improved from 0.35210 to 0.37764, saving model to weights.best.hdf5\n",
            "783/783 [==============================] - 34s 44ms/step - loss: 2.9876 - accuracy: 0.2498 - val_loss: 2.5710 - val_accuracy: 0.3776\n",
            "Epoch 5/20\n",
            "782/783 [============================>.] - ETA: 0s - loss: 2.8931 - accuracy: 0.2702\n",
            "Epoch 5: val_accuracy improved from 0.37764 to 0.40639, saving model to weights.best.hdf5\n",
            "783/783 [==============================] - 34s 43ms/step - loss: 2.8932 - accuracy: 0.2700 - val_loss: 2.4725 - val_accuracy: 0.4064\n",
            "Epoch 6/20\n",
            "782/783 [============================>.] - ETA: 0s - loss: 2.8194 - accuracy: 0.2928\n",
            "Epoch 6: val_accuracy improved from 0.40639 to 0.41956, saving model to weights.best.hdf5\n",
            "783/783 [==============================] - 34s 43ms/step - loss: 2.8190 - accuracy: 0.2928 - val_loss: 2.4116 - val_accuracy: 0.4196\n",
            "Epoch 7/20\n",
            "783/783 [==============================] - ETA: 0s - loss: 2.7585 - accuracy: 0.3113\n",
            "Epoch 7: val_accuracy improved from 0.41956 to 0.43473, saving model to weights.best.hdf5\n",
            "783/783 [==============================] - 34s 44ms/step - loss: 2.7585 - accuracy: 0.3113 - val_loss: 2.3466 - val_accuracy: 0.4347\n",
            "Epoch 8/20\n",
            "783/783 [==============================] - ETA: 0s - loss: 2.6978 - accuracy: 0.3201\n",
            "Epoch 8: val_accuracy improved from 0.43473 to 0.45150, saving model to weights.best.hdf5\n",
            "783/783 [==============================] - 33s 42ms/step - loss: 2.6978 - accuracy: 0.3201 - val_loss: 2.2881 - val_accuracy: 0.4515\n",
            "Epoch 9/20\n",
            "782/783 [============================>.] - ETA: 0s - loss: 2.6642 - accuracy: 0.3285\n",
            "Epoch 9: val_accuracy improved from 0.45150 to 0.46747, saving model to weights.best.hdf5\n",
            "783/783 [==============================] - 35s 44ms/step - loss: 2.6645 - accuracy: 0.3285 - val_loss: 2.2482 - val_accuracy: 0.4675\n",
            "Epoch 10/20\n",
            "782/783 [============================>.] - ETA: 0s - loss: 2.6382 - accuracy: 0.3356\n",
            "Epoch 10: val_accuracy did not improve from 0.46747\n",
            "783/783 [==============================] - 32s 41ms/step - loss: 2.6380 - accuracy: 0.3356 - val_loss: 2.2196 - val_accuracy: 0.4603\n",
            "Epoch 11/20\n",
            "783/783 [==============================] - ETA: 0s - loss: 2.5994 - accuracy: 0.3448\n",
            "Epoch 11: val_accuracy improved from 0.46747 to 0.47345, saving model to weights.best.hdf5\n",
            "783/783 [==============================] - 33s 42ms/step - loss: 2.5994 - accuracy: 0.3448 - val_loss: 2.1822 - val_accuracy: 0.4735\n",
            "Epoch 12/20\n",
            "782/783 [============================>.] - ETA: 0s - loss: 2.5819 - accuracy: 0.3517\n",
            "Epoch 12: val_accuracy did not improve from 0.47345\n",
            "783/783 [==============================] - 32s 41ms/step - loss: 2.5820 - accuracy: 0.3518 - val_loss: 2.1810 - val_accuracy: 0.4735\n",
            "Epoch 13/20\n",
            "782/783 [============================>.] - ETA: 0s - loss: 2.5451 - accuracy: 0.3533\n",
            "Epoch 13: val_accuracy improved from 0.47345 to 0.48623, saving model to weights.best.hdf5\n",
            "783/783 [==============================] - 33s 42ms/step - loss: 2.5446 - accuracy: 0.3535 - val_loss: 2.1484 - val_accuracy: 0.4862\n",
            "Epoch 14/20\n",
            "783/783 [==============================] - ETA: 0s - loss: 2.5336 - accuracy: 0.3566\n",
            "Epoch 14: val_accuracy improved from 0.48623 to 0.48902, saving model to weights.best.hdf5\n",
            "783/783 [==============================] - 32s 41ms/step - loss: 2.5336 - accuracy: 0.3566 - val_loss: 2.1080 - val_accuracy: 0.4890\n",
            "Epoch 15/20\n",
            "783/783 [==============================] - ETA: 0s - loss: 2.5002 - accuracy: 0.3737\n",
            "Epoch 15: val_accuracy improved from 0.48902 to 0.51018, saving model to weights.best.hdf5\n",
            "783/783 [==============================] - 33s 42ms/step - loss: 2.5002 - accuracy: 0.3737 - val_loss: 2.0827 - val_accuracy: 0.5102\n",
            "Epoch 16/20\n",
            "782/783 [============================>.] - ETA: 0s - loss: 2.5028 - accuracy: 0.3768\n",
            "Epoch 16: val_accuracy did not improve from 0.51018\n",
            "783/783 [==============================] - 33s 42ms/step - loss: 2.5028 - accuracy: 0.3767 - val_loss: 2.0769 - val_accuracy: 0.5026\n",
            "Epoch 17/20\n",
            "782/783 [============================>.] - ETA: 0s - loss: 2.4756 - accuracy: 0.3760\n",
            "Epoch 17: val_accuracy improved from 0.51018 to 0.51657, saving model to weights.best.hdf5\n",
            "783/783 [==============================] - 34s 43ms/step - loss: 2.4759 - accuracy: 0.3758 - val_loss: 2.0566 - val_accuracy: 0.5166\n",
            "Epoch 18/20\n",
            "782/783 [============================>.] - ETA: 0s - loss: 2.4562 - accuracy: 0.3843\n",
            "Epoch 18: val_accuracy did not improve from 0.51657\n",
            "783/783 [==============================] - 34s 44ms/step - loss: 2.4560 - accuracy: 0.3844 - val_loss: 2.0339 - val_accuracy: 0.5126\n",
            "Epoch 19/20\n",
            "783/783 [==============================] - ETA: 0s - loss: 2.4554 - accuracy: 0.3851\n",
            "Epoch 19: val_accuracy improved from 0.51657 to 0.51896, saving model to weights.best.hdf5\n",
            "783/783 [==============================] - 34s 43ms/step - loss: 2.4554 - accuracy: 0.3851 - val_loss: 2.0166 - val_accuracy: 0.5190\n",
            "Epoch 20/20\n",
            "782/783 [============================>.] - ETA: 0s - loss: 2.4310 - accuracy: 0.3887\n",
            "Epoch 20: val_accuracy improved from 0.51896 to 0.51976, saving model to weights.best.hdf5\n",
            "783/783 [==============================] - 34s 44ms/step - loss: 2.4310 - accuracy: 0.3886 - val_loss: 2.0085 - val_accuracy: 0.5198\n"
          ]
        }
      ],
      "source": [
        "# store checkpoint with highest acc\n",
        "checkpoint_path = \"weights.best.hdf5\"\n",
        "checkpoint = ModelCheckpoint(checkpoint_path, monitor='val_accuracy', verbose=1, save_best_only=True, mode='max')\n",
        "earlystopping = EarlyStopping(monitor='val_accuracy', patience=20)\n",
        "\n",
        "# Start training\n",
        "history = model.fit(X_train, y_train_dummy, epochs=20, batch_size=16, validation_data=(X_val, y_val_dummy), callbacks=[checkpoint, earlystopping])"
      ]
    },
    {
      "cell_type": "markdown",
      "metadata": {
        "id": "FkCYkci28UGZ"
      },
      "source": [
        "### PyTorch"
      ]
    },
    {
      "cell_type": "markdown",
      "metadata": {
        "id": "vxfzFW8Z4yrw"
      },
      "source": [
        "PyTorch seems like a better implementation since we can easily integrate with Weights and Biases to save the training plots."
      ]
    },
    {
      "cell_type": "code",
      "execution_count": 66,
      "metadata": {
        "id": "Uc2jxsYS94N5"
      },
      "outputs": [],
      "source": [
        "class ConfigDict(dict):\n",
        "    def __getattr__(self, name):\n",
        "        return self[name]"
      ]
    },
    {
      "cell_type": "code",
      "execution_count": 67,
      "metadata": {
        "id": "vCPhY8KRy1ND"
      },
      "outputs": [],
      "source": [
        "class Classifier(nn.Module):\n",
        "  def __init__(self, dropout=0.5, activation='relu'):\n",
        "    super(Classifier, self).__init__()\n",
        "    self.linear1 = nn.Linear(34, 128)\n",
        "    self.linear2 = nn.Linear(128, 64)\n",
        "    self.linear3 = nn.Linear(64, 82)\n",
        "    self.dropout = nn.Dropout(dropout)\n",
        "    if activation == 'relu':\n",
        "      self.act = torch.relu\n",
        "    elif activation == 'sigmoid':\n",
        "      self.act = torch.sigmoid\n",
        "    elif activation == 'tanh':\n",
        "      self.act = torch.tanh\n",
        "  def forward(self, x):\n",
        "    x = self.act(self.linear1(x))\n",
        "    x = self.dropout(x)\n",
        "    x = self.act(self.linear2(x))\n",
        "    x = self.dropout(x)\n",
        "    x = self.linear3(x)\n",
        "    return x\n",
        "\n",
        "class PoseEmbeddingsDataset(torch.utils.data.Dataset):\n",
        "    def __init__(self, X, y):\n",
        "        self.X = X\n",
        "        self.y = y\n",
        "\n",
        "    def __len__(self):\n",
        "        return self.X.shape[0]\n",
        "\n",
        "    def __getitem__(self, idx):\n",
        "        sample = {'embedding': self.X[idx], 'pose': self.y[idx]}\n",
        "        return sample\n",
        "\n",
        "def get_dataloader(X, y, config):\n",
        "  dataset = PoseEmbeddingsDataset(X, y)\n",
        "  dataloader = torch.utils.data.DataLoader(dataset, batch_size=config.batch_size, shuffle=True)\n",
        "  return dataloader\n",
        "\n",
        "def build_opt(model, config):\n",
        "  if config.optimizer == \"sgd\":\n",
        "    optimizer = torch.optim.SGD(model.parameters(),\n",
        "                              lr=config.learning_rate, momentum=0.9)\n",
        "  elif config.optimizer == \"adam\":\n",
        "    optimizer = torch.optim.Adam(model.parameters(),\n",
        "                               lr=config.learning_rate)\n",
        "  return optimizer\n",
        "\n",
        "def train_epoch(model, loader, optimizer, log_wandb):\n",
        "  model.train()\n",
        "  ce_loss = torch.nn.CrossEntropyLoss()\n",
        "  cumu_loss = 0\n",
        "  correct, total = 0, 0\n",
        "  for i, batch in enumerate(loader):\n",
        "    e, labels = batch['embedding'].to(device, dtype=torch.float32), batch['pose'].to(device, dtype=torch.float32)\n",
        "    optimizer.zero_grad()\n",
        "\n",
        "    # ➡ Forward pass\n",
        "    outputs = model(e).to(device)\n",
        "    loss = ce_loss(outputs, labels)\n",
        "    cumu_loss += loss.item()\n",
        "\n",
        "    # ⬅ Backward pass + weight update\n",
        "    loss.backward()\n",
        "    optimizer.step()\n",
        "\n",
        "    _, predicted = torch.max(outputs.data, 1)\n",
        "    _, labels = torch.max(labels, 1)\n",
        "    total += labels.size(0)\n",
        "    correct += (predicted == labels).sum().item()\n",
        "\n",
        "    if log_wandb:\n",
        "      wandb.log({\"train_batch_loss\": loss.item()})\n",
        "      wandb.log({\"train_batch_acc\": correct / total})\n",
        "\n",
        "  return cumu_loss / len(loader), correct / total\n",
        "\n",
        "def test_epoch(model, loader, log_wandb):\n",
        "  model.eval()\n",
        "  ce_loss = torch.nn.CrossEntropyLoss()\n",
        "  with torch.no_grad():\n",
        "    cumu_loss = 0\n",
        "    correct, total = 0, 0\n",
        "    for i, batch in enumerate(loader):\n",
        "      e, labels = batch['embedding'].to(device, dtype=torch.float32), batch['pose'].to(device, dtype=torch.float32)\n",
        "\n",
        "      outputs = model(e)\n",
        "      loss = ce_loss(outputs, labels)\n",
        "      cumu_loss += loss.item()\n",
        "\n",
        "      _, predicted = torch.max(outputs.data, 1)\n",
        "      _, labels = torch.max(labels, 1)\n",
        "      total += labels.size(0)\n",
        "      correct += (predicted == labels).sum().item()\n",
        "\n",
        "      if log_wandb:\n",
        "        wandb.log({\"test_batch_loss\": loss.item()})\n",
        "        wandb.log({\"test_batch_acc\": correct / total})\n",
        "\n",
        "    return cumu_loss / len(loader), correct / total\n",
        "\n",
        "def train(config=None, log_wandb=True, save_path=None, reinit=False):\n",
        "  train_loader = get_dataloader(X_train, y_train_dummy, config)\n",
        "  val_loader = get_dataloader(X_val, y_val_dummy, config)\n",
        "  model = Classifier(config.dropout, config.activation).to(device)\n",
        "  optimizer = build_opt(model, config)\n",
        "\n",
        "  if log_wandb:\n",
        "    # Initialize a new wandb run\n",
        "    with wandb.init(config=config, project='movenet-yoga-classifier', reinit=reinit):\n",
        "      # If called by wandb.agent, as below,\n",
        "      # this config will be set by Sweep Controller\n",
        "      config = wandb.config\n",
        "\n",
        "      for epoch in tqdm(range(config.epochs)):\n",
        "        start_train = perf_counter()\n",
        "        train_avg_loss, train_acc = train_epoch(model, train_loader, optimizer, log_wandb)\n",
        "        end_train = perf_counter()\n",
        "\n",
        "        start_test = perf_counter()\n",
        "        test_avg_loss, test_acc = test_epoch(model, val_loader, log_wandb)\n",
        "        end_test = perf_counter()\n",
        "\n",
        "        wandb.log({\"train_time\": end_train - start_train, \"inference_time\": end_test - start_test, \"train_epoch_loss\": train_avg_loss, \"test_epoch_loss\": test_avg_loss, \"train_epoch_acc\": train_acc, \"test_epoch_acc\": test_acc, \"epoch\": epoch})\n",
        "  else:\n",
        "    for epoch in tqdm(range(config.epochs)):\n",
        "      train_avg_loss, train_acc = train_epoch(model, train_loader, optimizer, log_wandb)\n",
        "      test_avg_loss, test_acc = test_epoch(model, val_loader, optimizer, log_wandb)\n",
        "      print({\"epoch\": epoch, \"train_time\": end_train - start_train, \"inference_time\": end_test - start_test, \"train_epoch_loss\": train_avg_loss, \"test_epoch_loss\": test_avg_loss, \"train_epoch_acc\": train_acc, \"test_epoch_acc\": test_acc})\n",
        "\n",
        "  if save_path:\n",
        "    torch.save(model, save_path)"
      ]
    },
    {
      "cell_type": "code",
      "execution_count": 68,
      "metadata": {
        "colab": {
          "base_uri": "https://localhost:8080/"
        },
        "id": "7_uZKLkKlVO8",
        "outputId": "139110a9-206d-426d-9e8a-12dc5c3123dc"
      },
      "outputs": [
        {
          "name": "stderr",
          "output_type": "stream",
          "text": [
            "\u001b[34m\u001b[1mwandb\u001b[0m: W&B API key is configured. Use \u001b[1m`wandb login --relogin`\u001b[0m to force relogin\n",
            "\u001b[34m\u001b[1mwandb\u001b[0m: \u001b[33mWARNING\u001b[0m If you're specifying your api key in code, ensure this code is not shared publicly.\n",
            "\u001b[34m\u001b[1mwandb\u001b[0m: \u001b[33mWARNING\u001b[0m Consider setting the WANDB_API_KEY environment variable, or running `wandb login` from the command line.\n",
            "\u001b[34m\u001b[1mwandb\u001b[0m: Appending key for api.wandb.ai to your netrc file: /root/.netrc\n"
          ]
        },
        {
          "data": {
            "text/plain": [
              "True"
            ]
          },
          "execution_count": 68,
          "metadata": {},
          "output_type": "execute_result"
        }
      ],
      "source": [
        "wandb.login(key='b7eb615af6a52dbae061d01b05800a4b6683b47c', force=True)"
      ]
    },
    {
      "cell_type": "code",
      "execution_count": null,
      "metadata": {
        "colab": {
          "base_uri": "https://localhost:8080/",
          "height": 697,
          "referenced_widgets": [
            "319cd5feed844707bb634ca42d429d1c",
            "47453ccb444145f1a8166078321c6213",
            "f78f23a12a1a407598714bd32e12d54f",
            "b08d39cfd5e14f4ba9f967eb3de6a710",
            "5453693cd10445deadf6ab323e69c94a",
            "5ff4df5204304ba7bec0be33f3e80bc8",
            "83e0d2d81a774a548afe7c9179c0997a",
            "ca403f5e6b074a2a9fb91a6218cc7e94",
            "ab41f1b9dade45258d5d3c4c9c3942bf",
            "306dd9399a344485b5c39607a104d45e",
            "d5604461821e490999d64e4523a91873",
            "c8724f3357ff42dc92ad417c7f47bd23",
            "e92d87a055e84544bea102a80a062b2b",
            "584895fb1837408fa6a47366a7428660",
            "18cb947d118f478bb56843134441aacc",
            "95dc7a99c19f4690ab4beca79fbd3c79"
          ]
        },
        "id": "_4i5NAoA5wwn",
        "outputId": "a292a70b-01a2-45e7-edce-df6a072bc110"
      },
      "outputs": [
        {
          "data": {
            "text/html": [
              "Changes to your `wandb` environment variables will be ignored because your `wandb` session has already started. For more information on how to modify your settings with `wandb.init()` arguments, please refer to <a href='https://wandb.me/wandb-init' target=\"_blank\">the W&B docs</a>."
            ],
            "text/plain": [
              "<IPython.core.display.HTML object>"
            ]
          },
          "metadata": {},
          "output_type": "display_data"
        },
        {
          "name": "stderr",
          "output_type": "stream",
          "text": [
            "\u001b[34m\u001b[1mwandb\u001b[0m: \u001b[33mWARNING\u001b[0m Ignored wandb.init() arg project when running a sweep.\n"
          ]
        },
        {
          "data": {
            "text/html": [
              "Finishing last run (ID:lwk76fvj) before initializing another..."
            ],
            "text/plain": [
              "<IPython.core.display.HTML object>"
            ]
          },
          "metadata": {},
          "output_type": "display_data"
        },
        {
          "data": {
            "application/vnd.jupyter.widget-view+json": {
              "model_id": "319cd5feed844707bb634ca42d429d1c",
              "version_major": 2,
              "version_minor": 0
            },
            "text/plain": [
              "VBox(children=(Label(value='0.001 MB of 0.001 MB uploaded\\r'), FloatProgress(value=1.0, max=1.0)))"
            ]
          },
          "metadata": {},
          "output_type": "display_data"
        },
        {
          "data": {
            "text/html": [
              " View run <strong style=\"color:#cdcd00\">hopeful-sweep-10</strong> at: <a href='https://wandb.ai/aml-experiments/movenet-yoga-classifier/runs/lwk76fvj' target=\"_blank\">https://wandb.ai/aml-experiments/movenet-yoga-classifier/runs/lwk76fvj</a><br/> View project at: <a href='https://wandb.ai/aml-experiments/movenet-yoga-classifier' target=\"_blank\">https://wandb.ai/aml-experiments/movenet-yoga-classifier</a><br/>Synced 5 W&B file(s), 0 media file(s), 0 artifact file(s) and 0 other file(s)"
            ],
            "text/plain": [
              "<IPython.core.display.HTML object>"
            ]
          },
          "metadata": {},
          "output_type": "display_data"
        },
        {
          "data": {
            "text/html": [
              "Find logs at: <code>./wandb/run-20240415_174303-lwk76fvj/logs</code>"
            ],
            "text/plain": [
              "<IPython.core.display.HTML object>"
            ]
          },
          "metadata": {},
          "output_type": "display_data"
        },
        {
          "data": {
            "text/html": [
              "Successfully finished last run (ID:lwk76fvj). Initializing new run:<br/>"
            ],
            "text/plain": [
              "<IPython.core.display.HTML object>"
            ]
          },
          "metadata": {},
          "output_type": "display_data"
        },
        {
          "data": {
            "text/html": [
              "Tracking run with wandb version 0.16.6"
            ],
            "text/plain": [
              "<IPython.core.display.HTML object>"
            ]
          },
          "metadata": {},
          "output_type": "display_data"
        },
        {
          "data": {
            "text/html": [
              "Run data is saved locally in <code>/content/wandb/run-20240415_174613-lwk76fvj</code>"
            ],
            "text/plain": [
              "<IPython.core.display.HTML object>"
            ]
          },
          "metadata": {},
          "output_type": "display_data"
        },
        {
          "data": {
            "text/html": [
              "Syncing run <strong><a href='https://wandb.ai/aml-experiments/movenet-yoga-classifier/runs/lwk76fvj' target=\"_blank\">hopeful-sweep-10</a></strong> to <a href='https://wandb.ai/aml-experiments/movenet-yoga-classifier' target=\"_blank\">Weights & Biases</a> (<a href='https://wandb.me/run' target=\"_blank\">docs</a>)<br/>Sweep page: <a href='https://wandb.ai/aml-experiments/movenet-yoga-classifier/sweeps/8hka7sd9' target=\"_blank\">https://wandb.ai/aml-experiments/movenet-yoga-classifier/sweeps/8hka7sd9</a>"
            ],
            "text/plain": [
              "<IPython.core.display.HTML object>"
            ]
          },
          "metadata": {},
          "output_type": "display_data"
        },
        {
          "data": {
            "text/html": [
              " View project at <a href='https://wandb.ai/aml-experiments/movenet-yoga-classifier' target=\"_blank\">https://wandb.ai/aml-experiments/movenet-yoga-classifier</a>"
            ],
            "text/plain": [
              "<IPython.core.display.HTML object>"
            ]
          },
          "metadata": {},
          "output_type": "display_data"
        },
        {
          "data": {
            "text/html": [
              " View sweep at <a href='https://wandb.ai/aml-experiments/movenet-yoga-classifier/sweeps/8hka7sd9' target=\"_blank\">https://wandb.ai/aml-experiments/movenet-yoga-classifier/sweeps/8hka7sd9</a>"
            ],
            "text/plain": [
              "<IPython.core.display.HTML object>"
            ]
          },
          "metadata": {},
          "output_type": "display_data"
        },
        {
          "data": {
            "text/html": [
              " View run at <a href='https://wandb.ai/aml-experiments/movenet-yoga-classifier/runs/lwk76fvj' target=\"_blank\">https://wandb.ai/aml-experiments/movenet-yoga-classifier/runs/lwk76fvj</a>"
            ],
            "text/plain": [
              "<IPython.core.display.HTML object>"
            ]
          },
          "metadata": {},
          "output_type": "display_data"
        },
        {
          "name": "stderr",
          "output_type": "stream",
          "text": [
            "100%|██████████| 5/5 [00:22<00:00,  4.60s/it]\n"
          ]
        },
        {
          "data": {
            "application/vnd.jupyter.widget-view+json": {
              "model_id": "ab41f1b9dade45258d5d3c4c9c3942bf",
              "version_major": 2,
              "version_minor": 0
            },
            "text/plain": [
              "VBox(children=(Label(value='0.001 MB of 0.001 MB uploaded\\r'), FloatProgress(value=1.0, max=1.0)))"
            ]
          },
          "metadata": {},
          "output_type": "display_data"
        },
        {
          "data": {
            "text/html": [
              "<style>\n",
              "    table.wandb td:nth-child(1) { padding: 0 10px; text-align: left ; width: auto;} td:nth-child(2) {text-align: left ; width: 100%}\n",
              "    .wandb-row { display: flex; flex-direction: row; flex-wrap: wrap; justify-content: flex-start; width: 100% }\n",
              "    .wandb-col { display: flex; flex-direction: column; flex-basis: 100%; flex: 1; padding: 10px; }\n",
              "    </style>\n",
              "<div class=\"wandb-row\"><div class=\"wandb-col\"><h3>Run history:</h3><br/><table class=\"wandb\"><tr><td>epoch</td><td>▁▃▅▆█</td></tr><tr><td>inference_time</td><td>█▇▁▁▁</td></tr><tr><td>test_batch_acc</td><td>▂▁▁▁▁▁▁▂▁▄▄▃▃▄▄▄▂▄▄▄▄▄▄▅▇▆▆▆▇▆▆▆█▇▆▆▆▆▆▆</td></tr><tr><td>test_batch_loss</td><td>▄▅▄▆▄▄▅▇▄▅▃▄▃▄▄▃█▃▃▅▂▅▄▃▃▂▄▃▃▂▃▃▁▄▄▃▃▂▂▆</td></tr><tr><td>test_epoch_acc</td><td>▁▄▆██</td></tr><tr><td>test_epoch_loss</td><td>█▅▃▁▁</td></tr><tr><td>train_batch_acc</td><td>▁▂▂▃▃▄▄▄▆▆▆▆▆▆▆▆▇▇▇▇▇▇▇▇█▇▇▇▇███████████</td></tr><tr><td>train_batch_loss</td><td>█▇▇▅▄▅▆▅▄▆▆▂▂▃▆▄▅▃▅▃▄▅▅▁▅▁▇▄▂▅▁▂▃▃▃▂▅▃▂▃</td></tr><tr><td>train_epoch_acc</td><td>▁▅▆██</td></tr><tr><td>train_epoch_loss</td><td>█▄▂▂▁</td></tr><tr><td>train_time</td><td>▇▆█▁▁</td></tr></table><br/></div><div class=\"wandb-col\"><h3>Run summary:</h3><br/><table class=\"wandb\"><tr><td>epoch</td><td>4</td></tr><tr><td>inference_time</td><td>0.30745</td></tr><tr><td>test_batch_acc</td><td>0.41078</td></tr><tr><td>test_batch_loss</td><td>2.32296</td></tr><tr><td>test_epoch_acc</td><td>0.41078</td></tr><tr><td>test_epoch_loss</td><td>2.42953</td></tr><tr><td>train_batch_acc</td><td>0.27122</td></tr><tr><td>train_batch_loss</td><td>3.41023</td></tr><tr><td>train_epoch_acc</td><td>0.27122</td></tr><tr><td>train_epoch_loss</td><td>2.85252</td></tr><tr><td>train_time</td><td>3.06875</td></tr></table><br/></div></div>"
            ],
            "text/plain": [
              "<IPython.core.display.HTML object>"
            ]
          },
          "metadata": {},
          "output_type": "display_data"
        },
        {
          "data": {
            "text/html": [
              " View run <strong style=\"color:#cdcd00\">hopeful-sweep-10</strong> at: <a href='https://wandb.ai/aml-experiments/movenet-yoga-classifier/runs/lwk76fvj' target=\"_blank\">https://wandb.ai/aml-experiments/movenet-yoga-classifier/runs/lwk76fvj</a><br/> View project at: <a href='https://wandb.ai/aml-experiments/movenet-yoga-classifier' target=\"_blank\">https://wandb.ai/aml-experiments/movenet-yoga-classifier</a><br/>Synced 5 W&B file(s), 0 media file(s), 0 artifact file(s) and 0 other file(s)"
            ],
            "text/plain": [
              "<IPython.core.display.HTML object>"
            ]
          },
          "metadata": {},
          "output_type": "display_data"
        },
        {
          "data": {
            "text/html": [
              "Find logs at: <code>./wandb/run-20240415_174613-lwk76fvj/logs</code>"
            ],
            "text/plain": [
              "<IPython.core.display.HTML object>"
            ]
          },
          "metadata": {},
          "output_type": "display_data"
        }
      ],
      "source": [
        "config = ConfigDict(epochs=5,\n",
        "    batch_size=16,\n",
        "    dropout=0.5,\n",
        "    optimizer='adam',\n",
        "    learning_rate=0.005,\n",
        "    activation='relu')\n",
        "device = torch.device(\"cuda\" if torch.cuda.is_available() else \"cpu\")\n",
        "\n",
        "train(config=config, log_wandb=True, reinit=True)\n",
        "\n",
        "wandb.finish()"
      ]
    },
    {
      "cell_type": "markdown",
      "metadata": {
        "id": "2rfG21WrlNwp"
      },
      "source": [
        "## Tune Hyperparameters"
      ]
    },
    {
      "cell_type": "code",
      "execution_count": null,
      "metadata": {
        "id": "kNzT1zCNjp0X"
      },
      "outputs": [],
      "source": [
        "def sweep_train():\n",
        "    # Set default values\n",
        "    config = ConfigDict(epochs=10,\n",
        "              batch_size=16,\n",
        "              dropout=0.5,\n",
        "              optimizer='adam',\n",
        "              learning_rate=0.005,\n",
        "              activation='relu')\n",
        "    # Initialize wandb with a sample project name\n",
        "    wandb.init(config=config, project='movenet-yoga-classifier')  # this gets over-written in the Sweep\n",
        "    train(config=config)"
      ]
    },
    {
      "cell_type": "code",
      "execution_count": null,
      "metadata": {
        "colab": {
          "base_uri": "https://localhost:8080/",
          "height": 1000,
          "referenced_widgets": [
            "337bea660d064c518a3d505f9f7771f1",
            "a9cc28a4873d480c94057a2f3722a1ab",
            "bbc5a656b3a14348bfcc6ef708055bb7",
            "018b1b51f4224bfab364b603bd1f4676",
            "b01076843a254ea3a636b30b9a8f63f0",
            "6c9d2e1f98184d89af2f19de5a67fa89",
            "5b6a6157e4ee4618ab68a9b4d67eba10",
            "5e739abc6d9d4dbbb354d0cf1e38dbe6",
            "e5ac9dd4177f49ee8c87aa4db612fbe1",
            "14ca78b10b8d4e9793a9feafc734a1c8",
            "3db519907ba64a57ad0021a81a82f61d",
            "c509569b873843ff855757051b8d2d60",
            "33976f5b6e4e4734a2c994a421602b1e",
            "03857bf1634d4e728416d172676e87a7",
            "bdeb4025bbaf465da433e0350bcd67d5",
            "918e66e5b5e64ffbac76759dc3a1f53b",
            "4805c817b54f498486392b27c458b6e0",
            "932ac8ed07fa45779bfd44fe0a42c743",
            "8c0ecac34b8240c4822937cc58c97f88",
            "9d15cceaf0b14a4390e56041725071cf",
            "1f24d30d87c44b8a9be8b4bd2a19bf95",
            "ce21dece7bac458b9e91019af89ae84a",
            "032654b93900410780c0644b30f9211f",
            "8bf5749b6b8345c197ea469255cac2e4",
            "3af8495159ac4b39a1b2dedade5fb43c",
            "50c1f81c5de1424290abe0550bc33e5a",
            "5fcad0c8a71f4c9094a02d54120cce68",
            "fb1400995d4e4889a12fe9a9c1f33ede",
            "8d82ab6a91aa4a46a28ba4f56eaa4394",
            "5ca0bbd4ed1c43129639afe542a28e45",
            "3bd15fc524fe4d92a99cae599225c253",
            "be686f8e2a5e41e1a03a497bd77da712",
            "bc0eb1c7a5534c4ead6e07bcfa68088d",
            "da45c71a6ccc4f85bd6c119b5e0ac290",
            "12949c122e894738b151c4cd933cee0c",
            "29edf1c3e02d406fb3c5fc3676bc47be",
            "c6fb487f1db64ee697e2d027a4453cca",
            "fa95fbd6916243eabf766cbc49ff62a6",
            "08926a580ba54b6e84c2955973caa35b",
            "fa8982e4b3bc40f0b88e97b03f729803",
            "ad578ae10d814b5cb89e77a63d5d0261",
            "2ffcc891a82640cfac6ce2b7254180f8",
            "55dfe54841b540289f58928873abb6d7",
            "25ddb26b736e4274b7dae3fa3ba00e3f",
            "0e2c39e519d44ec5a0bfb0ff26dbb692",
            "45892a1e429c4ea7a5bf36b59524dde3",
            "ca31a39a07b548818efc2126782b0f8b",
            "a224276f453f42cc8c10c43f867c46eb",
            "1dfdd4aaee1d407bbd9821be81393ef0",
            "7a461dc161174b1a87606f11f30185f1",
            "9f603d6177454a01b62678632df1d00e",
            "5b7ac4df8c214c11a856c5b29d5fc6a4",
            "796a2cb10ccd4c0aa9700d6554bc5692",
            "b0683f47779e4927b06af5fc0795cdbd",
            "bde5ad8469fc4d33bfbc96c01dd053a3",
            "1ec45e7241154da291b1c871eebca3b4",
            "eb53bdab91724599b743669b97fab9e3",
            "1ce27870a0414f96aa8189c62990a7b3",
            "e6f4ac71a84a4439b930d71061da7a3e",
            "dadcb92f3e174675b222c61ebaa6cab1",
            "8b92e6223da0419faff4767f0224e528",
            "3ea49b6d71c74d1d88a61b370e7dfcd4",
            "dfa4aecdfe5e4a5eaa442a1745f3f48d",
            "8a033a8a314548eebc17168c68cb14e7",
            "72218ce5461c4648b2c90e7b02eeb12d",
            "2505ae465ab540d29d65198b4b2648b7",
            "0ad7514c162642be82ad9f52363bd013",
            "1f25ba927c664ce79d3dd2a23376f097",
            "5866c3bf32024e93a01b75e772cb9baa",
            "eeda90a7c357424ebdbc52fe71092f9c",
            "3197341de7aa4ce69777e72cda98eee6",
            "9856a15cafd54304884ad774e5f40087",
            "9b8fe8c94050414ca8829c47bd53f78a",
            "03ea841c9b9d4600a021dc4936b961ed",
            "8a4cf11a8c6a49b2978349db5431c837",
            "197b0c3d3b0148598d6f77821416b818",
            "e458edb755284f2cb54aa71b74ee1f3f",
            "ba89149e9760427fb3660b7fc3637c95",
            "e09a08300ff24785a940de1896baae96",
            "f2fa7c0626a746efa1621938a4b61d50",
            "1c233b5f2f5444f8bd50be8ab79a9a30",
            "db1e30bfbdc84720ab7c2b877586d66f",
            "3ef3df8e702d47e9852acafdfc9b1c16",
            "0b70fc1c788640cfa82ef4928c0c9b30",
            "427159430d904b8898443f4eee2b2962",
            "5bc7b75ae6384d4b86915fdd25ef9412",
            "150030ef066249acae15a54287be482f",
            "ba6d42ad6aec4dd69931d4ea308dc29e",
            "f0f9347711514994a7bdd24040d70245",
            "813db288a7c24b99999cfd759ed88e2c",
            "cdbae4bf38684c2c81f3c67751e242cb",
            "bbe883b08d3c4a44a05626d084d0b594",
            "02cd2fb660c34d9b87a46404a2e916f9",
            "60cd8a147a744e99bd667bae3bbaf213",
            "98d3d6b127a34aca8d162650a964473f",
            "975d8aaa898c4739a2ff52df0fee1161",
            "3137326208a8476fa1cbd9f8e76f5f5d",
            "a08ab4120b7d4485ab511a26da6271de",
            "97b1b7b0e198467285c9eb9100c9a4a1",
            "ac33dac23f1b4083b81e64754b8a127f",
            "082842dd23dd4d46b899c9de0727e592",
            "265dce819235498bb627f5805369d526",
            "74f63eb466bb4a4293715c59aed0ffab",
            "7902e318e19f4c39bfc20825349d3b16",
            "54226ec288ad423b864adcf15025b327",
            "a576d3bad646493daf80078d732355fd",
            "6268c495b3944dd492e6a2bf6a6c7846",
            "355fb1cf03e745f9bc64482727805b7e",
            "687426969b6249c1a8dd980aed9c55a9",
            "6ce91eb60cbb4c53bebf55f6202e1e97",
            "0c73a3c001fb4b6ba7054ebd8c215890",
            "8d1a9064480746e49d1647e5ef847bcd",
            "5aa0f5afe6294c8a89468adfefcc5521",
            "085e2d373f504664a5a206a2c0bbedea",
            "b7905b8a316449c4a587b0b9aaad7250",
            "928b9b9a0bba48ce9b1e078d381d7507",
            "33ee501812d046efad33340e00c352d3",
            "92b37704b22f489aaf210d383bd9168d",
            "49070cde9ebf4e25a9d141b205eb141a",
            "5edc6e8ae3054782935510a31c83100c",
            "9183ed74bd8849e78f384fd36fab7c20",
            "54e38759a20545329d505450b6b7c833",
            "665291528822432590de7c8778af4fc3",
            "779c668f435c41f4b9b21078c0958040",
            "fc67d39407c04a6ab42daffb19bbdecc",
            "b76746ae54734b72ab236d223c8ad87c",
            "009a9390fac843e08c303c5382411174",
            "3a9cc9e8ece74d48b4a8f42225be8148",
            "3122d95d0b4a4c0f884fbe47415edd97",
            "f92285f18b584d6f9eeafd08db68888f",
            "7e18bdaa1a274df58920157e3eb8da8b",
            "509f7c5c20cd4fcfb6fe15544588ca86",
            "2e07e20873f94912862e28155f25491c",
            "158c9c0950f84ddc9c5a67a8adf50e79",
            "92723d9a97814f30947045319f2dc3f0",
            "ce8db4af1c59495da50debf9331baedb",
            "bf2af93898894dcba97952665ce3b89f",
            "c289eb3e7cd54bbca4727e3729323a8b",
            "19f99643f1ee4040bf1502f7e85d4dd3",
            "5709fe8412b049ca8fa56a2b834eacf4",
            "db0e9f7aa7a24e88b18f2e2bb5fcba4a",
            "5a1ad2886c8d49c2a2a3f7251cc7dd74",
            "cf65f7b6b9024e40b447d22fc3940a34",
            "b504c7e06f984c4e89bc349da91966b7",
            "6e01781a56af4cd69649a59761d81589",
            "39700205ab674a79af7d7e3fcd700a64",
            "7ab778bfd0404273ab99f9787c61ceae",
            "2871a264f8424bf1ac5dbd411c562977",
            "2673c5d6ac9d453d9c00c7813bd73164",
            "738ad4a7c5e1427ba9d6feda6398dfc0",
            "16b4411ad01f4efbabee95f1c3a77b12",
            "89c4f2cf0f9b4d818340bd6ea25279d2",
            "fe000cf22f3c4ba09d391bf47ddc3077",
            "f7c7689351e64fa49dbb674d2538e3a7",
            "f72906360bfb4fff8157b4e21ffa2685",
            "c20340ce87dd48b7911c9c7a675bf656",
            "77a08fcaff2347e6a6a0060a1262c7a1",
            "4d5610990e5c4f1483f14fc2680fa606",
            "7c307dc479734a14ba821f5d408d9942",
            "215f7eb010b94b8c8acff654eeebb5fa",
            "59fa88b58f42454c90161db75136e237",
            "399a88d3f4fc4c61932321f9ff6b2189",
            "f5a2b62831b246f996318b72e4260339",
            "7fd4eb94ee6c46569eae939a1ae48cb7",
            "d19f9c47bfe84ce49bcae87ea05cffd4",
            "ceefb4ce20c04ba28fdfc93e5552e97c",
            "cd1049cec77c4c8eac9b9eb8a331cbaf",
            "68e7dd56d6d54cdb98ad46ed23fabae1"
          ]
        },
        "id": "8sw6XHzUngm3",
        "outputId": "8a551774-bacd-4399-a789-5e00800bbba3"
      },
      "outputs": [
        {
          "name": "stdout",
          "output_type": "stream",
          "text": [
            "Create sweep with ID: 8hka7sd9\n",
            "Sweep URL: https://wandb.ai/aml-experiments/movenet-yoga-classifier/sweeps/8hka7sd9\n"
          ]
        },
        {
          "name": "stderr",
          "output_type": "stream",
          "text": [
            "\u001b[34m\u001b[1mwandb\u001b[0m: Agent Starting Run: djwpz4j9 with config:\n",
            "\u001b[34m\u001b[1mwandb\u001b[0m: \tactivation: relu\n",
            "\u001b[34m\u001b[1mwandb\u001b[0m: \tbatch_size: 256\n",
            "\u001b[34m\u001b[1mwandb\u001b[0m: \tdropout: 0.7234188200318172\n",
            "\u001b[34m\u001b[1mwandb\u001b[0m: \tlearning_rate: 0.005\n",
            "\u001b[34m\u001b[1mwandb\u001b[0m: \toptimizer: adam\n",
            "\u001b[34m\u001b[1mwandb\u001b[0m: \u001b[33mWARNING\u001b[0m Ignored wandb.init() arg project when running a sweep.\n"
          ]
        },
        {
          "data": {
            "text/html": [
              "Tracking run with wandb version 0.16.6"
            ],
            "text/plain": [
              "<IPython.core.display.HTML object>"
            ]
          },
          "metadata": {},
          "output_type": "display_data"
        },
        {
          "data": {
            "text/html": [
              "Run data is saved locally in <code>/content/wandb/run-20240415_171408-djwpz4j9</code>"
            ],
            "text/plain": [
              "<IPython.core.display.HTML object>"
            ]
          },
          "metadata": {},
          "output_type": "display_data"
        },
        {
          "data": {
            "text/html": [
              "Syncing run <strong><a href='https://wandb.ai/aml-experiments/movenet-yoga-classifier/runs/djwpz4j9' target=\"_blank\">dauntless-sweep-1</a></strong> to <a href='https://wandb.ai/aml-experiments/movenet-yoga-classifier' target=\"_blank\">Weights & Biases</a> (<a href='https://wandb.me/run' target=\"_blank\">docs</a>)<br/>Sweep page: <a href='https://wandb.ai/aml-experiments/movenet-yoga-classifier/sweeps/8hka7sd9' target=\"_blank\">https://wandb.ai/aml-experiments/movenet-yoga-classifier/sweeps/8hka7sd9</a>"
            ],
            "text/plain": [
              "<IPython.core.display.HTML object>"
            ]
          },
          "metadata": {},
          "output_type": "display_data"
        },
        {
          "data": {
            "text/html": [
              " View project at <a href='https://wandb.ai/aml-experiments/movenet-yoga-classifier' target=\"_blank\">https://wandb.ai/aml-experiments/movenet-yoga-classifier</a>"
            ],
            "text/plain": [
              "<IPython.core.display.HTML object>"
            ]
          },
          "metadata": {},
          "output_type": "display_data"
        },
        {
          "data": {
            "text/html": [
              " View sweep at <a href='https://wandb.ai/aml-experiments/movenet-yoga-classifier/sweeps/8hka7sd9' target=\"_blank\">https://wandb.ai/aml-experiments/movenet-yoga-classifier/sweeps/8hka7sd9</a>"
            ],
            "text/plain": [
              "<IPython.core.display.HTML object>"
            ]
          },
          "metadata": {},
          "output_type": "display_data"
        },
        {
          "data": {
            "text/html": [
              " View run at <a href='https://wandb.ai/aml-experiments/movenet-yoga-classifier/runs/djwpz4j9' target=\"_blank\">https://wandb.ai/aml-experiments/movenet-yoga-classifier/runs/djwpz4j9</a>"
            ],
            "text/plain": [
              "<IPython.core.display.HTML object>"
            ]
          },
          "metadata": {},
          "output_type": "display_data"
        },
        {
          "name": "stderr",
          "output_type": "stream",
          "text": [
            "\u001b[34m\u001b[1mwandb\u001b[0m: \u001b[33mWARNING\u001b[0m Ignored wandb.init() arg project when running a sweep.\n"
          ]
        },
        {
          "data": {
            "text/html": [
              "Finishing last run (ID:djwpz4j9) before initializing another..."
            ],
            "text/plain": [
              "<IPython.core.display.HTML object>"
            ]
          },
          "metadata": {},
          "output_type": "display_data"
        },
        {
          "data": {
            "application/vnd.jupyter.widget-view+json": {
              "model_id": "337bea660d064c518a3d505f9f7771f1",
              "version_major": 2,
              "version_minor": 0
            },
            "text/plain": [
              "VBox(children=(Label(value='0.001 MB of 0.001 MB uploaded\\r'), FloatProgress(value=1.0, max=1.0)))"
            ]
          },
          "metadata": {},
          "output_type": "display_data"
        },
        {
          "data": {
            "text/html": [
              " View run <strong style=\"color:#cdcd00\">dauntless-sweep-1</strong> at: <a href='https://wandb.ai/aml-experiments/movenet-yoga-classifier/runs/djwpz4j9' target=\"_blank\">https://wandb.ai/aml-experiments/movenet-yoga-classifier/runs/djwpz4j9</a><br/> View project at: <a href='https://wandb.ai/aml-experiments/movenet-yoga-classifier' target=\"_blank\">https://wandb.ai/aml-experiments/movenet-yoga-classifier</a><br/>Synced 5 W&B file(s), 0 media file(s), 0 artifact file(s) and 0 other file(s)"
            ],
            "text/plain": [
              "<IPython.core.display.HTML object>"
            ]
          },
          "metadata": {},
          "output_type": "display_data"
        },
        {
          "data": {
            "text/html": [
              "Find logs at: <code>./wandb/run-20240415_171408-djwpz4j9/logs</code>"
            ],
            "text/plain": [
              "<IPython.core.display.HTML object>"
            ]
          },
          "metadata": {},
          "output_type": "display_data"
        },
        {
          "data": {
            "text/html": [
              "Successfully finished last run (ID:djwpz4j9). Initializing new run:<br/>"
            ],
            "text/plain": [
              "<IPython.core.display.HTML object>"
            ]
          },
          "metadata": {},
          "output_type": "display_data"
        },
        {
          "data": {
            "text/html": [
              "Tracking run with wandb version 0.16.6"
            ],
            "text/plain": [
              "<IPython.core.display.HTML object>"
            ]
          },
          "metadata": {},
          "output_type": "display_data"
        },
        {
          "data": {
            "text/html": [
              "Run data is saved locally in <code>/content/wandb/run-20240415_171410-djwpz4j9</code>"
            ],
            "text/plain": [
              "<IPython.core.display.HTML object>"
            ]
          },
          "metadata": {},
          "output_type": "display_data"
        },
        {
          "data": {
            "text/html": [
              "Syncing run <strong><a href='https://wandb.ai/aml-experiments/movenet-yoga-classifier/runs/djwpz4j9' target=\"_blank\">dauntless-sweep-1</a></strong> to <a href='https://wandb.ai/aml-experiments/movenet-yoga-classifier' target=\"_blank\">Weights & Biases</a> (<a href='https://wandb.me/run' target=\"_blank\">docs</a>)<br/>Sweep page: <a href='https://wandb.ai/aml-experiments/movenet-yoga-classifier/sweeps/8hka7sd9' target=\"_blank\">https://wandb.ai/aml-experiments/movenet-yoga-classifier/sweeps/8hka7sd9</a>"
            ],
            "text/plain": [
              "<IPython.core.display.HTML object>"
            ]
          },
          "metadata": {},
          "output_type": "display_data"
        },
        {
          "data": {
            "text/html": [
              " View project at <a href='https://wandb.ai/aml-experiments/movenet-yoga-classifier' target=\"_blank\">https://wandb.ai/aml-experiments/movenet-yoga-classifier</a>"
            ],
            "text/plain": [
              "<IPython.core.display.HTML object>"
            ]
          },
          "metadata": {},
          "output_type": "display_data"
        },
        {
          "data": {
            "text/html": [
              " View sweep at <a href='https://wandb.ai/aml-experiments/movenet-yoga-classifier/sweeps/8hka7sd9' target=\"_blank\">https://wandb.ai/aml-experiments/movenet-yoga-classifier/sweeps/8hka7sd9</a>"
            ],
            "text/plain": [
              "<IPython.core.display.HTML object>"
            ]
          },
          "metadata": {},
          "output_type": "display_data"
        },
        {
          "data": {
            "text/html": [
              " View run at <a href='https://wandb.ai/aml-experiments/movenet-yoga-classifier/runs/djwpz4j9' target=\"_blank\">https://wandb.ai/aml-experiments/movenet-yoga-classifier/runs/djwpz4j9</a>"
            ],
            "text/plain": [
              "<IPython.core.display.HTML object>"
            ]
          },
          "metadata": {},
          "output_type": "display_data"
        },
        {
          "name": "stderr",
          "output_type": "stream",
          "text": [
            "100%|██████████| 10/10 [00:49<00:00,  4.91s/it]\n"
          ]
        },
        {
          "data": {
            "application/vnd.jupyter.widget-view+json": {
              "model_id": "e5ac9dd4177f49ee8c87aa4db612fbe1",
              "version_major": 2,
              "version_minor": 0
            },
            "text/plain": [
              "VBox(children=(Label(value='0.001 MB of 0.001 MB uploaded\\r'), FloatProgress(value=1.0, max=1.0)))"
            ]
          },
          "metadata": {},
          "output_type": "display_data"
        },
        {
          "data": {
            "text/html": [
              "<style>\n",
              "    table.wandb td:nth-child(1) { padding: 0 10px; text-align: left ; width: auto;} td:nth-child(2) {text-align: left ; width: 100%}\n",
              "    .wandb-row { display: flex; flex-direction: row; flex-wrap: wrap; justify-content: flex-start; width: 100% }\n",
              "    .wandb-col { display: flex; flex-direction: column; flex-basis: 100%; flex: 1; padding: 10px; }\n",
              "    </style>\n",
              "<div class=\"wandb-row\"><div class=\"wandb-col\"><h3>Run history:</h3><br/><table class=\"wandb\"><tr><td>epoch</td><td>▁▂▃▃▄▅▆▆▇█</td></tr><tr><td>inference_time</td><td>▅▁▆▂▂█▅▁▂▄</td></tr><tr><td>test_batch_acc</td><td>▁▁▁▁▇▃▃▃▅▅▅▅▅▅▅▅▅▅▆▅▆▆▇▆█▇▇▆▇▇▇▇▆▆▇▆▇▇▇▇</td></tr><tr><td>test_batch_loss</td><td>█▆▄▄▄▄▅▅▃▆▄▅▄▅▅▃▅▃▂▄▄▃▄▄▄▃▂▆▄▄▄▃▁▅▆▅▃▄▃▃</td></tr><tr><td>test_epoch_acc</td><td>▁▃▅▆▆▇██▇█</td></tr><tr><td>test_epoch_loss</td><td>█▅▄▄▃▂▁▁▁▁</td></tr><tr><td>train_batch_acc</td><td>▁▂▃▃▅▅▆▆▆▆▆▆▆▆▇▇▇▇▇▇█▇▇▇████████████████</td></tr><tr><td>train_batch_loss</td><td>█▇▆▃▂▃▆▆▄▃▂▅▂▃▅▃▃▄▃▃▃▃▁▂▁▁▄▄▆▂▄▃▂▅▃▁▃▄▅▆</td></tr><tr><td>train_epoch_acc</td><td>▁▅▅▆▇▇████</td></tr><tr><td>train_epoch_loss</td><td>█▄▃▃▂▂▂▁▁▁</td></tr><tr><td>train_time</td><td>█▂▁▂▁▁▃▂▂▃</td></tr></table><br/></div><div class=\"wandb-col\"><h3>Run summary:</h3><br/><table class=\"wandb\"><tr><td>epoch</td><td>9</td></tr><tr><td>inference_time</td><td>0.53534</td></tr><tr><td>test_batch_acc</td><td>0.42635</td></tr><tr><td>test_batch_loss</td><td>2.24853</td></tr><tr><td>test_epoch_acc</td><td>0.42635</td></tr><tr><td>test_epoch_loss</td><td>2.30455</td></tr><tr><td>train_batch_acc</td><td>0.28447</td></tr><tr><td>train_batch_loss</td><td>2.91876</td></tr><tr><td>train_epoch_acc</td><td>0.28447</td></tr><tr><td>train_epoch_loss</td><td>2.77781</td></tr><tr><td>train_time</td><td>4.66269</td></tr></table><br/></div></div>"
            ],
            "text/plain": [
              "<IPython.core.display.HTML object>"
            ]
          },
          "metadata": {},
          "output_type": "display_data"
        },
        {
          "data": {
            "text/html": [
              " View run <strong style=\"color:#cdcd00\">dauntless-sweep-1</strong> at: <a href='https://wandb.ai/aml-experiments/movenet-yoga-classifier/runs/djwpz4j9' target=\"_blank\">https://wandb.ai/aml-experiments/movenet-yoga-classifier/runs/djwpz4j9</a><br/> View project at: <a href='https://wandb.ai/aml-experiments/movenet-yoga-classifier' target=\"_blank\">https://wandb.ai/aml-experiments/movenet-yoga-classifier</a><br/>Synced 5 W&B file(s), 0 media file(s), 0 artifact file(s) and 0 other file(s)"
            ],
            "text/plain": [
              "<IPython.core.display.HTML object>"
            ]
          },
          "metadata": {},
          "output_type": "display_data"
        },
        {
          "data": {
            "text/html": [
              "Find logs at: <code>./wandb/run-20240415_171410-djwpz4j9/logs</code>"
            ],
            "text/plain": [
              "<IPython.core.display.HTML object>"
            ]
          },
          "metadata": {},
          "output_type": "display_data"
        },
        {
          "name": "stderr",
          "output_type": "stream",
          "text": [
            "\u001b[34m\u001b[1mwandb\u001b[0m: Agent Starting Run: ly6g97y7 with config:\n",
            "\u001b[34m\u001b[1mwandb\u001b[0m: \tactivation: tanh\n",
            "\u001b[34m\u001b[1mwandb\u001b[0m: \tbatch_size: 16\n",
            "\u001b[34m\u001b[1mwandb\u001b[0m: \tdropout: 0.9183320408235156\n",
            "\u001b[34m\u001b[1mwandb\u001b[0m: \tlearning_rate: 0.0005\n",
            "\u001b[34m\u001b[1mwandb\u001b[0m: \toptimizer: adam\n",
            "\u001b[34m\u001b[1mwandb\u001b[0m: \u001b[33mWARNING\u001b[0m Ignored wandb.init() arg project when running a sweep.\n"
          ]
        },
        {
          "data": {
            "text/html": [
              "Tracking run with wandb version 0.16.6"
            ],
            "text/plain": [
              "<IPython.core.display.HTML object>"
            ]
          },
          "metadata": {},
          "output_type": "display_data"
        },
        {
          "data": {
            "text/html": [
              "Run data is saved locally in <code>/content/wandb/run-20240415_171514-ly6g97y7</code>"
            ],
            "text/plain": [
              "<IPython.core.display.HTML object>"
            ]
          },
          "metadata": {},
          "output_type": "display_data"
        },
        {
          "data": {
            "text/html": [
              "Syncing run <strong><a href='https://wandb.ai/aml-experiments/movenet-yoga-classifier/runs/ly6g97y7' target=\"_blank\">dazzling-sweep-2</a></strong> to <a href='https://wandb.ai/aml-experiments/movenet-yoga-classifier' target=\"_blank\">Weights & Biases</a> (<a href='https://wandb.me/run' target=\"_blank\">docs</a>)<br/>Sweep page: <a href='https://wandb.ai/aml-experiments/movenet-yoga-classifier/sweeps/8hka7sd9' target=\"_blank\">https://wandb.ai/aml-experiments/movenet-yoga-classifier/sweeps/8hka7sd9</a>"
            ],
            "text/plain": [
              "<IPython.core.display.HTML object>"
            ]
          },
          "metadata": {},
          "output_type": "display_data"
        },
        {
          "data": {
            "text/html": [
              " View project at <a href='https://wandb.ai/aml-experiments/movenet-yoga-classifier' target=\"_blank\">https://wandb.ai/aml-experiments/movenet-yoga-classifier</a>"
            ],
            "text/plain": [
              "<IPython.core.display.HTML object>"
            ]
          },
          "metadata": {},
          "output_type": "display_data"
        },
        {
          "data": {
            "text/html": [
              " View sweep at <a href='https://wandb.ai/aml-experiments/movenet-yoga-classifier/sweeps/8hka7sd9' target=\"_blank\">https://wandb.ai/aml-experiments/movenet-yoga-classifier/sweeps/8hka7sd9</a>"
            ],
            "text/plain": [
              "<IPython.core.display.HTML object>"
            ]
          },
          "metadata": {},
          "output_type": "display_data"
        },
        {
          "data": {
            "text/html": [
              " View run at <a href='https://wandb.ai/aml-experiments/movenet-yoga-classifier/runs/ly6g97y7' target=\"_blank\">https://wandb.ai/aml-experiments/movenet-yoga-classifier/runs/ly6g97y7</a>"
            ],
            "text/plain": [
              "<IPython.core.display.HTML object>"
            ]
          },
          "metadata": {},
          "output_type": "display_data"
        },
        {
          "name": "stderr",
          "output_type": "stream",
          "text": [
            "\u001b[34m\u001b[1mwandb\u001b[0m: \u001b[33mWARNING\u001b[0m Ignored wandb.init() arg project when running a sweep.\n"
          ]
        },
        {
          "data": {
            "text/html": [
              "Finishing last run (ID:ly6g97y7) before initializing another..."
            ],
            "text/plain": [
              "<IPython.core.display.HTML object>"
            ]
          },
          "metadata": {},
          "output_type": "display_data"
        },
        {
          "data": {
            "application/vnd.jupyter.widget-view+json": {
              "model_id": "4805c817b54f498486392b27c458b6e0",
              "version_major": 2,
              "version_minor": 0
            },
            "text/plain": [
              "VBox(children=(Label(value='0.001 MB of 0.001 MB uploaded\\r'), FloatProgress(value=1.0, max=1.0)))"
            ]
          },
          "metadata": {},
          "output_type": "display_data"
        },
        {
          "data": {
            "text/html": [
              " View run <strong style=\"color:#cdcd00\">dazzling-sweep-2</strong> at: <a href='https://wandb.ai/aml-experiments/movenet-yoga-classifier/runs/ly6g97y7' target=\"_blank\">https://wandb.ai/aml-experiments/movenet-yoga-classifier/runs/ly6g97y7</a><br/> View project at: <a href='https://wandb.ai/aml-experiments/movenet-yoga-classifier' target=\"_blank\">https://wandb.ai/aml-experiments/movenet-yoga-classifier</a><br/>Synced 5 W&B file(s), 0 media file(s), 0 artifact file(s) and 0 other file(s)"
            ],
            "text/plain": [
              "<IPython.core.display.HTML object>"
            ]
          },
          "metadata": {},
          "output_type": "display_data"
        },
        {
          "data": {
            "text/html": [
              "Find logs at: <code>./wandb/run-20240415_171514-ly6g97y7/logs</code>"
            ],
            "text/plain": [
              "<IPython.core.display.HTML object>"
            ]
          },
          "metadata": {},
          "output_type": "display_data"
        },
        {
          "data": {
            "text/html": [
              "Successfully finished last run (ID:ly6g97y7). Initializing new run:<br/>"
            ],
            "text/plain": [
              "<IPython.core.display.HTML object>"
            ]
          },
          "metadata": {},
          "output_type": "display_data"
        },
        {
          "data": {
            "text/html": [
              "Tracking run with wandb version 0.16.6"
            ],
            "text/plain": [
              "<IPython.core.display.HTML object>"
            ]
          },
          "metadata": {},
          "output_type": "display_data"
        },
        {
          "data": {
            "text/html": [
              "Run data is saved locally in <code>/content/wandb/run-20240415_171516-ly6g97y7</code>"
            ],
            "text/plain": [
              "<IPython.core.display.HTML object>"
            ]
          },
          "metadata": {},
          "output_type": "display_data"
        },
        {
          "data": {
            "text/html": [
              "Syncing run <strong><a href='https://wandb.ai/aml-experiments/movenet-yoga-classifier/runs/ly6g97y7' target=\"_blank\">dazzling-sweep-2</a></strong> to <a href='https://wandb.ai/aml-experiments/movenet-yoga-classifier' target=\"_blank\">Weights & Biases</a> (<a href='https://wandb.me/run' target=\"_blank\">docs</a>)<br/>Sweep page: <a href='https://wandb.ai/aml-experiments/movenet-yoga-classifier/sweeps/8hka7sd9' target=\"_blank\">https://wandb.ai/aml-experiments/movenet-yoga-classifier/sweeps/8hka7sd9</a>"
            ],
            "text/plain": [
              "<IPython.core.display.HTML object>"
            ]
          },
          "metadata": {},
          "output_type": "display_data"
        },
        {
          "data": {
            "text/html": [
              " View project at <a href='https://wandb.ai/aml-experiments/movenet-yoga-classifier' target=\"_blank\">https://wandb.ai/aml-experiments/movenet-yoga-classifier</a>"
            ],
            "text/plain": [
              "<IPython.core.display.HTML object>"
            ]
          },
          "metadata": {},
          "output_type": "display_data"
        },
        {
          "data": {
            "text/html": [
              " View sweep at <a href='https://wandb.ai/aml-experiments/movenet-yoga-classifier/sweeps/8hka7sd9' target=\"_blank\">https://wandb.ai/aml-experiments/movenet-yoga-classifier/sweeps/8hka7sd9</a>"
            ],
            "text/plain": [
              "<IPython.core.display.HTML object>"
            ]
          },
          "metadata": {},
          "output_type": "display_data"
        },
        {
          "data": {
            "text/html": [
              " View run at <a href='https://wandb.ai/aml-experiments/movenet-yoga-classifier/runs/ly6g97y7' target=\"_blank\">https://wandb.ai/aml-experiments/movenet-yoga-classifier/runs/ly6g97y7</a>"
            ],
            "text/plain": [
              "<IPython.core.display.HTML object>"
            ]
          },
          "metadata": {},
          "output_type": "display_data"
        },
        {
          "name": "stderr",
          "output_type": "stream",
          "text": [
            "100%|██████████| 10/10 [00:45<00:00,  4.58s/it]\n"
          ]
        },
        {
          "data": {
            "application/vnd.jupyter.widget-view+json": {
              "model_id": "3af8495159ac4b39a1b2dedade5fb43c",
              "version_major": 2,
              "version_minor": 0
            },
            "text/plain": [
              "VBox(children=(Label(value='0.001 MB of 0.001 MB uploaded\\r'), FloatProgress(value=1.0, max=1.0)))"
            ]
          },
          "metadata": {},
          "output_type": "display_data"
        },
        {
          "data": {
            "text/html": [
              "<style>\n",
              "    table.wandb td:nth-child(1) { padding: 0 10px; text-align: left ; width: auto;} td:nth-child(2) {text-align: left ; width: 100%}\n",
              "    .wandb-row { display: flex; flex-direction: row; flex-wrap: wrap; justify-content: flex-start; width: 100% }\n",
              "    .wandb-col { display: flex; flex-direction: column; flex-basis: 100%; flex: 1; padding: 10px; }\n",
              "    </style>\n",
              "<div class=\"wandb-row\"><div class=\"wandb-col\"><h3>Run history:</h3><br/><table class=\"wandb\"><tr><td>epoch</td><td>▁▂▃▃▄▅▆▆▇█</td></tr><tr><td>inference_time</td><td>▁▁▁▅▃▅▃▇▄█</td></tr><tr><td>test_batch_acc</td><td>▁▂▁▁▅▃▃▃▅▄▄▄▆▅▅▅▇▆▇▆▇▆▆▆▅▆▆▆█▆▆▆▆▇▆▆▆▆▆▆</td></tr><tr><td>test_batch_loss</td><td>▇▆▇▆▄▇▇▅▇▃▄▄▁▂▃▅▂▁▃▂▃▁▃▆▂▅▅▂▁▆▄▆▃▅█▄▃▆▄▇</td></tr><tr><td>test_epoch_acc</td><td>▁▃▅▆█▇▇███</td></tr><tr><td>test_epoch_loss</td><td>█▆▄▃▂▂▁▁▁▁</td></tr><tr><td>train_batch_acc</td><td>▁▂▃▃▅▅▅▅▆▆▆▆▇▇▇▇▇▇▇▇▇▇▇▇████████████████</td></tr><tr><td>train_batch_loss</td><td>▆▆▅▅▂█▃▄▄▄▆▄▃▂▄▄▂▃▆▃▆▃▆▄▄▄▁▃▂▃▃▄▆▄▃▃▄▂▃▂</td></tr><tr><td>train_epoch_acc</td><td>▁▄▆▆▇▇████</td></tr><tr><td>train_epoch_loss</td><td>█▄▃▂▂▂▁▁▁▁</td></tr><tr><td>train_time</td><td>▂▁▁▇▂▂▃▂█▅</td></tr></table><br/></div><div class=\"wandb-col\"><h3>Run summary:</h3><br/><table class=\"wandb\"><tr><td>epoch</td><td>9</td></tr><tr><td>inference_time</td><td>0.70976</td></tr><tr><td>test_batch_acc</td><td>0.42196</td></tr><tr><td>test_batch_loss</td><td>2.21446</td></tr><tr><td>test_epoch_acc</td><td>0.42196</td></tr><tr><td>test_epoch_loss</td><td>2.34244</td></tr><tr><td>train_batch_acc</td><td>0.29525</td></tr><tr><td>train_batch_loss</td><td>3.31984</td></tr><tr><td>train_epoch_acc</td><td>0.29525</td></tr><tr><td>train_epoch_loss</td><td>2.76172</td></tr><tr><td>train_time</td><td>4.78214</td></tr></table><br/></div></div>"
            ],
            "text/plain": [
              "<IPython.core.display.HTML object>"
            ]
          },
          "metadata": {},
          "output_type": "display_data"
        },
        {
          "data": {
            "text/html": [
              " View run <strong style=\"color:#cdcd00\">dazzling-sweep-2</strong> at: <a href='https://wandb.ai/aml-experiments/movenet-yoga-classifier/runs/ly6g97y7' target=\"_blank\">https://wandb.ai/aml-experiments/movenet-yoga-classifier/runs/ly6g97y7</a><br/> View project at: <a href='https://wandb.ai/aml-experiments/movenet-yoga-classifier' target=\"_blank\">https://wandb.ai/aml-experiments/movenet-yoga-classifier</a><br/>Synced 5 W&B file(s), 0 media file(s), 0 artifact file(s) and 0 other file(s)"
            ],
            "text/plain": [
              "<IPython.core.display.HTML object>"
            ]
          },
          "metadata": {},
          "output_type": "display_data"
        },
        {
          "data": {
            "text/html": [
              "Find logs at: <code>./wandb/run-20240415_171516-ly6g97y7/logs</code>"
            ],
            "text/plain": [
              "<IPython.core.display.HTML object>"
            ]
          },
          "metadata": {},
          "output_type": "display_data"
        },
        {
          "name": "stderr",
          "output_type": "stream",
          "text": [
            "\u001b[34m\u001b[1mwandb\u001b[0m: Agent Starting Run: f6bnoeyn with config:\n",
            "\u001b[34m\u001b[1mwandb\u001b[0m: \tactivation: relu\n",
            "\u001b[34m\u001b[1mwandb\u001b[0m: \tbatch_size: 16\n",
            "\u001b[34m\u001b[1mwandb\u001b[0m: \tdropout: 0.5053302128831818\n",
            "\u001b[34m\u001b[1mwandb\u001b[0m: \tlearning_rate: 0.005\n",
            "\u001b[34m\u001b[1mwandb\u001b[0m: \toptimizer: adam\n",
            "\u001b[34m\u001b[1mwandb\u001b[0m: \u001b[33mWARNING\u001b[0m Ignored wandb.init() arg project when running a sweep.\n"
          ]
        },
        {
          "data": {
            "application/vnd.jupyter.widget-view+json": {
              "model_id": "bc0eb1c7a5534c4ead6e07bcfa68088d",
              "version_major": 2,
              "version_minor": 0
            },
            "text/plain": [
              "VBox(children=(Label(value='Waiting for wandb.init()...\\r'), FloatProgress(value=0.011112681944450743, max=1.0…"
            ]
          },
          "metadata": {},
          "output_type": "display_data"
        },
        {
          "data": {
            "text/html": [
              "Tracking run with wandb version 0.16.6"
            ],
            "text/plain": [
              "<IPython.core.display.HTML object>"
            ]
          },
          "metadata": {},
          "output_type": "display_data"
        },
        {
          "data": {
            "text/html": [
              "Run data is saved locally in <code>/content/wandb/run-20240415_171620-f6bnoeyn</code>"
            ],
            "text/plain": [
              "<IPython.core.display.HTML object>"
            ]
          },
          "metadata": {},
          "output_type": "display_data"
        },
        {
          "data": {
            "text/html": [
              "Syncing run <strong><a href='https://wandb.ai/aml-experiments/movenet-yoga-classifier/runs/f6bnoeyn' target=\"_blank\">drawn-sweep-3</a></strong> to <a href='https://wandb.ai/aml-experiments/movenet-yoga-classifier' target=\"_blank\">Weights & Biases</a> (<a href='https://wandb.me/run' target=\"_blank\">docs</a>)<br/>Sweep page: <a href='https://wandb.ai/aml-experiments/movenet-yoga-classifier/sweeps/8hka7sd9' target=\"_blank\">https://wandb.ai/aml-experiments/movenet-yoga-classifier/sweeps/8hka7sd9</a>"
            ],
            "text/plain": [
              "<IPython.core.display.HTML object>"
            ]
          },
          "metadata": {},
          "output_type": "display_data"
        },
        {
          "data": {
            "text/html": [
              " View project at <a href='https://wandb.ai/aml-experiments/movenet-yoga-classifier' target=\"_blank\">https://wandb.ai/aml-experiments/movenet-yoga-classifier</a>"
            ],
            "text/plain": [
              "<IPython.core.display.HTML object>"
            ]
          },
          "metadata": {},
          "output_type": "display_data"
        },
        {
          "data": {
            "text/html": [
              " View sweep at <a href='https://wandb.ai/aml-experiments/movenet-yoga-classifier/sweeps/8hka7sd9' target=\"_blank\">https://wandb.ai/aml-experiments/movenet-yoga-classifier/sweeps/8hka7sd9</a>"
            ],
            "text/plain": [
              "<IPython.core.display.HTML object>"
            ]
          },
          "metadata": {},
          "output_type": "display_data"
        },
        {
          "data": {
            "text/html": [
              " View run at <a href='https://wandb.ai/aml-experiments/movenet-yoga-classifier/runs/f6bnoeyn' target=\"_blank\">https://wandb.ai/aml-experiments/movenet-yoga-classifier/runs/f6bnoeyn</a>"
            ],
            "text/plain": [
              "<IPython.core.display.HTML object>"
            ]
          },
          "metadata": {},
          "output_type": "display_data"
        },
        {
          "name": "stderr",
          "output_type": "stream",
          "text": [
            "\u001b[34m\u001b[1mwandb\u001b[0m: \u001b[33mWARNING\u001b[0m Ignored wandb.init() arg project when running a sweep.\n"
          ]
        },
        {
          "data": {
            "text/html": [
              "Finishing last run (ID:f6bnoeyn) before initializing another..."
            ],
            "text/plain": [
              "<IPython.core.display.HTML object>"
            ]
          },
          "metadata": {},
          "output_type": "display_data"
        },
        {
          "data": {
            "application/vnd.jupyter.widget-view+json": {
              "model_id": "ad578ae10d814b5cb89e77a63d5d0261",
              "version_major": 2,
              "version_minor": 0
            },
            "text/plain": [
              "VBox(children=(Label(value='0.001 MB of 0.001 MB uploaded\\r'), FloatProgress(value=1.0, max=1.0)))"
            ]
          },
          "metadata": {},
          "output_type": "display_data"
        },
        {
          "data": {
            "text/html": [
              " View run <strong style=\"color:#cdcd00\">drawn-sweep-3</strong> at: <a href='https://wandb.ai/aml-experiments/movenet-yoga-classifier/runs/f6bnoeyn' target=\"_blank\">https://wandb.ai/aml-experiments/movenet-yoga-classifier/runs/f6bnoeyn</a><br/> View project at: <a href='https://wandb.ai/aml-experiments/movenet-yoga-classifier' target=\"_blank\">https://wandb.ai/aml-experiments/movenet-yoga-classifier</a><br/>Synced 5 W&B file(s), 0 media file(s), 0 artifact file(s) and 0 other file(s)"
            ],
            "text/plain": [
              "<IPython.core.display.HTML object>"
            ]
          },
          "metadata": {},
          "output_type": "display_data"
        },
        {
          "data": {
            "text/html": [
              "Find logs at: <code>./wandb/run-20240415_171620-f6bnoeyn/logs</code>"
            ],
            "text/plain": [
              "<IPython.core.display.HTML object>"
            ]
          },
          "metadata": {},
          "output_type": "display_data"
        },
        {
          "data": {
            "text/html": [
              "Successfully finished last run (ID:f6bnoeyn). Initializing new run:<br/>"
            ],
            "text/plain": [
              "<IPython.core.display.HTML object>"
            ]
          },
          "metadata": {},
          "output_type": "display_data"
        },
        {
          "data": {
            "text/html": [
              "Tracking run with wandb version 0.16.6"
            ],
            "text/plain": [
              "<IPython.core.display.HTML object>"
            ]
          },
          "metadata": {},
          "output_type": "display_data"
        },
        {
          "data": {
            "text/html": [
              "Run data is saved locally in <code>/content/wandb/run-20240415_171623-f6bnoeyn</code>"
            ],
            "text/plain": [
              "<IPython.core.display.HTML object>"
            ]
          },
          "metadata": {},
          "output_type": "display_data"
        },
        {
          "data": {
            "text/html": [
              "Syncing run <strong><a href='https://wandb.ai/aml-experiments/movenet-yoga-classifier/runs/f6bnoeyn' target=\"_blank\">drawn-sweep-3</a></strong> to <a href='https://wandb.ai/aml-experiments/movenet-yoga-classifier' target=\"_blank\">Weights & Biases</a> (<a href='https://wandb.me/run' target=\"_blank\">docs</a>)<br/>Sweep page: <a href='https://wandb.ai/aml-experiments/movenet-yoga-classifier/sweeps/8hka7sd9' target=\"_blank\">https://wandb.ai/aml-experiments/movenet-yoga-classifier/sweeps/8hka7sd9</a>"
            ],
            "text/plain": [
              "<IPython.core.display.HTML object>"
            ]
          },
          "metadata": {},
          "output_type": "display_data"
        },
        {
          "data": {
            "text/html": [
              " View project at <a href='https://wandb.ai/aml-experiments/movenet-yoga-classifier' target=\"_blank\">https://wandb.ai/aml-experiments/movenet-yoga-classifier</a>"
            ],
            "text/plain": [
              "<IPython.core.display.HTML object>"
            ]
          },
          "metadata": {},
          "output_type": "display_data"
        },
        {
          "data": {
            "text/html": [
              " View sweep at <a href='https://wandb.ai/aml-experiments/movenet-yoga-classifier/sweeps/8hka7sd9' target=\"_blank\">https://wandb.ai/aml-experiments/movenet-yoga-classifier/sweeps/8hka7sd9</a>"
            ],
            "text/plain": [
              "<IPython.core.display.HTML object>"
            ]
          },
          "metadata": {},
          "output_type": "display_data"
        },
        {
          "data": {
            "text/html": [
              " View run at <a href='https://wandb.ai/aml-experiments/movenet-yoga-classifier/runs/f6bnoeyn' target=\"_blank\">https://wandb.ai/aml-experiments/movenet-yoga-classifier/runs/f6bnoeyn</a>"
            ],
            "text/plain": [
              "<IPython.core.display.HTML object>"
            ]
          },
          "metadata": {},
          "output_type": "display_data"
        },
        {
          "name": "stderr",
          "output_type": "stream",
          "text": [
            "100%|██████████| 10/10 [00:43<00:00,  4.33s/it]\n"
          ]
        },
        {
          "data": {
            "application/vnd.jupyter.widget-view+json": {
              "model_id": "1dfdd4aaee1d407bbd9821be81393ef0",
              "version_major": 2,
              "version_minor": 0
            },
            "text/plain": [
              "VBox(children=(Label(value='0.001 MB of 0.011 MB uploaded\\r'), FloatProgress(value=0.10954222502023564, max=1.…"
            ]
          },
          "metadata": {},
          "output_type": "display_data"
        },
        {
          "data": {
            "text/html": [
              "<style>\n",
              "    table.wandb td:nth-child(1) { padding: 0 10px; text-align: left ; width: auto;} td:nth-child(2) {text-align: left ; width: 100%}\n",
              "    .wandb-row { display: flex; flex-direction: row; flex-wrap: wrap; justify-content: flex-start; width: 100% }\n",
              "    .wandb-col { display: flex; flex-direction: column; flex-basis: 100%; flex: 1; padding: 10px; }\n",
              "    </style>\n",
              "<div class=\"wandb-row\"><div class=\"wandb-col\"><h3>Run history:</h3><br/><table class=\"wandb\"><tr><td>epoch</td><td>▁▂▃▃▄▅▆▆▇█</td></tr><tr><td>inference_time</td><td>▁▁▆▁▅▅█▆▁▁</td></tr><tr><td>test_batch_acc</td><td>▃▂▂▂▇▃▃▃▁▄▄▄▄▆▆▆▆▆▆▆▆▇▇▇█▆▆▆▆▆▆▆▇▇▆▆█▇▇▇</td></tr><tr><td>test_batch_loss</td><td>▇▇▆█▄▇▅▄▄▄▄▃▄▂▇▂▆▆▆▅▅▆▄▂▁▄▄▅▆▂▄▅▅▁▅▄▆▅▂▅</td></tr><tr><td>test_epoch_acc</td><td>▁▃▄▆▆▇▆▇▇█</td></tr><tr><td>test_epoch_loss</td><td>█▅▅▄▃▂▂▁▂▁</td></tr><tr><td>train_batch_acc</td><td>▁▂▃▃▅▅▅▅▆▆▆▆▇▆▆▆▆▇▇▇▇▇▇▇▇▇▇▇▇▇▇▇▇▇▇▇████</td></tr><tr><td>train_batch_loss</td><td>█▇▅▅▆▄▄▃▂▃▅▆▃▂▄▃▆▃▂▃▇▂▂▂▂▅▄▂▃▅▁▂▆▅▆▅▁▄▃▂</td></tr><tr><td>train_epoch_acc</td><td>▁▄▅▆▇▇▇█▇█</td></tr><tr><td>train_epoch_loss</td><td>█▄▃▂▂▂▁▁▁▁</td></tr><tr><td>train_time</td><td>▁▁▃▂▂█▅▂▂▁</td></tr></table><br/></div><div class=\"wandb-col\"><h3>Run summary:</h3><br/><table class=\"wandb\"><tr><td>epoch</td><td>9</td></tr><tr><td>inference_time</td><td>0.29951</td></tr><tr><td>test_batch_acc</td><td>0.44471</td></tr><tr><td>test_batch_loss</td><td>2.38943</td></tr><tr><td>test_epoch_acc</td><td>0.44471</td></tr><tr><td>test_epoch_loss</td><td>2.24519</td></tr><tr><td>train_batch_acc</td><td>0.2982</td></tr><tr><td>train_batch_loss</td><td>3.78383</td></tr><tr><td>train_epoch_acc</td><td>0.2982</td></tr><tr><td>train_epoch_loss</td><td>2.76187</td></tr><tr><td>train_time</td><td>2.98715</td></tr></table><br/></div></div>"
            ],
            "text/plain": [
              "<IPython.core.display.HTML object>"
            ]
          },
          "metadata": {},
          "output_type": "display_data"
        },
        {
          "data": {
            "text/html": [
              " View run <strong style=\"color:#cdcd00\">drawn-sweep-3</strong> at: <a href='https://wandb.ai/aml-experiments/movenet-yoga-classifier/runs/f6bnoeyn' target=\"_blank\">https://wandb.ai/aml-experiments/movenet-yoga-classifier/runs/f6bnoeyn</a><br/> View project at: <a href='https://wandb.ai/aml-experiments/movenet-yoga-classifier' target=\"_blank\">https://wandb.ai/aml-experiments/movenet-yoga-classifier</a><br/>Synced 5 W&B file(s), 0 media file(s), 0 artifact file(s) and 0 other file(s)"
            ],
            "text/plain": [
              "<IPython.core.display.HTML object>"
            ]
          },
          "metadata": {},
          "output_type": "display_data"
        },
        {
          "data": {
            "text/html": [
              "Find logs at: <code>./wandb/run-20240415_171623-f6bnoeyn/logs</code>"
            ],
            "text/plain": [
              "<IPython.core.display.HTML object>"
            ]
          },
          "metadata": {},
          "output_type": "display_data"
        },
        {
          "name": "stderr",
          "output_type": "stream",
          "text": [
            "\u001b[34m\u001b[1mwandb\u001b[0m: Agent Starting Run: prit8pnj with config:\n",
            "\u001b[34m\u001b[1mwandb\u001b[0m: \tactivation: sigmoid\n",
            "\u001b[34m\u001b[1mwandb\u001b[0m: \tbatch_size: 16\n",
            "\u001b[34m\u001b[1mwandb\u001b[0m: \tdropout: 0.30281109802280726\n",
            "\u001b[34m\u001b[1mwandb\u001b[0m: \tlearning_rate: 0.0005\n",
            "\u001b[34m\u001b[1mwandb\u001b[0m: \toptimizer: adam\n",
            "\u001b[34m\u001b[1mwandb\u001b[0m: \u001b[33mWARNING\u001b[0m Ignored wandb.init() arg project when running a sweep.\n"
          ]
        },
        {
          "data": {
            "text/html": [
              "Tracking run with wandb version 0.16.6"
            ],
            "text/plain": [
              "<IPython.core.display.HTML object>"
            ]
          },
          "metadata": {},
          "output_type": "display_data"
        },
        {
          "data": {
            "text/html": [
              "Run data is saved locally in <code>/content/wandb/run-20240415_171720-prit8pnj</code>"
            ],
            "text/plain": [
              "<IPython.core.display.HTML object>"
            ]
          },
          "metadata": {},
          "output_type": "display_data"
        },
        {
          "data": {
            "text/html": [
              "Syncing run <strong><a href='https://wandb.ai/aml-experiments/movenet-yoga-classifier/runs/prit8pnj' target=\"_blank\">floral-sweep-4</a></strong> to <a href='https://wandb.ai/aml-experiments/movenet-yoga-classifier' target=\"_blank\">Weights & Biases</a> (<a href='https://wandb.me/run' target=\"_blank\">docs</a>)<br/>Sweep page: <a href='https://wandb.ai/aml-experiments/movenet-yoga-classifier/sweeps/8hka7sd9' target=\"_blank\">https://wandb.ai/aml-experiments/movenet-yoga-classifier/sweeps/8hka7sd9</a>"
            ],
            "text/plain": [
              "<IPython.core.display.HTML object>"
            ]
          },
          "metadata": {},
          "output_type": "display_data"
        },
        {
          "data": {
            "text/html": [
              " View project at <a href='https://wandb.ai/aml-experiments/movenet-yoga-classifier' target=\"_blank\">https://wandb.ai/aml-experiments/movenet-yoga-classifier</a>"
            ],
            "text/plain": [
              "<IPython.core.display.HTML object>"
            ]
          },
          "metadata": {},
          "output_type": "display_data"
        },
        {
          "data": {
            "text/html": [
              " View sweep at <a href='https://wandb.ai/aml-experiments/movenet-yoga-classifier/sweeps/8hka7sd9' target=\"_blank\">https://wandb.ai/aml-experiments/movenet-yoga-classifier/sweeps/8hka7sd9</a>"
            ],
            "text/plain": [
              "<IPython.core.display.HTML object>"
            ]
          },
          "metadata": {},
          "output_type": "display_data"
        },
        {
          "data": {
            "text/html": [
              " View run at <a href='https://wandb.ai/aml-experiments/movenet-yoga-classifier/runs/prit8pnj' target=\"_blank\">https://wandb.ai/aml-experiments/movenet-yoga-classifier/runs/prit8pnj</a>"
            ],
            "text/plain": [
              "<IPython.core.display.HTML object>"
            ]
          },
          "metadata": {},
          "output_type": "display_data"
        },
        {
          "name": "stderr",
          "output_type": "stream",
          "text": [
            "\u001b[34m\u001b[1mwandb\u001b[0m: \u001b[33mWARNING\u001b[0m Ignored wandb.init() arg project when running a sweep.\n"
          ]
        },
        {
          "data": {
            "text/html": [
              "Finishing last run (ID:prit8pnj) before initializing another..."
            ],
            "text/plain": [
              "<IPython.core.display.HTML object>"
            ]
          },
          "metadata": {},
          "output_type": "display_data"
        },
        {
          "data": {
            "application/vnd.jupyter.widget-view+json": {
              "model_id": "eb53bdab91724599b743669b97fab9e3",
              "version_major": 2,
              "version_minor": 0
            },
            "text/plain": [
              "VBox(children=(Label(value='0.001 MB of 0.001 MB uploaded\\r'), FloatProgress(value=1.0, max=1.0)))"
            ]
          },
          "metadata": {},
          "output_type": "display_data"
        },
        {
          "data": {
            "text/html": [
              " View run <strong style=\"color:#cdcd00\">floral-sweep-4</strong> at: <a href='https://wandb.ai/aml-experiments/movenet-yoga-classifier/runs/prit8pnj' target=\"_blank\">https://wandb.ai/aml-experiments/movenet-yoga-classifier/runs/prit8pnj</a><br/> View project at: <a href='https://wandb.ai/aml-experiments/movenet-yoga-classifier' target=\"_blank\">https://wandb.ai/aml-experiments/movenet-yoga-classifier</a><br/>Synced 5 W&B file(s), 0 media file(s), 0 artifact file(s) and 0 other file(s)"
            ],
            "text/plain": [
              "<IPython.core.display.HTML object>"
            ]
          },
          "metadata": {},
          "output_type": "display_data"
        },
        {
          "data": {
            "text/html": [
              "Find logs at: <code>./wandb/run-20240415_171720-prit8pnj/logs</code>"
            ],
            "text/plain": [
              "<IPython.core.display.HTML object>"
            ]
          },
          "metadata": {},
          "output_type": "display_data"
        },
        {
          "data": {
            "text/html": [
              "Successfully finished last run (ID:prit8pnj). Initializing new run:<br/>"
            ],
            "text/plain": [
              "<IPython.core.display.HTML object>"
            ]
          },
          "metadata": {},
          "output_type": "display_data"
        },
        {
          "data": {
            "text/html": [
              "Tracking run with wandb version 0.16.6"
            ],
            "text/plain": [
              "<IPython.core.display.HTML object>"
            ]
          },
          "metadata": {},
          "output_type": "display_data"
        },
        {
          "data": {
            "text/html": [
              "Run data is saved locally in <code>/content/wandb/run-20240415_171723-prit8pnj</code>"
            ],
            "text/plain": [
              "<IPython.core.display.HTML object>"
            ]
          },
          "metadata": {},
          "output_type": "display_data"
        },
        {
          "data": {
            "text/html": [
              "Syncing run <strong><a href='https://wandb.ai/aml-experiments/movenet-yoga-classifier/runs/prit8pnj' target=\"_blank\">floral-sweep-4</a></strong> to <a href='https://wandb.ai/aml-experiments/movenet-yoga-classifier' target=\"_blank\">Weights & Biases</a> (<a href='https://wandb.me/run' target=\"_blank\">docs</a>)<br/>Sweep page: <a href='https://wandb.ai/aml-experiments/movenet-yoga-classifier/sweeps/8hka7sd9' target=\"_blank\">https://wandb.ai/aml-experiments/movenet-yoga-classifier/sweeps/8hka7sd9</a>"
            ],
            "text/plain": [
              "<IPython.core.display.HTML object>"
            ]
          },
          "metadata": {},
          "output_type": "display_data"
        },
        {
          "data": {
            "text/html": [
              " View project at <a href='https://wandb.ai/aml-experiments/movenet-yoga-classifier' target=\"_blank\">https://wandb.ai/aml-experiments/movenet-yoga-classifier</a>"
            ],
            "text/plain": [
              "<IPython.core.display.HTML object>"
            ]
          },
          "metadata": {},
          "output_type": "display_data"
        },
        {
          "data": {
            "text/html": [
              " View sweep at <a href='https://wandb.ai/aml-experiments/movenet-yoga-classifier/sweeps/8hka7sd9' target=\"_blank\">https://wandb.ai/aml-experiments/movenet-yoga-classifier/sweeps/8hka7sd9</a>"
            ],
            "text/plain": [
              "<IPython.core.display.HTML object>"
            ]
          },
          "metadata": {},
          "output_type": "display_data"
        },
        {
          "data": {
            "text/html": [
              " View run at <a href='https://wandb.ai/aml-experiments/movenet-yoga-classifier/runs/prit8pnj' target=\"_blank\">https://wandb.ai/aml-experiments/movenet-yoga-classifier/runs/prit8pnj</a>"
            ],
            "text/plain": [
              "<IPython.core.display.HTML object>"
            ]
          },
          "metadata": {},
          "output_type": "display_data"
        },
        {
          "name": "stderr",
          "output_type": "stream",
          "text": [
            " 70%|███████   | 7/10 [00:33<00:14,  4.79s/it]\n",
            "Traceback (most recent call last):\n",
            "  File \"<ipython-input-126-82d9b663389b>\", line 116, in train\n",
            "    train_avg_loss, train_acc = train_epoch(model, train_loader, optimizer, log_wandb)\n",
            "  File \"<ipython-input-126-82d9b663389b>\", line 64, in train_epoch\n",
            "    optimizer.step()\n",
            "  File \"/usr/local/lib/python3.10/dist-packages/torch/optim/optimizer.py\", line 385, in wrapper\n",
            "    out = func(*args, **kwargs)\n",
            "  File \"/usr/local/lib/python3.10/dist-packages/torch/optim/optimizer.py\", line 76, in _use_grad\n",
            "    ret = func(self, *args, **kwargs)\n",
            "  File \"/usr/local/lib/python3.10/dist-packages/torch/optim/adam.py\", line 166, in step\n",
            "    adam(\n",
            "  File \"/usr/local/lib/python3.10/dist-packages/torch/optim/adam.py\", line 316, in adam\n",
            "    func(params,\n",
            "  File \"/usr/local/lib/python3.10/dist-packages/torch/optim/adam.py\", line 565, in _multi_tensor_adam\n",
            "    bias_correction1 = [1 - beta1 ** _get_value(step) for step in device_state_steps]\n",
            "  File \"/usr/local/lib/python3.10/dist-packages/torch/optim/adam.py\", line 565, in <listcomp>\n",
            "    bias_correction1 = [1 - beta1 ** _get_value(step) for step in device_state_steps]\n",
            "  File \"/usr/local/lib/python3.10/dist-packages/torch/optim/optimizer.py\", line 89, in _get_value\n",
            "    return x.item()\n",
            "Exception\n"
          ]
        },
        {
          "data": {
            "application/vnd.jupyter.widget-view+json": {
              "model_id": "72218ce5461c4648b2c90e7b02eeb12d",
              "version_major": 2,
              "version_minor": 0
            },
            "text/plain": [
              "VBox(children=(Label(value='0.001 MB of 0.001 MB uploaded\\r'), FloatProgress(value=1.0, max=1.0)))"
            ]
          },
          "metadata": {},
          "output_type": "display_data"
        },
        {
          "data": {
            "text/html": [
              "<style>\n",
              "    table.wandb td:nth-child(1) { padding: 0 10px; text-align: left ; width: auto;} td:nth-child(2) {text-align: left ; width: 100%}\n",
              "    .wandb-row { display: flex; flex-direction: row; flex-wrap: wrap; justify-content: flex-start; width: 100% }\n",
              "    .wandb-col { display: flex; flex-direction: column; flex-basis: 100%; flex: 1; padding: 10px; }\n",
              "    </style>\n",
              "<div class=\"wandb-row\"><div class=\"wandb-col\"><h3>Run history:</h3><br/><table class=\"wandb\"><tr><td>epoch</td><td>▁▂▃▅▆▇█</td></tr><tr><td>inference_time</td><td>▁█▁▄▂▇▂</td></tr><tr><td>test_batch_acc</td><td>▁▂▂▂▂▂▂▃▂▃▃▃▅▅▄▄▄▅▆▅▅▅▆▆▆▆▆▆▆▇▇▇▇▇▇█▇▇▇▇</td></tr><tr><td>test_batch_loss</td><td>▄▄▄▄▅█▅▃▆▄▅▅▄▄▃▂▄▄█▅▄▄▂▄▄▁▅▁▂▃▁▂▂▃▃▂▄▄▄▅</td></tr><tr><td>test_epoch_acc</td><td>▁▃▅▆▇██</td></tr><tr><td>test_epoch_loss</td><td>█▅▄▃▁▂▁</td></tr><tr><td>train_batch_acc</td><td>▁▁▂▂▃▃▅▅▅▅▅▇▆▆▆▆▆▆▇▆▇▇▇▇▇▇▇▇▇█▇▇▇▇▇█████</td></tr><tr><td>train_batch_loss</td><td>▆▆▆▄▆▁▃▃▄▁▅▃▄█▃▄▃▅▄▄▁▆▅▄▂▂▆▃▂▇▃▅▄▃▂▂▃▄▂▁</td></tr><tr><td>train_epoch_acc</td><td>▁▅▆▇▇██</td></tr><tr><td>train_epoch_loss</td><td>█▄▃▂▂▁▁</td></tr><tr><td>train_time</td><td>▃▅█▁▂█▅</td></tr></table><br/></div><div class=\"wandb-col\"><h3>Run summary:</h3><br/><table class=\"wandb\"><tr><td>epoch</td><td>6</td></tr><tr><td>inference_time</td><td>0.36421</td></tr><tr><td>test_batch_acc</td><td>0.43633</td></tr><tr><td>test_batch_loss</td><td>2.69656</td></tr><tr><td>test_epoch_acc</td><td>0.43633</td></tr><tr><td>test_epoch_loss</td><td>2.31369</td></tr><tr><td>train_batch_acc</td><td>0.29441</td></tr><tr><td>train_batch_loss</td><td>2.81193</td></tr><tr><td>train_epoch_acc</td><td>0.28383</td></tr><tr><td>train_epoch_loss</td><td>2.81081</td></tr><tr><td>train_time</td><td>4.43169</td></tr></table><br/></div></div>"
            ],
            "text/plain": [
              "<IPython.core.display.HTML object>"
            ]
          },
          "metadata": {},
          "output_type": "display_data"
        },
        {
          "data": {
            "text/html": [
              " View run <strong style=\"color:#cdcd00\">floral-sweep-4</strong> at: <a href='https://wandb.ai/aml-experiments/movenet-yoga-classifier/runs/prit8pnj' target=\"_blank\">https://wandb.ai/aml-experiments/movenet-yoga-classifier/runs/prit8pnj</a><br/> View project at: <a href='https://wandb.ai/aml-experiments/movenet-yoga-classifier' target=\"_blank\">https://wandb.ai/aml-experiments/movenet-yoga-classifier</a><br/>Synced 5 W&B file(s), 0 media file(s), 0 artifact file(s) and 0 other file(s)"
            ],
            "text/plain": [
              "<IPython.core.display.HTML object>"
            ]
          },
          "metadata": {},
          "output_type": "display_data"
        },
        {
          "data": {
            "text/html": [
              "Find logs at: <code>./wandb/run-20240415_171723-prit8pnj/logs</code>"
            ],
            "text/plain": [
              "<IPython.core.display.HTML object>"
            ]
          },
          "metadata": {},
          "output_type": "display_data"
        },
        {
          "name": "stderr",
          "output_type": "stream",
          "text": [
            "\u001b[34m\u001b[1mwandb\u001b[0m: Agent Starting Run: dn7z1n2o with config:\n",
            "\u001b[34m\u001b[1mwandb\u001b[0m: \tactivation: tanh\n",
            "\u001b[34m\u001b[1mwandb\u001b[0m: \tbatch_size: 32\n",
            "\u001b[34m\u001b[1mwandb\u001b[0m: \tdropout: 0.2860592175691463\n",
            "\u001b[34m\u001b[1mwandb\u001b[0m: \tlearning_rate: 0.0005\n",
            "\u001b[34m\u001b[1mwandb\u001b[0m: \toptimizer: sgd\n",
            "\u001b[34m\u001b[1mwandb\u001b[0m: \u001b[33mWARNING\u001b[0m Ignored wandb.init() arg project when running a sweep.\n"
          ]
        },
        {
          "data": {
            "text/html": [
              "Tracking run with wandb version 0.16.6"
            ],
            "text/plain": [
              "<IPython.core.display.HTML object>"
            ]
          },
          "metadata": {},
          "output_type": "display_data"
        },
        {
          "data": {
            "text/html": [
              "Run data is saved locally in <code>/content/wandb/run-20240415_171813-dn7z1n2o</code>"
            ],
            "text/plain": [
              "<IPython.core.display.HTML object>"
            ]
          },
          "metadata": {},
          "output_type": "display_data"
        },
        {
          "data": {
            "text/html": [
              "Syncing run <strong><a href='https://wandb.ai/aml-experiments/movenet-yoga-classifier/runs/dn7z1n2o' target=\"_blank\">glorious-sweep-5</a></strong> to <a href='https://wandb.ai/aml-experiments/movenet-yoga-classifier' target=\"_blank\">Weights & Biases</a> (<a href='https://wandb.me/run' target=\"_blank\">docs</a>)<br/>Sweep page: <a href='https://wandb.ai/aml-experiments/movenet-yoga-classifier/sweeps/8hka7sd9' target=\"_blank\">https://wandb.ai/aml-experiments/movenet-yoga-classifier/sweeps/8hka7sd9</a>"
            ],
            "text/plain": [
              "<IPython.core.display.HTML object>"
            ]
          },
          "metadata": {},
          "output_type": "display_data"
        },
        {
          "data": {
            "text/html": [
              " View project at <a href='https://wandb.ai/aml-experiments/movenet-yoga-classifier' target=\"_blank\">https://wandb.ai/aml-experiments/movenet-yoga-classifier</a>"
            ],
            "text/plain": [
              "<IPython.core.display.HTML object>"
            ]
          },
          "metadata": {},
          "output_type": "display_data"
        },
        {
          "data": {
            "text/html": [
              " View sweep at <a href='https://wandb.ai/aml-experiments/movenet-yoga-classifier/sweeps/8hka7sd9' target=\"_blank\">https://wandb.ai/aml-experiments/movenet-yoga-classifier/sweeps/8hka7sd9</a>"
            ],
            "text/plain": [
              "<IPython.core.display.HTML object>"
            ]
          },
          "metadata": {},
          "output_type": "display_data"
        },
        {
          "data": {
            "text/html": [
              " View run at <a href='https://wandb.ai/aml-experiments/movenet-yoga-classifier/runs/dn7z1n2o' target=\"_blank\">https://wandb.ai/aml-experiments/movenet-yoga-classifier/runs/dn7z1n2o</a>"
            ],
            "text/plain": [
              "<IPython.core.display.HTML object>"
            ]
          },
          "metadata": {},
          "output_type": "display_data"
        },
        {
          "name": "stderr",
          "output_type": "stream",
          "text": [
            "\u001b[34m\u001b[1mwandb\u001b[0m: \u001b[33mWARNING\u001b[0m Ignored wandb.init() arg project when running a sweep.\n"
          ]
        },
        {
          "data": {
            "text/html": [
              "Finishing last run (ID:dn7z1n2o) before initializing another..."
            ],
            "text/plain": [
              "<IPython.core.display.HTML object>"
            ]
          },
          "metadata": {},
          "output_type": "display_data"
        },
        {
          "data": {
            "application/vnd.jupyter.widget-view+json": {
              "model_id": "9b8fe8c94050414ca8829c47bd53f78a",
              "version_major": 2,
              "version_minor": 0
            },
            "text/plain": [
              "VBox(children=(Label(value='0.001 MB of 0.001 MB uploaded\\r'), FloatProgress(value=1.0, max=1.0)))"
            ]
          },
          "metadata": {},
          "output_type": "display_data"
        },
        {
          "data": {
            "text/html": [
              " View run <strong style=\"color:#cdcd00\">glorious-sweep-5</strong> at: <a href='https://wandb.ai/aml-experiments/movenet-yoga-classifier/runs/dn7z1n2o' target=\"_blank\">https://wandb.ai/aml-experiments/movenet-yoga-classifier/runs/dn7z1n2o</a><br/> View project at: <a href='https://wandb.ai/aml-experiments/movenet-yoga-classifier' target=\"_blank\">https://wandb.ai/aml-experiments/movenet-yoga-classifier</a><br/>Synced 5 W&B file(s), 0 media file(s), 0 artifact file(s) and 0 other file(s)"
            ],
            "text/plain": [
              "<IPython.core.display.HTML object>"
            ]
          },
          "metadata": {},
          "output_type": "display_data"
        },
        {
          "data": {
            "text/html": [
              "Find logs at: <code>./wandb/run-20240415_171813-dn7z1n2o/logs</code>"
            ],
            "text/plain": [
              "<IPython.core.display.HTML object>"
            ]
          },
          "metadata": {},
          "output_type": "display_data"
        },
        {
          "data": {
            "text/html": [
              "Successfully finished last run (ID:dn7z1n2o). Initializing new run:<br/>"
            ],
            "text/plain": [
              "<IPython.core.display.HTML object>"
            ]
          },
          "metadata": {},
          "output_type": "display_data"
        },
        {
          "data": {
            "text/html": [
              "Tracking run with wandb version 0.16.6"
            ],
            "text/plain": [
              "<IPython.core.display.HTML object>"
            ]
          },
          "metadata": {},
          "output_type": "display_data"
        },
        {
          "data": {
            "text/html": [
              "Run data is saved locally in <code>/content/wandb/run-20240415_171815-dn7z1n2o</code>"
            ],
            "text/plain": [
              "<IPython.core.display.HTML object>"
            ]
          },
          "metadata": {},
          "output_type": "display_data"
        },
        {
          "data": {
            "text/html": [
              "Syncing run <strong><a href='https://wandb.ai/aml-experiments/movenet-yoga-classifier/runs/dn7z1n2o' target=\"_blank\">glorious-sweep-5</a></strong> to <a href='https://wandb.ai/aml-experiments/movenet-yoga-classifier' target=\"_blank\">Weights & Biases</a> (<a href='https://wandb.me/run' target=\"_blank\">docs</a>)<br/>Sweep page: <a href='https://wandb.ai/aml-experiments/movenet-yoga-classifier/sweeps/8hka7sd9' target=\"_blank\">https://wandb.ai/aml-experiments/movenet-yoga-classifier/sweeps/8hka7sd9</a>"
            ],
            "text/plain": [
              "<IPython.core.display.HTML object>"
            ]
          },
          "metadata": {},
          "output_type": "display_data"
        },
        {
          "data": {
            "text/html": [
              " View project at <a href='https://wandb.ai/aml-experiments/movenet-yoga-classifier' target=\"_blank\">https://wandb.ai/aml-experiments/movenet-yoga-classifier</a>"
            ],
            "text/plain": [
              "<IPython.core.display.HTML object>"
            ]
          },
          "metadata": {},
          "output_type": "display_data"
        },
        {
          "data": {
            "text/html": [
              " View sweep at <a href='https://wandb.ai/aml-experiments/movenet-yoga-classifier/sweeps/8hka7sd9' target=\"_blank\">https://wandb.ai/aml-experiments/movenet-yoga-classifier/sweeps/8hka7sd9</a>"
            ],
            "text/plain": [
              "<IPython.core.display.HTML object>"
            ]
          },
          "metadata": {},
          "output_type": "display_data"
        },
        {
          "data": {
            "text/html": [
              " View run at <a href='https://wandb.ai/aml-experiments/movenet-yoga-classifier/runs/dn7z1n2o' target=\"_blank\">https://wandb.ai/aml-experiments/movenet-yoga-classifier/runs/dn7z1n2o</a>"
            ],
            "text/plain": [
              "<IPython.core.display.HTML object>"
            ]
          },
          "metadata": {},
          "output_type": "display_data"
        },
        {
          "name": "stderr",
          "output_type": "stream",
          "text": [
            "100%|██████████| 10/10 [00:46<00:00,  4.61s/it]\n"
          ]
        },
        {
          "data": {
            "application/vnd.jupyter.widget-view+json": {
              "model_id": "1c233b5f2f5444f8bd50be8ab79a9a30",
              "version_major": 2,
              "version_minor": 0
            },
            "text/plain": [
              "VBox(children=(Label(value='0.001 MB of 0.011 MB uploaded\\r'), FloatProgress(value=0.10417022731157068, max=1.…"
            ]
          },
          "metadata": {},
          "output_type": "display_data"
        },
        {
          "data": {
            "text/html": [
              "<style>\n",
              "    table.wandb td:nth-child(1) { padding: 0 10px; text-align: left ; width: auto;} td:nth-child(2) {text-align: left ; width: 100%}\n",
              "    .wandb-row { display: flex; flex-direction: row; flex-wrap: wrap; justify-content: flex-start; width: 100% }\n",
              "    .wandb-col { display: flex; flex-direction: column; flex-basis: 100%; flex: 1; padding: 10px; }\n",
              "    </style>\n",
              "<div class=\"wandb-row\"><div class=\"wandb-col\"><h3>Run history:</h3><br/><table class=\"wandb\"><tr><td>epoch</td><td>▁▂▃▃▄▅▆▆▇█</td></tr><tr><td>inference_time</td><td>▂▁▅▁▂▁▂▂█▅</td></tr><tr><td>test_batch_acc</td><td>▁▂▂▂▅▄▄▄▆▆▅▅▅▆▆▆▅▆▆▆▆▆▆▇▇▇▇▇▆▇▇▇██▇▇▇▆▇▇</td></tr><tr><td>test_batch_loss</td><td>▅▅█▇▅▆▆▆▆▄▅▃▄▅▄▆▁▆▃▃▅▄▂▂▁▃▄▄▂█▅▄▃▃▅▅▃▅▆▄</td></tr><tr><td>test_epoch_acc</td><td>▁▅▅▆▇▇▇▇██</td></tr><tr><td>test_epoch_loss</td><td>█▅▄▂▂▁▂▁▁▁</td></tr><tr><td>train_batch_acc</td><td>▁▂▂▃▅▅▅▅▇▆▆▆▆▆▆▆▇▇▇▇▇▇▇▇▇▇▇▇▇▇▇▇▇███████</td></tr><tr><td>train_batch_loss</td><td>█▅▄▃▅▆▅▅▂▅▆▄▃▃▄▂▇▂▄▄▃▁▃▄▄▃▅▂▃▆▃▄▇▃▃▄▂▂▄▂</td></tr><tr><td>train_epoch_acc</td><td>▁▄▅▆▇▇▇▇██</td></tr><tr><td>train_epoch_loss</td><td>█▄▃▃▂▂▂▂▁▁</td></tr><tr><td>train_time</td><td>▅▁▃▂▁▃▂▂█▅</td></tr></table><br/></div><div class=\"wandb-col\"><h3>Run summary:</h3><br/><table class=\"wandb\"><tr><td>epoch</td><td>9</td></tr><tr><td>inference_time</td><td>0.46553</td></tr><tr><td>test_batch_acc</td><td>0.42315</td></tr><tr><td>test_batch_loss</td><td>2.6228</td></tr><tr><td>test_epoch_acc</td><td>0.42315</td></tr><tr><td>test_epoch_loss</td><td>2.32413</td></tr><tr><td>train_batch_acc</td><td>0.29741</td></tr><tr><td>train_batch_loss</td><td>3.17526</td></tr><tr><td>train_epoch_acc</td><td>0.29741</td></tr><tr><td>train_epoch_loss</td><td>2.74786</td></tr><tr><td>train_time</td><td>5.03026</td></tr></table><br/></div></div>"
            ],
            "text/plain": [
              "<IPython.core.display.HTML object>"
            ]
          },
          "metadata": {},
          "output_type": "display_data"
        },
        {
          "data": {
            "text/html": [
              " View run <strong style=\"color:#cdcd00\">glorious-sweep-5</strong> at: <a href='https://wandb.ai/aml-experiments/movenet-yoga-classifier/runs/dn7z1n2o' target=\"_blank\">https://wandb.ai/aml-experiments/movenet-yoga-classifier/runs/dn7z1n2o</a><br/> View project at: <a href='https://wandb.ai/aml-experiments/movenet-yoga-classifier' target=\"_blank\">https://wandb.ai/aml-experiments/movenet-yoga-classifier</a><br/>Synced 5 W&B file(s), 0 media file(s), 0 artifact file(s) and 0 other file(s)"
            ],
            "text/plain": [
              "<IPython.core.display.HTML object>"
            ]
          },
          "metadata": {},
          "output_type": "display_data"
        },
        {
          "data": {
            "text/html": [
              "Find logs at: <code>./wandb/run-20240415_171815-dn7z1n2o/logs</code>"
            ],
            "text/plain": [
              "<IPython.core.display.HTML object>"
            ]
          },
          "metadata": {},
          "output_type": "display_data"
        },
        {
          "name": "stderr",
          "output_type": "stream",
          "text": [
            "\u001b[34m\u001b[1mwandb\u001b[0m: Agent Starting Run: 25647wjg with config:\n",
            "\u001b[34m\u001b[1mwandb\u001b[0m: \tactivation: tanh\n",
            "\u001b[34m\u001b[1mwandb\u001b[0m: \tbatch_size: 128\n",
            "\u001b[34m\u001b[1mwandb\u001b[0m: \tdropout: 0.577192717846137\n",
            "\u001b[34m\u001b[1mwandb\u001b[0m: \tlearning_rate: 0.005\n",
            "\u001b[34m\u001b[1mwandb\u001b[0m: \toptimizer: sgd\n",
            "\u001b[34m\u001b[1mwandb\u001b[0m: \u001b[33mWARNING\u001b[0m Ignored wandb.init() arg project when running a sweep.\n"
          ]
        },
        {
          "data": {
            "text/html": [
              "Tracking run with wandb version 0.16.6"
            ],
            "text/plain": [
              "<IPython.core.display.HTML object>"
            ]
          },
          "metadata": {},
          "output_type": "display_data"
        },
        {
          "data": {
            "text/html": [
              "Run data is saved locally in <code>/content/wandb/run-20240415_171918-25647wjg</code>"
            ],
            "text/plain": [
              "<IPython.core.display.HTML object>"
            ]
          },
          "metadata": {},
          "output_type": "display_data"
        },
        {
          "data": {
            "text/html": [
              "Syncing run <strong><a href='https://wandb.ai/aml-experiments/movenet-yoga-classifier/runs/25647wjg' target=\"_blank\">playful-sweep-6</a></strong> to <a href='https://wandb.ai/aml-experiments/movenet-yoga-classifier' target=\"_blank\">Weights & Biases</a> (<a href='https://wandb.me/run' target=\"_blank\">docs</a>)<br/>Sweep page: <a href='https://wandb.ai/aml-experiments/movenet-yoga-classifier/sweeps/8hka7sd9' target=\"_blank\">https://wandb.ai/aml-experiments/movenet-yoga-classifier/sweeps/8hka7sd9</a>"
            ],
            "text/plain": [
              "<IPython.core.display.HTML object>"
            ]
          },
          "metadata": {},
          "output_type": "display_data"
        },
        {
          "data": {
            "text/html": [
              " View project at <a href='https://wandb.ai/aml-experiments/movenet-yoga-classifier' target=\"_blank\">https://wandb.ai/aml-experiments/movenet-yoga-classifier</a>"
            ],
            "text/plain": [
              "<IPython.core.display.HTML object>"
            ]
          },
          "metadata": {},
          "output_type": "display_data"
        },
        {
          "data": {
            "text/html": [
              " View sweep at <a href='https://wandb.ai/aml-experiments/movenet-yoga-classifier/sweeps/8hka7sd9' target=\"_blank\">https://wandb.ai/aml-experiments/movenet-yoga-classifier/sweeps/8hka7sd9</a>"
            ],
            "text/plain": [
              "<IPython.core.display.HTML object>"
            ]
          },
          "metadata": {},
          "output_type": "display_data"
        },
        {
          "data": {
            "text/html": [
              " View run at <a href='https://wandb.ai/aml-experiments/movenet-yoga-classifier/runs/25647wjg' target=\"_blank\">https://wandb.ai/aml-experiments/movenet-yoga-classifier/runs/25647wjg</a>"
            ],
            "text/plain": [
              "<IPython.core.display.HTML object>"
            ]
          },
          "metadata": {},
          "output_type": "display_data"
        },
        {
          "name": "stderr",
          "output_type": "stream",
          "text": [
            "\u001b[34m\u001b[1mwandb\u001b[0m: \u001b[33mWARNING\u001b[0m Ignored wandb.init() arg project when running a sweep.\n"
          ]
        },
        {
          "data": {
            "text/html": [
              "Finishing last run (ID:25647wjg) before initializing another..."
            ],
            "text/plain": [
              "<IPython.core.display.HTML object>"
            ]
          },
          "metadata": {},
          "output_type": "display_data"
        },
        {
          "data": {
            "application/vnd.jupyter.widget-view+json": {
              "model_id": "f0f9347711514994a7bdd24040d70245",
              "version_major": 2,
              "version_minor": 0
            },
            "text/plain": [
              "VBox(children=(Label(value='0.001 MB of 0.001 MB uploaded\\r'), FloatProgress(value=1.0, max=1.0)))"
            ]
          },
          "metadata": {},
          "output_type": "display_data"
        },
        {
          "data": {
            "text/html": [
              " View run <strong style=\"color:#cdcd00\">playful-sweep-6</strong> at: <a href='https://wandb.ai/aml-experiments/movenet-yoga-classifier/runs/25647wjg' target=\"_blank\">https://wandb.ai/aml-experiments/movenet-yoga-classifier/runs/25647wjg</a><br/> View project at: <a href='https://wandb.ai/aml-experiments/movenet-yoga-classifier' target=\"_blank\">https://wandb.ai/aml-experiments/movenet-yoga-classifier</a><br/>Synced 5 W&B file(s), 0 media file(s), 0 artifact file(s) and 0 other file(s)"
            ],
            "text/plain": [
              "<IPython.core.display.HTML object>"
            ]
          },
          "metadata": {},
          "output_type": "display_data"
        },
        {
          "data": {
            "text/html": [
              "Find logs at: <code>./wandb/run-20240415_171918-25647wjg/logs</code>"
            ],
            "text/plain": [
              "<IPython.core.display.HTML object>"
            ]
          },
          "metadata": {},
          "output_type": "display_data"
        },
        {
          "data": {
            "text/html": [
              "Successfully finished last run (ID:25647wjg). Initializing new run:<br/>"
            ],
            "text/plain": [
              "<IPython.core.display.HTML object>"
            ]
          },
          "metadata": {},
          "output_type": "display_data"
        },
        {
          "data": {
            "text/html": [
              "Tracking run with wandb version 0.16.6"
            ],
            "text/plain": [
              "<IPython.core.display.HTML object>"
            ]
          },
          "metadata": {},
          "output_type": "display_data"
        },
        {
          "data": {
            "text/html": [
              "Run data is saved locally in <code>/content/wandb/run-20240415_171920-25647wjg</code>"
            ],
            "text/plain": [
              "<IPython.core.display.HTML object>"
            ]
          },
          "metadata": {},
          "output_type": "display_data"
        },
        {
          "data": {
            "text/html": [
              "Syncing run <strong><a href='https://wandb.ai/aml-experiments/movenet-yoga-classifier/runs/25647wjg' target=\"_blank\">playful-sweep-6</a></strong> to <a href='https://wandb.ai/aml-experiments/movenet-yoga-classifier' target=\"_blank\">Weights & Biases</a> (<a href='https://wandb.me/run' target=\"_blank\">docs</a>)<br/>Sweep page: <a href='https://wandb.ai/aml-experiments/movenet-yoga-classifier/sweeps/8hka7sd9' target=\"_blank\">https://wandb.ai/aml-experiments/movenet-yoga-classifier/sweeps/8hka7sd9</a>"
            ],
            "text/plain": [
              "<IPython.core.display.HTML object>"
            ]
          },
          "metadata": {},
          "output_type": "display_data"
        },
        {
          "data": {
            "text/html": [
              " View project at <a href='https://wandb.ai/aml-experiments/movenet-yoga-classifier' target=\"_blank\">https://wandb.ai/aml-experiments/movenet-yoga-classifier</a>"
            ],
            "text/plain": [
              "<IPython.core.display.HTML object>"
            ]
          },
          "metadata": {},
          "output_type": "display_data"
        },
        {
          "data": {
            "text/html": [
              " View sweep at <a href='https://wandb.ai/aml-experiments/movenet-yoga-classifier/sweeps/8hka7sd9' target=\"_blank\">https://wandb.ai/aml-experiments/movenet-yoga-classifier/sweeps/8hka7sd9</a>"
            ],
            "text/plain": [
              "<IPython.core.display.HTML object>"
            ]
          },
          "metadata": {},
          "output_type": "display_data"
        },
        {
          "data": {
            "text/html": [
              " View run at <a href='https://wandb.ai/aml-experiments/movenet-yoga-classifier/runs/25647wjg' target=\"_blank\">https://wandb.ai/aml-experiments/movenet-yoga-classifier/runs/25647wjg</a>"
            ],
            "text/plain": [
              "<IPython.core.display.HTML object>"
            ]
          },
          "metadata": {},
          "output_type": "display_data"
        },
        {
          "name": "stderr",
          "output_type": "stream",
          "text": [
            "100%|██████████| 10/10 [00:36<00:00,  3.66s/it]\n"
          ]
        },
        {
          "data": {
            "application/vnd.jupyter.widget-view+json": {
              "model_id": "3137326208a8476fa1cbd9f8e76f5f5d",
              "version_major": 2,
              "version_minor": 0
            },
            "text/plain": [
              "VBox(children=(Label(value='0.001 MB of 0.001 MB uploaded\\r'), FloatProgress(value=1.0, max=1.0)))"
            ]
          },
          "metadata": {},
          "output_type": "display_data"
        },
        {
          "data": {
            "text/html": [
              "<style>\n",
              "    table.wandb td:nth-child(1) { padding: 0 10px; text-align: left ; width: auto;} td:nth-child(2) {text-align: left ; width: 100%}\n",
              "    .wandb-row { display: flex; flex-direction: row; flex-wrap: wrap; justify-content: flex-start; width: 100% }\n",
              "    .wandb-col { display: flex; flex-direction: column; flex-basis: 100%; flex: 1; padding: 10px; }\n",
              "    </style>\n",
              "<div class=\"wandb-row\"><div class=\"wandb-col\"><h3>Run history:</h3><br/><table class=\"wandb\"><tr><td>epoch</td><td>▁▂▃▃▄▅▆▆▇█</td></tr><tr><td>inference_time</td><td>▂▂▂▂▂█▁▂▂▂</td></tr><tr><td>test_batch_acc</td><td>▁▂▂▂▃▄▄▄▄▄▄▄▆▅▅▅▆▅▅▅▆▅▅▅▅▅▅▆▆▆▇▇██▇▇█▇▇▇</td></tr><tr><td>test_batch_loss</td><td>▆▇▆█▃▃▆▃▇▆▆▂▄▃▄▅▃▅▄▄▆▅▄▇▄▄▃▄▆▃▄▂▅▁█▃▃▅▅▂</td></tr><tr><td>test_epoch_acc</td><td>▁▄▄▅▅▆▆▇██</td></tr><tr><td>test_epoch_loss</td><td>█▅▄▄▃▂▂▂▁▁</td></tr><tr><td>train_batch_acc</td><td>▁▂▃▃▄▅▅▅▆▆▆▆▆▆▇▇▆▆▇▇▇▇▇▇▇▇▇▇▇███████████</td></tr><tr><td>train_batch_loss</td><td>█▆▅▅▅▄▄▅▁▂▄▃▃▄▄▂▃▆▁▁▂▃▃▂▄▅▄▂▆▁▃▄▃▄▂▆▂▅▁▃</td></tr><tr><td>train_epoch_acc</td><td>▁▄▆▆▆▇▇███</td></tr><tr><td>train_epoch_loss</td><td>█▄▃▂▂▂▁▁▁▁</td></tr><tr><td>train_time</td><td>▁▁█▂▁▅▄▁▁█</td></tr></table><br/></div><div class=\"wandb-col\"><h3>Run summary:</h3><br/><table class=\"wandb\"><tr><td>epoch</td><td>9</td></tr><tr><td>inference_time</td><td>0.30395</td></tr><tr><td>test_batch_acc</td><td>0.43713</td></tr><tr><td>test_batch_loss</td><td>1.57885</td></tr><tr><td>test_epoch_acc</td><td>0.43713</td></tr><tr><td>test_epoch_loss</td><td>2.30948</td></tr><tr><td>train_batch_acc</td><td>0.29605</td></tr><tr><td>train_batch_loss</td><td>2.65033</td></tr><tr><td>train_epoch_acc</td><td>0.29605</td></tr><tr><td>train_epoch_loss</td><td>2.75999</td></tr><tr><td>train_time</td><td>4.15192</td></tr></table><br/></div></div>"
            ],
            "text/plain": [
              "<IPython.core.display.HTML object>"
            ]
          },
          "metadata": {},
          "output_type": "display_data"
        },
        {
          "data": {
            "text/html": [
              " View run <strong style=\"color:#cdcd00\">playful-sweep-6</strong> at: <a href='https://wandb.ai/aml-experiments/movenet-yoga-classifier/runs/25647wjg' target=\"_blank\">https://wandb.ai/aml-experiments/movenet-yoga-classifier/runs/25647wjg</a><br/> View project at: <a href='https://wandb.ai/aml-experiments/movenet-yoga-classifier' target=\"_blank\">https://wandb.ai/aml-experiments/movenet-yoga-classifier</a><br/>Synced 5 W&B file(s), 0 media file(s), 0 artifact file(s) and 0 other file(s)"
            ],
            "text/plain": [
              "<IPython.core.display.HTML object>"
            ]
          },
          "metadata": {},
          "output_type": "display_data"
        },
        {
          "data": {
            "text/html": [
              "Find logs at: <code>./wandb/run-20240415_171920-25647wjg/logs</code>"
            ],
            "text/plain": [
              "<IPython.core.display.HTML object>"
            ]
          },
          "metadata": {},
          "output_type": "display_data"
        },
        {
          "name": "stderr",
          "output_type": "stream",
          "text": [
            "\u001b[34m\u001b[1mwandb\u001b[0m: Agent Starting Run: 62dh94wt with config:\n",
            "\u001b[34m\u001b[1mwandb\u001b[0m: \tactivation: tanh\n",
            "\u001b[34m\u001b[1mwandb\u001b[0m: \tbatch_size: 256\n",
            "\u001b[34m\u001b[1mwandb\u001b[0m: \tdropout: 0.19056572642287095\n",
            "\u001b[34m\u001b[1mwandb\u001b[0m: \tlearning_rate: 0.0001\n",
            "\u001b[34m\u001b[1mwandb\u001b[0m: \toptimizer: adam\n",
            "\u001b[34m\u001b[1mwandb\u001b[0m: \u001b[33mWARNING\u001b[0m Ignored wandb.init() arg project when running a sweep.\n"
          ]
        },
        {
          "data": {
            "text/html": [
              "Tracking run with wandb version 0.16.6"
            ],
            "text/plain": [
              "<IPython.core.display.HTML object>"
            ]
          },
          "metadata": {},
          "output_type": "display_data"
        },
        {
          "data": {
            "text/html": [
              "Run data is saved locally in <code>/content/wandb/run-20240415_172014-62dh94wt</code>"
            ],
            "text/plain": [
              "<IPython.core.display.HTML object>"
            ]
          },
          "metadata": {},
          "output_type": "display_data"
        },
        {
          "data": {
            "text/html": [
              "Syncing run <strong><a href='https://wandb.ai/aml-experiments/movenet-yoga-classifier/runs/62dh94wt' target=\"_blank\">young-sweep-7</a></strong> to <a href='https://wandb.ai/aml-experiments/movenet-yoga-classifier' target=\"_blank\">Weights & Biases</a> (<a href='https://wandb.me/run' target=\"_blank\">docs</a>)<br/>Sweep page: <a href='https://wandb.ai/aml-experiments/movenet-yoga-classifier/sweeps/8hka7sd9' target=\"_blank\">https://wandb.ai/aml-experiments/movenet-yoga-classifier/sweeps/8hka7sd9</a>"
            ],
            "text/plain": [
              "<IPython.core.display.HTML object>"
            ]
          },
          "metadata": {},
          "output_type": "display_data"
        },
        {
          "data": {
            "text/html": [
              " View project at <a href='https://wandb.ai/aml-experiments/movenet-yoga-classifier' target=\"_blank\">https://wandb.ai/aml-experiments/movenet-yoga-classifier</a>"
            ],
            "text/plain": [
              "<IPython.core.display.HTML object>"
            ]
          },
          "metadata": {},
          "output_type": "display_data"
        },
        {
          "data": {
            "text/html": [
              " View sweep at <a href='https://wandb.ai/aml-experiments/movenet-yoga-classifier/sweeps/8hka7sd9' target=\"_blank\">https://wandb.ai/aml-experiments/movenet-yoga-classifier/sweeps/8hka7sd9</a>"
            ],
            "text/plain": [
              "<IPython.core.display.HTML object>"
            ]
          },
          "metadata": {},
          "output_type": "display_data"
        },
        {
          "data": {
            "text/html": [
              " View run at <a href='https://wandb.ai/aml-experiments/movenet-yoga-classifier/runs/62dh94wt' target=\"_blank\">https://wandb.ai/aml-experiments/movenet-yoga-classifier/runs/62dh94wt</a>"
            ],
            "text/plain": [
              "<IPython.core.display.HTML object>"
            ]
          },
          "metadata": {},
          "output_type": "display_data"
        },
        {
          "name": "stderr",
          "output_type": "stream",
          "text": [
            "\u001b[34m\u001b[1mwandb\u001b[0m: \u001b[33mWARNING\u001b[0m Ignored wandb.init() arg project when running a sweep.\n"
          ]
        },
        {
          "data": {
            "text/html": [
              "Finishing last run (ID:62dh94wt) before initializing another..."
            ],
            "text/plain": [
              "<IPython.core.display.HTML object>"
            ]
          },
          "metadata": {},
          "output_type": "display_data"
        },
        {
          "data": {
            "application/vnd.jupyter.widget-view+json": {
              "model_id": "54226ec288ad423b864adcf15025b327",
              "version_major": 2,
              "version_minor": 0
            },
            "text/plain": [
              "VBox(children=(Label(value='0.001 MB of 0.001 MB uploaded\\r'), FloatProgress(value=1.0, max=1.0)))"
            ]
          },
          "metadata": {},
          "output_type": "display_data"
        },
        {
          "data": {
            "text/html": [
              " View run <strong style=\"color:#cdcd00\">young-sweep-7</strong> at: <a href='https://wandb.ai/aml-experiments/movenet-yoga-classifier/runs/62dh94wt' target=\"_blank\">https://wandb.ai/aml-experiments/movenet-yoga-classifier/runs/62dh94wt</a><br/> View project at: <a href='https://wandb.ai/aml-experiments/movenet-yoga-classifier' target=\"_blank\">https://wandb.ai/aml-experiments/movenet-yoga-classifier</a><br/>Synced 5 W&B file(s), 0 media file(s), 0 artifact file(s) and 0 other file(s)"
            ],
            "text/plain": [
              "<IPython.core.display.HTML object>"
            ]
          },
          "metadata": {},
          "output_type": "display_data"
        },
        {
          "data": {
            "text/html": [
              "Find logs at: <code>./wandb/run-20240415_172014-62dh94wt/logs</code>"
            ],
            "text/plain": [
              "<IPython.core.display.HTML object>"
            ]
          },
          "metadata": {},
          "output_type": "display_data"
        },
        {
          "data": {
            "text/html": [
              "Successfully finished last run (ID:62dh94wt). Initializing new run:<br/>"
            ],
            "text/plain": [
              "<IPython.core.display.HTML object>"
            ]
          },
          "metadata": {},
          "output_type": "display_data"
        },
        {
          "data": {
            "text/html": [
              "Tracking run with wandb version 0.16.6"
            ],
            "text/plain": [
              "<IPython.core.display.HTML object>"
            ]
          },
          "metadata": {},
          "output_type": "display_data"
        },
        {
          "data": {
            "text/html": [
              "Run data is saved locally in <code>/content/wandb/run-20240415_172016-62dh94wt</code>"
            ],
            "text/plain": [
              "<IPython.core.display.HTML object>"
            ]
          },
          "metadata": {},
          "output_type": "display_data"
        },
        {
          "data": {
            "text/html": [
              "Syncing run <strong><a href='https://wandb.ai/aml-experiments/movenet-yoga-classifier/runs/62dh94wt' target=\"_blank\">young-sweep-7</a></strong> to <a href='https://wandb.ai/aml-experiments/movenet-yoga-classifier' target=\"_blank\">Weights & Biases</a> (<a href='https://wandb.me/run' target=\"_blank\">docs</a>)<br/>Sweep page: <a href='https://wandb.ai/aml-experiments/movenet-yoga-classifier/sweeps/8hka7sd9' target=\"_blank\">https://wandb.ai/aml-experiments/movenet-yoga-classifier/sweeps/8hka7sd9</a>"
            ],
            "text/plain": [
              "<IPython.core.display.HTML object>"
            ]
          },
          "metadata": {},
          "output_type": "display_data"
        },
        {
          "data": {
            "text/html": [
              " View project at <a href='https://wandb.ai/aml-experiments/movenet-yoga-classifier' target=\"_blank\">https://wandb.ai/aml-experiments/movenet-yoga-classifier</a>"
            ],
            "text/plain": [
              "<IPython.core.display.HTML object>"
            ]
          },
          "metadata": {},
          "output_type": "display_data"
        },
        {
          "data": {
            "text/html": [
              " View sweep at <a href='https://wandb.ai/aml-experiments/movenet-yoga-classifier/sweeps/8hka7sd9' target=\"_blank\">https://wandb.ai/aml-experiments/movenet-yoga-classifier/sweeps/8hka7sd9</a>"
            ],
            "text/plain": [
              "<IPython.core.display.HTML object>"
            ]
          },
          "metadata": {},
          "output_type": "display_data"
        },
        {
          "data": {
            "text/html": [
              " View run at <a href='https://wandb.ai/aml-experiments/movenet-yoga-classifier/runs/62dh94wt' target=\"_blank\">https://wandb.ai/aml-experiments/movenet-yoga-classifier/runs/62dh94wt</a>"
            ],
            "text/plain": [
              "<IPython.core.display.HTML object>"
            ]
          },
          "metadata": {},
          "output_type": "display_data"
        },
        {
          "name": "stderr",
          "output_type": "stream",
          "text": [
            "100%|██████████| 10/10 [00:36<00:00,  3.65s/it]\n"
          ]
        },
        {
          "data": {
            "application/vnd.jupyter.widget-view+json": {
              "model_id": "5aa0f5afe6294c8a89468adfefcc5521",
              "version_major": 2,
              "version_minor": 0
            },
            "text/plain": [
              "VBox(children=(Label(value='0.001 MB of 0.001 MB uploaded\\r'), FloatProgress(value=1.0, max=1.0)))"
            ]
          },
          "metadata": {},
          "output_type": "display_data"
        },
        {
          "data": {
            "text/html": [
              "<style>\n",
              "    table.wandb td:nth-child(1) { padding: 0 10px; text-align: left ; width: auto;} td:nth-child(2) {text-align: left ; width: 100%}\n",
              "    .wandb-row { display: flex; flex-direction: row; flex-wrap: wrap; justify-content: flex-start; width: 100% }\n",
              "    .wandb-col { display: flex; flex-direction: column; flex-basis: 100%; flex: 1; padding: 10px; }\n",
              "    </style>\n",
              "<div class=\"wandb-row\"><div class=\"wandb-col\"><h3>Run history:</h3><br/><table class=\"wandb\"><tr><td>epoch</td><td>▁▂▃▃▄▅▆▆▇█</td></tr><tr><td>inference_time</td><td>▁▁▁█▁▁▂▂▁▁</td></tr><tr><td>test_batch_acc</td><td>▁▁▁▁▅▄▄▄▅▄▄▅▆▅▅▅▇▆▆▆▆▇▇▇▆▆▇▇▇▇▇▇▇███▇▇▇▇</td></tr><tr><td>test_batch_loss</td><td>▆█▇▆▇▄▅▅▄▆▂▅▅▃▄▃▅▄▅▆▅▃▄▅▂▃▂▃▂▁▄▆▂▄▂▃▆▅▅▆</td></tr><tr><td>test_epoch_acc</td><td>▁▃▄▅▆▇▇▇█▇</td></tr><tr><td>test_epoch_loss</td><td>█▅▄▃▃▂▂▁▁▁</td></tr><tr><td>train_batch_acc</td><td>▁▂▂▃▅▅▅▅▆▆▆▆▆▆▆▆▇▇▇▇▇▇▇▇▇▇▇▇▇▇▇▇████████</td></tr><tr><td>train_batch_loss</td><td>▆▄▆▅▅▃▄▅▃▄▄█▃▂▄▂▃▃▆▄▄▅▂▁▂▄▂▂▃▃▄▁▁▂▃▁▃▃▂▅</td></tr><tr><td>train_epoch_acc</td><td>▁▄▅▆▇▇▇▇██</td></tr><tr><td>train_epoch_loss</td><td>█▅▃▃▂▂▁▁▁▁</td></tr><tr><td>train_time</td><td>▆▁▁▂▅▂▁█▁▂</td></tr></table><br/></div><div class=\"wandb-col\"><h3>Run summary:</h3><br/><table class=\"wandb\"><tr><td>epoch</td><td>9</td></tr><tr><td>inference_time</td><td>0.2973</td></tr><tr><td>test_batch_acc</td><td>0.42236</td></tr><tr><td>test_batch_loss</td><td>2.42153</td></tr><tr><td>test_epoch_acc</td><td>0.42236</td></tr><tr><td>test_epoch_loss</td><td>2.28215</td></tr><tr><td>train_batch_acc</td><td>0.29549</td></tr><tr><td>train_batch_loss</td><td>3.00027</td></tr><tr><td>train_epoch_acc</td><td>0.29549</td></tr><tr><td>train_epoch_loss</td><td>2.768</td></tr><tr><td>train_time</td><td>3.10106</td></tr></table><br/></div></div>"
            ],
            "text/plain": [
              "<IPython.core.display.HTML object>"
            ]
          },
          "metadata": {},
          "output_type": "display_data"
        },
        {
          "data": {
            "text/html": [
              " View run <strong style=\"color:#cdcd00\">young-sweep-7</strong> at: <a href='https://wandb.ai/aml-experiments/movenet-yoga-classifier/runs/62dh94wt' target=\"_blank\">https://wandb.ai/aml-experiments/movenet-yoga-classifier/runs/62dh94wt</a><br/> View project at: <a href='https://wandb.ai/aml-experiments/movenet-yoga-classifier' target=\"_blank\">https://wandb.ai/aml-experiments/movenet-yoga-classifier</a><br/>Synced 5 W&B file(s), 0 media file(s), 0 artifact file(s) and 0 other file(s)"
            ],
            "text/plain": [
              "<IPython.core.display.HTML object>"
            ]
          },
          "metadata": {},
          "output_type": "display_data"
        },
        {
          "data": {
            "text/html": [
              "Find logs at: <code>./wandb/run-20240415_172016-62dh94wt/logs</code>"
            ],
            "text/plain": [
              "<IPython.core.display.HTML object>"
            ]
          },
          "metadata": {},
          "output_type": "display_data"
        },
        {
          "name": "stderr",
          "output_type": "stream",
          "text": [
            "\u001b[34m\u001b[1mwandb\u001b[0m: Agent Starting Run: m0ckkonk with config:\n",
            "\u001b[34m\u001b[1mwandb\u001b[0m: \tactivation: tanh\n",
            "\u001b[34m\u001b[1mwandb\u001b[0m: \tbatch_size: 128\n",
            "\u001b[34m\u001b[1mwandb\u001b[0m: \tdropout: 0.2578927440840515\n",
            "\u001b[34m\u001b[1mwandb\u001b[0m: \tlearning_rate: 0.0005\n",
            "\u001b[34m\u001b[1mwandb\u001b[0m: \toptimizer: adam\n",
            "\u001b[34m\u001b[1mwandb\u001b[0m: \u001b[33mWARNING\u001b[0m Ignored wandb.init() arg project when running a sweep.\n"
          ]
        },
        {
          "data": {
            "text/html": [
              "Tracking run with wandb version 0.16.6"
            ],
            "text/plain": [
              "<IPython.core.display.HTML object>"
            ]
          },
          "metadata": {},
          "output_type": "display_data"
        },
        {
          "data": {
            "text/html": [
              "Run data is saved locally in <code>/content/wandb/run-20240415_172110-m0ckkonk</code>"
            ],
            "text/plain": [
              "<IPython.core.display.HTML object>"
            ]
          },
          "metadata": {},
          "output_type": "display_data"
        },
        {
          "data": {
            "text/html": [
              "Syncing run <strong><a href='https://wandb.ai/aml-experiments/movenet-yoga-classifier/runs/m0ckkonk' target=\"_blank\">happy-sweep-8</a></strong> to <a href='https://wandb.ai/aml-experiments/movenet-yoga-classifier' target=\"_blank\">Weights & Biases</a> (<a href='https://wandb.me/run' target=\"_blank\">docs</a>)<br/>Sweep page: <a href='https://wandb.ai/aml-experiments/movenet-yoga-classifier/sweeps/8hka7sd9' target=\"_blank\">https://wandb.ai/aml-experiments/movenet-yoga-classifier/sweeps/8hka7sd9</a>"
            ],
            "text/plain": [
              "<IPython.core.display.HTML object>"
            ]
          },
          "metadata": {},
          "output_type": "display_data"
        },
        {
          "data": {
            "text/html": [
              " View project at <a href='https://wandb.ai/aml-experiments/movenet-yoga-classifier' target=\"_blank\">https://wandb.ai/aml-experiments/movenet-yoga-classifier</a>"
            ],
            "text/plain": [
              "<IPython.core.display.HTML object>"
            ]
          },
          "metadata": {},
          "output_type": "display_data"
        },
        {
          "data": {
            "text/html": [
              " View sweep at <a href='https://wandb.ai/aml-experiments/movenet-yoga-classifier/sweeps/8hka7sd9' target=\"_blank\">https://wandb.ai/aml-experiments/movenet-yoga-classifier/sweeps/8hka7sd9</a>"
            ],
            "text/plain": [
              "<IPython.core.display.HTML object>"
            ]
          },
          "metadata": {},
          "output_type": "display_data"
        },
        {
          "data": {
            "text/html": [
              " View run at <a href='https://wandb.ai/aml-experiments/movenet-yoga-classifier/runs/m0ckkonk' target=\"_blank\">https://wandb.ai/aml-experiments/movenet-yoga-classifier/runs/m0ckkonk</a>"
            ],
            "text/plain": [
              "<IPython.core.display.HTML object>"
            ]
          },
          "metadata": {},
          "output_type": "display_data"
        },
        {
          "name": "stderr",
          "output_type": "stream",
          "text": [
            "\u001b[34m\u001b[1mwandb\u001b[0m: \u001b[33mWARNING\u001b[0m Ignored wandb.init() arg project when running a sweep.\n"
          ]
        },
        {
          "data": {
            "text/html": [
              "Finishing last run (ID:m0ckkonk) before initializing another..."
            ],
            "text/plain": [
              "<IPython.core.display.HTML object>"
            ]
          },
          "metadata": {},
          "output_type": "display_data"
        },
        {
          "data": {
            "application/vnd.jupyter.widget-view+json": {
              "model_id": "9183ed74bd8849e78f384fd36fab7c20",
              "version_major": 2,
              "version_minor": 0
            },
            "text/plain": [
              "VBox(children=(Label(value='0.001 MB of 0.001 MB uploaded\\r'), FloatProgress(value=1.0, max=1.0)))"
            ]
          },
          "metadata": {},
          "output_type": "display_data"
        },
        {
          "data": {
            "text/html": [
              " View run <strong style=\"color:#cdcd00\">happy-sweep-8</strong> at: <a href='https://wandb.ai/aml-experiments/movenet-yoga-classifier/runs/m0ckkonk' target=\"_blank\">https://wandb.ai/aml-experiments/movenet-yoga-classifier/runs/m0ckkonk</a><br/> View project at: <a href='https://wandb.ai/aml-experiments/movenet-yoga-classifier' target=\"_blank\">https://wandb.ai/aml-experiments/movenet-yoga-classifier</a><br/>Synced 5 W&B file(s), 0 media file(s), 0 artifact file(s) and 0 other file(s)"
            ],
            "text/plain": [
              "<IPython.core.display.HTML object>"
            ]
          },
          "metadata": {},
          "output_type": "display_data"
        },
        {
          "data": {
            "text/html": [
              "Find logs at: <code>./wandb/run-20240415_172110-m0ckkonk/logs</code>"
            ],
            "text/plain": [
              "<IPython.core.display.HTML object>"
            ]
          },
          "metadata": {},
          "output_type": "display_data"
        },
        {
          "data": {
            "text/html": [
              "Successfully finished last run (ID:m0ckkonk). Initializing new run:<br/>"
            ],
            "text/plain": [
              "<IPython.core.display.HTML object>"
            ]
          },
          "metadata": {},
          "output_type": "display_data"
        },
        {
          "data": {
            "text/html": [
              "Tracking run with wandb version 0.16.6"
            ],
            "text/plain": [
              "<IPython.core.display.HTML object>"
            ]
          },
          "metadata": {},
          "output_type": "display_data"
        },
        {
          "data": {
            "text/html": [
              "Run data is saved locally in <code>/content/wandb/run-20240415_172112-m0ckkonk</code>"
            ],
            "text/plain": [
              "<IPython.core.display.HTML object>"
            ]
          },
          "metadata": {},
          "output_type": "display_data"
        },
        {
          "data": {
            "text/html": [
              "Syncing run <strong><a href='https://wandb.ai/aml-experiments/movenet-yoga-classifier/runs/m0ckkonk' target=\"_blank\">happy-sweep-8</a></strong> to <a href='https://wandb.ai/aml-experiments/movenet-yoga-classifier' target=\"_blank\">Weights & Biases</a> (<a href='https://wandb.me/run' target=\"_blank\">docs</a>)<br/>Sweep page: <a href='https://wandb.ai/aml-experiments/movenet-yoga-classifier/sweeps/8hka7sd9' target=\"_blank\">https://wandb.ai/aml-experiments/movenet-yoga-classifier/sweeps/8hka7sd9</a>"
            ],
            "text/plain": [
              "<IPython.core.display.HTML object>"
            ]
          },
          "metadata": {},
          "output_type": "display_data"
        },
        {
          "data": {
            "text/html": [
              " View project at <a href='https://wandb.ai/aml-experiments/movenet-yoga-classifier' target=\"_blank\">https://wandb.ai/aml-experiments/movenet-yoga-classifier</a>"
            ],
            "text/plain": [
              "<IPython.core.display.HTML object>"
            ]
          },
          "metadata": {},
          "output_type": "display_data"
        },
        {
          "data": {
            "text/html": [
              " View sweep at <a href='https://wandb.ai/aml-experiments/movenet-yoga-classifier/sweeps/8hka7sd9' target=\"_blank\">https://wandb.ai/aml-experiments/movenet-yoga-classifier/sweeps/8hka7sd9</a>"
            ],
            "text/plain": [
              "<IPython.core.display.HTML object>"
            ]
          },
          "metadata": {},
          "output_type": "display_data"
        },
        {
          "data": {
            "text/html": [
              " View run at <a href='https://wandb.ai/aml-experiments/movenet-yoga-classifier/runs/m0ckkonk' target=\"_blank\">https://wandb.ai/aml-experiments/movenet-yoga-classifier/runs/m0ckkonk</a>"
            ],
            "text/plain": [
              "<IPython.core.display.HTML object>"
            ]
          },
          "metadata": {},
          "output_type": "display_data"
        },
        {
          "name": "stderr",
          "output_type": "stream",
          "text": [
            "100%|██████████| 10/10 [00:37<00:00,  3.73s/it]\n"
          ]
        },
        {
          "data": {
            "application/vnd.jupyter.widget-view+json": {
              "model_id": "3122d95d0b4a4c0f884fbe47415edd97",
              "version_major": 2,
              "version_minor": 0
            },
            "text/plain": [
              "VBox(children=(Label(value='0.001 MB of 0.011 MB uploaded\\r'), FloatProgress(value=0.10883928571428571, max=1.…"
            ]
          },
          "metadata": {},
          "output_type": "display_data"
        },
        {
          "data": {
            "text/html": [
              "<style>\n",
              "    table.wandb td:nth-child(1) { padding: 0 10px; text-align: left ; width: auto;} td:nth-child(2) {text-align: left ; width: 100%}\n",
              "    .wandb-row { display: flex; flex-direction: row; flex-wrap: wrap; justify-content: flex-start; width: 100% }\n",
              "    .wandb-col { display: flex; flex-direction: column; flex-basis: 100%; flex: 1; padding: 10px; }\n",
              "    </style>\n",
              "<div class=\"wandb-row\"><div class=\"wandb-col\"><h3>Run history:</h3><br/><table class=\"wandb\"><tr><td>epoch</td><td>▁▂▃▃▄▅▆▆▇█</td></tr><tr><td>inference_time</td><td>▁█▁▁▁▂▁▁▅▂</td></tr><tr><td>test_batch_acc</td><td>▂▁▂▁▄▂▃▃▇▄▄▄▇▅▅▅▅▇▇▆▆▆▆▇▆▆▆▆▇▇▇▇▇▇▇██▇▇█</td></tr><tr><td>test_batch_loss</td><td>▇█▅▆▆▆▂▃▃▅▅▅▅▅▃▆▃▆▃▇▃▃▆▄▃▄▃▂▇▃▄▆▅▂▆▁▃▅▂▄</td></tr><tr><td>test_epoch_acc</td><td>▁▃▄▅▆▇▆▇██</td></tr><tr><td>test_epoch_loss</td><td>█▅▄▃▂▂▂▁▁▁</td></tr><tr><td>train_batch_acc</td><td>▁▂▃▃▅▅▅▅▇▆▆▆▆▆▆▆▆▆▇▇▇▇▇▇▇▇▇▇█▇▇▇▇▇▇▇████</td></tr><tr><td>train_batch_loss</td><td>██▅▆▅▅▄▇▅▆▅▆▃▅▄▅▃▅▄▅▃▅▃▂▃▅▃▃█▃▅▅▂▂▁▄▆▃▅▂</td></tr><tr><td>train_epoch_acc</td><td>▁▄▅▆▆▇▇███</td></tr><tr><td>train_epoch_loss</td><td>█▄▃▂▂▂▂▁▁▁</td></tr><tr><td>train_time</td><td>▁▃▄▂▁█▂▁▅▂</td></tr></table><br/></div><div class=\"wandb-col\"><h3>Run summary:</h3><br/><table class=\"wandb\"><tr><td>epoch</td><td>9</td></tr><tr><td>inference_time</td><td>0.32289</td></tr><tr><td>test_batch_acc</td><td>0.42994</td></tr><tr><td>test_batch_loss</td><td>2.66395</td></tr><tr><td>test_epoch_acc</td><td>0.42994</td></tr><tr><td>test_epoch_loss</td><td>2.28964</td></tr><tr><td>train_batch_acc</td><td>0.30116</td></tr><tr><td>train_batch_loss</td><td>3.03658</td></tr><tr><td>train_epoch_acc</td><td>0.30116</td></tr><tr><td>train_epoch_loss</td><td>2.755</td></tr><tr><td>train_time</td><td>3.11482</td></tr></table><br/></div></div>"
            ],
            "text/plain": [
              "<IPython.core.display.HTML object>"
            ]
          },
          "metadata": {},
          "output_type": "display_data"
        },
        {
          "data": {
            "text/html": [
              " View run <strong style=\"color:#cdcd00\">happy-sweep-8</strong> at: <a href='https://wandb.ai/aml-experiments/movenet-yoga-classifier/runs/m0ckkonk' target=\"_blank\">https://wandb.ai/aml-experiments/movenet-yoga-classifier/runs/m0ckkonk</a><br/> View project at: <a href='https://wandb.ai/aml-experiments/movenet-yoga-classifier' target=\"_blank\">https://wandb.ai/aml-experiments/movenet-yoga-classifier</a><br/>Synced 5 W&B file(s), 0 media file(s), 0 artifact file(s) and 0 other file(s)"
            ],
            "text/plain": [
              "<IPython.core.display.HTML object>"
            ]
          },
          "metadata": {},
          "output_type": "display_data"
        },
        {
          "data": {
            "text/html": [
              "Find logs at: <code>./wandb/run-20240415_172112-m0ckkonk/logs</code>"
            ],
            "text/plain": [
              "<IPython.core.display.HTML object>"
            ]
          },
          "metadata": {},
          "output_type": "display_data"
        },
        {
          "name": "stderr",
          "output_type": "stream",
          "text": [
            "\u001b[34m\u001b[1mwandb\u001b[0m: Agent Starting Run: m76kzjie with config:\n",
            "\u001b[34m\u001b[1mwandb\u001b[0m: \tactivation: relu\n",
            "\u001b[34m\u001b[1mwandb\u001b[0m: \tbatch_size: 256\n",
            "\u001b[34m\u001b[1mwandb\u001b[0m: \tdropout: 0.3934277638505764\n",
            "\u001b[34m\u001b[1mwandb\u001b[0m: \tlearning_rate: 0.005\n",
            "\u001b[34m\u001b[1mwandb\u001b[0m: \toptimizer: sgd\n",
            "\u001b[34m\u001b[1mwandb\u001b[0m: \u001b[33mWARNING\u001b[0m Ignored wandb.init() arg project when running a sweep.\n"
          ]
        },
        {
          "data": {
            "text/html": [
              "Tracking run with wandb version 0.16.6"
            ],
            "text/plain": [
              "<IPython.core.display.HTML object>"
            ]
          },
          "metadata": {},
          "output_type": "display_data"
        },
        {
          "data": {
            "text/html": [
              "Run data is saved locally in <code>/content/wandb/run-20240415_172206-m76kzjie</code>"
            ],
            "text/plain": [
              "<IPython.core.display.HTML object>"
            ]
          },
          "metadata": {},
          "output_type": "display_data"
        },
        {
          "data": {
            "text/html": [
              "Syncing run <strong><a href='https://wandb.ai/aml-experiments/movenet-yoga-classifier/runs/m76kzjie' target=\"_blank\">crisp-sweep-9</a></strong> to <a href='https://wandb.ai/aml-experiments/movenet-yoga-classifier' target=\"_blank\">Weights & Biases</a> (<a href='https://wandb.me/run' target=\"_blank\">docs</a>)<br/>Sweep page: <a href='https://wandb.ai/aml-experiments/movenet-yoga-classifier/sweeps/8hka7sd9' target=\"_blank\">https://wandb.ai/aml-experiments/movenet-yoga-classifier/sweeps/8hka7sd9</a>"
            ],
            "text/plain": [
              "<IPython.core.display.HTML object>"
            ]
          },
          "metadata": {},
          "output_type": "display_data"
        },
        {
          "data": {
            "text/html": [
              " View project at <a href='https://wandb.ai/aml-experiments/movenet-yoga-classifier' target=\"_blank\">https://wandb.ai/aml-experiments/movenet-yoga-classifier</a>"
            ],
            "text/plain": [
              "<IPython.core.display.HTML object>"
            ]
          },
          "metadata": {},
          "output_type": "display_data"
        },
        {
          "data": {
            "text/html": [
              " View sweep at <a href='https://wandb.ai/aml-experiments/movenet-yoga-classifier/sweeps/8hka7sd9' target=\"_blank\">https://wandb.ai/aml-experiments/movenet-yoga-classifier/sweeps/8hka7sd9</a>"
            ],
            "text/plain": [
              "<IPython.core.display.HTML object>"
            ]
          },
          "metadata": {},
          "output_type": "display_data"
        },
        {
          "data": {
            "text/html": [
              " View run at <a href='https://wandb.ai/aml-experiments/movenet-yoga-classifier/runs/m76kzjie' target=\"_blank\">https://wandb.ai/aml-experiments/movenet-yoga-classifier/runs/m76kzjie</a>"
            ],
            "text/plain": [
              "<IPython.core.display.HTML object>"
            ]
          },
          "metadata": {},
          "output_type": "display_data"
        },
        {
          "name": "stderr",
          "output_type": "stream",
          "text": [
            "\u001b[34m\u001b[1mwandb\u001b[0m: \u001b[33mWARNING\u001b[0m Ignored wandb.init() arg project when running a sweep.\n"
          ]
        },
        {
          "data": {
            "text/html": [
              "Finishing last run (ID:m76kzjie) before initializing another..."
            ],
            "text/plain": [
              "<IPython.core.display.HTML object>"
            ]
          },
          "metadata": {},
          "output_type": "display_data"
        },
        {
          "data": {
            "application/vnd.jupyter.widget-view+json": {
              "model_id": "bf2af93898894dcba97952665ce3b89f",
              "version_major": 2,
              "version_minor": 0
            },
            "text/plain": [
              "VBox(children=(Label(value='0.001 MB of 0.001 MB uploaded\\r'), FloatProgress(value=1.0, max=1.0)))"
            ]
          },
          "metadata": {},
          "output_type": "display_data"
        },
        {
          "data": {
            "text/html": [
              " View run <strong style=\"color:#cdcd00\">crisp-sweep-9</strong> at: <a href='https://wandb.ai/aml-experiments/movenet-yoga-classifier/runs/m76kzjie' target=\"_blank\">https://wandb.ai/aml-experiments/movenet-yoga-classifier/runs/m76kzjie</a><br/> View project at: <a href='https://wandb.ai/aml-experiments/movenet-yoga-classifier' target=\"_blank\">https://wandb.ai/aml-experiments/movenet-yoga-classifier</a><br/>Synced 5 W&B file(s), 0 media file(s), 0 artifact file(s) and 0 other file(s)"
            ],
            "text/plain": [
              "<IPython.core.display.HTML object>"
            ]
          },
          "metadata": {},
          "output_type": "display_data"
        },
        {
          "data": {
            "text/html": [
              "Find logs at: <code>./wandb/run-20240415_172206-m76kzjie/logs</code>"
            ],
            "text/plain": [
              "<IPython.core.display.HTML object>"
            ]
          },
          "metadata": {},
          "output_type": "display_data"
        },
        {
          "data": {
            "text/html": [
              "Successfully finished last run (ID:m76kzjie). Initializing new run:<br/>"
            ],
            "text/plain": [
              "<IPython.core.display.HTML object>"
            ]
          },
          "metadata": {},
          "output_type": "display_data"
        },
        {
          "data": {
            "text/html": [
              "Tracking run with wandb version 0.16.6"
            ],
            "text/plain": [
              "<IPython.core.display.HTML object>"
            ]
          },
          "metadata": {},
          "output_type": "display_data"
        },
        {
          "data": {
            "text/html": [
              "Run data is saved locally in <code>/content/wandb/run-20240415_172208-m76kzjie</code>"
            ],
            "text/plain": [
              "<IPython.core.display.HTML object>"
            ]
          },
          "metadata": {},
          "output_type": "display_data"
        },
        {
          "data": {
            "text/html": [
              "Syncing run <strong><a href='https://wandb.ai/aml-experiments/movenet-yoga-classifier/runs/m76kzjie' target=\"_blank\">crisp-sweep-9</a></strong> to <a href='https://wandb.ai/aml-experiments/movenet-yoga-classifier' target=\"_blank\">Weights & Biases</a> (<a href='https://wandb.me/run' target=\"_blank\">docs</a>)<br/>Sweep page: <a href='https://wandb.ai/aml-experiments/movenet-yoga-classifier/sweeps/8hka7sd9' target=\"_blank\">https://wandb.ai/aml-experiments/movenet-yoga-classifier/sweeps/8hka7sd9</a>"
            ],
            "text/plain": [
              "<IPython.core.display.HTML object>"
            ]
          },
          "metadata": {},
          "output_type": "display_data"
        },
        {
          "data": {
            "text/html": [
              " View project at <a href='https://wandb.ai/aml-experiments/movenet-yoga-classifier' target=\"_blank\">https://wandb.ai/aml-experiments/movenet-yoga-classifier</a>"
            ],
            "text/plain": [
              "<IPython.core.display.HTML object>"
            ]
          },
          "metadata": {},
          "output_type": "display_data"
        },
        {
          "data": {
            "text/html": [
              " View sweep at <a href='https://wandb.ai/aml-experiments/movenet-yoga-classifier/sweeps/8hka7sd9' target=\"_blank\">https://wandb.ai/aml-experiments/movenet-yoga-classifier/sweeps/8hka7sd9</a>"
            ],
            "text/plain": [
              "<IPython.core.display.HTML object>"
            ]
          },
          "metadata": {},
          "output_type": "display_data"
        },
        {
          "data": {
            "text/html": [
              " View run at <a href='https://wandb.ai/aml-experiments/movenet-yoga-classifier/runs/m76kzjie' target=\"_blank\">https://wandb.ai/aml-experiments/movenet-yoga-classifier/runs/m76kzjie</a>"
            ],
            "text/plain": [
              "<IPython.core.display.HTML object>"
            ]
          },
          "metadata": {},
          "output_type": "display_data"
        },
        {
          "name": "stderr",
          "output_type": "stream",
          "text": [
            "100%|██████████| 10/10 [00:45<00:00,  4.58s/it]\n"
          ]
        },
        {
          "data": {
            "application/vnd.jupyter.widget-view+json": {
              "model_id": "6e01781a56af4cd69649a59761d81589",
              "version_major": 2,
              "version_minor": 0
            },
            "text/plain": [
              "VBox(children=(Label(value='0.001 MB of 0.001 MB uploaded\\r'), FloatProgress(value=1.0, max=1.0)))"
            ]
          },
          "metadata": {},
          "output_type": "display_data"
        },
        {
          "data": {
            "text/html": [
              "<style>\n",
              "    table.wandb td:nth-child(1) { padding: 0 10px; text-align: left ; width: auto;} td:nth-child(2) {text-align: left ; width: 100%}\n",
              "    .wandb-row { display: flex; flex-direction: row; flex-wrap: wrap; justify-content: flex-start; width: 100% }\n",
              "    .wandb-col { display: flex; flex-direction: column; flex-basis: 100%; flex: 1; padding: 10px; }\n",
              "    </style>\n",
              "<div class=\"wandb-row\"><div class=\"wandb-col\"><h3>Run history:</h3><br/><table class=\"wandb\"><tr><td>epoch</td><td>▁▂▃▃▄▅▆▆▇█</td></tr><tr><td>inference_time</td><td>▁▁▂▆▁▅▁▃█▅</td></tr><tr><td>test_batch_acc</td><td>▁▁▂▂▂▄▄▄▅▅▅▅█▆▆▆▄▆▆▆▇▆▆▆▇▇▇▇▇▇▇▇▇▇▇▇██▇▇</td></tr><tr><td>test_batch_loss</td><td>▅█▄▄▅▄▃▄▃▄▄▅▁▅▅▁▄▅▂▃▂▄▂▂▁▃▆▆▂▃▅▂▃▂▂▄▂▄▂▃</td></tr><tr><td>test_epoch_acc</td><td>▁▄▅▆▆▆▇███</td></tr><tr><td>test_epoch_loss</td><td>█▅▄▃▂▃▂▂▁▁</td></tr><tr><td>train_batch_acc</td><td>▁▂▂▃▅▅▅▅▇▆▆▆▆▆▆▆▇▇▇▇▇▇▇▇▇▇▇▇████████████</td></tr><tr><td>train_batch_loss</td><td>▆▅▄▃▃▃▄▂▃▃▃▄▃▂▅▃▃▆▄▃█▃▃▁▂▁▅▂▂▅▂▂▄▃▃▄▃▂█▃</td></tr><tr><td>train_epoch_acc</td><td>▁▄▅▆▇▇▇███</td></tr><tr><td>train_epoch_loss</td><td>█▄▃▂▂▂▁▁▁▁</td></tr><tr><td>train_time</td><td>▃▁▁█▁▁▂▂▄▄</td></tr></table><br/></div><div class=\"wandb-col\"><h3>Run summary:</h3><br/><table class=\"wandb\"><tr><td>epoch</td><td>9</td></tr><tr><td>inference_time</td><td>0.67195</td></tr><tr><td>test_batch_acc</td><td>0.44631</td></tr><tr><td>test_batch_loss</td><td>2.69304</td></tr><tr><td>test_epoch_acc</td><td>0.44631</td></tr><tr><td>test_epoch_loss</td><td>2.22182</td></tr><tr><td>train_batch_acc</td><td>0.30683</td></tr><tr><td>train_batch_loss</td><td>4.23596</td></tr><tr><td>train_epoch_acc</td><td>0.30683</td></tr><tr><td>train_epoch_loss</td><td>2.7291</td></tr><tr><td>train_time</td><td>4.58009</td></tr></table><br/></div></div>"
            ],
            "text/plain": [
              "<IPython.core.display.HTML object>"
            ]
          },
          "metadata": {},
          "output_type": "display_data"
        },
        {
          "data": {
            "text/html": [
              " View run <strong style=\"color:#cdcd00\">crisp-sweep-9</strong> at: <a href='https://wandb.ai/aml-experiments/movenet-yoga-classifier/runs/m76kzjie' target=\"_blank\">https://wandb.ai/aml-experiments/movenet-yoga-classifier/runs/m76kzjie</a><br/> View project at: <a href='https://wandb.ai/aml-experiments/movenet-yoga-classifier' target=\"_blank\">https://wandb.ai/aml-experiments/movenet-yoga-classifier</a><br/>Synced 5 W&B file(s), 0 media file(s), 0 artifact file(s) and 0 other file(s)"
            ],
            "text/plain": [
              "<IPython.core.display.HTML object>"
            ]
          },
          "metadata": {},
          "output_type": "display_data"
        },
        {
          "data": {
            "text/html": [
              "Find logs at: <code>./wandb/run-20240415_172208-m76kzjie/logs</code>"
            ],
            "text/plain": [
              "<IPython.core.display.HTML object>"
            ]
          },
          "metadata": {},
          "output_type": "display_data"
        },
        {
          "name": "stderr",
          "output_type": "stream",
          "text": [
            "\u001b[34m\u001b[1mwandb\u001b[0m: Agent Starting Run: lwk76fvj with config:\n",
            "\u001b[34m\u001b[1mwandb\u001b[0m: \tactivation: tanh\n",
            "\u001b[34m\u001b[1mwandb\u001b[0m: \tbatch_size: 32\n",
            "\u001b[34m\u001b[1mwandb\u001b[0m: \tdropout: 0.95024310853758\n",
            "\u001b[34m\u001b[1mwandb\u001b[0m: \tlearning_rate: 0.01\n",
            "\u001b[34m\u001b[1mwandb\u001b[0m: \toptimizer: adam\n",
            "\u001b[34m\u001b[1mwandb\u001b[0m: \u001b[33mWARNING\u001b[0m Ignored wandb.init() arg project when running a sweep.\n"
          ]
        },
        {
          "data": {
            "text/html": [
              "Tracking run with wandb version 0.16.6"
            ],
            "text/plain": [
              "<IPython.core.display.HTML object>"
            ]
          },
          "metadata": {},
          "output_type": "display_data"
        },
        {
          "data": {
            "text/html": [
              "Run data is saved locally in <code>/content/wandb/run-20240415_172313-lwk76fvj</code>"
            ],
            "text/plain": [
              "<IPython.core.display.HTML object>"
            ]
          },
          "metadata": {},
          "output_type": "display_data"
        },
        {
          "data": {
            "text/html": [
              "Syncing run <strong><a href='https://wandb.ai/aml-experiments/movenet-yoga-classifier/runs/lwk76fvj' target=\"_blank\">hopeful-sweep-10</a></strong> to <a href='https://wandb.ai/aml-experiments/movenet-yoga-classifier' target=\"_blank\">Weights & Biases</a> (<a href='https://wandb.me/run' target=\"_blank\">docs</a>)<br/>Sweep page: <a href='https://wandb.ai/aml-experiments/movenet-yoga-classifier/sweeps/8hka7sd9' target=\"_blank\">https://wandb.ai/aml-experiments/movenet-yoga-classifier/sweeps/8hka7sd9</a>"
            ],
            "text/plain": [
              "<IPython.core.display.HTML object>"
            ]
          },
          "metadata": {},
          "output_type": "display_data"
        },
        {
          "data": {
            "text/html": [
              " View project at <a href='https://wandb.ai/aml-experiments/movenet-yoga-classifier' target=\"_blank\">https://wandb.ai/aml-experiments/movenet-yoga-classifier</a>"
            ],
            "text/plain": [
              "<IPython.core.display.HTML object>"
            ]
          },
          "metadata": {},
          "output_type": "display_data"
        },
        {
          "data": {
            "text/html": [
              " View sweep at <a href='https://wandb.ai/aml-experiments/movenet-yoga-classifier/sweeps/8hka7sd9' target=\"_blank\">https://wandb.ai/aml-experiments/movenet-yoga-classifier/sweeps/8hka7sd9</a>"
            ],
            "text/plain": [
              "<IPython.core.display.HTML object>"
            ]
          },
          "metadata": {},
          "output_type": "display_data"
        },
        {
          "data": {
            "text/html": [
              " View run at <a href='https://wandb.ai/aml-experiments/movenet-yoga-classifier/runs/lwk76fvj' target=\"_blank\">https://wandb.ai/aml-experiments/movenet-yoga-classifier/runs/lwk76fvj</a>"
            ],
            "text/plain": [
              "<IPython.core.display.HTML object>"
            ]
          },
          "metadata": {},
          "output_type": "display_data"
        },
        {
          "name": "stderr",
          "output_type": "stream",
          "text": [
            "\u001b[34m\u001b[1mwandb\u001b[0m: \u001b[33mWARNING\u001b[0m Ignored wandb.init() arg project when running a sweep.\n"
          ]
        },
        {
          "data": {
            "text/html": [
              "Finishing last run (ID:lwk76fvj) before initializing another..."
            ],
            "text/plain": [
              "<IPython.core.display.HTML object>"
            ]
          },
          "metadata": {},
          "output_type": "display_data"
        },
        {
          "data": {
            "application/vnd.jupyter.widget-view+json": {
              "model_id": "fe000cf22f3c4ba09d391bf47ddc3077",
              "version_major": 2,
              "version_minor": 0
            },
            "text/plain": [
              "VBox(children=(Label(value='0.001 MB of 0.001 MB uploaded\\r'), FloatProgress(value=1.0, max=1.0)))"
            ]
          },
          "metadata": {},
          "output_type": "display_data"
        },
        {
          "data": {
            "text/html": [
              " View run <strong style=\"color:#cdcd00\">hopeful-sweep-10</strong> at: <a href='https://wandb.ai/aml-experiments/movenet-yoga-classifier/runs/lwk76fvj' target=\"_blank\">https://wandb.ai/aml-experiments/movenet-yoga-classifier/runs/lwk76fvj</a><br/> View project at: <a href='https://wandb.ai/aml-experiments/movenet-yoga-classifier' target=\"_blank\">https://wandb.ai/aml-experiments/movenet-yoga-classifier</a><br/>Synced 5 W&B file(s), 0 media file(s), 0 artifact file(s) and 0 other file(s)"
            ],
            "text/plain": [
              "<IPython.core.display.HTML object>"
            ]
          },
          "metadata": {},
          "output_type": "display_data"
        },
        {
          "data": {
            "text/html": [
              "Find logs at: <code>./wandb/run-20240415_172313-lwk76fvj/logs</code>"
            ],
            "text/plain": [
              "<IPython.core.display.HTML object>"
            ]
          },
          "metadata": {},
          "output_type": "display_data"
        },
        {
          "data": {
            "text/html": [
              "Successfully finished last run (ID:lwk76fvj). Initializing new run:<br/>"
            ],
            "text/plain": [
              "<IPython.core.display.HTML object>"
            ]
          },
          "metadata": {},
          "output_type": "display_data"
        },
        {
          "data": {
            "text/html": [
              "Tracking run with wandb version 0.16.6"
            ],
            "text/plain": [
              "<IPython.core.display.HTML object>"
            ]
          },
          "metadata": {},
          "output_type": "display_data"
        },
        {
          "data": {
            "text/html": [
              "Run data is saved locally in <code>/content/wandb/run-20240415_172315-lwk76fvj</code>"
            ],
            "text/plain": [
              "<IPython.core.display.HTML object>"
            ]
          },
          "metadata": {},
          "output_type": "display_data"
        },
        {
          "data": {
            "text/html": [
              "Syncing run <strong><a href='https://wandb.ai/aml-experiments/movenet-yoga-classifier/runs/lwk76fvj' target=\"_blank\">hopeful-sweep-10</a></strong> to <a href='https://wandb.ai/aml-experiments/movenet-yoga-classifier' target=\"_blank\">Weights & Biases</a> (<a href='https://wandb.me/run' target=\"_blank\">docs</a>)<br/>Sweep page: <a href='https://wandb.ai/aml-experiments/movenet-yoga-classifier/sweeps/8hka7sd9' target=\"_blank\">https://wandb.ai/aml-experiments/movenet-yoga-classifier/sweeps/8hka7sd9</a>"
            ],
            "text/plain": [
              "<IPython.core.display.HTML object>"
            ]
          },
          "metadata": {},
          "output_type": "display_data"
        },
        {
          "data": {
            "text/html": [
              " View project at <a href='https://wandb.ai/aml-experiments/movenet-yoga-classifier' target=\"_blank\">https://wandb.ai/aml-experiments/movenet-yoga-classifier</a>"
            ],
            "text/plain": [
              "<IPython.core.display.HTML object>"
            ]
          },
          "metadata": {},
          "output_type": "display_data"
        },
        {
          "data": {
            "text/html": [
              " View sweep at <a href='https://wandb.ai/aml-experiments/movenet-yoga-classifier/sweeps/8hka7sd9' target=\"_blank\">https://wandb.ai/aml-experiments/movenet-yoga-classifier/sweeps/8hka7sd9</a>"
            ],
            "text/plain": [
              "<IPython.core.display.HTML object>"
            ]
          },
          "metadata": {},
          "output_type": "display_data"
        },
        {
          "data": {
            "text/html": [
              " View run at <a href='https://wandb.ai/aml-experiments/movenet-yoga-classifier/runs/lwk76fvj' target=\"_blank\">https://wandb.ai/aml-experiments/movenet-yoga-classifier/runs/lwk76fvj</a>"
            ],
            "text/plain": [
              "<IPython.core.display.HTML object>"
            ]
          },
          "metadata": {},
          "output_type": "display_data"
        },
        {
          "name": "stderr",
          "output_type": "stream",
          "text": [
            "100%|██████████| 10/10 [00:50<00:00,  5.01s/it]\n"
          ]
        },
        {
          "data": {
            "application/vnd.jupyter.widget-view+json": {
              "model_id": "59fa88b58f42454c90161db75136e237",
              "version_major": 2,
              "version_minor": 0
            },
            "text/plain": [
              "VBox(children=(Label(value='0.001 MB of 0.001 MB uploaded\\r'), FloatProgress(value=1.0, max=1.0)))"
            ]
          },
          "metadata": {},
          "output_type": "display_data"
        },
        {
          "data": {
            "text/html": [
              "<style>\n",
              "    table.wandb td:nth-child(1) { padding: 0 10px; text-align: left ; width: auto;} td:nth-child(2) {text-align: left ; width: 100%}\n",
              "    .wandb-row { display: flex; flex-direction: row; flex-wrap: wrap; justify-content: flex-start; width: 100% }\n",
              "    .wandb-col { display: flex; flex-direction: column; flex-basis: 100%; flex: 1; padding: 10px; }\n",
              "    </style>\n",
              "<div class=\"wandb-row\"><div class=\"wandb-col\"><h3>Run history:</h3><br/><table class=\"wandb\"><tr><td>epoch</td><td>▁▂▃▃▄▅▆▆▇█</td></tr><tr><td>inference_time</td><td>▄█▂▁▄▂▃▅▇▁</td></tr><tr><td>test_batch_acc</td><td>▂▁▁▁▅▄▄▄▇▅▅▅▇▅▅▅▇▇▆▆▇▆▆▆▆▇▇▇▆▆▆▆█▇▇▇██▇█</td></tr><tr><td>test_batch_loss</td><td>▅▅▆█▇▄▇▃▃█▁▂▃▄▆▄▄▆▄▅▅▃▂▅▂▂▁▂▃▃▅▆▃▃▅▃▃▅▂▃</td></tr><tr><td>test_epoch_acc</td><td>▁▃▅▅▆▆▇▆▆█</td></tr><tr><td>test_epoch_loss</td><td>█▅▄▃▃▃▂▁▁▁</td></tr><tr><td>train_batch_acc</td><td>▁▂▃▃▅▅▅▅▅▆▆▆▇▇▆▆▇▇▇▇▇▇▇▇▇▇▇▇████████████</td></tr><tr><td>train_batch_loss</td><td>█▇▅▆▃▄▄▅▆▄▄▄▅▅▅▂▃▃▄▄▄▇▃▃▄▃▄▄▅▃▁▃▅▂▃▁▂▃▅▃</td></tr><tr><td>train_epoch_acc</td><td>▁▄▅▆▇▇▇███</td></tr><tr><td>train_epoch_loss</td><td>█▄▃▂▂▂▁▁▁▁</td></tr><tr><td>train_time</td><td>█▇▁▁▆▁▄▇▄▇</td></tr></table><br/></div><div class=\"wandb-col\"><h3>Run summary:</h3><br/><table class=\"wandb\"><tr><td>epoch</td><td>9</td></tr><tr><td>inference_time</td><td>0.27659</td></tr><tr><td>test_batch_acc</td><td>0.44591</td></tr><tr><td>test_batch_loss</td><td>2.0257</td></tr><tr><td>test_epoch_acc</td><td>0.44591</td></tr><tr><td>test_epoch_loss</td><td>2.26658</td></tr><tr><td>train_batch_acc</td><td>0.29022</td></tr><tr><td>train_batch_loss</td><td>2.77778</td></tr><tr><td>train_epoch_acc</td><td>0.29022</td></tr><tr><td>train_epoch_loss</td><td>2.79339</td></tr><tr><td>train_time</td><td>5.41947</td></tr></table><br/></div></div>"
            ],
            "text/plain": [
              "<IPython.core.display.HTML object>"
            ]
          },
          "metadata": {},
          "output_type": "display_data"
        },
        {
          "data": {
            "text/html": [
              " View run <strong style=\"color:#cdcd00\">hopeful-sweep-10</strong> at: <a href='https://wandb.ai/aml-experiments/movenet-yoga-classifier/runs/lwk76fvj' target=\"_blank\">https://wandb.ai/aml-experiments/movenet-yoga-classifier/runs/lwk76fvj</a><br/> View project at: <a href='https://wandb.ai/aml-experiments/movenet-yoga-classifier' target=\"_blank\">https://wandb.ai/aml-experiments/movenet-yoga-classifier</a><br/>Synced 5 W&B file(s), 0 media file(s), 0 artifact file(s) and 0 other file(s)"
            ],
            "text/plain": [
              "<IPython.core.display.HTML object>"
            ]
          },
          "metadata": {},
          "output_type": "display_data"
        },
        {
          "data": {
            "text/html": [
              "Find logs at: <code>./wandb/run-20240415_172315-lwk76fvj/logs</code>"
            ],
            "text/plain": [
              "<IPython.core.display.HTML object>"
            ]
          },
          "metadata": {},
          "output_type": "display_data"
        }
      ],
      "source": [
        "sweep_config = {\n",
        "  'method': 'random',\n",
        "  'metric': {\n",
        "      'name': 'test_epoch_acc',\n",
        "      'goal': 'maximize'\n",
        "  },\n",
        "  'early_terminate': {\n",
        "      'type': 'hyperband',\n",
        "      'min_iter': 5\n",
        "  },\n",
        "  'parameters': {\n",
        "      'batch_size': {\n",
        "          'values': [16, 32, 64, 128, 256]\n",
        "      },\n",
        "      'learning_rate': {\n",
        "          'values': [0.01, 0.005, 0.001, 0.0005, 0.0001]\n",
        "      },\n",
        "      'dropout': {\n",
        "          'distribution': 'uniform',\n",
        "          'max': 1.0,\n",
        "          'min': 0\n",
        "      },\n",
        "      'optimizer': {\n",
        "          'values': ['adam', 'sgd']\n",
        "      },\n",
        "      'activation': {\n",
        "          'values': ['relu', 'sigmoid', 'tanh']\n",
        "      },\n",
        "  }\n",
        "}\n",
        "\n",
        "sweep_id = wandb.sweep(sweep_config, project=\"movenet-yoga-classifier\")\n",
        "wandb.agent(sweep_id, function=sweep_train, count=10)\n",
        "wandb.finish()"
      ]
    },
    {
      "cell_type": "markdown",
      "metadata": {
        "id": "hwtGAA_3wJf_"
      },
      "source": [
        "## Train Best Model"
      ]
    },
    {
      "cell_type": "code",
      "execution_count": 69,
      "metadata": {
        "colab": {
          "base_uri": "https://localhost:8080/",
          "height": 156
        },
        "id": "6zAk_hrhwGYd",
        "outputId": "39ca15f3-9a88-4df6-ee8d-579b94171114"
      },
      "outputs": [
        {
          "name": "stderr",
          "output_type": "stream",
          "text": [
            "\u001b[34m\u001b[1mwandb\u001b[0m: Currently logged in as: \u001b[33mac5140\u001b[0m (\u001b[33maml-experiments\u001b[0m). Use \u001b[1m`wandb login --relogin`\u001b[0m to force relogin\n"
          ]
        },
        {
          "data": {
            "text/html": [
              "Tracking run with wandb version 0.16.6"
            ],
            "text/plain": [
              "<IPython.core.display.HTML object>"
            ]
          },
          "metadata": {},
          "output_type": "display_data"
        },
        {
          "data": {
            "text/html": [
              "Run data is saved locally in <code>/content/drive/MyDrive/School/MS/Coursework/Spring 2024/AML/Final Project/Demo/wandb/run-20240415_191638-whh76uyh</code>"
            ],
            "text/plain": [
              "<IPython.core.display.HTML object>"
            ]
          },
          "metadata": {},
          "output_type": "display_data"
        },
        {
          "data": {
            "text/html": [
              "Syncing run <strong><a href='https://wandb.ai/aml-experiments/movenet-yoga-classifier/runs/whh76uyh' target=\"_blank\">zesty-cloud-12</a></strong> to <a href='https://wandb.ai/aml-experiments/movenet-yoga-classifier' target=\"_blank\">Weights & Biases</a> (<a href='https://wandb.me/run' target=\"_blank\">docs</a>)<br/>"
            ],
            "text/plain": [
              "<IPython.core.display.HTML object>"
            ]
          },
          "metadata": {},
          "output_type": "display_data"
        },
        {
          "data": {
            "text/html": [
              " View project at <a href='https://wandb.ai/aml-experiments/movenet-yoga-classifier' target=\"_blank\">https://wandb.ai/aml-experiments/movenet-yoga-classifier</a>"
            ],
            "text/plain": [
              "<IPython.core.display.HTML object>"
            ]
          },
          "metadata": {},
          "output_type": "display_data"
        },
        {
          "data": {
            "text/html": [
              " View run at <a href='https://wandb.ai/aml-experiments/movenet-yoga-classifier/runs/whh76uyh' target=\"_blank\">https://wandb.ai/aml-experiments/movenet-yoga-classifier/runs/whh76uyh</a>"
            ],
            "text/plain": [
              "<IPython.core.display.HTML object>"
            ]
          },
          "metadata": {},
          "output_type": "display_data"
        },
        {
          "name": "stderr",
          "output_type": "stream",
          "text": [
            "100%|██████████| 300/300 [02:49<00:00,  1.77it/s]\n",
            "\u001b[34m\u001b[1mwandb\u001b[0m: \u001b[32m\u001b[41mERROR\u001b[0m Control-C detected -- Run data was not synced\n"
          ]
        }
      ],
      "source": [
        "config = ConfigDict(epochs=300,\n",
        "    batch_size=256,\n",
        "    dropout=0.39,\n",
        "    optimizer='adam',\n",
        "    learning_rate=0.005,\n",
        "    activation='relu')\n",
        "\n",
        "device = torch.device(\"cuda\" if torch.cuda.is_available() else \"cpu\")\n",
        "\n",
        "train(config=config, log_wandb=True, save_path='./best_model')\n",
        "\n",
        "wandb.finish()"
      ]
    },
    {
      "cell_type": "markdown",
      "metadata": {
        "id": "miSKPRQx5CGe"
      },
      "source": [
        "# Evaluate Model"
      ]
    },
    {
      "cell_type": "code",
      "execution_count": 28,
      "metadata": {
        "id": "3UA1C52lJagO"
      },
      "outputs": [],
      "source": [
        "model = Classifier()\n",
        "model = torch.load('./best_model')"
      ]
    },
    {
      "cell_type": "code",
      "execution_count": null,
      "metadata": {
        "id": "72KCgaHH5KJQ"
      },
      "outputs": [],
      "source": [
        "def eval(model, loader):\n",
        "  model.eval()\n",
        "  true = []\n",
        "  preds = []\n",
        "  with torch.no_grad():\n",
        "    for i, batch in enumerate(loader):\n",
        "      e, labels = batch['embedding'].to(device, dtype=torch.float32), batch['pose'].to(device, dtype=torch.float32)\n",
        "      true.append(labels)\n",
        "      preds.append(model(e))\n",
        "  return torch.cat(true, dim=0).detach().cpu().numpy(), torch.cat(preds, dim=0).detach().cpu().numpy()\n"
      ]
    },
    {
      "cell_type": "code",
      "execution_count": null,
      "metadata": {
        "id": "5ZlzYA-P513y"
      },
      "outputs": [],
      "source": [
        "train_dataset = PoseEmbeddingsDataset(X_train, y_train_dummy)\n",
        "test_dataset = PoseEmbeddingsDataset(X_test, y_test_dummy)\n",
        "train_dataloader = torch.utils.data.DataLoader(train_dataset, batch_size=64, shuffle=True)\n",
        "test_dataloader = torch.utils.data.DataLoader(test_dataset, batch_size=64, shuffle=True)"
      ]
    },
    {
      "cell_type": "code",
      "execution_count": null,
      "metadata": {
        "colab": {
          "base_uri": "https://localhost:8080/",
          "height": 471
        },
        "id": "JslI0-as-sIO",
        "outputId": "8e6f415b-697a-4cbf-94c0-9caf38b951bf"
      },
      "outputs": [
        {
          "name": "stdout",
          "output_type": "stream",
          "text": [
            "{'acc': 0.6628343313373254, 'bal_acc': 0.6273395120725609}\n"
          ]
        },
        {
          "data": {
            "text/plain": [
              "<Axes: >"
            ]
          },
          "execution_count": 197,
          "metadata": {},
          "output_type": "execute_result"
        },
        {
          "data": {
            "image/png": "[encoded data removed]",
            "text/plain": [
              "<Figure size 640x480 with 2 Axes>"
            ]
          },
          "metadata": {},
          "output_type": "display_data"
        }
      ],
      "source": [
        "train_true, train_preds = eval(model, train_dataloader)\n",
        "train_true = train_true.argmax(axis=1)\n",
        "train_preds = train_preds.argmax(axis=1)\n",
        "\n",
        "train_metrics = {'acc': accuracy_score(train_true, train_preds),\n",
        "                 'bal_acc': balanced_accuracy_score(train_true, train_preds)}\n",
        "print(train_metrics)\n",
        "cm = confusion_matrix(train_true, train_preds)\n",
        "sns.heatmap(cm)"
      ]
    },
    {
      "cell_type": "code",
      "execution_count": null,
      "metadata": {
        "colab": {
          "base_uri": "https://localhost:8080/",
          "height": 471
        },
        "id": "TSz6Ihen57_g",
        "outputId": "2aabfa79-e61b-4b91-ff14-b733d6326264"
      },
      "outputs": [
        {
          "name": "stdout",
          "output_type": "stream",
          "text": [
            "{'acc': 0.5976047904191617, 'bal_acc': 0.55749892550983}\n"
          ]
        },
        {
          "data": {
            "text/plain": [
              "<Axes: >"
            ]
          },
          "execution_count": 194,
          "metadata": {},
          "output_type": "execute_result"
        },
        {
          "data": {
            "image/png": "[encoded data removed]",
            "text/plain": [
              "<Figure size 640x480 with 2 Axes>"
            ]
          },
          "metadata": {},
          "output_type": "display_data"
        }
      ],
      "source": [
        "test_true, test_preds = eval(model, test_dataloader)\n",
        "test_true = test_true.argmax(axis=1)\n",
        "test_preds = test_preds.argmax(axis=1)\n",
        "\n",
        "test_metrics = {'acc': accuracy_score(test_true, test_preds),\n",
        "                 'bal_acc': balanced_accuracy_score(test_true, test_preds)}\n",
        "print(test_metrics)\n",
        "cm = confusion_matrix(test_true, test_preds)\n",
        "sns.heatmap(cm)"
      ]
    },
    {
      "cell_type": "markdown",
      "metadata": {
        "id": "De9Yvmte_E5Z"
      },
      "source": [
        "# Live Demo"
      ]
    },
    {
      "cell_type": "code",
      "execution_count": 6,
      "metadata": {
        "id": "7uCth3F0_Fc0"
      },
      "outputs": [],
      "source": [
        "def to_gif(images, duration):\n",
        "  \"\"\"Converts image sequence (4D numpy array) to gif.\"\"\"\n",
        "  imageio.mimsave('./animation.gif', images, duration=duration)\n",
        "  return embed.embed_file('./animation.gif')"
      ]
    },
    {
      "cell_type": "code",
      "execution_count": 7,
      "metadata": {
        "colab": {
          "base_uri": "https://localhost:8080/"
        },
        "id": "HWN5rmJfAsKe",
        "outputId": "ffb060a7-ff9a-43d0-d2a3-b5d863db33a9"
      },
      "outputs": [
        {
          "name": "stdout",
          "output_type": "stream",
          "text": [
            "Mounted at /content/drive\n"
          ]
        }
      ],
      "source": [
        "from google.colab import drive\n",
        "drive.mount('/content/drive')"
      ]
    },
    {
      "cell_type": "code",
      "execution_count": 14,
      "metadata": {
        "colab": {
          "base_uri": "https://localhost:8080/"
        },
        "id": "ovQkNcq0BVn5",
        "outputId": "64144939-97eb-4c65-f068-570e4771f819"
      },
      "outputs": [
        {
          "name": "stdout",
          "output_type": "stream",
          "text": [
            "/content/drive/MyDrive/School/MS/Coursework/Spring 2024/AML/Final Project/Demo\n"
          ]
        }
      ],
      "source": [
        "%cd 'drive/MyDrive/School/MS/Coursework/Spring 2024/AML/Final Project/Demo'\n",
        "#%cd 'drive/MyDrive/Final Project/Demo'"
      ]
    },
    {
      "cell_type": "code",
      "execution_count": null,
      "metadata": {
        "id": "pld4SOGj_xfs"
      },
      "outputs": [],
      "source": [
        "cap = cv2.VideoCapture('sample1.mp4')\n",
        "frames = []\n",
        "success, image = cap.read()\n",
        "while success:\n",
        "  image = cv2.resize(image, (0, 0), fx = 0.3, fy = 0.3)\n",
        "\n",
        "  # Resize and pad the image to keep the aspect ratio and fit the expected size.\n",
        "  input_image = tf.expand_dims(image, axis=0)\n",
        "  input_image = tf.image.resize_with_pad(input_image, input_size, input_size)\n",
        "\n",
        "  embeddings = [movenet(input_image)]\n",
        "  X = pd.DataFrame([e[0][0].flatten() for e in embeddings], columns=[f'{bp}_{feat}' for bp in KEYPOINT_DICT.keys() for feat in ['y', 'x', 'score']]).values\n",
        "  X = process_landmark_embeddings(X)\n",
        "  out = model(torch.from_numpy(X))\n",
        "  out = out.detach().numpy()\n",
        "  lab = lb.inverse_transform(out)[0]\n",
        "\n",
        "  # # Visualize the predictions with image.\n",
        "  display_image = tf.expand_dims(image, axis=0)\n",
        "  display_image = tf.cast(tf.image.resize_with_pad(\n",
        "  display_image, 1280, 1280), dtype=tf.int32)\n",
        "  output_overlay = draw_prediction_on_image(\n",
        "  np.squeeze(display_image.numpy(), axis=0), keypoints_with_scores)\n",
        "\n",
        "  BLACK = (255,255,255)\n",
        "  font = cv2.FONT_HERSHEY_SIMPLEX\n",
        "  font_size = 1.1\n",
        "  font_color = BLACK\n",
        "  font_thickness = 2\n",
        "  x,y = 250,200\n",
        "  img_text = cv2.putText(output_overlay, lab, (x,y), font, font_size, font_color, font_thickness, cv2.LINE_AA)\n",
        "\n",
        "  #cv2_imshow(cv2.resize(output_overlay, (500, 500)))\n",
        "\n",
        "  frames.append(cv2.resize(output_overlay, (500, 500)))\n",
        "\n",
        "  success, image = cap.read()"
      ]
    }
  ],
  "metadata": {
    "accelerator": "GPU",
    "colab": {
      "gpuType": "T4",
      "provenance": []
    },
    "kernelspec": {
      "display_name": "Python 3",
      "name": "python3"
    },
    "language_info": {
      "name": "python"
    },
    "widgets": {
      "application/vnd.jupyter.widget-state+json": {
        "009a9390fac843e08c303c5382411174": {
          "model_module": "@jupyter-widgets/base",
          "model_module_version": "1.2.0",
          "model_name": "LayoutModel",
          "state": {
            "_model_module": "@jupyter-widgets/base",
            "_model_module_version": "1.2.0",
            "_model_name": "LayoutModel",
            "_view_count": null,
            "_view_module": "@jupyter-widgets/base",
            "_view_module_version": "1.2.0",
            "_view_name": "LayoutView",
            "align_content": null,
            "align_items": null,
            "align_self": null,
            "border": null,
            "bottom": null,
            "display": null,
            "flex": null,
            "flex_flow": null,
            "grid_area": null,
            "grid_auto_columns": null,
            "grid_auto_flow": null,
            "grid_auto_rows": null,
            "grid_column": null,
            "grid_gap": null,
            "grid_row": null,
            "grid_template_areas": null,
            "grid_template_columns": null,
            "grid_template_rows": null,
            "height": null,
            "justify_content": null,
            "justify_items": null,
            "left": null,
            "margin": null,
            "max_height": null,
            "max_width": null,
            "min_height": null,
            "min_width": null,
            "object_fit": null,
            "object_position": null,
            "order": null,
            "overflow": null,
            "overflow_x": null,
            "overflow_y": null,
            "padding": null,
            "right": null,
            "top": null,
            "visibility": null,
            "width": null
          }
        },
        "018b1b51f4224bfab364b603bd1f4676": {
          "model_module": "@jupyter-widgets/base",
          "model_module_version": "1.2.0",
          "model_name": "LayoutModel",
          "state": {
            "_model_module": "@jupyter-widgets/base",
            "_model_module_version": "1.2.0",
            "_model_name": "LayoutModel",
            "_view_count": null,
            "_view_module": "@jupyter-widgets/base",
            "_view_module_version": "1.2.0",
            "_view_name": "LayoutView",
            "align_content": null,
            "align_items": null,
            "align_self": null,
            "border": null,
            "bottom": null,
            "display": null,
            "flex": null,
            "flex_flow": null,
            "grid_area": null,
            "grid_auto_columns": null,
            "grid_auto_flow": null,
            "grid_auto_rows": null,
            "grid_column": null,
            "grid_gap": null,
            "grid_row": null,
            "grid_template_areas": null,
            "grid_template_columns": null,
            "grid_template_rows": null,
            "height": null,
            "justify_content": null,
            "justify_items": null,
            "left": null,
            "margin": null,
            "max_height": null,
            "max_width": null,
            "min_height": null,
            "min_width": null,
            "object_fit": null,
            "object_position": null,
            "order": null,
            "overflow": null,
            "overflow_x": null,
            "overflow_y": null,
            "padding": null,
            "right": null,
            "top": null,
            "visibility": null,
            "width": null
          }
        },
        "02cd2fb660c34d9b87a46404a2e916f9": {
          "model_module": "@jupyter-widgets/base",
          "model_module_version": "1.2.0",
          "model_name": "LayoutModel",
          "state": {
            "_model_module": "@jupyter-widgets/base",
            "_model_module_version": "1.2.0",
            "_model_name": "LayoutModel",
            "_view_count": null,
            "_view_module": "@jupyter-widgets/base",
            "_view_module_version": "1.2.0",
            "_view_name": "LayoutView",
            "align_content": null,
            "align_items": null,
            "align_self": null,
            "border": null,
            "bottom": null,
            "display": null,
            "flex": null,
            "flex_flow": null,
            "grid_area": null,
            "grid_auto_columns": null,
            "grid_auto_flow": null,
            "grid_auto_rows": null,
            "grid_column": null,
            "grid_gap": null,
            "grid_row": null,
            "grid_template_areas": null,
            "grid_template_columns": null,
            "grid_template_rows": null,
            "height": null,
            "justify_content": null,
            "justify_items": null,
            "left": null,
            "margin": null,
            "max_height": null,
            "max_width": null,
            "min_height": null,
            "min_width": null,
            "object_fit": null,
            "object_position": null,
            "order": null,
            "overflow": null,
            "overflow_x": null,
            "overflow_y": null,
            "padding": null,
            "right": null,
            "top": null,
            "visibility": null,
            "width": null
          }
        },
        "032654b93900410780c0644b30f9211f": {
          "model_module": "@jupyter-widgets/base",
          "model_module_version": "1.2.0",
          "model_name": "LayoutModel",
          "state": {
            "_model_module": "@jupyter-widgets/base",
            "_model_module_version": "1.2.0",
            "_model_name": "LayoutModel",
            "_view_count": null,
            "_view_module": "@jupyter-widgets/base",
            "_view_module_version": "1.2.0",
            "_view_name": "LayoutView",
            "align_content": null,
            "align_items": null,
            "align_self": null,
            "border": null,
            "bottom": null,
            "display": null,
            "flex": null,
            "flex_flow": null,
            "grid_area": null,
            "grid_auto_columns": null,
            "grid_auto_flow": null,
            "grid_auto_rows": null,
            "grid_column": null,
            "grid_gap": null,
            "grid_row": null,
            "grid_template_areas": null,
            "grid_template_columns": null,
            "grid_template_rows": null,
            "height": null,
            "justify_content": null,
            "justify_items": null,
            "left": null,
            "margin": null,
            "max_height": null,
            "max_width": null,
            "min_height": null,
            "min_width": null,
            "object_fit": null,
            "object_position": null,
            "order": null,
            "overflow": null,
            "overflow_x": null,
            "overflow_y": null,
            "padding": null,
            "right": null,
            "top": null,
            "visibility": null,
            "width": null
          }
        },
        "03857bf1634d4e728416d172676e87a7": {
          "model_module": "@jupyter-widgets/controls",
          "model_module_version": "1.5.0",
          "model_name": "DescriptionStyleModel",
          "state": {
            "_model_module": "@jupyter-widgets/controls",
            "_model_module_version": "1.5.0",
            "_model_name": "DescriptionStyleModel",
            "_view_count": null,
            "_view_module": "@jupyter-widgets/base",
            "_view_module_version": "1.2.0",
            "_view_name": "StyleView",
            "description_width": ""
          }
        },
        "03ea841c9b9d4600a021dc4936b961ed": {
          "model_module": "@jupyter-widgets/controls",
          "model_module_version": "1.5.0",
          "model_name": "LabelModel",
          "state": {
            "_dom_classes": [],
            "_model_module": "@jupyter-widgets/controls",
            "_model_module_version": "1.5.0",
            "_model_name": "LabelModel",
            "_view_count": null,
            "_view_module": "@jupyter-widgets/controls",
            "_view_module_version": "1.5.0",
            "_view_name": "LabelView",
            "description": "",
            "description_tooltip": null,
            "layout": "IPY_MODEL_e458edb755284f2cb54aa71b74ee1f3f",
            "placeholder": "​",
            "style": "IPY_MODEL_ba89149e9760427fb3660b7fc3637c95",
            "value": "0.011 MB of 0.011 MB uploaded\r"
          }
        },
        "082842dd23dd4d46b899c9de0727e592": {
          "model_module": "@jupyter-widgets/base",
          "model_module_version": "1.2.0",
          "model_name": "LayoutModel",
          "state": {
            "_model_module": "@jupyter-widgets/base",
            "_model_module_version": "1.2.0",
            "_model_name": "LayoutModel",
            "_view_count": null,
            "_view_module": "@jupyter-widgets/base",
            "_view_module_version": "1.2.0",
            "_view_name": "LayoutView",
            "align_content": null,
            "align_items": null,
            "align_self": null,
            "border": null,
            "bottom": null,
            "display": null,
            "flex": null,
            "flex_flow": null,
            "grid_area": null,
            "grid_auto_columns": null,
            "grid_auto_flow": null,
            "grid_auto_rows": null,
            "grid_column": null,
            "grid_gap": null,
            "grid_row": null,
            "grid_template_areas": null,
            "grid_template_columns": null,
            "grid_template_rows": null,
            "height": null,
            "justify_content": null,
            "justify_items": null,
            "left": null,
            "margin": null,
            "max_height": null,
            "max_width": null,
            "min_height": null,
            "min_width": null,
            "object_fit": null,
            "object_position": null,
            "order": null,
            "overflow": null,
            "overflow_x": null,
            "overflow_y": null,
            "padding": null,
            "right": null,
            "top": null,
            "visibility": null,
            "width": null
          }
        },
        "085e2d373f504664a5a206a2c0bbedea": {
          "model_module": "@jupyter-widgets/controls",
          "model_module_version": "1.5.0",
          "model_name": "LabelModel",
          "state": {
            "_dom_classes": [],
            "_model_module": "@jupyter-widgets/controls",
            "_model_module_version": "1.5.0",
            "_model_name": "LabelModel",
            "_view_count": null,
            "_view_module": "@jupyter-widgets/controls",
            "_view_module_version": "1.5.0",
            "_view_name": "LabelView",
            "description": "",
            "description_tooltip": null,
            "layout": "IPY_MODEL_33ee501812d046efad33340e00c352d3",
            "placeholder": "​",
            "style": "IPY_MODEL_92b37704b22f489aaf210d383bd9168d",
            "value": "0.011 MB of 0.011 MB uploaded\r"
          }
        },
        "08926a580ba54b6e84c2955973caa35b": {
          "model_module": "@jupyter-widgets/base",
          "model_module_version": "1.2.0",
          "model_name": "LayoutModel",
          "state": {
            "_model_module": "@jupyter-widgets/base",
            "_model_module_version": "1.2.0",
            "_model_name": "LayoutModel",
            "_view_count": null,
            "_view_module": "@jupyter-widgets/base",
            "_view_module_version": "1.2.0",
            "_view_name": "LayoutView",
            "align_content": null,
            "align_items": null,
            "align_self": null,
            "border": null,
            "bottom": null,
            "display": null,
            "flex": null,
            "flex_flow": null,
            "grid_area": null,
            "grid_auto_columns": null,
            "grid_auto_flow": null,
            "grid_auto_rows": null,
            "grid_column": null,
            "grid_gap": null,
            "grid_row": null,
            "grid_template_areas": null,
            "grid_template_columns": null,
            "grid_template_rows": null,
            "height": null,
            "justify_content": null,
            "justify_items": null,
            "left": null,
            "margin": null,
            "max_height": null,
            "max_width": null,
            "min_height": null,
            "min_width": null,
            "object_fit": null,
            "object_position": null,
            "order": null,
            "overflow": null,
            "overflow_x": null,
            "overflow_y": null,
            "padding": null,
            "right": null,
            "top": null,
            "visibility": null,
            "width": null
          }
        },
        "0ad7514c162642be82ad9f52363bd013": {
          "model_module": "@jupyter-widgets/controls",
          "model_module_version": "1.5.0",
          "model_name": "FloatProgressModel",
          "state": {
            "_dom_classes": [],
            "_model_module": "@jupyter-widgets/controls",
            "_model_module_version": "1.5.0",
            "_model_name": "FloatProgressModel",
            "_view_count": null,
            "_view_module": "@jupyter-widgets/controls",
            "_view_module_version": "1.5.0",
            "_view_name": "ProgressView",
            "bar_style": "",
            "description": "",
            "description_tooltip": null,
            "layout": "IPY_MODEL_3197341de7aa4ce69777e72cda98eee6",
            "max": 1,
            "min": 0,
            "orientation": "horizontal",
            "style": "IPY_MODEL_9856a15cafd54304884ad774e5f40087",
            "value": 1
          }
        },
        "0b70fc1c788640cfa82ef4928c0c9b30": {
          "model_module": "@jupyter-widgets/base",
          "model_module_version": "1.2.0",
          "model_name": "LayoutModel",
          "state": {
            "_model_module": "@jupyter-widgets/base",
            "_model_module_version": "1.2.0",
            "_model_name": "LayoutModel",
            "_view_count": null,
            "_view_module": "@jupyter-widgets/base",
            "_view_module_version": "1.2.0",
            "_view_name": "LayoutView",
            "align_content": null,
            "align_items": null,
            "align_self": null,
            "border": null,
            "bottom": null,
            "display": null,
            "flex": null,
            "flex_flow": null,
            "grid_area": null,
            "grid_auto_columns": null,
            "grid_auto_flow": null,
            "grid_auto_rows": null,
            "grid_column": null,
            "grid_gap": null,
            "grid_row": null,
            "grid_template_areas": null,
            "grid_template_columns": null,
            "grid_template_rows": null,
            "height": null,
            "justify_content": null,
            "justify_items": null,
            "left": null,
            "margin": null,
            "max_height": null,
            "max_width": null,
            "min_height": null,
            "min_width": null,
            "object_fit": null,
            "object_position": null,
            "order": null,
            "overflow": null,
            "overflow_x": null,
            "overflow_y": null,
            "padding": null,
            "right": null,
            "top": null,
            "visibility": null,
            "width": null
          }
        },
        "0c73a3c001fb4b6ba7054ebd8c215890": {
          "model_module": "@jupyter-widgets/base",
          "model_module_version": "1.2.0",
          "model_name": "LayoutModel",
          "state": {
            "_model_module": "@jupyter-widgets/base",
            "_model_module_version": "1.2.0",
            "_model_name": "LayoutModel",
            "_view_count": null,
            "_view_module": "@jupyter-widgets/base",
            "_view_module_version": "1.2.0",
            "_view_name": "LayoutView",
            "align_content": null,
            "align_items": null,
            "align_self": null,
            "border": null,
            "bottom": null,
            "display": null,
            "flex": null,
            "flex_flow": null,
            "grid_area": null,
            "grid_auto_columns": null,
            "grid_auto_flow": null,
            "grid_auto_rows": null,
            "grid_column": null,
            "grid_gap": null,
            "grid_row": null,
            "grid_template_areas": null,
            "grid_template_columns": null,
            "grid_template_rows": null,
            "height": null,
            "justify_content": null,
            "justify_items": null,
            "left": null,
            "margin": null,
            "max_height": null,
            "max_width": null,
            "min_height": null,
            "min_width": null,
            "object_fit": null,
            "object_position": null,
            "order": null,
            "overflow": null,
            "overflow_x": null,
            "overflow_y": null,
            "padding": null,
            "right": null,
            "top": null,
            "visibility": null,
            "width": null
          }
        },
        "0e2c39e519d44ec5a0bfb0ff26dbb692": {
          "model_module": "@jupyter-widgets/base",
          "model_module_version": "1.2.0",
          "model_name": "LayoutModel",
          "state": {
            "_model_module": "@jupyter-widgets/base",
            "_model_module_version": "1.2.0",
            "_model_name": "LayoutModel",
            "_view_count": null,
            "_view_module": "@jupyter-widgets/base",
            "_view_module_version": "1.2.0",
            "_view_name": "LayoutView",
            "align_content": null,
            "align_items": null,
            "align_self": null,
            "border": null,
            "bottom": null,
            "display": null,
            "flex": null,
            "flex_flow": null,
            "grid_area": null,
            "grid_auto_columns": null,
            "grid_auto_flow": null,
            "grid_auto_rows": null,
            "grid_column": null,
            "grid_gap": null,
            "grid_row": null,
            "grid_template_areas": null,
            "grid_template_columns": null,
            "grid_template_rows": null,
            "height": null,
            "justify_content": null,
            "justify_items": null,
            "left": null,
            "margin": null,
            "max_height": null,
            "max_width": null,
            "min_height": null,
            "min_width": null,
            "object_fit": null,
            "object_position": null,
            "order": null,
            "overflow": null,
            "overflow_x": null,
            "overflow_y": null,
            "padding": null,
            "right": null,
            "top": null,
            "visibility": null,
            "width": null
          }
        },
        "12949c122e894738b151c4cd933cee0c": {
          "model_module": "@jupyter-widgets/controls",
          "model_module_version": "1.5.0",
          "model_name": "FloatProgressModel",
          "state": {
            "_dom_classes": [],
            "_model_module": "@jupyter-widgets/controls",
            "_model_module_version": "1.5.0",
            "_model_name": "FloatProgressModel",
            "_view_count": null,
            "_view_module": "@jupyter-widgets/controls",
            "_view_module_version": "1.5.0",
            "_view_name": "ProgressView",
            "bar_style": "",
            "description": "",
            "description_tooltip": null,
            "layout": "IPY_MODEL_08926a580ba54b6e84c2955973caa35b",
            "max": 1,
            "min": 0,
            "orientation": "horizontal",
            "style": "IPY_MODEL_fa8982e4b3bc40f0b88e97b03f729803",
            "value": 1
          }
        },
        "14ca78b10b8d4e9793a9feafc734a1c8": {
          "model_module": "@jupyter-widgets/controls",
          "model_module_version": "1.5.0",
          "model_name": "LabelModel",
          "state": {
            "_dom_classes": [],
            "_model_module": "@jupyter-widgets/controls",
            "_model_module_version": "1.5.0",
            "_model_name": "LabelModel",
            "_view_count": null,
            "_view_module": "@jupyter-widgets/controls",
            "_view_module_version": "1.5.0",
            "_view_name": "LabelView",
            "description": "",
            "description_tooltip": null,
            "layout": "IPY_MODEL_33976f5b6e4e4734a2c994a421602b1e",
            "placeholder": "​",
            "style": "IPY_MODEL_03857bf1634d4e728416d172676e87a7",
            "value": "0.011 MB of 0.011 MB uploaded\r"
          }
        },
        "150030ef066249acae15a54287be482f": {
          "model_module": "@jupyter-widgets/base",
          "model_module_version": "1.2.0",
          "model_name": "LayoutModel",
          "state": {
            "_model_module": "@jupyter-widgets/base",
            "_model_module_version": "1.2.0",
            "_model_name": "LayoutModel",
            "_view_count": null,
            "_view_module": "@jupyter-widgets/base",
            "_view_module_version": "1.2.0",
            "_view_name": "LayoutView",
            "align_content": null,
            "align_items": null,
            "align_self": null,
            "border": null,
            "bottom": null,
            "display": null,
            "flex": null,
            "flex_flow": null,
            "grid_area": null,
            "grid_auto_columns": null,
            "grid_auto_flow": null,
            "grid_auto_rows": null,
            "grid_column": null,
            "grid_gap": null,
            "grid_row": null,
            "grid_template_areas": null,
            "grid_template_columns": null,
            "grid_template_rows": null,
            "height": null,
            "justify_content": null,
            "justify_items": null,
            "left": null,
            "margin": null,
            "max_height": null,
            "max_width": null,
            "min_height": null,
            "min_width": null,
            "object_fit": null,
            "object_position": null,
            "order": null,
            "overflow": null,
            "overflow_x": null,
            "overflow_y": null,
            "padding": null,
            "right": null,
            "top": null,
            "visibility": null,
            "width": null
          }
        },
        "158c9c0950f84ddc9c5a67a8adf50e79": {
          "model_module": "@jupyter-widgets/controls",
          "model_module_version": "1.5.0",
          "model_name": "DescriptionStyleModel",
          "state": {
            "_model_module": "@jupyter-widgets/controls",
            "_model_module_version": "1.5.0",
            "_model_name": "DescriptionStyleModel",
            "_view_count": null,
            "_view_module": "@jupyter-widgets/base",
            "_view_module_version": "1.2.0",
            "_view_name": "StyleView",
            "description_width": ""
          }
        },
        "16b4411ad01f4efbabee95f1c3a77b12": {
          "model_module": "@jupyter-widgets/base",
          "model_module_version": "1.2.0",
          "model_name": "LayoutModel",
          "state": {
            "_model_module": "@jupyter-widgets/base",
            "_model_module_version": "1.2.0",
            "_model_name": "LayoutModel",
            "_view_count": null,
            "_view_module": "@jupyter-widgets/base",
            "_view_module_version": "1.2.0",
            "_view_name": "LayoutView",
            "align_content": null,
            "align_items": null,
            "align_self": null,
            "border": null,
            "bottom": null,
            "display": null,
            "flex": null,
            "flex_flow": null,
            "grid_area": null,
            "grid_auto_columns": null,
            "grid_auto_flow": null,
            "grid_auto_rows": null,
            "grid_column": null,
            "grid_gap": null,
            "grid_row": null,
            "grid_template_areas": null,
            "grid_template_columns": null,
            "grid_template_rows": null,
            "height": null,
            "justify_content": null,
            "justify_items": null,
            "left": null,
            "margin": null,
            "max_height": null,
            "max_width": null,
            "min_height": null,
            "min_width": null,
            "object_fit": null,
            "object_position": null,
            "order": null,
            "overflow": null,
            "overflow_x": null,
            "overflow_y": null,
            "padding": null,
            "right": null,
            "top": null,
            "visibility": null,
            "width": null
          }
        },
        "18cb947d118f478bb56843134441aacc": {
          "model_module": "@jupyter-widgets/base",
          "model_module_version": "1.2.0",
          "model_name": "LayoutModel",
          "state": {
            "_model_module": "@jupyter-widgets/base",
            "_model_module_version": "1.2.0",
            "_model_name": "LayoutModel",
            "_view_count": null,
            "_view_module": "@jupyter-widgets/base",
            "_view_module_version": "1.2.0",
            "_view_name": "LayoutView",
            "align_content": null,
            "align_items": null,
            "align_self": null,
            "border": null,
            "bottom": null,
            "display": null,
            "flex": null,
            "flex_flow": null,
            "grid_area": null,
            "grid_auto_columns": null,
            "grid_auto_flow": null,
            "grid_auto_rows": null,
            "grid_column": null,
            "grid_gap": null,
            "grid_row": null,
            "grid_template_areas": null,
            "grid_template_columns": null,
            "grid_template_rows": null,
            "height": null,
            "justify_content": null,
            "justify_items": null,
            "left": null,
            "margin": null,
            "max_height": null,
            "max_width": null,
            "min_height": null,
            "min_width": null,
            "object_fit": null,
            "object_position": null,
            "order": null,
            "overflow": null,
            "overflow_x": null,
            "overflow_y": null,
            "padding": null,
            "right": null,
            "top": null,
            "visibility": null,
            "width": null
          }
        },
        "197b0c3d3b0148598d6f77821416b818": {
          "model_module": "@jupyter-widgets/base",
          "model_module_version": "1.2.0",
          "model_name": "LayoutModel",
          "state": {
            "_model_module": "@jupyter-widgets/base",
            "_model_module_version": "1.2.0",
            "_model_name": "LayoutModel",
            "_view_count": null,
            "_view_module": "@jupyter-widgets/base",
            "_view_module_version": "1.2.0",
            "_view_name": "LayoutView",
            "align_content": null,
            "align_items": null,
            "align_self": null,
            "border": null,
            "bottom": null,
            "display": null,
            "flex": null,
            "flex_flow": null,
            "grid_area": null,
            "grid_auto_columns": null,
            "grid_auto_flow": null,
            "grid_auto_rows": null,
            "grid_column": null,
            "grid_gap": null,
            "grid_row": null,
            "grid_template_areas": null,
            "grid_template_columns": null,
            "grid_template_rows": null,
            "height": null,
            "justify_content": null,
            "justify_items": null,
            "left": null,
            "margin": null,
            "max_height": null,
            "max_width": null,
            "min_height": null,
            "min_width": null,
            "object_fit": null,
            "object_position": null,
            "order": null,
            "overflow": null,
            "overflow_x": null,
            "overflow_y": null,
            "padding": null,
            "right": null,
            "top": null,
            "visibility": null,
            "width": null
          }
        },
        "19f99643f1ee4040bf1502f7e85d4dd3": {
          "model_module": "@jupyter-widgets/controls",
          "model_module_version": "1.5.0",
          "model_name": "FloatProgressModel",
          "state": {
            "_dom_classes": [],
            "_model_module": "@jupyter-widgets/controls",
            "_model_module_version": "1.5.0",
            "_model_name": "FloatProgressModel",
            "_view_count": null,
            "_view_module": "@jupyter-widgets/controls",
            "_view_module_version": "1.5.0",
            "_view_name": "ProgressView",
            "bar_style": "",
            "description": "",
            "description_tooltip": null,
            "layout": "IPY_MODEL_cf65f7b6b9024e40b447d22fc3940a34",
            "max": 1,
            "min": 0,
            "orientation": "horizontal",
            "style": "IPY_MODEL_b504c7e06f984c4e89bc349da91966b7",
            "value": 1
          }
        },
        "1c233b5f2f5444f8bd50be8ab79a9a30": {
          "model_module": "@jupyter-widgets/controls",
          "model_module_version": "1.5.0",
          "model_name": "VBoxModel",
          "state": {
            "_dom_classes": [],
            "_model_module": "@jupyter-widgets/controls",
            "_model_module_version": "1.5.0",
            "_model_name": "VBoxModel",
            "_view_count": null,
            "_view_module": "@jupyter-widgets/controls",
            "_view_module_version": "1.5.0",
            "_view_name": "VBoxView",
            "box_style": "",
            "children": [
              "IPY_MODEL_db1e30bfbdc84720ab7c2b877586d66f",
              "IPY_MODEL_3ef3df8e702d47e9852acafdfc9b1c16"
            ],
            "layout": "IPY_MODEL_0b70fc1c788640cfa82ef4928c0c9b30"
          }
        },
        "1ce27870a0414f96aa8189c62990a7b3": {
          "model_module": "@jupyter-widgets/controls",
          "model_module_version": "1.5.0",
          "model_name": "LabelModel",
          "state": {
            "_dom_classes": [],
            "_model_module": "@jupyter-widgets/controls",
            "_model_module_version": "1.5.0",
            "_model_name": "LabelModel",
            "_view_count": null,
            "_view_module": "@jupyter-widgets/controls",
            "_view_module_version": "1.5.0",
            "_view_name": "LabelView",
            "description": "",
            "description_tooltip": null,
            "layout": "IPY_MODEL_8b92e6223da0419faff4767f0224e528",
            "placeholder": "​",
            "style": "IPY_MODEL_3ea49b6d71c74d1d88a61b370e7dfcd4",
            "value": "0.011 MB of 0.011 MB uploaded\r"
          }
        },
        "1dfdd4aaee1d407bbd9821be81393ef0": {
          "model_module": "@jupyter-widgets/controls",
          "model_module_version": "1.5.0",
          "model_name": "VBoxModel",
          "state": {
            "_dom_classes": [],
            "_model_module": "@jupyter-widgets/controls",
            "_model_module_version": "1.5.0",
            "_model_name": "VBoxModel",
            "_view_count": null,
            "_view_module": "@jupyter-widgets/controls",
            "_view_module_version": "1.5.0",
            "_view_name": "VBoxView",
            "box_style": "",
            "children": [
              "IPY_MODEL_7a461dc161174b1a87606f11f30185f1",
              "IPY_MODEL_9f603d6177454a01b62678632df1d00e"
            ],
            "layout": "IPY_MODEL_5b7ac4df8c214c11a856c5b29d5fc6a4"
          }
        },
        "1ec45e7241154da291b1c871eebca3b4": {
          "model_module": "@jupyter-widgets/controls",
          "model_module_version": "1.5.0",
          "model_name": "ProgressStyleModel",
          "state": {
            "_model_module": "@jupyter-widgets/controls",
            "_model_module_version": "1.5.0",
            "_model_name": "ProgressStyleModel",
            "_view_count": null,
            "_view_module": "@jupyter-widgets/base",
            "_view_module_version": "1.2.0",
            "_view_name": "StyleView",
            "bar_color": null,
            "description_width": ""
          }
        },
        "1f24d30d87c44b8a9be8b4bd2a19bf95": {
          "model_module": "@jupyter-widgets/base",
          "model_module_version": "1.2.0",
          "model_name": "LayoutModel",
          "state": {
            "_model_module": "@jupyter-widgets/base",
            "_model_module_version": "1.2.0",
            "_model_name": "LayoutModel",
            "_view_count": null,
            "_view_module": "@jupyter-widgets/base",
            "_view_module_version": "1.2.0",
            "_view_name": "LayoutView",
            "align_content": null,
            "align_items": null,
            "align_self": null,
            "border": null,
            "bottom": null,
            "display": null,
            "flex": null,
            "flex_flow": null,
            "grid_area": null,
            "grid_auto_columns": null,
            "grid_auto_flow": null,
            "grid_auto_rows": null,
            "grid_column": null,
            "grid_gap": null,
            "grid_row": null,
            "grid_template_areas": null,
            "grid_template_columns": null,
            "grid_template_rows": null,
            "height": null,
            "justify_content": null,
            "justify_items": null,
            "left": null,
            "margin": null,
            "max_height": null,
            "max_width": null,
            "min_height": null,
            "min_width": null,
            "object_fit": null,
            "object_position": null,
            "order": null,
            "overflow": null,
            "overflow_x": null,
            "overflow_y": null,
            "padding": null,
            "right": null,
            "top": null,
            "visibility": null,
            "width": null
          }
        },
        "1f25ba927c664ce79d3dd2a23376f097": {
          "model_module": "@jupyter-widgets/base",
          "model_module_version": "1.2.0",
          "model_name": "LayoutModel",
          "state": {
            "_model_module": "@jupyter-widgets/base",
            "_model_module_version": "1.2.0",
            "_model_name": "LayoutModel",
            "_view_count": null,
            "_view_module": "@jupyter-widgets/base",
            "_view_module_version": "1.2.0",
            "_view_name": "LayoutView",
            "align_content": null,
            "align_items": null,
            "align_self": null,
            "border": null,
            "bottom": null,
            "display": null,
            "flex": null,
            "flex_flow": null,
            "grid_area": null,
            "grid_auto_columns": null,
            "grid_auto_flow": null,
            "grid_auto_rows": null,
            "grid_column": null,
            "grid_gap": null,
            "grid_row": null,
            "grid_template_areas": null,
            "grid_template_columns": null,
            "grid_template_rows": null,
            "height": null,
            "justify_content": null,
            "justify_items": null,
            "left": null,
            "margin": null,
            "max_height": null,
            "max_width": null,
            "min_height": null,
            "min_width": null,
            "object_fit": null,
            "object_position": null,
            "order": null,
            "overflow": null,
            "overflow_x": null,
            "overflow_y": null,
            "padding": null,
            "right": null,
            "top": null,
            "visibility": null,
            "width": null
          }
        },
        "215f7eb010b94b8c8acff654eeebb5fa": {
          "model_module": "@jupyter-widgets/controls",
          "model_module_version": "1.5.0",
          "model_name": "ProgressStyleModel",
          "state": {
            "_model_module": "@jupyter-widgets/controls",
            "_model_module_version": "1.5.0",
            "_model_name": "ProgressStyleModel",
            "_view_count": null,
            "_view_module": "@jupyter-widgets/base",
            "_view_module_version": "1.2.0",
            "_view_name": "StyleView",
            "bar_color": null,
            "description_width": ""
          }
        },
        "2505ae465ab540d29d65198b4b2648b7": {
          "model_module": "@jupyter-widgets/controls",
          "model_module_version": "1.5.0",
          "model_name": "LabelModel",
          "state": {
            "_dom_classes": [],
            "_model_module": "@jupyter-widgets/controls",
            "_model_module_version": "1.5.0",
            "_model_name": "LabelModel",
            "_view_count": null,
            "_view_module": "@jupyter-widgets/controls",
            "_view_module_version": "1.5.0",
            "_view_name": "LabelView",
            "description": "",
            "description_tooltip": null,
            "layout": "IPY_MODEL_5866c3bf32024e93a01b75e772cb9baa",
            "placeholder": "​",
            "style": "IPY_MODEL_eeda90a7c357424ebdbc52fe71092f9c",
            "value": "0.012 MB of 0.012 MB uploaded\r"
          }
        },
        "25ddb26b736e4274b7dae3fa3ba00e3f": {
          "model_module": "@jupyter-widgets/base",
          "model_module_version": "1.2.0",
          "model_name": "LayoutModel",
          "state": {
            "_model_module": "@jupyter-widgets/base",
            "_model_module_version": "1.2.0",
            "_model_name": "LayoutModel",
            "_view_count": null,
            "_view_module": "@jupyter-widgets/base",
            "_view_module_version": "1.2.0",
            "_view_name": "LayoutView",
            "align_content": null,
            "align_items": null,
            "align_self": null,
            "border": null,
            "bottom": null,
            "display": null,
            "flex": null,
            "flex_flow": null,
            "grid_area": null,
            "grid_auto_columns": null,
            "grid_auto_flow": null,
            "grid_auto_rows": null,
            "grid_column": null,
            "grid_gap": null,
            "grid_row": null,
            "grid_template_areas": null,
            "grid_template_columns": null,
            "grid_template_rows": null,
            "height": null,
            "justify_content": null,
            "justify_items": null,
            "left": null,
            "margin": null,
            "max_height": null,
            "max_width": null,
            "min_height": null,
            "min_width": null,
            "object_fit": null,
            "object_position": null,
            "order": null,
            "overflow": null,
            "overflow_x": null,
            "overflow_y": null,
            "padding": null,
            "right": null,
            "top": null,
            "visibility": null,
            "width": null
          }
        },
        "265dce819235498bb627f5805369d526": {
          "model_module": "@jupyter-widgets/controls",
          "model_module_version": "1.5.0",
          "model_name": "DescriptionStyleModel",
          "state": {
            "_model_module": "@jupyter-widgets/controls",
            "_model_module_version": "1.5.0",
            "_model_name": "DescriptionStyleModel",
            "_view_count": null,
            "_view_module": "@jupyter-widgets/base",
            "_view_module_version": "1.2.0",
            "_view_name": "StyleView",
            "description_width": ""
          }
        },
        "2673c5d6ac9d453d9c00c7813bd73164": {
          "model_module": "@jupyter-widgets/base",
          "model_module_version": "1.2.0",
          "model_name": "LayoutModel",
          "state": {
            "_model_module": "@jupyter-widgets/base",
            "_model_module_version": "1.2.0",
            "_model_name": "LayoutModel",
            "_view_count": null,
            "_view_module": "@jupyter-widgets/base",
            "_view_module_version": "1.2.0",
            "_view_name": "LayoutView",
            "align_content": null,
            "align_items": null,
            "align_self": null,
            "border": null,
            "bottom": null,
            "display": null,
            "flex": null,
            "flex_flow": null,
            "grid_area": null,
            "grid_auto_columns": null,
            "grid_auto_flow": null,
            "grid_auto_rows": null,
            "grid_column": null,
            "grid_gap": null,
            "grid_row": null,
            "grid_template_areas": null,
            "grid_template_columns": null,
            "grid_template_rows": null,
            "height": null,
            "justify_content": null,
            "justify_items": null,
            "left": null,
            "margin": null,
            "max_height": null,
            "max_width": null,
            "min_height": null,
            "min_width": null,
            "object_fit": null,
            "object_position": null,
            "order": null,
            "overflow": null,
            "overflow_x": null,
            "overflow_y": null,
            "padding": null,
            "right": null,
            "top": null,
            "visibility": null,
            "width": null
          }
        },
        "2871a264f8424bf1ac5dbd411c562977": {
          "model_module": "@jupyter-widgets/base",
          "model_module_version": "1.2.0",
          "model_name": "LayoutModel",
          "state": {
            "_model_module": "@jupyter-widgets/base",
            "_model_module_version": "1.2.0",
            "_model_name": "LayoutModel",
            "_view_count": null,
            "_view_module": "@jupyter-widgets/base",
            "_view_module_version": "1.2.0",
            "_view_name": "LayoutView",
            "align_content": null,
            "align_items": null,
            "align_self": null,
            "border": null,
            "bottom": null,
            "display": null,
            "flex": null,
            "flex_flow": null,
            "grid_area": null,
            "grid_auto_columns": null,
            "grid_auto_flow": null,
            "grid_auto_rows": null,
            "grid_column": null,
            "grid_gap": null,
            "grid_row": null,
            "grid_template_areas": null,
            "grid_template_columns": null,
            "grid_template_rows": null,
            "height": null,
            "justify_content": null,
            "justify_items": null,
            "left": null,
            "margin": null,
            "max_height": null,
            "max_width": null,
            "min_height": null,
            "min_width": null,
            "object_fit": null,
            "object_position": null,
            "order": null,
            "overflow": null,
            "overflow_x": null,
            "overflow_y": null,
            "padding": null,
            "right": null,
            "top": null,
            "visibility": null,
            "width": null
          }
        },
        "29edf1c3e02d406fb3c5fc3676bc47be": {
          "model_module": "@jupyter-widgets/base",
          "model_module_version": "1.2.0",
          "model_name": "LayoutModel",
          "state": {
            "_model_module": "@jupyter-widgets/base",
            "_model_module_version": "1.2.0",
            "_model_name": "LayoutModel",
            "_view_count": null,
            "_view_module": "@jupyter-widgets/base",
            "_view_module_version": "1.2.0",
            "_view_name": "LayoutView",
            "align_content": null,
            "align_items": null,
            "align_self": null,
            "border": null,
            "bottom": null,
            "display": null,
            "flex": null,
            "flex_flow": null,
            "grid_area": null,
            "grid_auto_columns": null,
            "grid_auto_flow": null,
            "grid_auto_rows": null,
            "grid_column": null,
            "grid_gap": null,
            "grid_row": null,
            "grid_template_areas": null,
            "grid_template_columns": null,
            "grid_template_rows": null,
            "height": null,
            "justify_content": null,
            "justify_items": null,
            "left": null,
            "margin": null,
            "max_height": null,
            "max_width": null,
            "min_height": null,
            "min_width": null,
            "object_fit": null,
            "object_position": null,
            "order": null,
            "overflow": null,
            "overflow_x": null,
            "overflow_y": null,
            "padding": null,
            "right": null,
            "top": null,
            "visibility": null,
            "width": null
          }
        },
        "2e07e20873f94912862e28155f25491c": {
          "model_module": "@jupyter-widgets/base",
          "model_module_version": "1.2.0",
          "model_name": "LayoutModel",
          "state": {
            "_model_module": "@jupyter-widgets/base",
            "_model_module_version": "1.2.0",
            "_model_name": "LayoutModel",
            "_view_count": null,
            "_view_module": "@jupyter-widgets/base",
            "_view_module_version": "1.2.0",
            "_view_name": "LayoutView",
            "align_content": null,
            "align_items": null,
            "align_self": null,
            "border": null,
            "bottom": null,
            "display": null,
            "flex": null,
            "flex_flow": null,
            "grid_area": null,
            "grid_auto_columns": null,
            "grid_auto_flow": null,
            "grid_auto_rows": null,
            "grid_column": null,
            "grid_gap": null,
            "grid_row": null,
            "grid_template_areas": null,
            "grid_template_columns": null,
            "grid_template_rows": null,
            "height": null,
            "justify_content": null,
            "justify_items": null,
            "left": null,
            "margin": null,
            "max_height": null,
            "max_width": null,
            "min_height": null,
            "min_width": null,
            "object_fit": null,
            "object_position": null,
            "order": null,
            "overflow": null,
            "overflow_x": null,
            "overflow_y": null,
            "padding": null,
            "right": null,
            "top": null,
            "visibility": null,
            "width": null
          }
        },
        "2ffcc891a82640cfac6ce2b7254180f8": {
          "model_module": "@jupyter-widgets/controls",
          "model_module_version": "1.5.0",
          "model_name": "LabelModel",
          "state": {
            "_dom_classes": [],
            "_model_module": "@jupyter-widgets/controls",
            "_model_module_version": "1.5.0",
            "_model_name": "LabelModel",
            "_view_count": null,
            "_view_module": "@jupyter-widgets/controls",
            "_view_module_version": "1.5.0",
            "_view_name": "LabelView",
            "description": "",
            "description_tooltip": null,
            "layout": "IPY_MODEL_0e2c39e519d44ec5a0bfb0ff26dbb692",
            "placeholder": "​",
            "style": "IPY_MODEL_45892a1e429c4ea7a5bf36b59524dde3",
            "value": "0.011 MB of 0.011 MB uploaded\r"
          }
        },
        "306dd9399a344485b5c39607a104d45e": {
          "model_module": "@jupyter-widgets/controls",
          "model_module_version": "1.5.0",
          "model_name": "LabelModel",
          "state": {
            "_dom_classes": [],
            "_model_module": "@jupyter-widgets/controls",
            "_model_module_version": "1.5.0",
            "_model_name": "LabelModel",
            "_view_count": null,
            "_view_module": "@jupyter-widgets/controls",
            "_view_module_version": "1.5.0",
            "_view_name": "LabelView",
            "description": "",
            "description_tooltip": null,
            "layout": "IPY_MODEL_e92d87a055e84544bea102a80a062b2b",
            "placeholder": "​",
            "style": "IPY_MODEL_584895fb1837408fa6a47366a7428660",
            "value": "0.011 MB of 0.011 MB uploaded\r"
          }
        },
        "3122d95d0b4a4c0f884fbe47415edd97": {
          "model_module": "@jupyter-widgets/controls",
          "model_module_version": "1.5.0",
          "model_name": "VBoxModel",
          "state": {
            "_dom_classes": [],
            "_model_module": "@jupyter-widgets/controls",
            "_model_module_version": "1.5.0",
            "_model_name": "VBoxModel",
            "_view_count": null,
            "_view_module": "@jupyter-widgets/controls",
            "_view_module_version": "1.5.0",
            "_view_name": "VBoxView",
            "box_style": "",
            "children": [
              "IPY_MODEL_f92285f18b584d6f9eeafd08db68888f",
              "IPY_MODEL_7e18bdaa1a274df58920157e3eb8da8b"
            ],
            "layout": "IPY_MODEL_509f7c5c20cd4fcfb6fe15544588ca86"
          }
        },
        "3137326208a8476fa1cbd9f8e76f5f5d": {
          "model_module": "@jupyter-widgets/controls",
          "model_module_version": "1.5.0",
          "model_name": "VBoxModel",
          "state": {
            "_dom_classes": [],
            "_model_module": "@jupyter-widgets/controls",
            "_model_module_version": "1.5.0",
            "_model_name": "VBoxModel",
            "_view_count": null,
            "_view_module": "@jupyter-widgets/controls",
            "_view_module_version": "1.5.0",
            "_view_name": "VBoxView",
            "box_style": "",
            "children": [
              "IPY_MODEL_a08ab4120b7d4485ab511a26da6271de",
              "IPY_MODEL_97b1b7b0e198467285c9eb9100c9a4a1"
            ],
            "layout": "IPY_MODEL_ac33dac23f1b4083b81e64754b8a127f"
          }
        },
        "3197341de7aa4ce69777e72cda98eee6": {
          "model_module": "@jupyter-widgets/base",
          "model_module_version": "1.2.0",
          "model_name": "LayoutModel",
          "state": {
            "_model_module": "@jupyter-widgets/base",
            "_model_module_version": "1.2.0",
            "_model_name": "LayoutModel",
            "_view_count": null,
            "_view_module": "@jupyter-widgets/base",
            "_view_module_version": "1.2.0",
            "_view_name": "LayoutView",
            "align_content": null,
            "align_items": null,
            "align_self": null,
            "border": null,
            "bottom": null,
            "display": null,
            "flex": null,
            "flex_flow": null,
            "grid_area": null,
            "grid_auto_columns": null,
            "grid_auto_flow": null,
            "grid_auto_rows": null,
            "grid_column": null,
            "grid_gap": null,
            "grid_row": null,
            "grid_template_areas": null,
            "grid_template_columns": null,
            "grid_template_rows": null,
            "height": null,
            "justify_content": null,
            "justify_items": null,
            "left": null,
            "margin": null,
            "max_height": null,
            "max_width": null,
            "min_height": null,
            "min_width": null,
            "object_fit": null,
            "object_position": null,
            "order": null,
            "overflow": null,
            "overflow_x": null,
            "overflow_y": null,
            "padding": null,
            "right": null,
            "top": null,
            "visibility": null,
            "width": null
          }
        },
        "319cd5feed844707bb634ca42d429d1c": {
          "model_module": "@jupyter-widgets/controls",
          "model_module_version": "1.5.0",
          "model_name": "VBoxModel",
          "state": {
            "_dom_classes": [],
            "_model_module": "@jupyter-widgets/controls",
            "_model_module_version": "1.5.0",
            "_model_name": "VBoxModel",
            "_view_count": null,
            "_view_module": "@jupyter-widgets/controls",
            "_view_module_version": "1.5.0",
            "_view_name": "VBoxView",
            "box_style": "",
            "children": [
              "IPY_MODEL_47453ccb444145f1a8166078321c6213",
              "IPY_MODEL_f78f23a12a1a407598714bd32e12d54f"
            ],
            "layout": "IPY_MODEL_b08d39cfd5e14f4ba9f967eb3de6a710"
          }
        },
        "337bea660d064c518a3d505f9f7771f1": {
          "model_module": "@jupyter-widgets/controls",
          "model_module_version": "1.5.0",
          "model_name": "VBoxModel",
          "state": {
            "_dom_classes": [],
            "_model_module": "@jupyter-widgets/controls",
            "_model_module_version": "1.5.0",
            "_model_name": "VBoxModel",
            "_view_count": null,
            "_view_module": "@jupyter-widgets/controls",
            "_view_module_version": "1.5.0",
            "_view_name": "VBoxView",
            "box_style": "",
            "children": [
              "IPY_MODEL_a9cc28a4873d480c94057a2f3722a1ab",
              "IPY_MODEL_bbc5a656b3a14348bfcc6ef708055bb7"
            ],
            "layout": "IPY_MODEL_018b1b51f4224bfab364b603bd1f4676"
          }
        },
        "33976f5b6e4e4734a2c994a421602b1e": {
          "model_module": "@jupyter-widgets/base",
          "model_module_version": "1.2.0",
          "model_name": "LayoutModel",
          "state": {
            "_model_module": "@jupyter-widgets/base",
            "_model_module_version": "1.2.0",
            "_model_name": "LayoutModel",
            "_view_count": null,
            "_view_module": "@jupyter-widgets/base",
            "_view_module_version": "1.2.0",
            "_view_name": "LayoutView",
            "align_content": null,
            "align_items": null,
            "align_self": null,
            "border": null,
            "bottom": null,
            "display": null,
            "flex": null,
            "flex_flow": null,
            "grid_area": null,
            "grid_auto_columns": null,
            "grid_auto_flow": null,
            "grid_auto_rows": null,
            "grid_column": null,
            "grid_gap": null,
            "grid_row": null,
            "grid_template_areas": null,
            "grid_template_columns": null,
            "grid_template_rows": null,
            "height": null,
            "justify_content": null,
            "justify_items": null,
            "left": null,
            "margin": null,
            "max_height": null,
            "max_width": null,
            "min_height": null,
            "min_width": null,
            "object_fit": null,
            "object_position": null,
            "order": null,
            "overflow": null,
            "overflow_x": null,
            "overflow_y": null,
            "padding": null,
            "right": null,
            "top": null,
            "visibility": null,
            "width": null
          }
        },
        "33ee501812d046efad33340e00c352d3": {
          "model_module": "@jupyter-widgets/base",
          "model_module_version": "1.2.0",
          "model_name": "LayoutModel",
          "state": {
            "_model_module": "@jupyter-widgets/base",
            "_model_module_version": "1.2.0",
            "_model_name": "LayoutModel",
            "_view_count": null,
            "_view_module": "@jupyter-widgets/base",
            "_view_module_version": "1.2.0",
            "_view_name": "LayoutView",
            "align_content": null,
            "align_items": null,
            "align_self": null,
            "border": null,
            "bottom": null,
            "display": null,
            "flex": null,
            "flex_flow": null,
            "grid_area": null,
            "grid_auto_columns": null,
            "grid_auto_flow": null,
            "grid_auto_rows": null,
            "grid_column": null,
            "grid_gap": null,
            "grid_row": null,
            "grid_template_areas": null,
            "grid_template_columns": null,
            "grid_template_rows": null,
            "height": null,
            "justify_content": null,
            "justify_items": null,
            "left": null,
            "margin": null,
            "max_height": null,
            "max_width": null,
            "min_height": null,
            "min_width": null,
            "object_fit": null,
            "object_position": null,
            "order": null,
            "overflow": null,
            "overflow_x": null,
            "overflow_y": null,
            "padding": null,
            "right": null,
            "top": null,
            "visibility": null,
            "width": null
          }
        },
        "355fb1cf03e745f9bc64482727805b7e": {
          "model_module": "@jupyter-widgets/base",
          "model_module_version": "1.2.0",
          "model_name": "LayoutModel",
          "state": {
            "_model_module": "@jupyter-widgets/base",
            "_model_module_version": "1.2.0",
            "_model_name": "LayoutModel",
            "_view_count": null,
            "_view_module": "@jupyter-widgets/base",
            "_view_module_version": "1.2.0",
            "_view_name": "LayoutView",
            "align_content": null,
            "align_items": null,
            "align_self": null,
            "border": null,
            "bottom": null,
            "display": null,
            "flex": null,
            "flex_flow": null,
            "grid_area": null,
            "grid_auto_columns": null,
            "grid_auto_flow": null,
            "grid_auto_rows": null,
            "grid_column": null,
            "grid_gap": null,
            "grid_row": null,
            "grid_template_areas": null,
            "grid_template_columns": null,
            "grid_template_rows": null,
            "height": null,
            "justify_content": null,
            "justify_items": null,
            "left": null,
            "margin": null,
            "max_height": null,
            "max_width": null,
            "min_height": null,
            "min_width": null,
            "object_fit": null,
            "object_position": null,
            "order": null,
            "overflow": null,
            "overflow_x": null,
            "overflow_y": null,
            "padding": null,
            "right": null,
            "top": null,
            "visibility": null,
            "width": null
          }
        },
        "39700205ab674a79af7d7e3fcd700a64": {
          "model_module": "@jupyter-widgets/controls",
          "model_module_version": "1.5.0",
          "model_name": "LabelModel",
          "state": {
            "_dom_classes": [],
            "_model_module": "@jupyter-widgets/controls",
            "_model_module_version": "1.5.0",
            "_model_name": "LabelModel",
            "_view_count": null,
            "_view_module": "@jupyter-widgets/controls",
            "_view_module_version": "1.5.0",
            "_view_name": "LabelView",
            "description": "",
            "description_tooltip": null,
            "layout": "IPY_MODEL_2673c5d6ac9d453d9c00c7813bd73164",
            "placeholder": "​",
            "style": "IPY_MODEL_738ad4a7c5e1427ba9d6feda6398dfc0",
            "value": "0.011 MB of 0.011 MB uploaded\r"
          }
        },
        "399a88d3f4fc4c61932321f9ff6b2189": {
          "model_module": "@jupyter-widgets/controls",
          "model_module_version": "1.5.0",
          "model_name": "LabelModel",
          "state": {
            "_dom_classes": [],
            "_model_module": "@jupyter-widgets/controls",
            "_model_module_version": "1.5.0",
            "_model_name": "LabelModel",
            "_view_count": null,
            "_view_module": "@jupyter-widgets/controls",
            "_view_module_version": "1.5.0",
            "_view_name": "LabelView",
            "description": "",
            "description_tooltip": null,
            "layout": "IPY_MODEL_d19f9c47bfe84ce49bcae87ea05cffd4",
            "placeholder": "​",
            "style": "IPY_MODEL_ceefb4ce20c04ba28fdfc93e5552e97c",
            "value": "0.011 MB of 0.011 MB uploaded\r"
          }
        },
        "3a9cc9e8ece74d48b4a8f42225be8148": {
          "model_module": "@jupyter-widgets/controls",
          "model_module_version": "1.5.0",
          "model_name": "ProgressStyleModel",
          "state": {
            "_model_module": "@jupyter-widgets/controls",
            "_model_module_version": "1.5.0",
            "_model_name": "ProgressStyleModel",
            "_view_count": null,
            "_view_module": "@jupyter-widgets/base",
            "_view_module_version": "1.2.0",
            "_view_name": "StyleView",
            "bar_color": null,
            "description_width": ""
          }
        },
        "3af8495159ac4b39a1b2dedade5fb43c": {
          "model_module": "@jupyter-widgets/controls",
          "model_module_version": "1.5.0",
          "model_name": "VBoxModel",
          "state": {
            "_dom_classes": [],
            "_model_module": "@jupyter-widgets/controls",
            "_model_module_version": "1.5.0",
            "_model_name": "VBoxModel",
            "_view_count": null,
            "_view_module": "@jupyter-widgets/controls",
            "_view_module_version": "1.5.0",
            "_view_name": "VBoxView",
            "box_style": "",
            "children": [
              "IPY_MODEL_50c1f81c5de1424290abe0550bc33e5a",
              "IPY_MODEL_5fcad0c8a71f4c9094a02d54120cce68"
            ],
            "layout": "IPY_MODEL_fb1400995d4e4889a12fe9a9c1f33ede"
          }
        },
        "3bd15fc524fe4d92a99cae599225c253": {
          "model_module": "@jupyter-widgets/base",
          "model_module_version": "1.2.0",
          "model_name": "LayoutModel",
          "state": {
            "_model_module": "@jupyter-widgets/base",
            "_model_module_version": "1.2.0",
            "_model_name": "LayoutModel",
            "_view_count": null,
            "_view_module": "@jupyter-widgets/base",
            "_view_module_version": "1.2.0",
            "_view_name": "LayoutView",
            "align_content": null,
            "align_items": null,
            "align_self": null,
            "border": null,
            "bottom": null,
            "display": null,
            "flex": null,
            "flex_flow": null,
            "grid_area": null,
            "grid_auto_columns": null,
            "grid_auto_flow": null,
            "grid_auto_rows": null,
            "grid_column": null,
            "grid_gap": null,
            "grid_row": null,
            "grid_template_areas": null,
            "grid_template_columns": null,
            "grid_template_rows": null,
            "height": null,
            "justify_content": null,
            "justify_items": null,
            "left": null,
            "margin": null,
            "max_height": null,
            "max_width": null,
            "min_height": null,
            "min_width": null,
            "object_fit": null,
            "object_position": null,
            "order": null,
            "overflow": null,
            "overflow_x": null,
            "overflow_y": null,
            "padding": null,
            "right": null,
            "top": null,
            "visibility": null,
            "width": null
          }
        },
        "3db519907ba64a57ad0021a81a82f61d": {
          "model_module": "@jupyter-widgets/controls",
          "model_module_version": "1.5.0",
          "model_name": "FloatProgressModel",
          "state": {
            "_dom_classes": [],
            "_model_module": "@jupyter-widgets/controls",
            "_model_module_version": "1.5.0",
            "_model_name": "FloatProgressModel",
            "_view_count": null,
            "_view_module": "@jupyter-widgets/controls",
            "_view_module_version": "1.5.0",
            "_view_name": "ProgressView",
            "bar_style": "",
            "description": "",
            "description_tooltip": null,
            "layout": "IPY_MODEL_bdeb4025bbaf465da433e0350bcd67d5",
            "max": 1,
            "min": 0,
            "orientation": "horizontal",
            "style": "IPY_MODEL_918e66e5b5e64ffbac76759dc3a1f53b",
            "value": 1
          }
        },
        "3ea49b6d71c74d1d88a61b370e7dfcd4": {
          "model_module": "@jupyter-widgets/controls",
          "model_module_version": "1.5.0",
          "model_name": "DescriptionStyleModel",
          "state": {
            "_model_module": "@jupyter-widgets/controls",
            "_model_module_version": "1.5.0",
            "_model_name": "DescriptionStyleModel",
            "_view_count": null,
            "_view_module": "@jupyter-widgets/base",
            "_view_module_version": "1.2.0",
            "_view_name": "StyleView",
            "description_width": ""
          }
        },
        "3ef3df8e702d47e9852acafdfc9b1c16": {
          "model_module": "@jupyter-widgets/controls",
          "model_module_version": "1.5.0",
          "model_name": "FloatProgressModel",
          "state": {
            "_dom_classes": [],
            "_model_module": "@jupyter-widgets/controls",
            "_model_module_version": "1.5.0",
            "_model_name": "FloatProgressModel",
            "_view_count": null,
            "_view_module": "@jupyter-widgets/controls",
            "_view_module_version": "1.5.0",
            "_view_name": "ProgressView",
            "bar_style": "",
            "description": "",
            "description_tooltip": null,
            "layout": "IPY_MODEL_150030ef066249acae15a54287be482f",
            "max": 1,
            "min": 0,
            "orientation": "horizontal",
            "style": "IPY_MODEL_ba6d42ad6aec4dd69931d4ea308dc29e",
            "value": 1
          }
        },
        "427159430d904b8898443f4eee2b2962": {
          "model_module": "@jupyter-widgets/base",
          "model_module_version": "1.2.0",
          "model_name": "LayoutModel",
          "state": {
            "_model_module": "@jupyter-widgets/base",
            "_model_module_version": "1.2.0",
            "_model_name": "LayoutModel",
            "_view_count": null,
            "_view_module": "@jupyter-widgets/base",
            "_view_module_version": "1.2.0",
            "_view_name": "LayoutView",
            "align_content": null,
            "align_items": null,
            "align_self": null,
            "border": null,
            "bottom": null,
            "display": null,
            "flex": null,
            "flex_flow": null,
            "grid_area": null,
            "grid_auto_columns": null,
            "grid_auto_flow": null,
            "grid_auto_rows": null,
            "grid_column": null,
            "grid_gap": null,
            "grid_row": null,
            "grid_template_areas": null,
            "grid_template_columns": null,
            "grid_template_rows": null,
            "height": null,
            "justify_content": null,
            "justify_items": null,
            "left": null,
            "margin": null,
            "max_height": null,
            "max_width": null,
            "min_height": null,
            "min_width": null,
            "object_fit": null,
            "object_position": null,
            "order": null,
            "overflow": null,
            "overflow_x": null,
            "overflow_y": null,
            "padding": null,
            "right": null,
            "top": null,
            "visibility": null,
            "width": null
          }
        },
        "45892a1e429c4ea7a5bf36b59524dde3": {
          "model_module": "@jupyter-widgets/controls",
          "model_module_version": "1.5.0",
          "model_name": "DescriptionStyleModel",
          "state": {
            "_model_module": "@jupyter-widgets/controls",
            "_model_module_version": "1.5.0",
            "_model_name": "DescriptionStyleModel",
            "_view_count": null,
            "_view_module": "@jupyter-widgets/base",
            "_view_module_version": "1.2.0",
            "_view_name": "StyleView",
            "description_width": ""
          }
        },
        "47453ccb444145f1a8166078321c6213": {
          "model_module": "@jupyter-widgets/controls",
          "model_module_version": "1.5.0",
          "model_name": "LabelModel",
          "state": {
            "_dom_classes": [],
            "_model_module": "@jupyter-widgets/controls",
            "_model_module_version": "1.5.0",
            "_model_name": "LabelModel",
            "_view_count": null,
            "_view_module": "@jupyter-widgets/controls",
            "_view_module_version": "1.5.0",
            "_view_name": "LabelView",
            "description": "",
            "description_tooltip": null,
            "layout": "IPY_MODEL_5453693cd10445deadf6ab323e69c94a",
            "placeholder": "​",
            "style": "IPY_MODEL_5ff4df5204304ba7bec0be33f3e80bc8",
            "value": "0.011 MB of 0.011 MB uploaded\r"
          }
        },
        "4805c817b54f498486392b27c458b6e0": {
          "model_module": "@jupyter-widgets/controls",
          "model_module_version": "1.5.0",
          "model_name": "VBoxModel",
          "state": {
            "_dom_classes": [],
            "_model_module": "@jupyter-widgets/controls",
            "_model_module_version": "1.5.0",
            "_model_name": "VBoxModel",
            "_view_count": null,
            "_view_module": "@jupyter-widgets/controls",
            "_view_module_version": "1.5.0",
            "_view_name": "VBoxView",
            "box_style": "",
            "children": [
              "IPY_MODEL_932ac8ed07fa45779bfd44fe0a42c743",
              "IPY_MODEL_8c0ecac34b8240c4822937cc58c97f88"
            ],
            "layout": "IPY_MODEL_9d15cceaf0b14a4390e56041725071cf"
          }
        },
        "49070cde9ebf4e25a9d141b205eb141a": {
          "model_module": "@jupyter-widgets/base",
          "model_module_version": "1.2.0",
          "model_name": "LayoutModel",
          "state": {
            "_model_module": "@jupyter-widgets/base",
            "_model_module_version": "1.2.0",
            "_model_name": "LayoutModel",
            "_view_count": null,
            "_view_module": "@jupyter-widgets/base",
            "_view_module_version": "1.2.0",
            "_view_name": "LayoutView",
            "align_content": null,
            "align_items": null,
            "align_self": null,
            "border": null,
            "bottom": null,
            "display": null,
            "flex": null,
            "flex_flow": null,
            "grid_area": null,
            "grid_auto_columns": null,
            "grid_auto_flow": null,
            "grid_auto_rows": null,
            "grid_column": null,
            "grid_gap": null,
            "grid_row": null,
            "grid_template_areas": null,
            "grid_template_columns": null,
            "grid_template_rows": null,
            "height": null,
            "justify_content": null,
            "justify_items": null,
            "left": null,
            "margin": null,
            "max_height": null,
            "max_width": null,
            "min_height": null,
            "min_width": null,
            "object_fit": null,
            "object_position": null,
            "order": null,
            "overflow": null,
            "overflow_x": null,
            "overflow_y": null,
            "padding": null,
            "right": null,
            "top": null,
            "visibility": null,
            "width": null
          }
        },
        "4d5610990e5c4f1483f14fc2680fa606": {
          "model_module": "@jupyter-widgets/controls",
          "model_module_version": "1.5.0",
          "model_name": "DescriptionStyleModel",
          "state": {
            "_model_module": "@jupyter-widgets/controls",
            "_model_module_version": "1.5.0",
            "_model_name": "DescriptionStyleModel",
            "_view_count": null,
            "_view_module": "@jupyter-widgets/base",
            "_view_module_version": "1.2.0",
            "_view_name": "StyleView",
            "description_width": ""
          }
        },
        "509f7c5c20cd4fcfb6fe15544588ca86": {
          "model_module": "@jupyter-widgets/base",
          "model_module_version": "1.2.0",
          "model_name": "LayoutModel",
          "state": {
            "_model_module": "@jupyter-widgets/base",
            "_model_module_version": "1.2.0",
            "_model_name": "LayoutModel",
            "_view_count": null,
            "_view_module": "@jupyter-widgets/base",
            "_view_module_version": "1.2.0",
            "_view_name": "LayoutView",
            "align_content": null,
            "align_items": null,
            "align_self": null,
            "border": null,
            "bottom": null,
            "display": null,
            "flex": null,
            "flex_flow": null,
            "grid_area": null,
            "grid_auto_columns": null,
            "grid_auto_flow": null,
            "grid_auto_rows": null,
            "grid_column": null,
            "grid_gap": null,
            "grid_row": null,
            "grid_template_areas": null,
            "grid_template_columns": null,
            "grid_template_rows": null,
            "height": null,
            "justify_content": null,
            "justify_items": null,
            "left": null,
            "margin": null,
            "max_height": null,
            "max_width": null,
            "min_height": null,
            "min_width": null,
            "object_fit": null,
            "object_position": null,
            "order": null,
            "overflow": null,
            "overflow_x": null,
            "overflow_y": null,
            "padding": null,
            "right": null,
            "top": null,
            "visibility": null,
            "width": null
          }
        },
        "50c1f81c5de1424290abe0550bc33e5a": {
          "model_module": "@jupyter-widgets/controls",
          "model_module_version": "1.5.0",
          "model_name": "LabelModel",
          "state": {
            "_dom_classes": [],
            "_model_module": "@jupyter-widgets/controls",
            "_model_module_version": "1.5.0",
            "_model_name": "LabelModel",
            "_view_count": null,
            "_view_module": "@jupyter-widgets/controls",
            "_view_module_version": "1.5.0",
            "_view_name": "LabelView",
            "description": "",
            "description_tooltip": null,
            "layout": "IPY_MODEL_8d82ab6a91aa4a46a28ba4f56eaa4394",
            "placeholder": "​",
            "style": "IPY_MODEL_5ca0bbd4ed1c43129639afe542a28e45",
            "value": "0.011 MB of 0.011 MB uploaded\r"
          }
        },
        "54226ec288ad423b864adcf15025b327": {
          "model_module": "@jupyter-widgets/controls",
          "model_module_version": "1.5.0",
          "model_name": "VBoxModel",
          "state": {
            "_dom_classes": [],
            "_model_module": "@jupyter-widgets/controls",
            "_model_module_version": "1.5.0",
            "_model_name": "VBoxModel",
            "_view_count": null,
            "_view_module": "@jupyter-widgets/controls",
            "_view_module_version": "1.5.0",
            "_view_name": "VBoxView",
            "box_style": "",
            "children": [
              "IPY_MODEL_a576d3bad646493daf80078d732355fd",
              "IPY_MODEL_6268c495b3944dd492e6a2bf6a6c7846"
            ],
            "layout": "IPY_MODEL_355fb1cf03e745f9bc64482727805b7e"
          }
        },
        "5453693cd10445deadf6ab323e69c94a": {
          "model_module": "@jupyter-widgets/base",
          "model_module_version": "1.2.0",
          "model_name": "LayoutModel",
          "state": {
            "_model_module": "@jupyter-widgets/base",
            "_model_module_version": "1.2.0",
            "_model_name": "LayoutModel",
            "_view_count": null,
            "_view_module": "@jupyter-widgets/base",
            "_view_module_version": "1.2.0",
            "_view_name": "LayoutView",
            "align_content": null,
            "align_items": null,
            "align_self": null,
            "border": null,
            "bottom": null,
            "display": null,
            "flex": null,
            "flex_flow": null,
            "grid_area": null,
            "grid_auto_columns": null,
            "grid_auto_flow": null,
            "grid_auto_rows": null,
            "grid_column": null,
            "grid_gap": null,
            "grid_row": null,
            "grid_template_areas": null,
            "grid_template_columns": null,
            "grid_template_rows": null,
            "height": null,
            "justify_content": null,
            "justify_items": null,
            "left": null,
            "margin": null,
            "max_height": null,
            "max_width": null,
            "min_height": null,
            "min_width": null,
            "object_fit": null,
            "object_position": null,
            "order": null,
            "overflow": null,
            "overflow_x": null,
            "overflow_y": null,
            "padding": null,
            "right": null,
            "top": null,
            "visibility": null,
            "width": null
          }
        },
        "54e38759a20545329d505450b6b7c833": {
          "model_module": "@jupyter-widgets/controls",
          "model_module_version": "1.5.0",
          "model_name": "LabelModel",
          "state": {
            "_dom_classes": [],
            "_model_module": "@jupyter-widgets/controls",
            "_model_module_version": "1.5.0",
            "_model_name": "LabelModel",
            "_view_count": null,
            "_view_module": "@jupyter-widgets/controls",
            "_view_module_version": "1.5.0",
            "_view_name": "LabelView",
            "description": "",
            "description_tooltip": null,
            "layout": "IPY_MODEL_fc67d39407c04a6ab42daffb19bbdecc",
            "placeholder": "​",
            "style": "IPY_MODEL_b76746ae54734b72ab236d223c8ad87c",
            "value": "0.011 MB of 0.011 MB uploaded\r"
          }
        },
        "55dfe54841b540289f58928873abb6d7": {
          "model_module": "@jupyter-widgets/controls",
          "model_module_version": "1.5.0",
          "model_name": "FloatProgressModel",
          "state": {
            "_dom_classes": [],
            "_model_module": "@jupyter-widgets/controls",
            "_model_module_version": "1.5.0",
            "_model_name": "FloatProgressModel",
            "_view_count": null,
            "_view_module": "@jupyter-widgets/controls",
            "_view_module_version": "1.5.0",
            "_view_name": "ProgressView",
            "bar_style": "",
            "description": "",
            "description_tooltip": null,
            "layout": "IPY_MODEL_ca31a39a07b548818efc2126782b0f8b",
            "max": 1,
            "min": 0,
            "orientation": "horizontal",
            "style": "IPY_MODEL_a224276f453f42cc8c10c43f867c46eb",
            "value": 1
          }
        },
        "5709fe8412b049ca8fa56a2b834eacf4": {
          "model_module": "@jupyter-widgets/base",
          "model_module_version": "1.2.0",
          "model_name": "LayoutModel",
          "state": {
            "_model_module": "@jupyter-widgets/base",
            "_model_module_version": "1.2.0",
            "_model_name": "LayoutModel",
            "_view_count": null,
            "_view_module": "@jupyter-widgets/base",
            "_view_module_version": "1.2.0",
            "_view_name": "LayoutView",
            "align_content": null,
            "align_items": null,
            "align_self": null,
            "border": null,
            "bottom": null,
            "display": null,
            "flex": null,
            "flex_flow": null,
            "grid_area": null,
            "grid_auto_columns": null,
            "grid_auto_flow": null,
            "grid_auto_rows": null,
            "grid_column": null,
            "grid_gap": null,
            "grid_row": null,
            "grid_template_areas": null,
            "grid_template_columns": null,
            "grid_template_rows": null,
            "height": null,
            "justify_content": null,
            "justify_items": null,
            "left": null,
            "margin": null,
            "max_height": null,
            "max_width": null,
            "min_height": null,
            "min_width": null,
            "object_fit": null,
            "object_position": null,
            "order": null,
            "overflow": null,
            "overflow_x": null,
            "overflow_y": null,
            "padding": null,
            "right": null,
            "top": null,
            "visibility": null,
            "width": null
          }
        },
        "584895fb1837408fa6a47366a7428660": {
          "model_module": "@jupyter-widgets/controls",
          "model_module_version": "1.5.0",
          "model_name": "DescriptionStyleModel",
          "state": {
            "_model_module": "@jupyter-widgets/controls",
            "_model_module_version": "1.5.0",
            "_model_name": "DescriptionStyleModel",
            "_view_count": null,
            "_view_module": "@jupyter-widgets/base",
            "_view_module_version": "1.2.0",
            "_view_name": "StyleView",
            "description_width": ""
          }
        },
        "5866c3bf32024e93a01b75e772cb9baa": {
          "model_module": "@jupyter-widgets/base",
          "model_module_version": "1.2.0",
          "model_name": "LayoutModel",
          "state": {
            "_model_module": "@jupyter-widgets/base",
            "_model_module_version": "1.2.0",
            "_model_name": "LayoutModel",
            "_view_count": null,
            "_view_module": "@jupyter-widgets/base",
            "_view_module_version": "1.2.0",
            "_view_name": "LayoutView",
            "align_content": null,
            "align_items": null,
            "align_self": null,
            "border": null,
            "bottom": null,
            "display": null,
            "flex": null,
            "flex_flow": null,
            "grid_area": null,
            "grid_auto_columns": null,
            "grid_auto_flow": null,
            "grid_auto_rows": null,
            "grid_column": null,
            "grid_gap": null,
            "grid_row": null,
            "grid_template_areas": null,
            "grid_template_columns": null,
            "grid_template_rows": null,
            "height": null,
            "justify_content": null,
            "justify_items": null,
            "left": null,
            "margin": null,
            "max_height": null,
            "max_width": null,
            "min_height": null,
            "min_width": null,
            "object_fit": null,
            "object_position": null,
            "order": null,
            "overflow": null,
            "overflow_x": null,
            "overflow_y": null,
            "padding": null,
            "right": null,
            "top": null,
            "visibility": null,
            "width": null
          }
        },
        "59fa88b58f42454c90161db75136e237": {
          "model_module": "@jupyter-widgets/controls",
          "model_module_version": "1.5.0",
          "model_name": "VBoxModel",
          "state": {
            "_dom_classes": [],
            "_model_module": "@jupyter-widgets/controls",
            "_model_module_version": "1.5.0",
            "_model_name": "VBoxModel",
            "_view_count": null,
            "_view_module": "@jupyter-widgets/controls",
            "_view_module_version": "1.5.0",
            "_view_name": "VBoxView",
            "box_style": "",
            "children": [
              "IPY_MODEL_399a88d3f4fc4c61932321f9ff6b2189",
              "IPY_MODEL_f5a2b62831b246f996318b72e4260339"
            ],
            "layout": "IPY_MODEL_7fd4eb94ee6c46569eae939a1ae48cb7"
          }
        },
        "5a1ad2886c8d49c2a2a3f7251cc7dd74": {
          "model_module": "@jupyter-widgets/controls",
          "model_module_version": "1.5.0",
          "model_name": "DescriptionStyleModel",
          "state": {
            "_model_module": "@jupyter-widgets/controls",
            "_model_module_version": "1.5.0",
            "_model_name": "DescriptionStyleModel",
            "_view_count": null,
            "_view_module": "@jupyter-widgets/base",
            "_view_module_version": "1.2.0",
            "_view_name": "StyleView",
            "description_width": ""
          }
        },
        "5aa0f5afe6294c8a89468adfefcc5521": {
          "model_module": "@jupyter-widgets/controls",
          "model_module_version": "1.5.0",
          "model_name": "VBoxModel",
          "state": {
            "_dom_classes": [],
            "_model_module": "@jupyter-widgets/controls",
            "_model_module_version": "1.5.0",
            "_model_name": "VBoxModel",
            "_view_count": null,
            "_view_module": "@jupyter-widgets/controls",
            "_view_module_version": "1.5.0",
            "_view_name": "VBoxView",
            "box_style": "",
            "children": [
              "IPY_MODEL_085e2d373f504664a5a206a2c0bbedea",
              "IPY_MODEL_b7905b8a316449c4a587b0b9aaad7250"
            ],
            "layout": "IPY_MODEL_928b9b9a0bba48ce9b1e078d381d7507"
          }
        },
        "5b6a6157e4ee4618ab68a9b4d67eba10": {
          "model_module": "@jupyter-widgets/base",
          "model_module_version": "1.2.0",
          "model_name": "LayoutModel",
          "state": {
            "_model_module": "@jupyter-widgets/base",
            "_model_module_version": "1.2.0",
            "_model_name": "LayoutModel",
            "_view_count": null,
            "_view_module": "@jupyter-widgets/base",
            "_view_module_version": "1.2.0",
            "_view_name": "LayoutView",
            "align_content": null,
            "align_items": null,
            "align_self": null,
            "border": null,
            "bottom": null,
            "display": null,
            "flex": null,
            "flex_flow": null,
            "grid_area": null,
            "grid_auto_columns": null,
            "grid_auto_flow": null,
            "grid_auto_rows": null,
            "grid_column": null,
            "grid_gap": null,
            "grid_row": null,
            "grid_template_areas": null,
            "grid_template_columns": null,
            "grid_template_rows": null,
            "height": null,
            "justify_content": null,
            "justify_items": null,
            "left": null,
            "margin": null,
            "max_height": null,
            "max_width": null,
            "min_height": null,
            "min_width": null,
            "object_fit": null,
            "object_position": null,
            "order": null,
            "overflow": null,
            "overflow_x": null,
            "overflow_y": null,
            "padding": null,
            "right": null,
            "top": null,
            "visibility": null,
            "width": null
          }
        },
        "5b7ac4df8c214c11a856c5b29d5fc6a4": {
          "model_module": "@jupyter-widgets/base",
          "model_module_version": "1.2.0",
          "model_name": "LayoutModel",
          "state": {
            "_model_module": "@jupyter-widgets/base",
            "_model_module_version": "1.2.0",
            "_model_name": "LayoutModel",
            "_view_count": null,
            "_view_module": "@jupyter-widgets/base",
            "_view_module_version": "1.2.0",
            "_view_name": "LayoutView",
            "align_content": null,
            "align_items": null,
            "align_self": null,
            "border": null,
            "bottom": null,
            "display": null,
            "flex": null,
            "flex_flow": null,
            "grid_area": null,
            "grid_auto_columns": null,
            "grid_auto_flow": null,
            "grid_auto_rows": null,
            "grid_column": null,
            "grid_gap": null,
            "grid_row": null,
            "grid_template_areas": null,
            "grid_template_columns": null,
            "grid_template_rows": null,
            "height": null,
            "justify_content": null,
            "justify_items": null,
            "left": null,
            "margin": null,
            "max_height": null,
            "max_width": null,
            "min_height": null,
            "min_width": null,
            "object_fit": null,
            "object_position": null,
            "order": null,
            "overflow": null,
            "overflow_x": null,
            "overflow_y": null,
            "padding": null,
            "right": null,
            "top": null,
            "visibility": null,
            "width": null
          }
        },
        "5bc7b75ae6384d4b86915fdd25ef9412": {
          "model_module": "@jupyter-widgets/controls",
          "model_module_version": "1.5.0",
          "model_name": "DescriptionStyleModel",
          "state": {
            "_model_module": "@jupyter-widgets/controls",
            "_model_module_version": "1.5.0",
            "_model_name": "DescriptionStyleModel",
            "_view_count": null,
            "_view_module": "@jupyter-widgets/base",
            "_view_module_version": "1.2.0",
            "_view_name": "StyleView",
            "description_width": ""
          }
        },
        "5ca0bbd4ed1c43129639afe542a28e45": {
          "model_module": "@jupyter-widgets/controls",
          "model_module_version": "1.5.0",
          "model_name": "DescriptionStyleModel",
          "state": {
            "_model_module": "@jupyter-widgets/controls",
            "_model_module_version": "1.5.0",
            "_model_name": "DescriptionStyleModel",
            "_view_count": null,
            "_view_module": "@jupyter-widgets/base",
            "_view_module_version": "1.2.0",
            "_view_name": "StyleView",
            "description_width": ""
          }
        },
        "5e739abc6d9d4dbbb354d0cf1e38dbe6": {
          "model_module": "@jupyter-widgets/controls",
          "model_module_version": "1.5.0",
          "model_name": "ProgressStyleModel",
          "state": {
            "_model_module": "@jupyter-widgets/controls",
            "_model_module_version": "1.5.0",
            "_model_name": "ProgressStyleModel",
            "_view_count": null,
            "_view_module": "@jupyter-widgets/base",
            "_view_module_version": "1.2.0",
            "_view_name": "StyleView",
            "bar_color": null,
            "description_width": ""
          }
        },
        "5edc6e8ae3054782935510a31c83100c": {
          "model_module": "@jupyter-widgets/controls",
          "model_module_version": "1.5.0",
          "model_name": "ProgressStyleModel",
          "state": {
            "_model_module": "@jupyter-widgets/controls",
            "_model_module_version": "1.5.0",
            "_model_name": "ProgressStyleModel",
            "_view_count": null,
            "_view_module": "@jupyter-widgets/base",
            "_view_module_version": "1.2.0",
            "_view_name": "StyleView",
            "bar_color": null,
            "description_width": ""
          }
        },
        "5fcad0c8a71f4c9094a02d54120cce68": {
          "model_module": "@jupyter-widgets/controls",
          "model_module_version": "1.5.0",
          "model_name": "FloatProgressModel",
          "state": {
            "_dom_classes": [],
            "_model_module": "@jupyter-widgets/controls",
            "_model_module_version": "1.5.0",
            "_model_name": "FloatProgressModel",
            "_view_count": null,
            "_view_module": "@jupyter-widgets/controls",
            "_view_module_version": "1.5.0",
            "_view_name": "ProgressView",
            "bar_style": "",
            "description": "",
            "description_tooltip": null,
            "layout": "IPY_MODEL_3bd15fc524fe4d92a99cae599225c253",
            "max": 1,
            "min": 0,
            "orientation": "horizontal",
            "style": "IPY_MODEL_be686f8e2a5e41e1a03a497bd77da712",
            "value": 1
          }
        },
        "5ff4df5204304ba7bec0be33f3e80bc8": {
          "model_module": "@jupyter-widgets/controls",
          "model_module_version": "1.5.0",
          "model_name": "DescriptionStyleModel",
          "state": {
            "_model_module": "@jupyter-widgets/controls",
            "_model_module_version": "1.5.0",
            "_model_name": "DescriptionStyleModel",
            "_view_count": null,
            "_view_module": "@jupyter-widgets/base",
            "_view_module_version": "1.2.0",
            "_view_name": "StyleView",
            "description_width": ""
          }
        },
        "60cd8a147a744e99bd667bae3bbaf213": {
          "model_module": "@jupyter-widgets/controls",
          "model_module_version": "1.5.0",
          "model_name": "DescriptionStyleModel",
          "state": {
            "_model_module": "@jupyter-widgets/controls",
            "_model_module_version": "1.5.0",
            "_model_name": "DescriptionStyleModel",
            "_view_count": null,
            "_view_module": "@jupyter-widgets/base",
            "_view_module_version": "1.2.0",
            "_view_name": "StyleView",
            "description_width": ""
          }
        },
        "6268c495b3944dd492e6a2bf6a6c7846": {
          "model_module": "@jupyter-widgets/controls",
          "model_module_version": "1.5.0",
          "model_name": "FloatProgressModel",
          "state": {
            "_dom_classes": [],
            "_model_module": "@jupyter-widgets/controls",
            "_model_module_version": "1.5.0",
            "_model_name": "FloatProgressModel",
            "_view_count": null,
            "_view_module": "@jupyter-widgets/controls",
            "_view_module_version": "1.5.0",
            "_view_name": "ProgressView",
            "bar_style": "",
            "description": "",
            "description_tooltip": null,
            "layout": "IPY_MODEL_0c73a3c001fb4b6ba7054ebd8c215890",
            "max": 1,
            "min": 0,
            "orientation": "horizontal",
            "style": "IPY_MODEL_8d1a9064480746e49d1647e5ef847bcd",
            "value": 1
          }
        },
        "665291528822432590de7c8778af4fc3": {
          "model_module": "@jupyter-widgets/controls",
          "model_module_version": "1.5.0",
          "model_name": "FloatProgressModel",
          "state": {
            "_dom_classes": [],
            "_model_module": "@jupyter-widgets/controls",
            "_model_module_version": "1.5.0",
            "_model_name": "FloatProgressModel",
            "_view_count": null,
            "_view_module": "@jupyter-widgets/controls",
            "_view_module_version": "1.5.0",
            "_view_name": "ProgressView",
            "bar_style": "",
            "description": "",
            "description_tooltip": null,
            "layout": "IPY_MODEL_009a9390fac843e08c303c5382411174",
            "max": 1,
            "min": 0,
            "orientation": "horizontal",
            "style": "IPY_MODEL_3a9cc9e8ece74d48b4a8f42225be8148",
            "value": 1
          }
        },
        "687426969b6249c1a8dd980aed9c55a9": {
          "model_module": "@jupyter-widgets/base",
          "model_module_version": "1.2.0",
          "model_name": "LayoutModel",
          "state": {
            "_model_module": "@jupyter-widgets/base",
            "_model_module_version": "1.2.0",
            "_model_name": "LayoutModel",
            "_view_count": null,
            "_view_module": "@jupyter-widgets/base",
            "_view_module_version": "1.2.0",
            "_view_name": "LayoutView",
            "align_content": null,
            "align_items": null,
            "align_self": null,
            "border": null,
            "bottom": null,
            "display": null,
            "flex": null,
            "flex_flow": null,
            "grid_area": null,
            "grid_auto_columns": null,
            "grid_auto_flow": null,
            "grid_auto_rows": null,
            "grid_column": null,
            "grid_gap": null,
            "grid_row": null,
            "grid_template_areas": null,
            "grid_template_columns": null,
            "grid_template_rows": null,
            "height": null,
            "justify_content": null,
            "justify_items": null,
            "left": null,
            "margin": null,
            "max_height": null,
            "max_width": null,
            "min_height": null,
            "min_width": null,
            "object_fit": null,
            "object_position": null,
            "order": null,
            "overflow": null,
            "overflow_x": null,
            "overflow_y": null,
            "padding": null,
            "right": null,
            "top": null,
            "visibility": null,
            "width": null
          }
        },
        "68e7dd56d6d54cdb98ad46ed23fabae1": {
          "model_module": "@jupyter-widgets/controls",
          "model_module_version": "1.5.0",
          "model_name": "ProgressStyleModel",
          "state": {
            "_model_module": "@jupyter-widgets/controls",
            "_model_module_version": "1.5.0",
            "_model_name": "ProgressStyleModel",
            "_view_count": null,
            "_view_module": "@jupyter-widgets/base",
            "_view_module_version": "1.2.0",
            "_view_name": "StyleView",
            "bar_color": null,
            "description_width": ""
          }
        },
        "6c9d2e1f98184d89af2f19de5a67fa89": {
          "model_module": "@jupyter-widgets/controls",
          "model_module_version": "1.5.0",
          "model_name": "DescriptionStyleModel",
          "state": {
            "_model_module": "@jupyter-widgets/controls",
            "_model_module_version": "1.5.0",
            "_model_name": "DescriptionStyleModel",
            "_view_count": null,
            "_view_module": "@jupyter-widgets/base",
            "_view_module_version": "1.2.0",
            "_view_name": "StyleView",
            "description_width": ""
          }
        },
        "6ce91eb60cbb4c53bebf55f6202e1e97": {
          "model_module": "@jupyter-widgets/controls",
          "model_module_version": "1.5.0",
          "model_name": "DescriptionStyleModel",
          "state": {
            "_model_module": "@jupyter-widgets/controls",
            "_model_module_version": "1.5.0",
            "_model_name": "DescriptionStyleModel",
            "_view_count": null,
            "_view_module": "@jupyter-widgets/base",
            "_view_module_version": "1.2.0",
            "_view_name": "StyleView",
            "description_width": ""
          }
        },
        "6e01781a56af4cd69649a59761d81589": {
          "model_module": "@jupyter-widgets/controls",
          "model_module_version": "1.5.0",
          "model_name": "VBoxModel",
          "state": {
            "_dom_classes": [],
            "_model_module": "@jupyter-widgets/controls",
            "_model_module_version": "1.5.0",
            "_model_name": "VBoxModel",
            "_view_count": null,
            "_view_module": "@jupyter-widgets/controls",
            "_view_module_version": "1.5.0",
            "_view_name": "VBoxView",
            "box_style": "",
            "children": [
              "IPY_MODEL_39700205ab674a79af7d7e3fcd700a64",
              "IPY_MODEL_7ab778bfd0404273ab99f9787c61ceae"
            ],
            "layout": "IPY_MODEL_2871a264f8424bf1ac5dbd411c562977"
          }
        },
        "72218ce5461c4648b2c90e7b02eeb12d": {
          "model_module": "@jupyter-widgets/controls",
          "model_module_version": "1.5.0",
          "model_name": "VBoxModel",
          "state": {
            "_dom_classes": [],
            "_model_module": "@jupyter-widgets/controls",
            "_model_module_version": "1.5.0",
            "_model_name": "VBoxModel",
            "_view_count": null,
            "_view_module": "@jupyter-widgets/controls",
            "_view_module_version": "1.5.0",
            "_view_name": "VBoxView",
            "box_style": "",
            "children": [
              "IPY_MODEL_2505ae465ab540d29d65198b4b2648b7",
              "IPY_MODEL_0ad7514c162642be82ad9f52363bd013"
            ],
            "layout": "IPY_MODEL_1f25ba927c664ce79d3dd2a23376f097"
          }
        },
        "738ad4a7c5e1427ba9d6feda6398dfc0": {
          "model_module": "@jupyter-widgets/controls",
          "model_module_version": "1.5.0",
          "model_name": "DescriptionStyleModel",
          "state": {
            "_model_module": "@jupyter-widgets/controls",
            "_model_module_version": "1.5.0",
            "_model_name": "DescriptionStyleModel",
            "_view_count": null,
            "_view_module": "@jupyter-widgets/base",
            "_view_module_version": "1.2.0",
            "_view_name": "StyleView",
            "description_width": ""
          }
        },
        "74f63eb466bb4a4293715c59aed0ffab": {
          "model_module": "@jupyter-widgets/base",
          "model_module_version": "1.2.0",
          "model_name": "LayoutModel",
          "state": {
            "_model_module": "@jupyter-widgets/base",
            "_model_module_version": "1.2.0",
            "_model_name": "LayoutModel",
            "_view_count": null,
            "_view_module": "@jupyter-widgets/base",
            "_view_module_version": "1.2.0",
            "_view_name": "LayoutView",
            "align_content": null,
            "align_items": null,
            "align_self": null,
            "border": null,
            "bottom": null,
            "display": null,
            "flex": null,
            "flex_flow": null,
            "grid_area": null,
            "grid_auto_columns": null,
            "grid_auto_flow": null,
            "grid_auto_rows": null,
            "grid_column": null,
            "grid_gap": null,
            "grid_row": null,
            "grid_template_areas": null,
            "grid_template_columns": null,
            "grid_template_rows": null,
            "height": null,
            "justify_content": null,
            "justify_items": null,
            "left": null,
            "margin": null,
            "max_height": null,
            "max_width": null,
            "min_height": null,
            "min_width": null,
            "object_fit": null,
            "object_position": null,
            "order": null,
            "overflow": null,
            "overflow_x": null,
            "overflow_y": null,
            "padding": null,
            "right": null,
            "top": null,
            "visibility": null,
            "width": null
          }
        },
        "779c668f435c41f4b9b21078c0958040": {
          "model_module": "@jupyter-widgets/base",
          "model_module_version": "1.2.0",
          "model_name": "LayoutModel",
          "state": {
            "_model_module": "@jupyter-widgets/base",
            "_model_module_version": "1.2.0",
            "_model_name": "LayoutModel",
            "_view_count": null,
            "_view_module": "@jupyter-widgets/base",
            "_view_module_version": "1.2.0",
            "_view_name": "LayoutView",
            "align_content": null,
            "align_items": null,
            "align_self": null,
            "border": null,
            "bottom": null,
            "display": null,
            "flex": null,
            "flex_flow": null,
            "grid_area": null,
            "grid_auto_columns": null,
            "grid_auto_flow": null,
            "grid_auto_rows": null,
            "grid_column": null,
            "grid_gap": null,
            "grid_row": null,
            "grid_template_areas": null,
            "grid_template_columns": null,
            "grid_template_rows": null,
            "height": null,
            "justify_content": null,
            "justify_items": null,
            "left": null,
            "margin": null,
            "max_height": null,
            "max_width": null,
            "min_height": null,
            "min_width": null,
            "object_fit": null,
            "object_position": null,
            "order": null,
            "overflow": null,
            "overflow_x": null,
            "overflow_y": null,
            "padding": null,
            "right": null,
            "top": null,
            "visibility": null,
            "width": null
          }
        },
        "77a08fcaff2347e6a6a0060a1262c7a1": {
          "model_module": "@jupyter-widgets/base",
          "model_module_version": "1.2.0",
          "model_name": "LayoutModel",
          "state": {
            "_model_module": "@jupyter-widgets/base",
            "_model_module_version": "1.2.0",
            "_model_name": "LayoutModel",
            "_view_count": null,
            "_view_module": "@jupyter-widgets/base",
            "_view_module_version": "1.2.0",
            "_view_name": "LayoutView",
            "align_content": null,
            "align_items": null,
            "align_self": null,
            "border": null,
            "bottom": null,
            "display": null,
            "flex": null,
            "flex_flow": null,
            "grid_area": null,
            "grid_auto_columns": null,
            "grid_auto_flow": null,
            "grid_auto_rows": null,
            "grid_column": null,
            "grid_gap": null,
            "grid_row": null,
            "grid_template_areas": null,
            "grid_template_columns": null,
            "grid_template_rows": null,
            "height": null,
            "justify_content": null,
            "justify_items": null,
            "left": null,
            "margin": null,
            "max_height": null,
            "max_width": null,
            "min_height": null,
            "min_width": null,
            "object_fit": null,
            "object_position": null,
            "order": null,
            "overflow": null,
            "overflow_x": null,
            "overflow_y": null,
            "padding": null,
            "right": null,
            "top": null,
            "visibility": null,
            "width": null
          }
        },
        "7902e318e19f4c39bfc20825349d3b16": {
          "model_module": "@jupyter-widgets/controls",
          "model_module_version": "1.5.0",
          "model_name": "ProgressStyleModel",
          "state": {
            "_model_module": "@jupyter-widgets/controls",
            "_model_module_version": "1.5.0",
            "_model_name": "ProgressStyleModel",
            "_view_count": null,
            "_view_module": "@jupyter-widgets/base",
            "_view_module_version": "1.2.0",
            "_view_name": "StyleView",
            "bar_color": null,
            "description_width": ""
          }
        },
        "796a2cb10ccd4c0aa9700d6554bc5692": {
          "model_module": "@jupyter-widgets/base",
          "model_module_version": "1.2.0",
          "model_name": "LayoutModel",
          "state": {
            "_model_module": "@jupyter-widgets/base",
            "_model_module_version": "1.2.0",
            "_model_name": "LayoutModel",
            "_view_count": null,
            "_view_module": "@jupyter-widgets/base",
            "_view_module_version": "1.2.0",
            "_view_name": "LayoutView",
            "align_content": null,
            "align_items": null,
            "align_self": null,
            "border": null,
            "bottom": null,
            "display": null,
            "flex": null,
            "flex_flow": null,
            "grid_area": null,
            "grid_auto_columns": null,
            "grid_auto_flow": null,
            "grid_auto_rows": null,
            "grid_column": null,
            "grid_gap": null,
            "grid_row": null,
            "grid_template_areas": null,
            "grid_template_columns": null,
            "grid_template_rows": null,
            "height": null,
            "justify_content": null,
            "justify_items": null,
            "left": null,
            "margin": null,
            "max_height": null,
            "max_width": null,
            "min_height": null,
            "min_width": null,
            "object_fit": null,
            "object_position": null,
            "order": null,
            "overflow": null,
            "overflow_x": null,
            "overflow_y": null,
            "padding": null,
            "right": null,
            "top": null,
            "visibility": null,
            "width": null
          }
        },
        "7a461dc161174b1a87606f11f30185f1": {
          "model_module": "@jupyter-widgets/controls",
          "model_module_version": "1.5.0",
          "model_name": "LabelModel",
          "state": {
            "_dom_classes": [],
            "_model_module": "@jupyter-widgets/controls",
            "_model_module_version": "1.5.0",
            "_model_name": "LabelModel",
            "_view_count": null,
            "_view_module": "@jupyter-widgets/controls",
            "_view_module_version": "1.5.0",
            "_view_name": "LabelView",
            "description": "",
            "description_tooltip": null,
            "layout": "IPY_MODEL_796a2cb10ccd4c0aa9700d6554bc5692",
            "placeholder": "​",
            "style": "IPY_MODEL_b0683f47779e4927b06af5fc0795cdbd",
            "value": "0.011 MB of 0.011 MB uploaded\r"
          }
        },
        "7ab778bfd0404273ab99f9787c61ceae": {
          "model_module": "@jupyter-widgets/controls",
          "model_module_version": "1.5.0",
          "model_name": "FloatProgressModel",
          "state": {
            "_dom_classes": [],
            "_model_module": "@jupyter-widgets/controls",
            "_model_module_version": "1.5.0",
            "_model_name": "FloatProgressModel",
            "_view_count": null,
            "_view_module": "@jupyter-widgets/controls",
            "_view_module_version": "1.5.0",
            "_view_name": "ProgressView",
            "bar_style": "",
            "description": "",
            "description_tooltip": null,
            "layout": "IPY_MODEL_16b4411ad01f4efbabee95f1c3a77b12",
            "max": 1,
            "min": 0,
            "orientation": "horizontal",
            "style": "IPY_MODEL_89c4f2cf0f9b4d818340bd6ea25279d2",
            "value": 1
          }
        },
        "7c307dc479734a14ba821f5d408d9942": {
          "model_module": "@jupyter-widgets/base",
          "model_module_version": "1.2.0",
          "model_name": "LayoutModel",
          "state": {
            "_model_module": "@jupyter-widgets/base",
            "_model_module_version": "1.2.0",
            "_model_name": "LayoutModel",
            "_view_count": null,
            "_view_module": "@jupyter-widgets/base",
            "_view_module_version": "1.2.0",
            "_view_name": "LayoutView",
            "align_content": null,
            "align_items": null,
            "align_self": null,
            "border": null,
            "bottom": null,
            "display": null,
            "flex": null,
            "flex_flow": null,
            "grid_area": null,
            "grid_auto_columns": null,
            "grid_auto_flow": null,
            "grid_auto_rows": null,
            "grid_column": null,
            "grid_gap": null,
            "grid_row": null,
            "grid_template_areas": null,
            "grid_template_columns": null,
            "grid_template_rows": null,
            "height": null,
            "justify_content": null,
            "justify_items": null,
            "left": null,
            "margin": null,
            "max_height": null,
            "max_width": null,
            "min_height": null,
            "min_width": null,
            "object_fit": null,
            "object_position": null,
            "order": null,
            "overflow": null,
            "overflow_x": null,
            "overflow_y": null,
            "padding": null,
            "right": null,
            "top": null,
            "visibility": null,
            "width": null
          }
        },
        "7e18bdaa1a274df58920157e3eb8da8b": {
          "model_module": "@jupyter-widgets/controls",
          "model_module_version": "1.5.0",
          "model_name": "FloatProgressModel",
          "state": {
            "_dom_classes": [],
            "_model_module": "@jupyter-widgets/controls",
            "_model_module_version": "1.5.0",
            "_model_name": "FloatProgressModel",
            "_view_count": null,
            "_view_module": "@jupyter-widgets/controls",
            "_view_module_version": "1.5.0",
            "_view_name": "ProgressView",
            "bar_style": "",
            "description": "",
            "description_tooltip": null,
            "layout": "IPY_MODEL_92723d9a97814f30947045319f2dc3f0",
            "max": 1,
            "min": 0,
            "orientation": "horizontal",
            "style": "IPY_MODEL_ce8db4af1c59495da50debf9331baedb",
            "value": 1
          }
        },
        "7fd4eb94ee6c46569eae939a1ae48cb7": {
          "model_module": "@jupyter-widgets/base",
          "model_module_version": "1.2.0",
          "model_name": "LayoutModel",
          "state": {
            "_model_module": "@jupyter-widgets/base",
            "_model_module_version": "1.2.0",
            "_model_name": "LayoutModel",
            "_view_count": null,
            "_view_module": "@jupyter-widgets/base",
            "_view_module_version": "1.2.0",
            "_view_name": "LayoutView",
            "align_content": null,
            "align_items": null,
            "align_self": null,
            "border": null,
            "bottom": null,
            "display": null,
            "flex": null,
            "flex_flow": null,
            "grid_area": null,
            "grid_auto_columns": null,
            "grid_auto_flow": null,
            "grid_auto_rows": null,
            "grid_column": null,
            "grid_gap": null,
            "grid_row": null,
            "grid_template_areas": null,
            "grid_template_columns": null,
            "grid_template_rows": null,
            "height": null,
            "justify_content": null,
            "justify_items": null,
            "left": null,
            "margin": null,
            "max_height": null,
            "max_width": null,
            "min_height": null,
            "min_width": null,
            "object_fit": null,
            "object_position": null,
            "order": null,
            "overflow": null,
            "overflow_x": null,
            "overflow_y": null,
            "padding": null,
            "right": null,
            "top": null,
            "visibility": null,
            "width": null
          }
        },
        "813db288a7c24b99999cfd759ed88e2c": {
          "model_module": "@jupyter-widgets/controls",
          "model_module_version": "1.5.0",
          "model_name": "LabelModel",
          "state": {
            "_dom_classes": [],
            "_model_module": "@jupyter-widgets/controls",
            "_model_module_version": "1.5.0",
            "_model_name": "LabelModel",
            "_view_count": null,
            "_view_module": "@jupyter-widgets/controls",
            "_view_module_version": "1.5.0",
            "_view_name": "LabelView",
            "description": "",
            "description_tooltip": null,
            "layout": "IPY_MODEL_02cd2fb660c34d9b87a46404a2e916f9",
            "placeholder": "​",
            "style": "IPY_MODEL_60cd8a147a744e99bd667bae3bbaf213",
            "value": "0.011 MB of 0.011 MB uploaded\r"
          }
        },
        "83e0d2d81a774a548afe7c9179c0997a": {
          "model_module": "@jupyter-widgets/base",
          "model_module_version": "1.2.0",
          "model_name": "LayoutModel",
          "state": {
            "_model_module": "@jupyter-widgets/base",
            "_model_module_version": "1.2.0",
            "_model_name": "LayoutModel",
            "_view_count": null,
            "_view_module": "@jupyter-widgets/base",
            "_view_module_version": "1.2.0",
            "_view_name": "LayoutView",
            "align_content": null,
            "align_items": null,
            "align_self": null,
            "border": null,
            "bottom": null,
            "display": null,
            "flex": null,
            "flex_flow": null,
            "grid_area": null,
            "grid_auto_columns": null,
            "grid_auto_flow": null,
            "grid_auto_rows": null,
            "grid_column": null,
            "grid_gap": null,
            "grid_row": null,
            "grid_template_areas": null,
            "grid_template_columns": null,
            "grid_template_rows": null,
            "height": null,
            "justify_content": null,
            "justify_items": null,
            "left": null,
            "margin": null,
            "max_height": null,
            "max_width": null,
            "min_height": null,
            "min_width": null,
            "object_fit": null,
            "object_position": null,
            "order": null,
            "overflow": null,
            "overflow_x": null,
            "overflow_y": null,
            "padding": null,
            "right": null,
            "top": null,
            "visibility": null,
            "width": null
          }
        },
        "89c4f2cf0f9b4d818340bd6ea25279d2": {
          "model_module": "@jupyter-widgets/controls",
          "model_module_version": "1.5.0",
          "model_name": "ProgressStyleModel",
          "state": {
            "_model_module": "@jupyter-widgets/controls",
            "_model_module_version": "1.5.0",
            "_model_name": "ProgressStyleModel",
            "_view_count": null,
            "_view_module": "@jupyter-widgets/base",
            "_view_module_version": "1.2.0",
            "_view_name": "StyleView",
            "bar_color": null,
            "description_width": ""
          }
        },
        "8a033a8a314548eebc17168c68cb14e7": {
          "model_module": "@jupyter-widgets/controls",
          "model_module_version": "1.5.0",
          "model_name": "ProgressStyleModel",
          "state": {
            "_model_module": "@jupyter-widgets/controls",
            "_model_module_version": "1.5.0",
            "_model_name": "ProgressStyleModel",
            "_view_count": null,
            "_view_module": "@jupyter-widgets/base",
            "_view_module_version": "1.2.0",
            "_view_name": "StyleView",
            "bar_color": null,
            "description_width": ""
          }
        },
        "8a4cf11a8c6a49b2978349db5431c837": {
          "model_module": "@jupyter-widgets/controls",
          "model_module_version": "1.5.0",
          "model_name": "FloatProgressModel",
          "state": {
            "_dom_classes": [],
            "_model_module": "@jupyter-widgets/controls",
            "_model_module_version": "1.5.0",
            "_model_name": "FloatProgressModel",
            "_view_count": null,
            "_view_module": "@jupyter-widgets/controls",
            "_view_module_version": "1.5.0",
            "_view_name": "ProgressView",
            "bar_style": "",
            "description": "",
            "description_tooltip": null,
            "layout": "IPY_MODEL_e09a08300ff24785a940de1896baae96",
            "max": 1,
            "min": 0,
            "orientation": "horizontal",
            "style": "IPY_MODEL_f2fa7c0626a746efa1621938a4b61d50",
            "value": 1
          }
        },
        "8b92e6223da0419faff4767f0224e528": {
          "model_module": "@jupyter-widgets/base",
          "model_module_version": "1.2.0",
          "model_name": "LayoutModel",
          "state": {
            "_model_module": "@jupyter-widgets/base",
            "_model_module_version": "1.2.0",
            "_model_name": "LayoutModel",
            "_view_count": null,
            "_view_module": "@jupyter-widgets/base",
            "_view_module_version": "1.2.0",
            "_view_name": "LayoutView",
            "align_content": null,
            "align_items": null,
            "align_self": null,
            "border": null,
            "bottom": null,
            "display": null,
            "flex": null,
            "flex_flow": null,
            "grid_area": null,
            "grid_auto_columns": null,
            "grid_auto_flow": null,
            "grid_auto_rows": null,
            "grid_column": null,
            "grid_gap": null,
            "grid_row": null,
            "grid_template_areas": null,
            "grid_template_columns": null,
            "grid_template_rows": null,
            "height": null,
            "justify_content": null,
            "justify_items": null,
            "left": null,
            "margin": null,
            "max_height": null,
            "max_width": null,
            "min_height": null,
            "min_width": null,
            "object_fit": null,
            "object_position": null,
            "order": null,
            "overflow": null,
            "overflow_x": null,
            "overflow_y": null,
            "padding": null,
            "right": null,
            "top": null,
            "visibility": null,
            "width": null
          }
        },
        "8bf5749b6b8345c197ea469255cac2e4": {
          "model_module": "@jupyter-widgets/controls",
          "model_module_version": "1.5.0",
          "model_name": "ProgressStyleModel",
          "state": {
            "_model_module": "@jupyter-widgets/controls",
            "_model_module_version": "1.5.0",
            "_model_name": "ProgressStyleModel",
            "_view_count": null,
            "_view_module": "@jupyter-widgets/base",
            "_view_module_version": "1.2.0",
            "_view_name": "StyleView",
            "bar_color": null,
            "description_width": ""
          }
        },
        "8c0ecac34b8240c4822937cc58c97f88": {
          "model_module": "@jupyter-widgets/controls",
          "model_module_version": "1.5.0",
          "model_name": "FloatProgressModel",
          "state": {
            "_dom_classes": [],
            "_model_module": "@jupyter-widgets/controls",
            "_model_module_version": "1.5.0",
            "_model_name": "FloatProgressModel",
            "_view_count": null,
            "_view_module": "@jupyter-widgets/controls",
            "_view_module_version": "1.5.0",
            "_view_name": "ProgressView",
            "bar_style": "",
            "description": "",
            "description_tooltip": null,
            "layout": "IPY_MODEL_032654b93900410780c0644b30f9211f",
            "max": 1,
            "min": 0,
            "orientation": "horizontal",
            "style": "IPY_MODEL_8bf5749b6b8345c197ea469255cac2e4",
            "value": 1
          }
        },
        "8d1a9064480746e49d1647e5ef847bcd": {
          "model_module": "@jupyter-widgets/controls",
          "model_module_version": "1.5.0",
          "model_name": "ProgressStyleModel",
          "state": {
            "_model_module": "@jupyter-widgets/controls",
            "_model_module_version": "1.5.0",
            "_model_name": "ProgressStyleModel",
            "_view_count": null,
            "_view_module": "@jupyter-widgets/base",
            "_view_module_version": "1.2.0",
            "_view_name": "StyleView",
            "bar_color": null,
            "description_width": ""
          }
        },
        "8d82ab6a91aa4a46a28ba4f56eaa4394": {
          "model_module": "@jupyter-widgets/base",
          "model_module_version": "1.2.0",
          "model_name": "LayoutModel",
          "state": {
            "_model_module": "@jupyter-widgets/base",
            "_model_module_version": "1.2.0",
            "_model_name": "LayoutModel",
            "_view_count": null,
            "_view_module": "@jupyter-widgets/base",
            "_view_module_version": "1.2.0",
            "_view_name": "LayoutView",
            "align_content": null,
            "align_items": null,
            "align_self": null,
            "border": null,
            "bottom": null,
            "display": null,
            "flex": null,
            "flex_flow": null,
            "grid_area": null,
            "grid_auto_columns": null,
            "grid_auto_flow": null,
            "grid_auto_rows": null,
            "grid_column": null,
            "grid_gap": null,
            "grid_row": null,
            "grid_template_areas": null,
            "grid_template_columns": null,
            "grid_template_rows": null,
            "height": null,
            "justify_content": null,
            "justify_items": null,
            "left": null,
            "margin": null,
            "max_height": null,
            "max_width": null,
            "min_height": null,
            "min_width": null,
            "object_fit": null,
            "object_position": null,
            "order": null,
            "overflow": null,
            "overflow_x": null,
            "overflow_y": null,
            "padding": null,
            "right": null,
            "top": null,
            "visibility": null,
            "width": null
          }
        },
        "9183ed74bd8849e78f384fd36fab7c20": {
          "model_module": "@jupyter-widgets/controls",
          "model_module_version": "1.5.0",
          "model_name": "VBoxModel",
          "state": {
            "_dom_classes": [],
            "_model_module": "@jupyter-widgets/controls",
            "_model_module_version": "1.5.0",
            "_model_name": "VBoxModel",
            "_view_count": null,
            "_view_module": "@jupyter-widgets/controls",
            "_view_module_version": "1.5.0",
            "_view_name": "VBoxView",
            "box_style": "",
            "children": [
              "IPY_MODEL_54e38759a20545329d505450b6b7c833",
              "IPY_MODEL_665291528822432590de7c8778af4fc3"
            ],
            "layout": "IPY_MODEL_779c668f435c41f4b9b21078c0958040"
          }
        },
        "918e66e5b5e64ffbac76759dc3a1f53b": {
          "model_module": "@jupyter-widgets/controls",
          "model_module_version": "1.5.0",
          "model_name": "ProgressStyleModel",
          "state": {
            "_model_module": "@jupyter-widgets/controls",
            "_model_module_version": "1.5.0",
            "_model_name": "ProgressStyleModel",
            "_view_count": null,
            "_view_module": "@jupyter-widgets/base",
            "_view_module_version": "1.2.0",
            "_view_name": "StyleView",
            "bar_color": null,
            "description_width": ""
          }
        },
        "92723d9a97814f30947045319f2dc3f0": {
          "model_module": "@jupyter-widgets/base",
          "model_module_version": "1.2.0",
          "model_name": "LayoutModel",
          "state": {
            "_model_module": "@jupyter-widgets/base",
            "_model_module_version": "1.2.0",
            "_model_name": "LayoutModel",
            "_view_count": null,
            "_view_module": "@jupyter-widgets/base",
            "_view_module_version": "1.2.0",
            "_view_name": "LayoutView",
            "align_content": null,
            "align_items": null,
            "align_self": null,
            "border": null,
            "bottom": null,
            "display": null,
            "flex": null,
            "flex_flow": null,
            "grid_area": null,
            "grid_auto_columns": null,
            "grid_auto_flow": null,
            "grid_auto_rows": null,
            "grid_column": null,
            "grid_gap": null,
            "grid_row": null,
            "grid_template_areas": null,
            "grid_template_columns": null,
            "grid_template_rows": null,
            "height": null,
            "justify_content": null,
            "justify_items": null,
            "left": null,
            "margin": null,
            "max_height": null,
            "max_width": null,
            "min_height": null,
            "min_width": null,
            "object_fit": null,
            "object_position": null,
            "order": null,
            "overflow": null,
            "overflow_x": null,
            "overflow_y": null,
            "padding": null,
            "right": null,
            "top": null,
            "visibility": null,
            "width": null
          }
        },
        "928b9b9a0bba48ce9b1e078d381d7507": {
          "model_module": "@jupyter-widgets/base",
          "model_module_version": "1.2.0",
          "model_name": "LayoutModel",
          "state": {
            "_model_module": "@jupyter-widgets/base",
            "_model_module_version": "1.2.0",
            "_model_name": "LayoutModel",
            "_view_count": null,
            "_view_module": "@jupyter-widgets/base",
            "_view_module_version": "1.2.0",
            "_view_name": "LayoutView",
            "align_content": null,
            "align_items": null,
            "align_self": null,
            "border": null,
            "bottom": null,
            "display": null,
            "flex": null,
            "flex_flow": null,
            "grid_area": null,
            "grid_auto_columns": null,
            "grid_auto_flow": null,
            "grid_auto_rows": null,
            "grid_column": null,
            "grid_gap": null,
            "grid_row": null,
            "grid_template_areas": null,
            "grid_template_columns": null,
            "grid_template_rows": null,
            "height": null,
            "justify_content": null,
            "justify_items": null,
            "left": null,
            "margin": null,
            "max_height": null,
            "max_width": null,
            "min_height": null,
            "min_width": null,
            "object_fit": null,
            "object_position": null,
            "order": null,
            "overflow": null,
            "overflow_x": null,
            "overflow_y": null,
            "padding": null,
            "right": null,
            "top": null,
            "visibility": null,
            "width": null
          }
        },
        "92b37704b22f489aaf210d383bd9168d": {
          "model_module": "@jupyter-widgets/controls",
          "model_module_version": "1.5.0",
          "model_name": "DescriptionStyleModel",
          "state": {
            "_model_module": "@jupyter-widgets/controls",
            "_model_module_version": "1.5.0",
            "_model_name": "DescriptionStyleModel",
            "_view_count": null,
            "_view_module": "@jupyter-widgets/base",
            "_view_module_version": "1.2.0",
            "_view_name": "StyleView",
            "description_width": ""
          }
        },
        "932ac8ed07fa45779bfd44fe0a42c743": {
          "model_module": "@jupyter-widgets/controls",
          "model_module_version": "1.5.0",
          "model_name": "LabelModel",
          "state": {
            "_dom_classes": [],
            "_model_module": "@jupyter-widgets/controls",
            "_model_module_version": "1.5.0",
            "_model_name": "LabelModel",
            "_view_count": null,
            "_view_module": "@jupyter-widgets/controls",
            "_view_module_version": "1.5.0",
            "_view_name": "LabelView",
            "description": "",
            "description_tooltip": null,
            "layout": "IPY_MODEL_1f24d30d87c44b8a9be8b4bd2a19bf95",
            "placeholder": "​",
            "style": "IPY_MODEL_ce21dece7bac458b9e91019af89ae84a",
            "value": "0.011 MB of 0.011 MB uploaded\r"
          }
        },
        "95dc7a99c19f4690ab4beca79fbd3c79": {
          "model_module": "@jupyter-widgets/controls",
          "model_module_version": "1.5.0",
          "model_name": "ProgressStyleModel",
          "state": {
            "_model_module": "@jupyter-widgets/controls",
            "_model_module_version": "1.5.0",
            "_model_name": "ProgressStyleModel",
            "_view_count": null,
            "_view_module": "@jupyter-widgets/base",
            "_view_module_version": "1.2.0",
            "_view_name": "StyleView",
            "bar_color": null,
            "description_width": ""
          }
        },
        "975d8aaa898c4739a2ff52df0fee1161": {
          "model_module": "@jupyter-widgets/controls",
          "model_module_version": "1.5.0",
          "model_name": "ProgressStyleModel",
          "state": {
            "_model_module": "@jupyter-widgets/controls",
            "_model_module_version": "1.5.0",
            "_model_name": "ProgressStyleModel",
            "_view_count": null,
            "_view_module": "@jupyter-widgets/base",
            "_view_module_version": "1.2.0",
            "_view_name": "StyleView",
            "bar_color": null,
            "description_width": ""
          }
        },
        "97b1b7b0e198467285c9eb9100c9a4a1": {
          "model_module": "@jupyter-widgets/controls",
          "model_module_version": "1.5.0",
          "model_name": "FloatProgressModel",
          "state": {
            "_dom_classes": [],
            "_model_module": "@jupyter-widgets/controls",
            "_model_module_version": "1.5.0",
            "_model_name": "FloatProgressModel",
            "_view_count": null,
            "_view_module": "@jupyter-widgets/controls",
            "_view_module_version": "1.5.0",
            "_view_name": "ProgressView",
            "bar_style": "",
            "description": "",
            "description_tooltip": null,
            "layout": "IPY_MODEL_74f63eb466bb4a4293715c59aed0ffab",
            "max": 1,
            "min": 0,
            "orientation": "horizontal",
            "style": "IPY_MODEL_7902e318e19f4c39bfc20825349d3b16",
            "value": 1
          }
        },
        "9856a15cafd54304884ad774e5f40087": {
          "model_module": "@jupyter-widgets/controls",
          "model_module_version": "1.5.0",
          "model_name": "ProgressStyleModel",
          "state": {
            "_model_module": "@jupyter-widgets/controls",
            "_model_module_version": "1.5.0",
            "_model_name": "ProgressStyleModel",
            "_view_count": null,
            "_view_module": "@jupyter-widgets/base",
            "_view_module_version": "1.2.0",
            "_view_name": "StyleView",
            "bar_color": null,
            "description_width": ""
          }
        },
        "98d3d6b127a34aca8d162650a964473f": {
          "model_module": "@jupyter-widgets/base",
          "model_module_version": "1.2.0",
          "model_name": "LayoutModel",
          "state": {
            "_model_module": "@jupyter-widgets/base",
            "_model_module_version": "1.2.0",
            "_model_name": "LayoutModel",
            "_view_count": null,
            "_view_module": "@jupyter-widgets/base",
            "_view_module_version": "1.2.0",
            "_view_name": "LayoutView",
            "align_content": null,
            "align_items": null,
            "align_self": null,
            "border": null,
            "bottom": null,
            "display": null,
            "flex": null,
            "flex_flow": null,
            "grid_area": null,
            "grid_auto_columns": null,
            "grid_auto_flow": null,
            "grid_auto_rows": null,
            "grid_column": null,
            "grid_gap": null,
            "grid_row": null,
            "grid_template_areas": null,
            "grid_template_columns": null,
            "grid_template_rows": null,
            "height": null,
            "justify_content": null,
            "justify_items": null,
            "left": null,
            "margin": null,
            "max_height": null,
            "max_width": null,
            "min_height": null,
            "min_width": null,
            "object_fit": null,
            "object_position": null,
            "order": null,
            "overflow": null,
            "overflow_x": null,
            "overflow_y": null,
            "padding": null,
            "right": null,
            "top": null,
            "visibility": null,
            "width": null
          }
        },
        "9b8fe8c94050414ca8829c47bd53f78a": {
          "model_module": "@jupyter-widgets/controls",
          "model_module_version": "1.5.0",
          "model_name": "VBoxModel",
          "state": {
            "_dom_classes": [],
            "_model_module": "@jupyter-widgets/controls",
            "_model_module_version": "1.5.0",
            "_model_name": "VBoxModel",
            "_view_count": null,
            "_view_module": "@jupyter-widgets/controls",
            "_view_module_version": "1.5.0",
            "_view_name": "VBoxView",
            "box_style": "",
            "children": [
              "IPY_MODEL_03ea841c9b9d4600a021dc4936b961ed",
              "IPY_MODEL_8a4cf11a8c6a49b2978349db5431c837"
            ],
            "layout": "IPY_MODEL_197b0c3d3b0148598d6f77821416b818"
          }
        },
        "9d15cceaf0b14a4390e56041725071cf": {
          "model_module": "@jupyter-widgets/base",
          "model_module_version": "1.2.0",
          "model_name": "LayoutModel",
          "state": {
            "_model_module": "@jupyter-widgets/base",
            "_model_module_version": "1.2.0",
            "_model_name": "LayoutModel",
            "_view_count": null,
            "_view_module": "@jupyter-widgets/base",
            "_view_module_version": "1.2.0",
            "_view_name": "LayoutView",
            "align_content": null,
            "align_items": null,
            "align_self": null,
            "border": null,
            "bottom": null,
            "display": null,
            "flex": null,
            "flex_flow": null,
            "grid_area": null,
            "grid_auto_columns": null,
            "grid_auto_flow": null,
            "grid_auto_rows": null,
            "grid_column": null,
            "grid_gap": null,
            "grid_row": null,
            "grid_template_areas": null,
            "grid_template_columns": null,
            "grid_template_rows": null,
            "height": null,
            "justify_content": null,
            "justify_items": null,
            "left": null,
            "margin": null,
            "max_height": null,
            "max_width": null,
            "min_height": null,
            "min_width": null,
            "object_fit": null,
            "object_position": null,
            "order": null,
            "overflow": null,
            "overflow_x": null,
            "overflow_y": null,
            "padding": null,
            "right": null,
            "top": null,
            "visibility": null,
            "width": null
          }
        },
        "9f603d6177454a01b62678632df1d00e": {
          "model_module": "@jupyter-widgets/controls",
          "model_module_version": "1.5.0",
          "model_name": "FloatProgressModel",
          "state": {
            "_dom_classes": [],
            "_model_module": "@jupyter-widgets/controls",
            "_model_module_version": "1.5.0",
            "_model_name": "FloatProgressModel",
            "_view_count": null,
            "_view_module": "@jupyter-widgets/controls",
            "_view_module_version": "1.5.0",
            "_view_name": "ProgressView",
            "bar_style": "",
            "description": "",
            "description_tooltip": null,
            "layout": "IPY_MODEL_bde5ad8469fc4d33bfbc96c01dd053a3",
            "max": 1,
            "min": 0,
            "orientation": "horizontal",
            "style": "IPY_MODEL_1ec45e7241154da291b1c871eebca3b4",
            "value": 1
          }
        },
        "a08ab4120b7d4485ab511a26da6271de": {
          "model_module": "@jupyter-widgets/controls",
          "model_module_version": "1.5.0",
          "model_name": "LabelModel",
          "state": {
            "_dom_classes": [],
            "_model_module": "@jupyter-widgets/controls",
            "_model_module_version": "1.5.0",
            "_model_name": "LabelModel",
            "_view_count": null,
            "_view_module": "@jupyter-widgets/controls",
            "_view_module_version": "1.5.0",
            "_view_name": "LabelView",
            "description": "",
            "description_tooltip": null,
            "layout": "IPY_MODEL_082842dd23dd4d46b899c9de0727e592",
            "placeholder": "​",
            "style": "IPY_MODEL_265dce819235498bb627f5805369d526",
            "value": "0.011 MB of 0.011 MB uploaded\r"
          }
        },
        "a224276f453f42cc8c10c43f867c46eb": {
          "model_module": "@jupyter-widgets/controls",
          "model_module_version": "1.5.0",
          "model_name": "ProgressStyleModel",
          "state": {
            "_model_module": "@jupyter-widgets/controls",
            "_model_module_version": "1.5.0",
            "_model_name": "ProgressStyleModel",
            "_view_count": null,
            "_view_module": "@jupyter-widgets/base",
            "_view_module_version": "1.2.0",
            "_view_name": "StyleView",
            "bar_color": null,
            "description_width": ""
          }
        },
        "a576d3bad646493daf80078d732355fd": {
          "model_module": "@jupyter-widgets/controls",
          "model_module_version": "1.5.0",
          "model_name": "LabelModel",
          "state": {
            "_dom_classes": [],
            "_model_module": "@jupyter-widgets/controls",
            "_model_module_version": "1.5.0",
            "_model_name": "LabelModel",
            "_view_count": null,
            "_view_module": "@jupyter-widgets/controls",
            "_view_module_version": "1.5.0",
            "_view_name": "LabelView",
            "description": "",
            "description_tooltip": null,
            "layout": "IPY_MODEL_687426969b6249c1a8dd980aed9c55a9",
            "placeholder": "​",
            "style": "IPY_MODEL_6ce91eb60cbb4c53bebf55f6202e1e97",
            "value": "0.011 MB of 0.011 MB uploaded\r"
          }
        },
        "a9cc28a4873d480c94057a2f3722a1ab": {
          "model_module": "@jupyter-widgets/controls",
          "model_module_version": "1.5.0",
          "model_name": "LabelModel",
          "state": {
            "_dom_classes": [],
            "_model_module": "@jupyter-widgets/controls",
            "_model_module_version": "1.5.0",
            "_model_name": "LabelModel",
            "_view_count": null,
            "_view_module": "@jupyter-widgets/controls",
            "_view_module_version": "1.5.0",
            "_view_name": "LabelView",
            "description": "",
            "description_tooltip": null,
            "layout": "IPY_MODEL_b01076843a254ea3a636b30b9a8f63f0",
            "placeholder": "​",
            "style": "IPY_MODEL_6c9d2e1f98184d89af2f19de5a67fa89",
            "value": "0.011 MB of 0.011 MB uploaded\r"
          }
        },
        "ab41f1b9dade45258d5d3c4c9c3942bf": {
          "model_module": "@jupyter-widgets/controls",
          "model_module_version": "1.5.0",
          "model_name": "VBoxModel",
          "state": {
            "_dom_classes": [],
            "_model_module": "@jupyter-widgets/controls",
            "_model_module_version": "1.5.0",
            "_model_name": "VBoxModel",
            "_view_count": null,
            "_view_module": "@jupyter-widgets/controls",
            "_view_module_version": "1.5.0",
            "_view_name": "VBoxView",
            "box_style": "",
            "children": [
              "IPY_MODEL_306dd9399a344485b5c39607a104d45e",
              "IPY_MODEL_d5604461821e490999d64e4523a91873"
            ],
            "layout": "IPY_MODEL_c8724f3357ff42dc92ad417c7f47bd23"
          }
        },
        "ac33dac23f1b4083b81e64754b8a127f": {
          "model_module": "@jupyter-widgets/base",
          "model_module_version": "1.2.0",
          "model_name": "LayoutModel",
          "state": {
            "_model_module": "@jupyter-widgets/base",
            "_model_module_version": "1.2.0",
            "_model_name": "LayoutModel",
            "_view_count": null,
            "_view_module": "@jupyter-widgets/base",
            "_view_module_version": "1.2.0",
            "_view_name": "LayoutView",
            "align_content": null,
            "align_items": null,
            "align_self": null,
            "border": null,
            "bottom": null,
            "display": null,
            "flex": null,
            "flex_flow": null,
            "grid_area": null,
            "grid_auto_columns": null,
            "grid_auto_flow": null,
            "grid_auto_rows": null,
            "grid_column": null,
            "grid_gap": null,
            "grid_row": null,
            "grid_template_areas": null,
            "grid_template_columns": null,
            "grid_template_rows": null,
            "height": null,
            "justify_content": null,
            "justify_items": null,
            "left": null,
            "margin": null,
            "max_height": null,
            "max_width": null,
            "min_height": null,
            "min_width": null,
            "object_fit": null,
            "object_position": null,
            "order": null,
            "overflow": null,
            "overflow_x": null,
            "overflow_y": null,
            "padding": null,
            "right": null,
            "top": null,
            "visibility": null,
            "width": null
          }
        },
        "ad578ae10d814b5cb89e77a63d5d0261": {
          "model_module": "@jupyter-widgets/controls",
          "model_module_version": "1.5.0",
          "model_name": "VBoxModel",
          "state": {
            "_dom_classes": [],
            "_model_module": "@jupyter-widgets/controls",
            "_model_module_version": "1.5.0",
            "_model_name": "VBoxModel",
            "_view_count": null,
            "_view_module": "@jupyter-widgets/controls",
            "_view_module_version": "1.5.0",
            "_view_name": "VBoxView",
            "box_style": "",
            "children": [
              "IPY_MODEL_2ffcc891a82640cfac6ce2b7254180f8",
              "IPY_MODEL_55dfe54841b540289f58928873abb6d7"
            ],
            "layout": "IPY_MODEL_25ddb26b736e4274b7dae3fa3ba00e3f"
          }
        },
        "b01076843a254ea3a636b30b9a8f63f0": {
          "model_module": "@jupyter-widgets/base",
          "model_module_version": "1.2.0",
          "model_name": "LayoutModel",
          "state": {
            "_model_module": "@jupyter-widgets/base",
            "_model_module_version": "1.2.0",
            "_model_name": "LayoutModel",
            "_view_count": null,
            "_view_module": "@jupyter-widgets/base",
            "_view_module_version": "1.2.0",
            "_view_name": "LayoutView",
            "align_content": null,
            "align_items": null,
            "align_self": null,
            "border": null,
            "bottom": null,
            "display": null,
            "flex": null,
            "flex_flow": null,
            "grid_area": null,
            "grid_auto_columns": null,
            "grid_auto_flow": null,
            "grid_auto_rows": null,
            "grid_column": null,
            "grid_gap": null,
            "grid_row": null,
            "grid_template_areas": null,
            "grid_template_columns": null,
            "grid_template_rows": null,
            "height": null,
            "justify_content": null,
            "justify_items": null,
            "left": null,
            "margin": null,
            "max_height": null,
            "max_width": null,
            "min_height": null,
            "min_width": null,
            "object_fit": null,
            "object_position": null,
            "order": null,
            "overflow": null,
            "overflow_x": null,
            "overflow_y": null,
            "padding": null,
            "right": null,
            "top": null,
            "visibility": null,
            "width": null
          }
        },
        "b0683f47779e4927b06af5fc0795cdbd": {
          "model_module": "@jupyter-widgets/controls",
          "model_module_version": "1.5.0",
          "model_name": "DescriptionStyleModel",
          "state": {
            "_model_module": "@jupyter-widgets/controls",
            "_model_module_version": "1.5.0",
            "_model_name": "DescriptionStyleModel",
            "_view_count": null,
            "_view_module": "@jupyter-widgets/base",
            "_view_module_version": "1.2.0",
            "_view_name": "StyleView",
            "description_width": ""
          }
        },
        "b08d39cfd5e14f4ba9f967eb3de6a710": {
          "model_module": "@jupyter-widgets/base",
          "model_module_version": "1.2.0",
          "model_name": "LayoutModel",
          "state": {
            "_model_module": "@jupyter-widgets/base",
            "_model_module_version": "1.2.0",
            "_model_name": "LayoutModel",
            "_view_count": null,
            "_view_module": "@jupyter-widgets/base",
            "_view_module_version": "1.2.0",
            "_view_name": "LayoutView",
            "align_content": null,
            "align_items": null,
            "align_self": null,
            "border": null,
            "bottom": null,
            "display": null,
            "flex": null,
            "flex_flow": null,
            "grid_area": null,
            "grid_auto_columns": null,
            "grid_auto_flow": null,
            "grid_auto_rows": null,
            "grid_column": null,
            "grid_gap": null,
            "grid_row": null,
            "grid_template_areas": null,
            "grid_template_columns": null,
            "grid_template_rows": null,
            "height": null,
            "justify_content": null,
            "justify_items": null,
            "left": null,
            "margin": null,
            "max_height": null,
            "max_width": null,
            "min_height": null,
            "min_width": null,
            "object_fit": null,
            "object_position": null,
            "order": null,
            "overflow": null,
            "overflow_x": null,
            "overflow_y": null,
            "padding": null,
            "right": null,
            "top": null,
            "visibility": null,
            "width": null
          }
        },
        "b504c7e06f984c4e89bc349da91966b7": {
          "model_module": "@jupyter-widgets/controls",
          "model_module_version": "1.5.0",
          "model_name": "ProgressStyleModel",
          "state": {
            "_model_module": "@jupyter-widgets/controls",
            "_model_module_version": "1.5.0",
            "_model_name": "ProgressStyleModel",
            "_view_count": null,
            "_view_module": "@jupyter-widgets/base",
            "_view_module_version": "1.2.0",
            "_view_name": "StyleView",
            "bar_color": null,
            "description_width": ""
          }
        },
        "b76746ae54734b72ab236d223c8ad87c": {
          "model_module": "@jupyter-widgets/controls",
          "model_module_version": "1.5.0",
          "model_name": "DescriptionStyleModel",
          "state": {
            "_model_module": "@jupyter-widgets/controls",
            "_model_module_version": "1.5.0",
            "_model_name": "DescriptionStyleModel",
            "_view_count": null,
            "_view_module": "@jupyter-widgets/base",
            "_view_module_version": "1.2.0",
            "_view_name": "StyleView",
            "description_width": ""
          }
        },
        "b7905b8a316449c4a587b0b9aaad7250": {
          "model_module": "@jupyter-widgets/controls",
          "model_module_version": "1.5.0",
          "model_name": "FloatProgressModel",
          "state": {
            "_dom_classes": [],
            "_model_module": "@jupyter-widgets/controls",
            "_model_module_version": "1.5.0",
            "_model_name": "FloatProgressModel",
            "_view_count": null,
            "_view_module": "@jupyter-widgets/controls",
            "_view_module_version": "1.5.0",
            "_view_name": "ProgressView",
            "bar_style": "",
            "description": "",
            "description_tooltip": null,
            "layout": "IPY_MODEL_49070cde9ebf4e25a9d141b205eb141a",
            "max": 1,
            "min": 0,
            "orientation": "horizontal",
            "style": "IPY_MODEL_5edc6e8ae3054782935510a31c83100c",
            "value": 1
          }
        },
        "ba6d42ad6aec4dd69931d4ea308dc29e": {
          "model_module": "@jupyter-widgets/controls",
          "model_module_version": "1.5.0",
          "model_name": "ProgressStyleModel",
          "state": {
            "_model_module": "@jupyter-widgets/controls",
            "_model_module_version": "1.5.0",
            "_model_name": "ProgressStyleModel",
            "_view_count": null,
            "_view_module": "@jupyter-widgets/base",
            "_view_module_version": "1.2.0",
            "_view_name": "StyleView",
            "bar_color": null,
            "description_width": ""
          }
        },
        "ba89149e9760427fb3660b7fc3637c95": {
          "model_module": "@jupyter-widgets/controls",
          "model_module_version": "1.5.0",
          "model_name": "DescriptionStyleModel",
          "state": {
            "_model_module": "@jupyter-widgets/controls",
            "_model_module_version": "1.5.0",
            "_model_name": "DescriptionStyleModel",
            "_view_count": null,
            "_view_module": "@jupyter-widgets/base",
            "_view_module_version": "1.2.0",
            "_view_name": "StyleView",
            "description_width": ""
          }
        },
        "bbc5a656b3a14348bfcc6ef708055bb7": {
          "model_module": "@jupyter-widgets/controls",
          "model_module_version": "1.5.0",
          "model_name": "FloatProgressModel",
          "state": {
            "_dom_classes": [],
            "_model_module": "@jupyter-widgets/controls",
            "_model_module_version": "1.5.0",
            "_model_name": "FloatProgressModel",
            "_view_count": null,
            "_view_module": "@jupyter-widgets/controls",
            "_view_module_version": "1.5.0",
            "_view_name": "ProgressView",
            "bar_style": "",
            "description": "",
            "description_tooltip": null,
            "layout": "IPY_MODEL_5b6a6157e4ee4618ab68a9b4d67eba10",
            "max": 1,
            "min": 0,
            "orientation": "horizontal",
            "style": "IPY_MODEL_5e739abc6d9d4dbbb354d0cf1e38dbe6",
            "value": 1
          }
        },
        "bbe883b08d3c4a44a05626d084d0b594": {
          "model_module": "@jupyter-widgets/base",
          "model_module_version": "1.2.0",
          "model_name": "LayoutModel",
          "state": {
            "_model_module": "@jupyter-widgets/base",
            "_model_module_version": "1.2.0",
            "_model_name": "LayoutModel",
            "_view_count": null,
            "_view_module": "@jupyter-widgets/base",
            "_view_module_version": "1.2.0",
            "_view_name": "LayoutView",
            "align_content": null,
            "align_items": null,
            "align_self": null,
            "border": null,
            "bottom": null,
            "display": null,
            "flex": null,
            "flex_flow": null,
            "grid_area": null,
            "grid_auto_columns": null,
            "grid_auto_flow": null,
            "grid_auto_rows": null,
            "grid_column": null,
            "grid_gap": null,
            "grid_row": null,
            "grid_template_areas": null,
            "grid_template_columns": null,
            "grid_template_rows": null,
            "height": null,
            "justify_content": null,
            "justify_items": null,
            "left": null,
            "margin": null,
            "max_height": null,
            "max_width": null,
            "min_height": null,
            "min_width": null,
            "object_fit": null,
            "object_position": null,
            "order": null,
            "overflow": null,
            "overflow_x": null,
            "overflow_y": null,
            "padding": null,
            "right": null,
            "top": null,
            "visibility": null,
            "width": null
          }
        },
        "bc0eb1c7a5534c4ead6e07bcfa68088d": {
          "model_module": "@jupyter-widgets/controls",
          "model_module_version": "1.5.0",
          "model_name": "VBoxModel",
          "state": {
            "_dom_classes": [],
            "_model_module": "@jupyter-widgets/controls",
            "_model_module_version": "1.5.0",
            "_model_name": "VBoxModel",
            "_view_count": null,
            "_view_module": "@jupyter-widgets/controls",
            "_view_module_version": "1.5.0",
            "_view_name": "VBoxView",
            "box_style": "",
            "children": [
              "IPY_MODEL_da45c71a6ccc4f85bd6c119b5e0ac290",
              "IPY_MODEL_12949c122e894738b151c4cd933cee0c"
            ],
            "layout": "IPY_MODEL_29edf1c3e02d406fb3c5fc3676bc47be"
          }
        },
        "bde5ad8469fc4d33bfbc96c01dd053a3": {
          "model_module": "@jupyter-widgets/base",
          "model_module_version": "1.2.0",
          "model_name": "LayoutModel",
          "state": {
            "_model_module": "@jupyter-widgets/base",
            "_model_module_version": "1.2.0",
            "_model_name": "LayoutModel",
            "_view_count": null,
            "_view_module": "@jupyter-widgets/base",
            "_view_module_version": "1.2.0",
            "_view_name": "LayoutView",
            "align_content": null,
            "align_items": null,
            "align_self": null,
            "border": null,
            "bottom": null,
            "display": null,
            "flex": null,
            "flex_flow": null,
            "grid_area": null,
            "grid_auto_columns": null,
            "grid_auto_flow": null,
            "grid_auto_rows": null,
            "grid_column": null,
            "grid_gap": null,
            "grid_row": null,
            "grid_template_areas": null,
            "grid_template_columns": null,
            "grid_template_rows": null,
            "height": null,
            "justify_content": null,
            "justify_items": null,
            "left": null,
            "margin": null,
            "max_height": null,
            "max_width": null,
            "min_height": null,
            "min_width": null,
            "object_fit": null,
            "object_position": null,
            "order": null,
            "overflow": null,
            "overflow_x": null,
            "overflow_y": null,
            "padding": null,
            "right": null,
            "top": null,
            "visibility": null,
            "width": null
          }
        },
        "bdeb4025bbaf465da433e0350bcd67d5": {
          "model_module": "@jupyter-widgets/base",
          "model_module_version": "1.2.0",
          "model_name": "LayoutModel",
          "state": {
            "_model_module": "@jupyter-widgets/base",
            "_model_module_version": "1.2.0",
            "_model_name": "LayoutModel",
            "_view_count": null,
            "_view_module": "@jupyter-widgets/base",
            "_view_module_version": "1.2.0",
            "_view_name": "LayoutView",
            "align_content": null,
            "align_items": null,
            "align_self": null,
            "border": null,
            "bottom": null,
            "display": null,
            "flex": null,
            "flex_flow": null,
            "grid_area": null,
            "grid_auto_columns": null,
            "grid_auto_flow": null,
            "grid_auto_rows": null,
            "grid_column": null,
            "grid_gap": null,
            "grid_row": null,
            "grid_template_areas": null,
            "grid_template_columns": null,
            "grid_template_rows": null,
            "height": null,
            "justify_content": null,
            "justify_items": null,
            "left": null,
            "margin": null,
            "max_height": null,
            "max_width": null,
            "min_height": null,
            "min_width": null,
            "object_fit": null,
            "object_position": null,
            "order": null,
            "overflow": null,
            "overflow_x": null,
            "overflow_y": null,
            "padding": null,
            "right": null,
            "top": null,
            "visibility": null,
            "width": null
          }
        },
        "be686f8e2a5e41e1a03a497bd77da712": {
          "model_module": "@jupyter-widgets/controls",
          "model_module_version": "1.5.0",
          "model_name": "ProgressStyleModel",
          "state": {
            "_model_module": "@jupyter-widgets/controls",
            "_model_module_version": "1.5.0",
            "_model_name": "ProgressStyleModel",
            "_view_count": null,
            "_view_module": "@jupyter-widgets/base",
            "_view_module_version": "1.2.0",
            "_view_name": "StyleView",
            "bar_color": null,
            "description_width": ""
          }
        },
        "bf2af93898894dcba97952665ce3b89f": {
          "model_module": "@jupyter-widgets/controls",
          "model_module_version": "1.5.0",
          "model_name": "VBoxModel",
          "state": {
            "_dom_classes": [],
            "_model_module": "@jupyter-widgets/controls",
            "_model_module_version": "1.5.0",
            "_model_name": "VBoxModel",
            "_view_count": null,
            "_view_module": "@jupyter-widgets/controls",
            "_view_module_version": "1.5.0",
            "_view_name": "VBoxView",
            "box_style": "",
            "children": [
              "IPY_MODEL_c289eb3e7cd54bbca4727e3729323a8b",
              "IPY_MODEL_19f99643f1ee4040bf1502f7e85d4dd3"
            ],
            "layout": "IPY_MODEL_5709fe8412b049ca8fa56a2b834eacf4"
          }
        },
        "c20340ce87dd48b7911c9c7a675bf656": {
          "model_module": "@jupyter-widgets/base",
          "model_module_version": "1.2.0",
          "model_name": "LayoutModel",
          "state": {
            "_model_module": "@jupyter-widgets/base",
            "_model_module_version": "1.2.0",
            "_model_name": "LayoutModel",
            "_view_count": null,
            "_view_module": "@jupyter-widgets/base",
            "_view_module_version": "1.2.0",
            "_view_name": "LayoutView",
            "align_content": null,
            "align_items": null,
            "align_self": null,
            "border": null,
            "bottom": null,
            "display": null,
            "flex": null,
            "flex_flow": null,
            "grid_area": null,
            "grid_auto_columns": null,
            "grid_auto_flow": null,
            "grid_auto_rows": null,
            "grid_column": null,
            "grid_gap": null,
            "grid_row": null,
            "grid_template_areas": null,
            "grid_template_columns": null,
            "grid_template_rows": null,
            "height": null,
            "justify_content": null,
            "justify_items": null,
            "left": null,
            "margin": null,
            "max_height": null,
            "max_width": null,
            "min_height": null,
            "min_width": null,
            "object_fit": null,
            "object_position": null,
            "order": null,
            "overflow": null,
            "overflow_x": null,
            "overflow_y": null,
            "padding": null,
            "right": null,
            "top": null,
            "visibility": null,
            "width": null
          }
        },
        "c289eb3e7cd54bbca4727e3729323a8b": {
          "model_module": "@jupyter-widgets/controls",
          "model_module_version": "1.5.0",
          "model_name": "LabelModel",
          "state": {
            "_dom_classes": [],
            "_model_module": "@jupyter-widgets/controls",
            "_model_module_version": "1.5.0",
            "_model_name": "LabelModel",
            "_view_count": null,
            "_view_module": "@jupyter-widgets/controls",
            "_view_module_version": "1.5.0",
            "_view_name": "LabelView",
            "description": "",
            "description_tooltip": null,
            "layout": "IPY_MODEL_db0e9f7aa7a24e88b18f2e2bb5fcba4a",
            "placeholder": "​",
            "style": "IPY_MODEL_5a1ad2886c8d49c2a2a3f7251cc7dd74",
            "value": "0.011 MB of 0.011 MB uploaded\r"
          }
        },
        "c509569b873843ff855757051b8d2d60": {
          "model_module": "@jupyter-widgets/base",
          "model_module_version": "1.2.0",
          "model_name": "LayoutModel",
          "state": {
            "_model_module": "@jupyter-widgets/base",
            "_model_module_version": "1.2.0",
            "_model_name": "LayoutModel",
            "_view_count": null,
            "_view_module": "@jupyter-widgets/base",
            "_view_module_version": "1.2.0",
            "_view_name": "LayoutView",
            "align_content": null,
            "align_items": null,
            "align_self": null,
            "border": null,
            "bottom": null,
            "display": null,
            "flex": null,
            "flex_flow": null,
            "grid_area": null,
            "grid_auto_columns": null,
            "grid_auto_flow": null,
            "grid_auto_rows": null,
            "grid_column": null,
            "grid_gap": null,
            "grid_row": null,
            "grid_template_areas": null,
            "grid_template_columns": null,
            "grid_template_rows": null,
            "height": null,
            "justify_content": null,
            "justify_items": null,
            "left": null,
            "margin": null,
            "max_height": null,
            "max_width": null,
            "min_height": null,
            "min_width": null,
            "object_fit": null,
            "object_position": null,
            "order": null,
            "overflow": null,
            "overflow_x": null,
            "overflow_y": null,
            "padding": null,
            "right": null,
            "top": null,
            "visibility": null,
            "width": null
          }
        },
        "c6fb487f1db64ee697e2d027a4453cca": {
          "model_module": "@jupyter-widgets/base",
          "model_module_version": "1.2.0",
          "model_name": "LayoutModel",
          "state": {
            "_model_module": "@jupyter-widgets/base",
            "_model_module_version": "1.2.0",
            "_model_name": "LayoutModel",
            "_view_count": null,
            "_view_module": "@jupyter-widgets/base",
            "_view_module_version": "1.2.0",
            "_view_name": "LayoutView",
            "align_content": null,
            "align_items": null,
            "align_self": null,
            "border": null,
            "bottom": null,
            "display": null,
            "flex": null,
            "flex_flow": null,
            "grid_area": null,
            "grid_auto_columns": null,
            "grid_auto_flow": null,
            "grid_auto_rows": null,
            "grid_column": null,
            "grid_gap": null,
            "grid_row": null,
            "grid_template_areas": null,
            "grid_template_columns": null,
            "grid_template_rows": null,
            "height": null,
            "justify_content": null,
            "justify_items": null,
            "left": null,
            "margin": null,
            "max_height": null,
            "max_width": null,
            "min_height": null,
            "min_width": null,
            "object_fit": null,
            "object_position": null,
            "order": null,
            "overflow": null,
            "overflow_x": null,
            "overflow_y": null,
            "padding": null,
            "right": null,
            "top": null,
            "visibility": null,
            "width": null
          }
        },
        "c8724f3357ff42dc92ad417c7f47bd23": {
          "model_module": "@jupyter-widgets/base",
          "model_module_version": "1.2.0",
          "model_name": "LayoutModel",
          "state": {
            "_model_module": "@jupyter-widgets/base",
            "_model_module_version": "1.2.0",
            "_model_name": "LayoutModel",
            "_view_count": null,
            "_view_module": "@jupyter-widgets/base",
            "_view_module_version": "1.2.0",
            "_view_name": "LayoutView",
            "align_content": null,
            "align_items": null,
            "align_self": null,
            "border": null,
            "bottom": null,
            "display": null,
            "flex": null,
            "flex_flow": null,
            "grid_area": null,
            "grid_auto_columns": null,
            "grid_auto_flow": null,
            "grid_auto_rows": null,
            "grid_column": null,
            "grid_gap": null,
            "grid_row": null,
            "grid_template_areas": null,
            "grid_template_columns": null,
            "grid_template_rows": null,
            "height": null,
            "justify_content": null,
            "justify_items": null,
            "left": null,
            "margin": null,
            "max_height": null,
            "max_width": null,
            "min_height": null,
            "min_width": null,
            "object_fit": null,
            "object_position": null,
            "order": null,
            "overflow": null,
            "overflow_x": null,
            "overflow_y": null,
            "padding": null,
            "right": null,
            "top": null,
            "visibility": null,
            "width": null
          }
        },
        "ca31a39a07b548818efc2126782b0f8b": {
          "model_module": "@jupyter-widgets/base",
          "model_module_version": "1.2.0",
          "model_name": "LayoutModel",
          "state": {
            "_model_module": "@jupyter-widgets/base",
            "_model_module_version": "1.2.0",
            "_model_name": "LayoutModel",
            "_view_count": null,
            "_view_module": "@jupyter-widgets/base",
            "_view_module_version": "1.2.0",
            "_view_name": "LayoutView",
            "align_content": null,
            "align_items": null,
            "align_self": null,
            "border": null,
            "bottom": null,
            "display": null,
            "flex": null,
            "flex_flow": null,
            "grid_area": null,
            "grid_auto_columns": null,
            "grid_auto_flow": null,
            "grid_auto_rows": null,
            "grid_column": null,
            "grid_gap": null,
            "grid_row": null,
            "grid_template_areas": null,
            "grid_template_columns": null,
            "grid_template_rows": null,
            "height": null,
            "justify_content": null,
            "justify_items": null,
            "left": null,
            "margin": null,
            "max_height": null,
            "max_width": null,
            "min_height": null,
            "min_width": null,
            "object_fit": null,
            "object_position": null,
            "order": null,
            "overflow": null,
            "overflow_x": null,
            "overflow_y": null,
            "padding": null,
            "right": null,
            "top": null,
            "visibility": null,
            "width": null
          }
        },
        "ca403f5e6b074a2a9fb91a6218cc7e94": {
          "model_module": "@jupyter-widgets/controls",
          "model_module_version": "1.5.0",
          "model_name": "ProgressStyleModel",
          "state": {
            "_model_module": "@jupyter-widgets/controls",
            "_model_module_version": "1.5.0",
            "_model_name": "ProgressStyleModel",
            "_view_count": null,
            "_view_module": "@jupyter-widgets/base",
            "_view_module_version": "1.2.0",
            "_view_name": "StyleView",
            "bar_color": null,
            "description_width": ""
          }
        },
        "cd1049cec77c4c8eac9b9eb8a331cbaf": {
          "model_module": "@jupyter-widgets/base",
          "model_module_version": "1.2.0",
          "model_name": "LayoutModel",
          "state": {
            "_model_module": "@jupyter-widgets/base",
            "_model_module_version": "1.2.0",
            "_model_name": "LayoutModel",
            "_view_count": null,
            "_view_module": "@jupyter-widgets/base",
            "_view_module_version": "1.2.0",
            "_view_name": "LayoutView",
            "align_content": null,
            "align_items": null,
            "align_self": null,
            "border": null,
            "bottom": null,
            "display": null,
            "flex": null,
            "flex_flow": null,
            "grid_area": null,
            "grid_auto_columns": null,
            "grid_auto_flow": null,
            "grid_auto_rows": null,
            "grid_column": null,
            "grid_gap": null,
            "grid_row": null,
            "grid_template_areas": null,
            "grid_template_columns": null,
            "grid_template_rows": null,
            "height": null,
            "justify_content": null,
            "justify_items": null,
            "left": null,
            "margin": null,
            "max_height": null,
            "max_width": null,
            "min_height": null,
            "min_width": null,
            "object_fit": null,
            "object_position": null,
            "order": null,
            "overflow": null,
            "overflow_x": null,
            "overflow_y": null,
            "padding": null,
            "right": null,
            "top": null,
            "visibility": null,
            "width": null
          }
        },
        "cdbae4bf38684c2c81f3c67751e242cb": {
          "model_module": "@jupyter-widgets/controls",
          "model_module_version": "1.5.0",
          "model_name": "FloatProgressModel",
          "state": {
            "_dom_classes": [],
            "_model_module": "@jupyter-widgets/controls",
            "_model_module_version": "1.5.0",
            "_model_name": "FloatProgressModel",
            "_view_count": null,
            "_view_module": "@jupyter-widgets/controls",
            "_view_module_version": "1.5.0",
            "_view_name": "ProgressView",
            "bar_style": "",
            "description": "",
            "description_tooltip": null,
            "layout": "IPY_MODEL_98d3d6b127a34aca8d162650a964473f",
            "max": 1,
            "min": 0,
            "orientation": "horizontal",
            "style": "IPY_MODEL_975d8aaa898c4739a2ff52df0fee1161",
            "value": 1
          }
        },
        "ce21dece7bac458b9e91019af89ae84a": {
          "model_module": "@jupyter-widgets/controls",
          "model_module_version": "1.5.0",
          "model_name": "DescriptionStyleModel",
          "state": {
            "_model_module": "@jupyter-widgets/controls",
            "_model_module_version": "1.5.0",
            "_model_name": "DescriptionStyleModel",
            "_view_count": null,
            "_view_module": "@jupyter-widgets/base",
            "_view_module_version": "1.2.0",
            "_view_name": "StyleView",
            "description_width": ""
          }
        },
        "ce8db4af1c59495da50debf9331baedb": {
          "model_module": "@jupyter-widgets/controls",
          "model_module_version": "1.5.0",
          "model_name": "ProgressStyleModel",
          "state": {
            "_model_module": "@jupyter-widgets/controls",
            "_model_module_version": "1.5.0",
            "_model_name": "ProgressStyleModel",
            "_view_count": null,
            "_view_module": "@jupyter-widgets/base",
            "_view_module_version": "1.2.0",
            "_view_name": "StyleView",
            "bar_color": null,
            "description_width": ""
          }
        },
        "ceefb4ce20c04ba28fdfc93e5552e97c": {
          "model_module": "@jupyter-widgets/controls",
          "model_module_version": "1.5.0",
          "model_name": "DescriptionStyleModel",
          "state": {
            "_model_module": "@jupyter-widgets/controls",
            "_model_module_version": "1.5.0",
            "_model_name": "DescriptionStyleModel",
            "_view_count": null,
            "_view_module": "@jupyter-widgets/base",
            "_view_module_version": "1.2.0",
            "_view_name": "StyleView",
            "description_width": ""
          }
        },
        "cf65f7b6b9024e40b447d22fc3940a34": {
          "model_module": "@jupyter-widgets/base",
          "model_module_version": "1.2.0",
          "model_name": "LayoutModel",
          "state": {
            "_model_module": "@jupyter-widgets/base",
            "_model_module_version": "1.2.0",
            "_model_name": "LayoutModel",
            "_view_count": null,
            "_view_module": "@jupyter-widgets/base",
            "_view_module_version": "1.2.0",
            "_view_name": "LayoutView",
            "align_content": null,
            "align_items": null,
            "align_self": null,
            "border": null,
            "bottom": null,
            "display": null,
            "flex": null,
            "flex_flow": null,
            "grid_area": null,
            "grid_auto_columns": null,
            "grid_auto_flow": null,
            "grid_auto_rows": null,
            "grid_column": null,
            "grid_gap": null,
            "grid_row": null,
            "grid_template_areas": null,
            "grid_template_columns": null,
            "grid_template_rows": null,
            "height": null,
            "justify_content": null,
            "justify_items": null,
            "left": null,
            "margin": null,
            "max_height": null,
            "max_width": null,
            "min_height": null,
            "min_width": null,
            "object_fit": null,
            "object_position": null,
            "order": null,
            "overflow": null,
            "overflow_x": null,
            "overflow_y": null,
            "padding": null,
            "right": null,
            "top": null,
            "visibility": null,
            "width": null
          }
        },
        "d19f9c47bfe84ce49bcae87ea05cffd4": {
          "model_module": "@jupyter-widgets/base",
          "model_module_version": "1.2.0",
          "model_name": "LayoutModel",
          "state": {
            "_model_module": "@jupyter-widgets/base",
            "_model_module_version": "1.2.0",
            "_model_name": "LayoutModel",
            "_view_count": null,
            "_view_module": "@jupyter-widgets/base",
            "_view_module_version": "1.2.0",
            "_view_name": "LayoutView",
            "align_content": null,
            "align_items": null,
            "align_self": null,
            "border": null,
            "bottom": null,
            "display": null,
            "flex": null,
            "flex_flow": null,
            "grid_area": null,
            "grid_auto_columns": null,
            "grid_auto_flow": null,
            "grid_auto_rows": null,
            "grid_column": null,
            "grid_gap": null,
            "grid_row": null,
            "grid_template_areas": null,
            "grid_template_columns": null,
            "grid_template_rows": null,
            "height": null,
            "justify_content": null,
            "justify_items": null,
            "left": null,
            "margin": null,
            "max_height": null,
            "max_width": null,
            "min_height": null,
            "min_width": null,
            "object_fit": null,
            "object_position": null,
            "order": null,
            "overflow": null,
            "overflow_x": null,
            "overflow_y": null,
            "padding": null,
            "right": null,
            "top": null,
            "visibility": null,
            "width": null
          }
        },
        "d5604461821e490999d64e4523a91873": {
          "model_module": "@jupyter-widgets/controls",
          "model_module_version": "1.5.0",
          "model_name": "FloatProgressModel",
          "state": {
            "_dom_classes": [],
            "_model_module": "@jupyter-widgets/controls",
            "_model_module_version": "1.5.0",
            "_model_name": "FloatProgressModel",
            "_view_count": null,
            "_view_module": "@jupyter-widgets/controls",
            "_view_module_version": "1.5.0",
            "_view_name": "ProgressView",
            "bar_style": "",
            "description": "",
            "description_tooltip": null,
            "layout": "IPY_MODEL_18cb947d118f478bb56843134441aacc",
            "max": 1,
            "min": 0,
            "orientation": "horizontal",
            "style": "IPY_MODEL_95dc7a99c19f4690ab4beca79fbd3c79",
            "value": 1
          }
        },
        "da45c71a6ccc4f85bd6c119b5e0ac290": {
          "model_module": "@jupyter-widgets/controls",
          "model_module_version": "1.5.0",
          "model_name": "LabelModel",
          "state": {
            "_dom_classes": [],
            "_model_module": "@jupyter-widgets/controls",
            "_model_module_version": "1.5.0",
            "_model_name": "LabelModel",
            "_view_count": null,
            "_view_module": "@jupyter-widgets/controls",
            "_view_module_version": "1.5.0",
            "_view_name": "LabelView",
            "description": "",
            "description_tooltip": null,
            "layout": "IPY_MODEL_c6fb487f1db64ee697e2d027a4453cca",
            "placeholder": "​",
            "style": "IPY_MODEL_fa95fbd6916243eabf766cbc49ff62a6",
            "value": "Waiting for wandb.init()...\r"
          }
        },
        "dadcb92f3e174675b222c61ebaa6cab1": {
          "model_module": "@jupyter-widgets/base",
          "model_module_version": "1.2.0",
          "model_name": "LayoutModel",
          "state": {
            "_model_module": "@jupyter-widgets/base",
            "_model_module_version": "1.2.0",
            "_model_name": "LayoutModel",
            "_view_count": null,
            "_view_module": "@jupyter-widgets/base",
            "_view_module_version": "1.2.0",
            "_view_name": "LayoutView",
            "align_content": null,
            "align_items": null,
            "align_self": null,
            "border": null,
            "bottom": null,
            "display": null,
            "flex": null,
            "flex_flow": null,
            "grid_area": null,
            "grid_auto_columns": null,
            "grid_auto_flow": null,
            "grid_auto_rows": null,
            "grid_column": null,
            "grid_gap": null,
            "grid_row": null,
            "grid_template_areas": null,
            "grid_template_columns": null,
            "grid_template_rows": null,
            "height": null,
            "justify_content": null,
            "justify_items": null,
            "left": null,
            "margin": null,
            "max_height": null,
            "max_width": null,
            "min_height": null,
            "min_width": null,
            "object_fit": null,
            "object_position": null,
            "order": null,
            "overflow": null,
            "overflow_x": null,
            "overflow_y": null,
            "padding": null,
            "right": null,
            "top": null,
            "visibility": null,
            "width": null
          }
        },
        "db0e9f7aa7a24e88b18f2e2bb5fcba4a": {
          "model_module": "@jupyter-widgets/base",
          "model_module_version": "1.2.0",
          "model_name": "LayoutModel",
          "state": {
            "_model_module": "@jupyter-widgets/base",
            "_model_module_version": "1.2.0",
            "_model_name": "LayoutModel",
            "_view_count": null,
            "_view_module": "@jupyter-widgets/base",
            "_view_module_version": "1.2.0",
            "_view_name": "LayoutView",
            "align_content": null,
            "align_items": null,
            "align_self": null,
            "border": null,
            "bottom": null,
            "display": null,
            "flex": null,
            "flex_flow": null,
            "grid_area": null,
            "grid_auto_columns": null,
            "grid_auto_flow": null,
            "grid_auto_rows": null,
            "grid_column": null,
            "grid_gap": null,
            "grid_row": null,
            "grid_template_areas": null,
            "grid_template_columns": null,
            "grid_template_rows": null,
            "height": null,
            "justify_content": null,
            "justify_items": null,
            "left": null,
            "margin": null,
            "max_height": null,
            "max_width": null,
            "min_height": null,
            "min_width": null,
            "object_fit": null,
            "object_position": null,
            "order": null,
            "overflow": null,
            "overflow_x": null,
            "overflow_y": null,
            "padding": null,
            "right": null,
            "top": null,
            "visibility": null,
            "width": null
          }
        },
        "db1e30bfbdc84720ab7c2b877586d66f": {
          "model_module": "@jupyter-widgets/controls",
          "model_module_version": "1.5.0",
          "model_name": "LabelModel",
          "state": {
            "_dom_classes": [],
            "_model_module": "@jupyter-widgets/controls",
            "_model_module_version": "1.5.0",
            "_model_name": "LabelModel",
            "_view_count": null,
            "_view_module": "@jupyter-widgets/controls",
            "_view_module_version": "1.5.0",
            "_view_name": "LabelView",
            "description": "",
            "description_tooltip": null,
            "layout": "IPY_MODEL_427159430d904b8898443f4eee2b2962",
            "placeholder": "​",
            "style": "IPY_MODEL_5bc7b75ae6384d4b86915fdd25ef9412",
            "value": "0.011 MB of 0.011 MB uploaded\r"
          }
        },
        "dfa4aecdfe5e4a5eaa442a1745f3f48d": {
          "model_module": "@jupyter-widgets/base",
          "model_module_version": "1.2.0",
          "model_name": "LayoutModel",
          "state": {
            "_model_module": "@jupyter-widgets/base",
            "_model_module_version": "1.2.0",
            "_model_name": "LayoutModel",
            "_view_count": null,
            "_view_module": "@jupyter-widgets/base",
            "_view_module_version": "1.2.0",
            "_view_name": "LayoutView",
            "align_content": null,
            "align_items": null,
            "align_self": null,
            "border": null,
            "bottom": null,
            "display": null,
            "flex": null,
            "flex_flow": null,
            "grid_area": null,
            "grid_auto_columns": null,
            "grid_auto_flow": null,
            "grid_auto_rows": null,
            "grid_column": null,
            "grid_gap": null,
            "grid_row": null,
            "grid_template_areas": null,
            "grid_template_columns": null,
            "grid_template_rows": null,
            "height": null,
            "justify_content": null,
            "justify_items": null,
            "left": null,
            "margin": null,
            "max_height": null,
            "max_width": null,
            "min_height": null,
            "min_width": null,
            "object_fit": null,
            "object_position": null,
            "order": null,
            "overflow": null,
            "overflow_x": null,
            "overflow_y": null,
            "padding": null,
            "right": null,
            "top": null,
            "visibility": null,
            "width": null
          }
        },
        "e09a08300ff24785a940de1896baae96": {
          "model_module": "@jupyter-widgets/base",
          "model_module_version": "1.2.0",
          "model_name": "LayoutModel",
          "state": {
            "_model_module": "@jupyter-widgets/base",
            "_model_module_version": "1.2.0",
            "_model_name": "LayoutModel",
            "_view_count": null,
            "_view_module": "@jupyter-widgets/base",
            "_view_module_version": "1.2.0",
            "_view_name": "LayoutView",
            "align_content": null,
            "align_items": null,
            "align_self": null,
            "border": null,
            "bottom": null,
            "display": null,
            "flex": null,
            "flex_flow": null,
            "grid_area": null,
            "grid_auto_columns": null,
            "grid_auto_flow": null,
            "grid_auto_rows": null,
            "grid_column": null,
            "grid_gap": null,
            "grid_row": null,
            "grid_template_areas": null,
            "grid_template_columns": null,
            "grid_template_rows": null,
            "height": null,
            "justify_content": null,
            "justify_items": null,
            "left": null,
            "margin": null,
            "max_height": null,
            "max_width": null,
            "min_height": null,
            "min_width": null,
            "object_fit": null,
            "object_position": null,
            "order": null,
            "overflow": null,
            "overflow_x": null,
            "overflow_y": null,
            "padding": null,
            "right": null,
            "top": null,
            "visibility": null,
            "width": null
          }
        },
        "e458edb755284f2cb54aa71b74ee1f3f": {
          "model_module": "@jupyter-widgets/base",
          "model_module_version": "1.2.0",
          "model_name": "LayoutModel",
          "state": {
            "_model_module": "@jupyter-widgets/base",
            "_model_module_version": "1.2.0",
            "_model_name": "LayoutModel",
            "_view_count": null,
            "_view_module": "@jupyter-widgets/base",
            "_view_module_version": "1.2.0",
            "_view_name": "LayoutView",
            "align_content": null,
            "align_items": null,
            "align_self": null,
            "border": null,
            "bottom": null,
            "display": null,
            "flex": null,
            "flex_flow": null,
            "grid_area": null,
            "grid_auto_columns": null,
            "grid_auto_flow": null,
            "grid_auto_rows": null,
            "grid_column": null,
            "grid_gap": null,
            "grid_row": null,
            "grid_template_areas": null,
            "grid_template_columns": null,
            "grid_template_rows": null,
            "height": null,
            "justify_content": null,
            "justify_items": null,
            "left": null,
            "margin": null,
            "max_height": null,
            "max_width": null,
            "min_height": null,
            "min_width": null,
            "object_fit": null,
            "object_position": null,
            "order": null,
            "overflow": null,
            "overflow_x": null,
            "overflow_y": null,
            "padding": null,
            "right": null,
            "top": null,
            "visibility": null,
            "width": null
          }
        },
        "e5ac9dd4177f49ee8c87aa4db612fbe1": {
          "model_module": "@jupyter-widgets/controls",
          "model_module_version": "1.5.0",
          "model_name": "VBoxModel",
          "state": {
            "_dom_classes": [],
            "_model_module": "@jupyter-widgets/controls",
            "_model_module_version": "1.5.0",
            "_model_name": "VBoxModel",
            "_view_count": null,
            "_view_module": "@jupyter-widgets/controls",
            "_view_module_version": "1.5.0",
            "_view_name": "VBoxView",
            "box_style": "",
            "children": [
              "IPY_MODEL_14ca78b10b8d4e9793a9feafc734a1c8",
              "IPY_MODEL_3db519907ba64a57ad0021a81a82f61d"
            ],
            "layout": "IPY_MODEL_c509569b873843ff855757051b8d2d60"
          }
        },
        "e6f4ac71a84a4439b930d71061da7a3e": {
          "model_module": "@jupyter-widgets/controls",
          "model_module_version": "1.5.0",
          "model_name": "FloatProgressModel",
          "state": {
            "_dom_classes": [],
            "_model_module": "@jupyter-widgets/controls",
            "_model_module_version": "1.5.0",
            "_model_name": "FloatProgressModel",
            "_view_count": null,
            "_view_module": "@jupyter-widgets/controls",
            "_view_module_version": "1.5.0",
            "_view_name": "ProgressView",
            "bar_style": "",
            "description": "",
            "description_tooltip": null,
            "layout": "IPY_MODEL_dfa4aecdfe5e4a5eaa442a1745f3f48d",
            "max": 1,
            "min": 0,
            "orientation": "horizontal",
            "style": "IPY_MODEL_8a033a8a314548eebc17168c68cb14e7",
            "value": 1
          }
        },
        "e92d87a055e84544bea102a80a062b2b": {
          "model_module": "@jupyter-widgets/base",
          "model_module_version": "1.2.0",
          "model_name": "LayoutModel",
          "state": {
            "_model_module": "@jupyter-widgets/base",
            "_model_module_version": "1.2.0",
            "_model_name": "LayoutModel",
            "_view_count": null,
            "_view_module": "@jupyter-widgets/base",
            "_view_module_version": "1.2.0",
            "_view_name": "LayoutView",
            "align_content": null,
            "align_items": null,
            "align_self": null,
            "border": null,
            "bottom": null,
            "display": null,
            "flex": null,
            "flex_flow": null,
            "grid_area": null,
            "grid_auto_columns": null,
            "grid_auto_flow": null,
            "grid_auto_rows": null,
            "grid_column": null,
            "grid_gap": null,
            "grid_row": null,
            "grid_template_areas": null,
            "grid_template_columns": null,
            "grid_template_rows": null,
            "height": null,
            "justify_content": null,
            "justify_items": null,
            "left": null,
            "margin": null,
            "max_height": null,
            "max_width": null,
            "min_height": null,
            "min_width": null,
            "object_fit": null,
            "object_position": null,
            "order": null,
            "overflow": null,
            "overflow_x": null,
            "overflow_y": null,
            "padding": null,
            "right": null,
            "top": null,
            "visibility": null,
            "width": null
          }
        },
        "eb53bdab91724599b743669b97fab9e3": {
          "model_module": "@jupyter-widgets/controls",
          "model_module_version": "1.5.0",
          "model_name": "VBoxModel",
          "state": {
            "_dom_classes": [],
            "_model_module": "@jupyter-widgets/controls",
            "_model_module_version": "1.5.0",
            "_model_name": "VBoxModel",
            "_view_count": null,
            "_view_module": "@jupyter-widgets/controls",
            "_view_module_version": "1.5.0",
            "_view_name": "VBoxView",
            "box_style": "",
            "children": [
              "IPY_MODEL_1ce27870a0414f96aa8189c62990a7b3",
              "IPY_MODEL_e6f4ac71a84a4439b930d71061da7a3e"
            ],
            "layout": "IPY_MODEL_dadcb92f3e174675b222c61ebaa6cab1"
          }
        },
        "eeda90a7c357424ebdbc52fe71092f9c": {
          "model_module": "@jupyter-widgets/controls",
          "model_module_version": "1.5.0",
          "model_name": "DescriptionStyleModel",
          "state": {
            "_model_module": "@jupyter-widgets/controls",
            "_model_module_version": "1.5.0",
            "_model_name": "DescriptionStyleModel",
            "_view_count": null,
            "_view_module": "@jupyter-widgets/base",
            "_view_module_version": "1.2.0",
            "_view_name": "StyleView",
            "description_width": ""
          }
        },
        "f0f9347711514994a7bdd24040d70245": {
          "model_module": "@jupyter-widgets/controls",
          "model_module_version": "1.5.0",
          "model_name": "VBoxModel",
          "state": {
            "_dom_classes": [],
            "_model_module": "@jupyter-widgets/controls",
            "_model_module_version": "1.5.0",
            "_model_name": "VBoxModel",
            "_view_count": null,
            "_view_module": "@jupyter-widgets/controls",
            "_view_module_version": "1.5.0",
            "_view_name": "VBoxView",
            "box_style": "",
            "children": [
              "IPY_MODEL_813db288a7c24b99999cfd759ed88e2c",
              "IPY_MODEL_cdbae4bf38684c2c81f3c67751e242cb"
            ],
            "layout": "IPY_MODEL_bbe883b08d3c4a44a05626d084d0b594"
          }
        },
        "f2fa7c0626a746efa1621938a4b61d50": {
          "model_module": "@jupyter-widgets/controls",
          "model_module_version": "1.5.0",
          "model_name": "ProgressStyleModel",
          "state": {
            "_model_module": "@jupyter-widgets/controls",
            "_model_module_version": "1.5.0",
            "_model_name": "ProgressStyleModel",
            "_view_count": null,
            "_view_module": "@jupyter-widgets/base",
            "_view_module_version": "1.2.0",
            "_view_name": "StyleView",
            "bar_color": null,
            "description_width": ""
          }
        },
        "f5a2b62831b246f996318b72e4260339": {
          "model_module": "@jupyter-widgets/controls",
          "model_module_version": "1.5.0",
          "model_name": "FloatProgressModel",
          "state": {
            "_dom_classes": [],
            "_model_module": "@jupyter-widgets/controls",
            "_model_module_version": "1.5.0",
            "_model_name": "FloatProgressModel",
            "_view_count": null,
            "_view_module": "@jupyter-widgets/controls",
            "_view_module_version": "1.5.0",
            "_view_name": "ProgressView",
            "bar_style": "",
            "description": "",
            "description_tooltip": null,
            "layout": "IPY_MODEL_cd1049cec77c4c8eac9b9eb8a331cbaf",
            "max": 1,
            "min": 0,
            "orientation": "horizontal",
            "style": "IPY_MODEL_68e7dd56d6d54cdb98ad46ed23fabae1",
            "value": 1
          }
        },
        "f72906360bfb4fff8157b4e21ffa2685": {
          "model_module": "@jupyter-widgets/controls",
          "model_module_version": "1.5.0",
          "model_name": "FloatProgressModel",
          "state": {
            "_dom_classes": [],
            "_model_module": "@jupyter-widgets/controls",
            "_model_module_version": "1.5.0",
            "_model_name": "FloatProgressModel",
            "_view_count": null,
            "_view_module": "@jupyter-widgets/controls",
            "_view_module_version": "1.5.0",
            "_view_name": "ProgressView",
            "bar_style": "",
            "description": "",
            "description_tooltip": null,
            "layout": "IPY_MODEL_7c307dc479734a14ba821f5d408d9942",
            "max": 1,
            "min": 0,
            "orientation": "horizontal",
            "style": "IPY_MODEL_215f7eb010b94b8c8acff654eeebb5fa",
            "value": 1
          }
        },
        "f78f23a12a1a407598714bd32e12d54f": {
          "model_module": "@jupyter-widgets/controls",
          "model_module_version": "1.5.0",
          "model_name": "FloatProgressModel",
          "state": {
            "_dom_classes": [],
            "_model_module": "@jupyter-widgets/controls",
            "_model_module_version": "1.5.0",
            "_model_name": "FloatProgressModel",
            "_view_count": null,
            "_view_module": "@jupyter-widgets/controls",
            "_view_module_version": "1.5.0",
            "_view_name": "ProgressView",
            "bar_style": "",
            "description": "",
            "description_tooltip": null,
            "layout": "IPY_MODEL_83e0d2d81a774a548afe7c9179c0997a",
            "max": 1,
            "min": 0,
            "orientation": "horizontal",
            "style": "IPY_MODEL_ca403f5e6b074a2a9fb91a6218cc7e94",
            "value": 1
          }
        },
        "f7c7689351e64fa49dbb674d2538e3a7": {
          "model_module": "@jupyter-widgets/controls",
          "model_module_version": "1.5.0",
          "model_name": "LabelModel",
          "state": {
            "_dom_classes": [],
            "_model_module": "@jupyter-widgets/controls",
            "_model_module_version": "1.5.0",
            "_model_name": "LabelModel",
            "_view_count": null,
            "_view_module": "@jupyter-widgets/controls",
            "_view_module_version": "1.5.0",
            "_view_name": "LabelView",
            "description": "",
            "description_tooltip": null,
            "layout": "IPY_MODEL_77a08fcaff2347e6a6a0060a1262c7a1",
            "placeholder": "​",
            "style": "IPY_MODEL_4d5610990e5c4f1483f14fc2680fa606",
            "value": "0.011 MB of 0.011 MB uploaded\r"
          }
        },
        "f92285f18b584d6f9eeafd08db68888f": {
          "model_module": "@jupyter-widgets/controls",
          "model_module_version": "1.5.0",
          "model_name": "LabelModel",
          "state": {
            "_dom_classes": [],
            "_model_module": "@jupyter-widgets/controls",
            "_model_module_version": "1.5.0",
            "_model_name": "LabelModel",
            "_view_count": null,
            "_view_module": "@jupyter-widgets/controls",
            "_view_module_version": "1.5.0",
            "_view_name": "LabelView",
            "description": "",
            "description_tooltip": null,
            "layout": "IPY_MODEL_2e07e20873f94912862e28155f25491c",
            "placeholder": "​",
            "style": "IPY_MODEL_158c9c0950f84ddc9c5a67a8adf50e79",
            "value": "0.011 MB of 0.011 MB uploaded\r"
          }
        },
        "fa8982e4b3bc40f0b88e97b03f729803": {
          "model_module": "@jupyter-widgets/controls",
          "model_module_version": "1.5.0",
          "model_name": "ProgressStyleModel",
          "state": {
            "_model_module": "@jupyter-widgets/controls",
            "_model_module_version": "1.5.0",
            "_model_name": "ProgressStyleModel",
            "_view_count": null,
            "_view_module": "@jupyter-widgets/base",
            "_view_module_version": "1.2.0",
            "_view_name": "StyleView",
            "bar_color": null,
            "description_width": ""
          }
        },
        "fa95fbd6916243eabf766cbc49ff62a6": {
          "model_module": "@jupyter-widgets/controls",
          "model_module_version": "1.5.0",
          "model_name": "DescriptionStyleModel",
          "state": {
            "_model_module": "@jupyter-widgets/controls",
            "_model_module_version": "1.5.0",
            "_model_name": "DescriptionStyleModel",
            "_view_count": null,
            "_view_module": "@jupyter-widgets/base",
            "_view_module_version": "1.2.0",
            "_view_name": "StyleView",
            "description_width": ""
          }
        },
        "fb1400995d4e4889a12fe9a9c1f33ede": {
          "model_module": "@jupyter-widgets/base",
          "model_module_version": "1.2.0",
          "model_name": "LayoutModel",
          "state": {
            "_model_module": "@jupyter-widgets/base",
            "_model_module_version": "1.2.0",
            "_model_name": "LayoutModel",
            "_view_count": null,
            "_view_module": "@jupyter-widgets/base",
            "_view_module_version": "1.2.0",
            "_view_name": "LayoutView",
            "align_content": null,
            "align_items": null,
            "align_self": null,
            "border": null,
            "bottom": null,
            "display": null,
            "flex": null,
            "flex_flow": null,
            "grid_area": null,
            "grid_auto_columns": null,
            "grid_auto_flow": null,
            "grid_auto_rows": null,
            "grid_column": null,
            "grid_gap": null,
            "grid_row": null,
            "grid_template_areas": null,
            "grid_template_columns": null,
            "grid_template_rows": null,
            "height": null,
            "justify_content": null,
            "justify_items": null,
            "left": null,
            "margin": null,
            "max_height": null,
            "max_width": null,
            "min_height": null,
            "min_width": null,
            "object_fit": null,
            "object_position": null,
            "order": null,
            "overflow": null,
            "overflow_x": null,
            "overflow_y": null,
            "padding": null,
            "right": null,
            "top": null,
            "visibility": null,
            "width": null
          }
        },
        "fc67d39407c04a6ab42daffb19bbdecc": {
          "model_module": "@jupyter-widgets/base",
          "model_module_version": "1.2.0",
          "model_name": "LayoutModel",
          "state": {
            "_model_module": "@jupyter-widgets/base",
            "_model_module_version": "1.2.0",
            "_model_name": "LayoutModel",
            "_view_count": null,
            "_view_module": "@jupyter-widgets/base",
            "_view_module_version": "1.2.0",
            "_view_name": "LayoutView",
            "align_content": null,
            "align_items": null,
            "align_self": null,
            "border": null,
            "bottom": null,
            "display": null,
            "flex": null,
            "flex_flow": null,
            "grid_area": null,
            "grid_auto_columns": null,
            "grid_auto_flow": null,
            "grid_auto_rows": null,
            "grid_column": null,
            "grid_gap": null,
            "grid_row": null,
            "grid_template_areas": null,
            "grid_template_columns": null,
            "grid_template_rows": null,
            "height": null,
            "justify_content": null,
            "justify_items": null,
            "left": null,
            "margin": null,
            "max_height": null,
            "max_width": null,
            "min_height": null,
            "min_width": null,
            "object_fit": null,
            "object_position": null,
            "order": null,
            "overflow": null,
            "overflow_x": null,
            "overflow_y": null,
            "padding": null,
            "right": null,
            "top": null,
            "visibility": null,
            "width": null
          }
        },
        "fe000cf22f3c4ba09d391bf47ddc3077": {
          "model_module": "@jupyter-widgets/controls",
          "model_module_version": "1.5.0",
          "model_name": "VBoxModel",
          "state": {
            "_dom_classes": [],
            "_model_module": "@jupyter-widgets/controls",
            "_model_module_version": "1.5.0",
            "_model_name": "VBoxModel",
            "_view_count": null,
            "_view_module": "@jupyter-widgets/controls",
            "_view_module_version": "1.5.0",
            "_view_name": "VBoxView",
            "box_style": "",
            "children": [
              "IPY_MODEL_f7c7689351e64fa49dbb674d2538e3a7",
              "IPY_MODEL_f72906360bfb4fff8157b4e21ffa2685"
            ],
            "layout": "IPY_MODEL_c20340ce87dd48b7911c9c7a675bf656"
          }
        }
      }
    }
  },
  "nbformat": 4,
  "nbformat_minor": 0
}
